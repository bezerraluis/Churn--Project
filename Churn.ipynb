{
  "nbformat": 4,
  "nbformat_minor": 0,
  "metadata": {
    "colab": {
      "name": "Churn.ipynb",
      "provenance": [],
      "toc_visible": true,
      "mount_file_id": "1qNtDfKI8nZabTTt5MHRVo3Qtt4Lu9jO6",
      "authorship_tag": "ABX9TyOEagUMpPsXnr5YxP6iFECj",
      "include_colab_link": true
    },
    "kernelspec": {
      "name": "python3",
      "display_name": "Python 3"
    }
  },
  "cells": [
    {
      "cell_type": "markdown",
      "metadata": {
        "id": "view-in-github",
        "colab_type": "text"
      },
      "source": [
        "<a href=\"https://colab.research.google.com/github/bezerraluis/Churn--Project/blob/master/Churn.ipynb\" target=\"_parent\"><img src=\"https://colab.research.google.com/assets/colab-badge.svg\" alt=\"Open In Colab\"/></a>"
      ]
    },
    {
      "cell_type": "markdown",
      "metadata": {
        "id": "bbt-d38R8_-2",
        "colab_type": "text"
      },
      "source": [
        "# Data Set"
      ]
    },
    {
      "cell_type": "markdown",
      "metadata": {
        "id": "xRA-LE5-WliB",
        "colab_type": "text"
      },
      "source": [
        "Find a copy on :[Kaggle](https://www.kaggle.com/shrutimechlearn/churn-modelling)"
      ]
    },
    {
      "cell_type": "markdown",
      "metadata": {
        "id": "osq_8-Lm9AQf",
        "colab_type": "text"
      },
      "source": [
        "### Description\n",
        "\n",
        "RowNumber - Row Numbers from 1 to 10000\n",
        "\n",
        "CustomerId - Unique Ids for bank customer identification  \n",
        "\n",
        "Surname - Customer's last name\n",
        "\n",
        "CreditScore -  Credit score of the customer\n",
        "\n",
        "Geography - The country from which the customer belongs\n",
        "\n",
        "Gender -  Male or Female\n",
        "\n",
        "Age - Age of the customer\n",
        "\n",
        "Tenure - Number of years for which the customer has been with the bank\n",
        "\n",
        "Balance - Bank balance of the customer\n",
        "\n",
        "NumOfProducts - Number of bank products the customer is utilising\n"
      ]
    },
    {
      "cell_type": "markdown",
      "metadata": {
        "id": "yRJ1n4HwAzdB",
        "colab_type": "text"
      },
      "source": [
        "# Hypotheses \n",
        "\n",
        "Customers with lower scores tend to leave the bank.\n",
        "\n",
        "The country is decisive for the client to leave the bank\n",
        "\n",
        "There are more men than women who leave the bank.\n",
        "\n",
        "Younger customer has a tendency to leave the bank\n",
        "\n",
        "Customers with up to 2 years as a customer usually leave the bank.\n",
        "\n",
        "Customers who do not have a credit card tend to leave the bank.\n",
        "\n",
        "\n",
        "\n"
      ]
    },
    {
      "cell_type": "markdown",
      "metadata": {
        "id": "5XW-LJdBKbI9",
        "colab_type": "text"
      },
      "source": [
        "# Business Problem"
      ]
    },
    {
      "cell_type": "markdown",
      "metadata": {
        "id": "qw52OmPcKfto",
        "colab_type": "text"
      },
      "source": [
        "Decreasing the number of churns is something that the entire company needs to pursue. It is essential for the growth and health of any operation.\n",
        "\n",
        "How to project growth, attract investors if customer retention fails within organizations.\n",
        "\n",
        "When a user churns, and this is repeated with other people, a very large alert signal needs to be turned on.\n",
        "\n",
        "And a question must be answered: what are we doing wrong?\n",
        "\n",
        "Customers talk to each other. Information is accessible to all. Therefore, working to have an ever lower churn, close to zero, is a tireless pursuit.\n",
        "\n",
        "More than that. Understanding the (especially financial) impact of this metric is vital. It is what will maintain financial health and a safer hike for any business."
      ]
    },
    {
      "cell_type": "markdown",
      "metadata": {
        "id": "Y7nsXVGAOapj",
        "colab_type": "text"
      },
      "source": [
        "## Business Goal"
      ]
    },
    {
      "cell_type": "markdown",
      "metadata": {
        "id": "QLbX7SDqOhrt",
        "colab_type": "text"
      },
      "source": [
        " This data set contains details of a bank's customers and the target variable is a binary variable reflecting the fact whether the customer left the bank (closed his account) or he continues to be a customer.\n",
        "Our Objective is to predict if a customer stay o leave the bank, creating a predictive model with only the necessary variables to not make it too complex."
      ]
    },
    {
      "cell_type": "markdown",
      "metadata": {
        "id": "HWuYPxns9AgK",
        "colab_type": "text"
      },
      "source": [
        "# Frameworks"
      ]
    },
    {
      "cell_type": "code",
      "metadata": {
        "id": "bYRx_opm_xku",
        "colab_type": "code",
        "colab": {}
      },
      "source": [
        "import pandas as pd\n",
        "import numpy as np\n",
        "import seaborn as sns\n",
        "import matplotlib.pyplot as plt\n",
        "\n"
      ],
      "execution_count": 62,
      "outputs": []
    },
    {
      "cell_type": "markdown",
      "metadata": {
        "id": "1uHeBu0jP7e2",
        "colab_type": "text"
      },
      "source": [
        "# Loading and viewing data"
      ]
    },
    {
      "cell_type": "code",
      "metadata": {
        "id": "0Y_p5_ud_927",
        "colab_type": "code",
        "colab": {}
      },
      "source": [
        "df_churn= pd.read_csv('/content/drive/My Drive/Todos os arquivos do pc antigo/datasets Kaggle/churn.csv')"
      ],
      "execution_count": 2,
      "outputs": []
    },
    {
      "cell_type": "code",
      "metadata": {
        "id": "pc7mM-vpAElz",
        "colab_type": "code",
        "colab": {
          "base_uri": "https://localhost:8080/",
          "height": 224
        },
        "outputId": "472e2337-0159-4c8c-cc4c-e567c6d2ffb6"
      },
      "source": [
        "df_churn.head()"
      ],
      "execution_count": 3,
      "outputs": [
        {
          "output_type": "execute_result",
          "data": {
            "text/html": [
              "<div>\n",
              "<style scoped>\n",
              "    .dataframe tbody tr th:only-of-type {\n",
              "        vertical-align: middle;\n",
              "    }\n",
              "\n",
              "    .dataframe tbody tr th {\n",
              "        vertical-align: top;\n",
              "    }\n",
              "\n",
              "    .dataframe thead th {\n",
              "        text-align: right;\n",
              "    }\n",
              "</style>\n",
              "<table border=\"1\" class=\"dataframe\">\n",
              "  <thead>\n",
              "    <tr style=\"text-align: right;\">\n",
              "      <th></th>\n",
              "      <th>RowNumber</th>\n",
              "      <th>CustomerId</th>\n",
              "      <th>Surname</th>\n",
              "      <th>CreditScore</th>\n",
              "      <th>Geography</th>\n",
              "      <th>Gender</th>\n",
              "      <th>Age</th>\n",
              "      <th>Tenure</th>\n",
              "      <th>Balance</th>\n",
              "      <th>NumOfProducts</th>\n",
              "      <th>HasCrCard</th>\n",
              "      <th>IsActiveMember</th>\n",
              "      <th>EstimatedSalary</th>\n",
              "      <th>Exited</th>\n",
              "    </tr>\n",
              "  </thead>\n",
              "  <tbody>\n",
              "    <tr>\n",
              "      <th>0</th>\n",
              "      <td>1</td>\n",
              "      <td>15634602</td>\n",
              "      <td>Hargrave</td>\n",
              "      <td>619</td>\n",
              "      <td>France</td>\n",
              "      <td>Female</td>\n",
              "      <td>42</td>\n",
              "      <td>2</td>\n",
              "      <td>0.00</td>\n",
              "      <td>1</td>\n",
              "      <td>1</td>\n",
              "      <td>1</td>\n",
              "      <td>101348.88</td>\n",
              "      <td>1</td>\n",
              "    </tr>\n",
              "    <tr>\n",
              "      <th>1</th>\n",
              "      <td>2</td>\n",
              "      <td>15647311</td>\n",
              "      <td>Hill</td>\n",
              "      <td>608</td>\n",
              "      <td>Spain</td>\n",
              "      <td>Female</td>\n",
              "      <td>41</td>\n",
              "      <td>1</td>\n",
              "      <td>83807.86</td>\n",
              "      <td>1</td>\n",
              "      <td>0</td>\n",
              "      <td>1</td>\n",
              "      <td>112542.58</td>\n",
              "      <td>0</td>\n",
              "    </tr>\n",
              "    <tr>\n",
              "      <th>2</th>\n",
              "      <td>3</td>\n",
              "      <td>15619304</td>\n",
              "      <td>Onio</td>\n",
              "      <td>502</td>\n",
              "      <td>France</td>\n",
              "      <td>Female</td>\n",
              "      <td>42</td>\n",
              "      <td>8</td>\n",
              "      <td>159660.80</td>\n",
              "      <td>3</td>\n",
              "      <td>1</td>\n",
              "      <td>0</td>\n",
              "      <td>113931.57</td>\n",
              "      <td>1</td>\n",
              "    </tr>\n",
              "    <tr>\n",
              "      <th>3</th>\n",
              "      <td>4</td>\n",
              "      <td>15701354</td>\n",
              "      <td>Boni</td>\n",
              "      <td>699</td>\n",
              "      <td>France</td>\n",
              "      <td>Female</td>\n",
              "      <td>39</td>\n",
              "      <td>1</td>\n",
              "      <td>0.00</td>\n",
              "      <td>2</td>\n",
              "      <td>0</td>\n",
              "      <td>0</td>\n",
              "      <td>93826.63</td>\n",
              "      <td>0</td>\n",
              "    </tr>\n",
              "    <tr>\n",
              "      <th>4</th>\n",
              "      <td>5</td>\n",
              "      <td>15737888</td>\n",
              "      <td>Mitchell</td>\n",
              "      <td>850</td>\n",
              "      <td>Spain</td>\n",
              "      <td>Female</td>\n",
              "      <td>43</td>\n",
              "      <td>2</td>\n",
              "      <td>125510.82</td>\n",
              "      <td>1</td>\n",
              "      <td>1</td>\n",
              "      <td>1</td>\n",
              "      <td>79084.10</td>\n",
              "      <td>0</td>\n",
              "    </tr>\n",
              "  </tbody>\n",
              "</table>\n",
              "</div>"
            ],
            "text/plain": [
              "   RowNumber  CustomerId   Surname  ...  IsActiveMember EstimatedSalary Exited\n",
              "0          1    15634602  Hargrave  ...               1       101348.88      1\n",
              "1          2    15647311      Hill  ...               1       112542.58      0\n",
              "2          3    15619304      Onio  ...               0       113931.57      1\n",
              "3          4    15701354      Boni  ...               0        93826.63      0\n",
              "4          5    15737888  Mitchell  ...               1        79084.10      0\n",
              "\n",
              "[5 rows x 14 columns]"
            ]
          },
          "metadata": {
            "tags": []
          },
          "execution_count": 3
        }
      ]
    },
    {
      "cell_type": "markdown",
      "metadata": {
        "id": "UAip7YUZQUl-",
        "colab_type": "text"
      },
      "source": [
        "\n",
        "We do not have missing values"
      ]
    },
    {
      "cell_type": "code",
      "metadata": {
        "id": "494urThjAGZO",
        "colab_type": "code",
        "colab": {
          "base_uri": "https://localhost:8080/",
          "height": 374
        },
        "outputId": "ccd080eb-dfef-4357-bc1b-aefd2bb86b5b"
      },
      "source": [
        "df_churn.info()"
      ],
      "execution_count": 4,
      "outputs": [
        {
          "output_type": "stream",
          "text": [
            "<class 'pandas.core.frame.DataFrame'>\n",
            "RangeIndex: 10000 entries, 0 to 9999\n",
            "Data columns (total 14 columns):\n",
            " #   Column           Non-Null Count  Dtype  \n",
            "---  ------           --------------  -----  \n",
            " 0   RowNumber        10000 non-null  int64  \n",
            " 1   CustomerId       10000 non-null  int64  \n",
            " 2   Surname          10000 non-null  object \n",
            " 3   CreditScore      10000 non-null  int64  \n",
            " 4   Geography        10000 non-null  object \n",
            " 5   Gender           10000 non-null  object \n",
            " 6   Age              10000 non-null  int64  \n",
            " 7   Tenure           10000 non-null  int64  \n",
            " 8   Balance          10000 non-null  float64\n",
            " 9   NumOfProducts    10000 non-null  int64  \n",
            " 10  HasCrCard        10000 non-null  int64  \n",
            " 11  IsActiveMember   10000 non-null  int64  \n",
            " 12  EstimatedSalary  10000 non-null  float64\n",
            " 13  Exited           10000 non-null  int64  \n",
            "dtypes: float64(2), int64(9), object(3)\n",
            "memory usage: 1.1+ MB\n"
          ],
          "name": "stdout"
        }
      ]
    },
    {
      "cell_type": "code",
      "metadata": {
        "id": "7naU3FMBAYZP",
        "colab_type": "code",
        "colab": {}
      },
      "source": [
        ""
      ],
      "execution_count": 4,
      "outputs": []
    },
    {
      "cell_type": "markdown",
      "metadata": {
        "id": "rFilV9s9RRUt",
        "colab_type": "text"
      },
      "source": [
        "# Data Cleaning"
      ]
    },
    {
      "cell_type": "markdown",
      "metadata": {
        "id": "9rO7VP7DSkjX",
        "colab_type": "text"
      },
      "source": [
        "### Row Number"
      ]
    },
    {
      "cell_type": "code",
      "metadata": {
        "id": "XAs7VvMvSoHk",
        "colab_type": "code",
        "colab": {
          "base_uri": "https://localhost:8080/",
          "height": 34
        },
        "outputId": "db204261-3c94-4b02-e142-94fe6d25f20c"
      },
      "source": [
        "df_churn['RowNumber'].unique()"
      ],
      "execution_count": 5,
      "outputs": [
        {
          "output_type": "execute_result",
          "data": {
            "text/plain": [
              "array([    1,     2,     3, ...,  9998,  9999, 10000])"
            ]
          },
          "metadata": {
            "tags": []
          },
          "execution_count": 5
        }
      ]
    },
    {
      "cell_type": "markdown",
      "metadata": {
        "id": "Nu5XGziWTRor",
        "colab_type": "text"
      },
      "source": [
        "As we can see RowNumber is just a line identifier so it has no predictive power and we will delete it"
      ]
    },
    {
      "cell_type": "code",
      "metadata": {
        "id": "DwnylkzmS4j9",
        "colab_type": "code",
        "colab": {}
      },
      "source": [
        "df_churn2 = df_churn.drop('RowNumber',axis= 1)"
      ],
      "execution_count": 6,
      "outputs": []
    },
    {
      "cell_type": "markdown",
      "metadata": {
        "id": "p2_ZgSVeTpob",
        "colab_type": "text"
      },
      "source": [
        "## CustomerId"
      ]
    },
    {
      "cell_type": "code",
      "metadata": {
        "id": "ptU52FGsTtGS",
        "colab_type": "code",
        "colab": {
          "base_uri": "https://localhost:8080/",
          "height": 0
        },
        "outputId": "95884969-3622-492a-e3e8-a229e6dccb91"
      },
      "source": [
        "df_churn['CustomerId'].unique()"
      ],
      "execution_count": 7,
      "outputs": [
        {
          "output_type": "execute_result",
          "data": {
            "text/plain": [
              "array([15634602, 15647311, 15619304, ..., 15584532, 15682355, 15628319])"
            ]
          },
          "metadata": {
            "tags": []
          },
          "execution_count": 7
        }
      ]
    },
    {
      "cell_type": "markdown",
      "metadata": {
        "id": "hyeT_lKmzVik",
        "colab_type": "text"
      },
      "source": [
        "The same goes to CustomerID"
      ]
    },
    {
      "cell_type": "code",
      "metadata": {
        "id": "PpMckvApTrYA",
        "colab_type": "code",
        "colab": {}
      },
      "source": [
        "df_churn2 = df_churn.drop('CustomerId',axis= 1)"
      ],
      "execution_count": 8,
      "outputs": []
    },
    {
      "cell_type": "markdown",
      "metadata": {
        "id": "OWYo-ZCtzeby",
        "colab_type": "text"
      },
      "source": [
        "## Surname   "
      ]
    },
    {
      "cell_type": "code",
      "metadata": {
        "id": "5TuIpZI0zkWp",
        "colab_type": "code",
        "colab": {
          "base_uri": "https://localhost:8080/",
          "height": 0
        },
        "outputId": "66eec555-ec6f-4db6-e751-f707fc504a40"
      },
      "source": [
        "df_churn['Surname'].unique()"
      ],
      "execution_count": 9,
      "outputs": [
        {
          "output_type": "execute_result",
          "data": {
            "text/plain": [
              "array(['Hargrave', 'Hill', 'Onio', ..., 'Kashiwagi', 'Aldridge',\n",
              "       'Burbidge'], dtype=object)"
            ]
          },
          "metadata": {
            "tags": []
          },
          "execution_count": 9
        }
      ]
    },
    {
      "cell_type": "markdown",
      "metadata": {
        "id": "pl21Omv-0L-Q",
        "colab_type": "text"
      },
      "source": [
        "There is no relation between churn and Surname, we are drop it.\n"
      ]
    },
    {
      "cell_type": "code",
      "metadata": {
        "id": "ToqfGgNdztv4",
        "colab_type": "code",
        "colab": {}
      },
      "source": [
        "df_churn2 = df_churn.drop('Surname',axis= 1)"
      ],
      "execution_count": 10,
      "outputs": []
    },
    {
      "cell_type": "markdown",
      "metadata": {
        "id": "fF7rwRM82uds",
        "colab_type": "text"
      },
      "source": [
        "## CreditScore  "
      ]
    },
    {
      "cell_type": "markdown",
      "metadata": {
        "id": "pqvnR6E_7p36",
        "colab_type": "text"
      },
      "source": [
        "We have a good distribution of the data. A standard deviation of 96 and 75 percent of the data is between 584 and 718"
      ]
    },
    {
      "cell_type": "code",
      "metadata": {
        "id": "11uYogXW0Ili",
        "colab_type": "code",
        "colab": {
          "base_uri": "https://localhost:8080/",
          "height": 0
        },
        "outputId": "18e588b9-3b98-4c78-ca4e-ddd209303238"
      },
      "source": [
        "df_churn2['CreditScore'].describe()"
      ],
      "execution_count": 11,
      "outputs": [
        {
          "output_type": "execute_result",
          "data": {
            "text/plain": [
              "count    10000.000000\n",
              "mean       650.528800\n",
              "std         96.653299\n",
              "min        350.000000\n",
              "25%        584.000000\n",
              "50%        652.000000\n",
              "75%        718.000000\n",
              "max        850.000000\n",
              "Name: CreditScore, dtype: float64"
            ]
          },
          "metadata": {
            "tags": []
          },
          "execution_count": 11
        }
      ]
    },
    {
      "cell_type": "markdown",
      "metadata": {
        "id": "3g1KoslC89NO",
        "colab_type": "text"
      },
      "source": [
        "Here we can better visualize our distribution and our quartiles"
      ]
    },
    {
      "cell_type": "code",
      "metadata": {
        "id": "6FtfzG2g3EHB",
        "colab_type": "code",
        "colab": {
          "base_uri": "https://localhost:8080/",
          "height": 0
        },
        "outputId": "9bd8aa6a-5f30-4d4e-b0e8-1bb4220766a1"
      },
      "source": [
        "sns.boxplot(df_churn2['CreditScore'])"
      ],
      "execution_count": 12,
      "outputs": [
        {
          "output_type": "execute_result",
          "data": {
            "text/plain": [
              "<matplotlib.axes._subplots.AxesSubplot at 0x7f3930543ac8>"
            ]
          },
          "metadata": {
            "tags": []
          },
          "execution_count": 12
        },
        {
          "output_type": "display_data",
          "data": {
            "image/png": "[encoded data removed]",
            "text/plain": [
              "<Figure size 432x288 with 1 Axes>"
            ]
          },
          "metadata": {
            "tags": [],
            "needs_background": "light"
          }
        }
      ]
    },
    {
      "cell_type": "markdown",
      "metadata": {
        "id": "6F8N0wH_9IVh",
        "colab_type": "text"
      },
      "source": [
        "We have a distribution very close to a normal curve."
      ]
    },
    {
      "cell_type": "code",
      "metadata": {
        "id": "oJawz98B3vO_",
        "colab_type": "code",
        "colab": {
          "base_uri": "https://localhost:8080/",
          "height": 0
        },
        "outputId": "2766d2d2-331e-41e7-8e96-63eed62da7e2"
      },
      "source": [
        "sns.distplot(df_churn2['CreditScore'], bins= 15)"
      ],
      "execution_count": 13,
      "outputs": [
        {
          "output_type": "execute_result",
          "data": {
            "text/plain": [
              "<matplotlib.axes._subplots.AxesSubplot at 0x7f393048d518>"
            ]
          },
          "metadata": {
            "tags": []
          },
          "execution_count": 13
        },
        {
          "output_type": "display_data",
          "data": {
            "image/png": "[encoded data removed]",
            "text/plain": [
              "<Figure size 432x288 with 1 Axes>"
            ]
          },
          "metadata": {
            "tags": [],
            "needs_background": "light"
          }
        }
      ]
    },
    {
      "cell_type": "markdown",
      "metadata": {
        "id": "wlFwq1aC93sD",
        "colab_type": "text"
      },
      "source": [
        "## Geography   "
      ]
    },
    {
      "cell_type": "markdown",
      "metadata": {
        "id": "SocTxrdK_ZxB",
        "colab_type": "text"
      },
      "source": [
        "We do not have misspelled words"
      ]
    },
    {
      "cell_type": "code",
      "metadata": {
        "id": "lj46KkbL7nnb",
        "colab_type": "code",
        "colab": {
          "base_uri": "https://localhost:8080/",
          "height": 0
        },
        "outputId": "514cdc8c-5f30-4071-a4a4-a8e64ed897bd"
      },
      "source": [
        "df_churn2['Geography'].unique()"
      ],
      "execution_count": 14,
      "outputs": [
        {
          "output_type": "execute_result",
          "data": {
            "text/plain": [
              "array(['France', 'Spain', 'Germany'], dtype=object)"
            ]
          },
          "metadata": {
            "tags": []
          },
          "execution_count": 14
        }
      ]
    },
    {
      "cell_type": "markdown",
      "metadata": {
        "id": "BjkwNhOlAzme",
        "colab_type": "text"
      },
      "source": [
        "## Gender "
      ]
    },
    {
      "cell_type": "markdown",
      "metadata": {
        "id": "KCI8j7MMC6lo",
        "colab_type": "text"
      },
      "source": [
        "We do not have misspelled words"
      ]
    },
    {
      "cell_type": "code",
      "metadata": {
        "id": "t8o5K-7CA02P",
        "colab_type": "code",
        "colab": {
          "base_uri": "https://localhost:8080/",
          "height": 0
        },
        "outputId": "50971aab-7fac-44fa-9714-60fc3375e57e"
      },
      "source": [
        "df_churn2['Gender'].unique()"
      ],
      "execution_count": 15,
      "outputs": [
        {
          "output_type": "execute_result",
          "data": {
            "text/plain": [
              "array(['Female', 'Male'], dtype=object)"
            ]
          },
          "metadata": {
            "tags": []
          },
          "execution_count": 15
        }
      ]
    },
    {
      "cell_type": "code",
      "metadata": {
        "id": "t_6cMz8pC3Sl",
        "colab_type": "code",
        "colab": {}
      },
      "source": [
        ""
      ],
      "execution_count": 15,
      "outputs": []
    },
    {
      "cell_type": "markdown",
      "metadata": {
        "id": "xgosH8ZiXzyl",
        "colab_type": "text"
      },
      "source": [
        "## Age "
      ]
    },
    {
      "cell_type": "code",
      "metadata": {
        "id": "TLHCKjOgX2SW",
        "colab_type": "code",
        "colab": {
          "base_uri": "https://localhost:8080/",
          "height": 0
        },
        "outputId": "18bc31f0-c597-4a65-972e-d97c5ddf11bc"
      },
      "source": [
        "df_churn2['Age'].unique()"
      ],
      "execution_count": 16,
      "outputs": [
        {
          "output_type": "execute_result",
          "data": {
            "text/plain": [
              "array([42, 41, 39, 43, 44, 50, 29, 27, 31, 24, 34, 25, 35, 45, 58, 32, 38,\n",
              "       46, 36, 33, 40, 51, 61, 49, 37, 19, 66, 56, 26, 21, 55, 75, 22, 30,\n",
              "       28, 65, 48, 52, 57, 73, 47, 54, 72, 20, 67, 79, 62, 53, 80, 59, 68,\n",
              "       23, 60, 70, 63, 64, 18, 82, 69, 74, 71, 76, 77, 88, 85, 84, 78, 81,\n",
              "       92, 83])"
            ]
          },
          "metadata": {
            "tags": []
          },
          "execution_count": 16
        }
      ]
    },
    {
      "cell_type": "markdown",
      "metadata": {
        "id": "4t7iHuCYbZBH",
        "colab_type": "text"
      },
      "source": [
        "We have a good distribution of the data. A standard deviation of 10 and 75 percent of the data is between 32 and 44 \n",
        "\n"
      ]
    },
    {
      "cell_type": "code",
      "metadata": {
        "id": "_hrtcfAPX6Ko",
        "colab_type": "code",
        "colab": {
          "base_uri": "https://localhost:8080/",
          "height": 0
        },
        "outputId": "7051c1ec-b9a2-4505-8531-bb2fdc8ee7d2"
      },
      "source": [
        "df_churn2['Age'].describe()"
      ],
      "execution_count": 17,
      "outputs": [
        {
          "output_type": "execute_result",
          "data": {
            "text/plain": [
              "count    10000.000000\n",
              "mean        38.921800\n",
              "std         10.487806\n",
              "min         18.000000\n",
              "25%         32.000000\n",
              "50%         37.000000\n",
              "75%         44.000000\n",
              "max         92.000000\n",
              "Name: Age, dtype: float64"
            ]
          },
          "metadata": {
            "tags": []
          },
          "execution_count": 17
        }
      ]
    },
    {
      "cell_type": "markdown",
      "metadata": {
        "id": "vNglWOO7c7Zt",
        "colab_type": "text"
      },
      "source": [
        "We can see that we have data from 60 years old, which can be outliers in our distribution."
      ]
    },
    {
      "cell_type": "code",
      "metadata": {
        "id": "NAPysSeOYTLt",
        "colab_type": "code",
        "colab": {
          "base_uri": "https://localhost:8080/",
          "height": 0
        },
        "outputId": "4df1b9ce-8614-4892-c5f6-ba5e1fdf4db7"
      },
      "source": [
        "sns.boxplot(df_churn2['Age'])"
      ],
      "execution_count": 18,
      "outputs": [
        {
          "output_type": "execute_result",
          "data": {
            "text/plain": [
              "<matplotlib.axes._subplots.AxesSubplot at 0x7f392ffbbd30>"
            ]
          },
          "metadata": {
            "tags": []
          },
          "execution_count": 18
        },
        {
          "output_type": "display_data",
          "data": {
            "image/png": "[encoded data removed]",
            "text/plain": [
              "<Figure size 432x288 with 1 Axes>"
            ]
          },
          "metadata": {
            "tags": [],
            "needs_background": "light"
          }
        }
      ]
    },
    {
      "cell_type": "markdown",
      "metadata": {
        "id": "1yTkWUXldp_P",
        "colab_type": "text"
      },
      "source": [
        "We can see that our distribution is approaching a normal distribution and that data from 60 is pulling the tail to the right"
      ]
    },
    {
      "cell_type": "code",
      "metadata": {
        "id": "-A8Da-qAczNA",
        "colab_type": "code",
        "colab": {
          "base_uri": "https://localhost:8080/",
          "height": 0
        },
        "outputId": "eb389548-b995-4853-a2a1-fd3a60187b15"
      },
      "source": [
        "sns.distplot(df_churn2['Age'], bins= 15)"
      ],
      "execution_count": 19,
      "outputs": [
        {
          "output_type": "execute_result",
          "data": {
            "text/plain": [
              "<matplotlib.axes._subplots.AxesSubplot at 0x7f392fed7b38>"
            ]
          },
          "metadata": {
            "tags": []
          },
          "execution_count": 19
        },
        {
          "output_type": "display_data",
          "data": {
            "image/png": "[encoded data removed]",
            "text/plain": [
              "<Figure size 432x288 with 1 Axes>"
            ]
          },
          "metadata": {
            "tags": [],
            "needs_background": "light"
          }
        }
      ]
    },
    {
      "cell_type": "code",
      "metadata": {
        "id": "tNB3nLcsdaqw",
        "colab_type": "code",
        "colab": {}
      },
      "source": [
        ""
      ],
      "execution_count": 19,
      "outputs": []
    },
    {
      "cell_type": "markdown",
      "metadata": {
        "id": "QK5WiI5AMxbG",
        "colab_type": "text"
      },
      "source": [
        "## Tenure "
      ]
    },
    {
      "cell_type": "code",
      "metadata": {
        "id": "FxJIESFoMzO1",
        "colab_type": "code",
        "colab": {
          "base_uri": "https://localhost:8080/",
          "height": 0
        },
        "outputId": "42cf7a93-a066-42e1-9bf8-eb611a61ab4d"
      },
      "source": [
        "df_churn2['Tenure'].unique()"
      ],
      "execution_count": 20,
      "outputs": [
        {
          "output_type": "execute_result",
          "data": {
            "text/plain": [
              "array([ 2,  1,  8,  7,  4,  6,  3, 10,  5,  9,  0])"
            ]
          },
          "metadata": {
            "tags": []
          },
          "execution_count": 20
        }
      ]
    },
    {
      "cell_type": "markdown",
      "metadata": {
        "id": "DMZVwDvaNdgF",
        "colab_type": "text"
      },
      "source": [
        "We do not have a problem with our data the standard deviation is low ,our data is distributed between 0 to 10 and the quartiles are ok."
      ]
    },
    {
      "cell_type": "code",
      "metadata": {
        "id": "H7Q3oR0EM4cz",
        "colab_type": "code",
        "colab": {
          "base_uri": "https://localhost:8080/",
          "height": 0
        },
        "outputId": "416d1d9a-b0f1-4bea-8e0b-453d7dfc5f15"
      },
      "source": [
        "df_churn2['Tenure'].describe()"
      ],
      "execution_count": 21,
      "outputs": [
        {
          "output_type": "execute_result",
          "data": {
            "text/plain": [
              "count    10000.000000\n",
              "mean         5.012800\n",
              "std          2.892174\n",
              "min          0.000000\n",
              "25%          3.000000\n",
              "50%          5.000000\n",
              "75%          7.000000\n",
              "max         10.000000\n",
              "Name: Tenure, dtype: float64"
            ]
          },
          "metadata": {
            "tags": []
          },
          "execution_count": 21
        }
      ]
    },
    {
      "cell_type": "markdown",
      "metadata": {
        "id": "yW-t3sR6N9_7",
        "colab_type": "text"
      },
      "source": [
        "We do not have outliers"
      ]
    },
    {
      "cell_type": "code",
      "metadata": {
        "id": "payLn_7ZM9vV",
        "colab_type": "code",
        "colab": {
          "base_uri": "https://localhost:8080/",
          "height": 0
        },
        "outputId": "66ef28ec-c0f5-40ba-b0a5-e23ee7f33e5e"
      },
      "source": [
        "sns.boxplot(df_churn2['Tenure'])"
      ],
      "execution_count": 22,
      "outputs": [
        {
          "output_type": "execute_result",
          "data": {
            "text/plain": [
              "<matplotlib.axes._subplots.AxesSubplot at 0x7f392fe70da0>"
            ]
          },
          "metadata": {
            "tags": []
          },
          "execution_count": 22
        },
        {
          "output_type": "display_data",
          "data": {
            "image/png": "[encoded data removed]",
            "text/plain": [
              "<Figure size 432x288 with 1 Axes>"
            ]
          },
          "metadata": {
            "tags": [],
            "needs_background": "light"
          }
        }
      ]
    },
    {
      "cell_type": "markdown",
      "metadata": {
        "id": "tDqBHl5WODXW",
        "colab_type": "text"
      },
      "source": [
        "We do not have a normal distribution.\n"
      ]
    },
    {
      "cell_type": "code",
      "metadata": {
        "id": "NpHQiiw_NJoK",
        "colab_type": "code",
        "colab": {
          "base_uri": "https://localhost:8080/",
          "height": 0
        },
        "outputId": "97eec6e7-2885-42a1-d25d-731c3dfcbc70"
      },
      "source": [
        "sns.distplot(df_churn2['Tenure'],bins=10)"
      ],
      "execution_count": 23,
      "outputs": [
        {
          "output_type": "execute_result",
          "data": {
            "text/plain": [
              "<matplotlib.axes._subplots.AxesSubplot at 0x7f392fe4b828>"
            ]
          },
          "metadata": {
            "tags": []
          },
          "execution_count": 23
        },
        {
          "output_type": "display_data",
          "data": {
            "image/png": "[encoded data removed]",
            "text/plain": [
              "<Figure size 432x288 with 1 Axes>"
            ]
          },
          "metadata": {
            "tags": [],
            "needs_background": "light"
          }
        }
      ]
    },
    {
      "cell_type": "code",
      "metadata": {
        "id": "1alo2CUfNR8Q",
        "colab_type": "code",
        "colab": {}
      },
      "source": [
        ""
      ],
      "execution_count": 23,
      "outputs": []
    },
    {
      "cell_type": "markdown",
      "metadata": {
        "id": "1O5JIAzSO29T",
        "colab_type": "text"
      },
      "source": [
        "## Balance"
      ]
    },
    {
      "cell_type": "code",
      "metadata": {
        "id": "HAh9FjWZO6dk",
        "colab_type": "code",
        "colab": {
          "base_uri": "https://localhost:8080/",
          "height": 51
        },
        "outputId": "9909bc8e-c345-496d-8dd5-75e3bac43ee5"
      },
      "source": [
        "df_churn2['Balance'].unique()"
      ],
      "execution_count": 24,
      "outputs": [
        {
          "output_type": "execute_result",
          "data": {
            "text/plain": [
              "array([     0.  ,  83807.86, 159660.8 , ...,  57369.61,  75075.31,\n",
              "       130142.79])"
            ]
          },
          "metadata": {
            "tags": []
          },
          "execution_count": 24
        }
      ]
    },
    {
      "cell_type": "markdown",
      "metadata": {
        "id": "X585AV4kQNfL",
        "colab_type": "text"
      },
      "source": [
        "We have customers with 0 on the account and 250898 max and most of the customers have between 0 to 127644\n"
      ]
    },
    {
      "cell_type": "code",
      "metadata": {
        "id": "Rb70iA94PBm2",
        "colab_type": "code",
        "colab": {
          "base_uri": "https://localhost:8080/",
          "height": 170
        },
        "outputId": "24eebbdf-26d5-4846-b152-4f48fdbe1fc5"
      },
      "source": [
        "df_churn2['Balance'].describe()"
      ],
      "execution_count": 25,
      "outputs": [
        {
          "output_type": "execute_result",
          "data": {
            "text/plain": [
              "count     10000.000000\n",
              "mean      76485.889288\n",
              "std       62397.405202\n",
              "min           0.000000\n",
              "25%           0.000000\n",
              "50%       97198.540000\n",
              "75%      127644.240000\n",
              "max      250898.090000\n",
              "Name: Balance, dtype: float64"
            ]
          },
          "metadata": {
            "tags": []
          },
          "execution_count": 25
        }
      ]
    },
    {
      "cell_type": "markdown",
      "metadata": {
        "id": "9IQp8xLSQ7jF",
        "colab_type": "text"
      },
      "source": [
        "We do not have outliers"
      ]
    },
    {
      "cell_type": "code",
      "metadata": {
        "id": "TBklDnKEPbXv",
        "colab_type": "code",
        "colab": {
          "base_uri": "https://localhost:8080/",
          "height": 296
        },
        "outputId": "8ceb1920-ebce-4f6f-d466-b3df4cc9250f"
      },
      "source": [
        "sns.boxplot(df_churn2['Balance'])"
      ],
      "execution_count": 26,
      "outputs": [
        {
          "output_type": "execute_result",
          "data": {
            "text/plain": [
              "<matplotlib.axes._subplots.AxesSubplot at 0x7f392fe3f198>"
            ]
          },
          "metadata": {
            "tags": []
          },
          "execution_count": 26
        },
        {
          "output_type": "display_data",
          "data": {
            "image/png": "[encoded data removed]",
            "text/plain": [
              "<Figure size 432x288 with 1 Axes>"
            ]
          },
          "metadata": {
            "tags": [],
            "needs_background": "light"
          }
        }
      ]
    },
    {
      "cell_type": "markdown",
      "metadata": {
        "id": "CJdbjlntT3Pk",
        "colab_type": "text"
      },
      "source": [
        "We do not have a normal distribution , coustomers with 0 balance are skewing our data."
      ]
    },
    {
      "cell_type": "code",
      "metadata": {
        "id": "WR7F5nnsPsr7",
        "colab_type": "code",
        "colab": {
          "base_uri": "https://localhost:8080/",
          "height": 307
        },
        "outputId": "40cbdaf6-14cf-4bc6-a115-97ee86e10e78"
      },
      "source": [
        "sns.distplot(df_churn2['Balance'],bins=20)"
      ],
      "execution_count": 27,
      "outputs": [
        {
          "output_type": "execute_result",
          "data": {
            "text/plain": [
              "<matplotlib.axes._subplots.AxesSubplot at 0x7f392fd1c438>"
            ]
          },
          "metadata": {
            "tags": []
          },
          "execution_count": 27
        },
        {
          "output_type": "display_data",
          "data": {
            "image/png": "[encoded data removed]",
            "text/plain": [
              "<Figure size 432x288 with 1 Axes>"
            ]
          },
          "metadata": {
            "tags": [],
            "needs_background": "light"
          }
        }
      ]
    },
    {
      "cell_type": "code",
      "metadata": {
        "id": "ttwlPYSBUfB2",
        "colab_type": "code",
        "colab": {
          "base_uri": "https://localhost:8080/",
          "height": 34
        },
        "outputId": "f31667b3-4b53-4f1f-e974-1d983acaa788"
      },
      "source": [
        "df_churn2['NumOfProducts'].unique()"
      ],
      "execution_count": 28,
      "outputs": [
        {
          "output_type": "execute_result",
          "data": {
            "text/plain": [
              "array([1, 3, 2, 4])"
            ]
          },
          "metadata": {
            "tags": []
          },
          "execution_count": 28
        }
      ]
    },
    {
      "cell_type": "markdown",
      "metadata": {
        "id": "KSMJzeqmcqu6",
        "colab_type": "text"
      },
      "source": [
        "We have a good value of standard deviation of 0.58 showing our data is not too dispersed from the mean."
      ]
    },
    {
      "cell_type": "code",
      "metadata": {
        "id": "0WJZtTJOUfMO",
        "colab_type": "code",
        "colab": {
          "base_uri": "https://localhost:8080/",
          "height": 170
        },
        "outputId": "9718121b-7744-4ac9-9cda-12a690bd332b"
      },
      "source": [
        "df_churn2['NumOfProducts'].describe()"
      ],
      "execution_count": 29,
      "outputs": [
        {
          "output_type": "execute_result",
          "data": {
            "text/plain": [
              "count    10000.000000\n",
              "mean         1.530200\n",
              "std          0.581654\n",
              "min          1.000000\n",
              "25%          1.000000\n",
              "50%          1.000000\n",
              "75%          2.000000\n",
              "max          4.000000\n",
              "Name: NumOfProducts, dtype: float64"
            ]
          },
          "metadata": {
            "tags": []
          },
          "execution_count": 29
        }
      ]
    },
    {
      "cell_type": "markdown",
      "metadata": {
        "id": "NMp-rIeDcel8",
        "colab_type": "text"
      },
      "source": [
        "We have a value of 4 that might be a outlier"
      ]
    },
    {
      "cell_type": "code",
      "metadata": {
        "id": "oBrDXE8cUfQU",
        "colab_type": "code",
        "colab": {
          "base_uri": "https://localhost:8080/",
          "height": 296
        },
        "outputId": "a33eeaa6-ed52-4751-f86f-c242fa1fb6de"
      },
      "source": [
        "sns.boxplot(df_churn2['NumOfProducts'])"
      ],
      "execution_count": 30,
      "outputs": [
        {
          "output_type": "execute_result",
          "data": {
            "text/plain": [
              "<matplotlib.axes._subplots.AxesSubplot at 0x7f392fd4cbe0>"
            ]
          },
          "metadata": {
            "tags": []
          },
          "execution_count": 30
        },
        {
          "output_type": "display_data",
          "data": {
            "image/png": "[encoded data removed]",
            "text/plain": [
              "<Figure size 432x288 with 1 Axes>"
            ]
          },
          "metadata": {
            "tags": [],
            "needs_background": "light"
          }
        }
      ]
    },
    {
      "cell_type": "code",
      "metadata": {
        "id": "ASBStoA9cVkj",
        "colab_type": "code",
        "colab": {
          "base_uri": "https://localhost:8080/",
          "height": 296
        },
        "outputId": "4f1dc1f9-2043-475c-87b8-e3e79dafe3a9"
      },
      "source": [
        "sns.distplot(df_churn2['NumOfProducts'], bins= 10)"
      ],
      "execution_count": 31,
      "outputs": [
        {
          "output_type": "execute_result",
          "data": {
            "text/plain": [
              "<matplotlib.axes._subplots.AxesSubplot at 0x7f392fc25048>"
            ]
          },
          "metadata": {
            "tags": []
          },
          "execution_count": 31
        },
        {
          "output_type": "display_data",
          "data": {
            "image/png": "[encoded data removed]",
            "text/plain": [
              "<Figure size 432x288 with 1 Axes>"
            ]
          },
          "metadata": {
            "tags": [],
            "needs_background": "light"
          }
        }
      ]
    },
    {
      "cell_type": "code",
      "metadata": {
        "id": "3y0SV2lMdR6d",
        "colab_type": "code",
        "colab": {}
      },
      "source": [
        ""
      ],
      "execution_count": 31,
      "outputs": []
    },
    {
      "cell_type": "markdown",
      "metadata": {
        "id": "ZES_wIKkx0gQ",
        "colab_type": "text"
      },
      "source": [
        "### HasCrCard  "
      ]
    },
    {
      "cell_type": "markdown",
      "metadata": {
        "id": "HWAAFkbARUfU",
        "colab_type": "text"
      },
      "source": [
        "We only have 0 and 1 "
      ]
    },
    {
      "cell_type": "code",
      "metadata": {
        "id": "0mPI40Udx241",
        "colab_type": "code",
        "colab": {
          "base_uri": "https://localhost:8080/",
          "height": 34
        },
        "outputId": "6c24d845-c629-41af-f104-3ce7f6ce6090"
      },
      "source": [
        "df_churn2['HasCrCard'].unique()"
      ],
      "execution_count": 32,
      "outputs": [
        {
          "output_type": "execute_result",
          "data": {
            "text/plain": [
              "array([1, 0])"
            ]
          },
          "metadata": {
            "tags": []
          },
          "execution_count": 32
        }
      ]
    },
    {
      "cell_type": "markdown",
      "metadata": {
        "id": "eGO3CfenLZC5",
        "colab_type": "text"
      },
      "source": [
        "### EstimatedSalary "
      ]
    },
    {
      "cell_type": "markdown",
      "metadata": {
        "id": "-iVwYaYnQHku",
        "colab_type": "text"
      },
      "source": [
        "Most of our data is 51000 and 149388 and our data is a bit dispersed std of 57510"
      ]
    },
    {
      "cell_type": "code",
      "metadata": {
        "id": "bpsH2sTaLbmE",
        "colab_type": "code",
        "colab": {
          "base_uri": "https://localhost:8080/",
          "height": 170
        },
        "outputId": "21791b26-a470-4133-ec85-fa41122603ed"
      },
      "source": [
        "df_churn2['EstimatedSalary'].describe()"
      ],
      "execution_count": 33,
      "outputs": [
        {
          "output_type": "execute_result",
          "data": {
            "text/plain": [
              "count     10000.000000\n",
              "mean     100090.239881\n",
              "std       57510.492818\n",
              "min          11.580000\n",
              "25%       51002.110000\n",
              "50%      100193.915000\n",
              "75%      149388.247500\n",
              "max      199992.480000\n",
              "Name: EstimatedSalary, dtype: float64"
            ]
          },
          "metadata": {
            "tags": []
          },
          "execution_count": 33
        }
      ]
    },
    {
      "cell_type": "markdown",
      "metadata": {
        "id": "_67gmDh5QDHY",
        "colab_type": "text"
      },
      "source": [
        "We do not have any outliers"
      ]
    },
    {
      "cell_type": "code",
      "metadata": {
        "id": "Eo3olZmwLhAw",
        "colab_type": "code",
        "colab": {
          "base_uri": "https://localhost:8080/",
          "height": 296
        },
        "outputId": "1ac2622d-7e5c-44cb-a494-9bc4767d8f21"
      },
      "source": [
        "sns.boxplot(df_churn2['EstimatedSalary'])"
      ],
      "execution_count": 34,
      "outputs": [
        {
          "output_type": "execute_result",
          "data": {
            "text/plain": [
              "<matplotlib.axes._subplots.AxesSubplot at 0x7f392fd24438>"
            ]
          },
          "metadata": {
            "tags": []
          },
          "execution_count": 34
        },
        {
          "output_type": "display_data",
          "data": {
            "image/png": "[encoded data removed]",
            "text/plain": [
              "<Figure size 432x288 with 1 Axes>"
            ]
          },
          "metadata": {
            "tags": [],
            "needs_background": "light"
          }
        }
      ]
    },
    {
      "cell_type": "code",
      "metadata": {
        "id": "IsoAMFQMP1KS",
        "colab_type": "code",
        "colab": {
          "base_uri": "https://localhost:8080/",
          "height": 307
        },
        "outputId": "32a91d4d-8d57-428c-8883-5669a0ceaaec"
      },
      "source": [
        "sns.distplot(df_churn2['EstimatedSalary'])"
      ],
      "execution_count": 35,
      "outputs": [
        {
          "output_type": "execute_result",
          "data": {
            "text/plain": [
              "<matplotlib.axes._subplots.AxesSubplot at 0x7f392fba9908>"
            ]
          },
          "metadata": {
            "tags": []
          },
          "execution_count": 35
        },
        {
          "output_type": "display_data",
          "data": {
            "image/png": "[encoded data removed]",
            "text/plain": [
              "<Figure size 432x288 with 1 Axes>"
            ]
          },
          "metadata": {
            "tags": [],
            "needs_background": "light"
          }
        }
      ]
    },
    {
      "cell_type": "code",
      "metadata": {
        "id": "QaFbxLucRIbE",
        "colab_type": "code",
        "colab": {}
      },
      "source": [
        ""
      ],
      "execution_count": 35,
      "outputs": []
    },
    {
      "cell_type": "markdown",
      "metadata": {
        "id": "oNGvf9o5RfdQ",
        "colab_type": "text"
      },
      "source": [
        "### Exited  "
      ]
    },
    {
      "cell_type": "code",
      "metadata": {
        "id": "fniGtaKNRhTu",
        "colab_type": "code",
        "colab": {
          "base_uri": "https://localhost:8080/",
          "height": 34
        },
        "outputId": "5d7a6e7e-0228-4005-b585-e60e99509f7b"
      },
      "source": [
        "df_churn2['Exited'].unique()"
      ],
      "execution_count": 36,
      "outputs": [
        {
          "output_type": "execute_result",
          "data": {
            "text/plain": [
              "array([1, 0])"
            ]
          },
          "metadata": {
            "tags": []
          },
          "execution_count": 36
        }
      ]
    },
    {
      "cell_type": "code",
      "metadata": {
        "id": "KJy2EatPRleo",
        "colab_type": "code",
        "colab": {}
      },
      "source": [
        ""
      ],
      "execution_count": 36,
      "outputs": []
    },
    {
      "cell_type": "markdown",
      "metadata": {
        "id": "e4ilgtbZMh46",
        "colab_type": "text"
      },
      "source": [
        "# Exploratory Data Analysis"
      ]
    },
    {
      "cell_type": "markdown",
      "metadata": {
        "id": "rPIZYDZbRQrU",
        "colab_type": "text"
      },
      "source": [
        "## checking the classes"
      ]
    },
    {
      "cell_type": "code",
      "metadata": {
        "id": "_7RnVRerMm9u",
        "colab_type": "code",
        "colab": {
          "base_uri": "https://localhost:8080/",
          "height": 68
        },
        "outputId": "1b62bb5e-9576-457c-b6c9-e1ac318cd5c1"
      },
      "source": [
        "exited = df_churn2['Exited'].value_counts() # 1 - leave\n",
        "                                            # 0 - stay\n",
        "exited"
      ],
      "execution_count": 37,
      "outputs": [
        {
          "output_type": "execute_result",
          "data": {
            "text/plain": [
              "0    7963\n",
              "1    2037\n",
              "Name: Exited, dtype: int64"
            ]
          },
          "metadata": {
            "tags": []
          },
          "execution_count": 37
        }
      ]
    },
    {
      "cell_type": "markdown",
      "metadata": {
        "id": "gNM3ySM6QlzN",
        "colab_type": "text"
      },
      "source": [
        "Almost 80 % of the customers closed account "
      ]
    },
    {
      "cell_type": "code",
      "metadata": {
        "id": "76zXuKbzNLv5",
        "colab_type": "code",
        "colab": {
          "base_uri": "https://localhost:8080/",
          "height": 34
        },
        "outputId": "29081242-321e-46e5-d99f-643b48074fa8"
      },
      "source": [
        "stay = (exited[0] / len(df_churn2))*100\n",
        "\n",
        "stay\n",
        "\n"
      ],
      "execution_count": 38,
      "outputs": [
        {
          "output_type": "execute_result",
          "data": {
            "text/plain": [
              "79.63"
            ]
          },
          "metadata": {
            "tags": []
          },
          "execution_count": 38
        }
      ]
    },
    {
      "cell_type": "markdown",
      "metadata": {
        "id": "Bz25z2SLQ1iA",
        "colab_type": "text"
      },
      "source": [
        "We have  unbalanced classes on our data set "
      ]
    },
    {
      "cell_type": "code",
      "metadata": {
        "id": "Y36JpXkiOEr6",
        "colab_type": "code",
        "colab": {
          "base_uri": "https://localhost:8080/",
          "height": 34
        },
        "outputId": "05c89377-2615-4e05-f685-0a86bc4c67f2"
      },
      "source": [
        "leave = (exited[1] / len(df_churn2))*100\n",
        "\n",
        "leave"
      ],
      "execution_count": 39,
      "outputs": [
        {
          "output_type": "execute_result",
          "data": {
            "text/plain": [
              "20.369999999999997"
            ]
          },
          "metadata": {
            "tags": []
          },
          "execution_count": 39
        }
      ]
    },
    {
      "cell_type": "markdown",
      "metadata": {
        "id": "G-I_DBq3RecI",
        "colab_type": "text"
      },
      "source": [
        "## Checking the Hypotheses"
      ]
    },
    {
      "cell_type": "markdown",
      "metadata": {
        "id": "OsC0D-_TRvFe",
        "colab_type": "text"
      },
      "source": [
        "Customers with lower scores tend to leave the bank.\n",
        "\n",
        "The country is decisive for the client to leave the bank\n",
        "\n",
        "There are more men than women who leave the bank.\n",
        "\n",
        "Younger customer has a tendency to leave the bank\n",
        "\n",
        "Customers with up to 2 years as a customer usually leave the bank.\n",
        "\n",
        "Customers who do not have a credit card tend to leave the bank."
      ]
    },
    {
      "cell_type": "code",
      "metadata": {
        "id": "4-cdLoNVQbFZ",
        "colab_type": "code",
        "colab": {}
      },
      "source": [
        ""
      ],
      "execution_count": 39,
      "outputs": []
    },
    {
      "cell_type": "markdown",
      "metadata": {
        "id": "WXQ-SvEGSKmW",
        "colab_type": "text"
      },
      "source": [
        "### Customers with lower scores tend to leave the bank."
      ]
    },
    {
      "cell_type": "code",
      "metadata": {
        "id": "29pQwtAaYGj8",
        "colab_type": "code",
        "colab": {}
      },
      "source": [
        "less_than = df_churn2.query('CreditScore <=500')"
      ],
      "execution_count": 53,
      "outputs": []
    },
    {
      "cell_type": "code",
      "metadata": {
        "id": "U-HB2iaQZz5b",
        "colab_type": "code",
        "colab": {
          "base_uri": "https://localhost:8080/",
          "height": 68
        },
        "outputId": "7fc8cc8d-6213-4798-9876-a32a0ee8eefe"
      },
      "source": [
        "count = less_than['Exited'].value_counts()\n",
        "\n",
        "count"
      ],
      "execution_count": 70,
      "outputs": [
        {
          "output_type": "execute_result",
          "data": {
            "text/plain": [
              "0    491\n",
              "1    152\n",
              "Name: Exited, dtype: int64"
            ]
          },
          "metadata": {
            "tags": []
          },
          "execution_count": 70
        }
      ]
    },
    {
      "cell_type": "code",
      "metadata": {
        "id": "UmIJV9KJcJJI",
        "colab_type": "code",
        "colab": {
          "base_uri": "https://localhost:8080/",
          "height": 34
        },
        "outputId": "18d0f336-5ea8-44d6-b2f7-2949c68885ba"
      },
      "source": [
        "porc_leave = (count[1] / len(df_churn2))*100\n",
        "\n",
        "print(round(porc_leave),'%')"
      ],
      "execution_count": 83,
      "outputs": [
        {
          "output_type": "stream",
          "text": [
            "2.0 %\n"
          ],
          "name": "stdout"
        }
      ]
    },
    {
      "cell_type": "code",
      "metadata": {
        "id": "by_UgtstYu7Q",
        "colab_type": "code",
        "colab": {
          "base_uri": "https://localhost:8080/",
          "height": 296
        },
        "outputId": "1697656a-44ef-4c80-b21c-f14b159d50c5"
      },
      "source": [
        "sns.barplot(y= 'CreditScore', x= 'Exited', data= less_than,estimator=np.sum)"
      ],
      "execution_count": 77,
      "outputs": [
        {
          "output_type": "execute_result",
          "data": {
            "text/plain": [
              "<matplotlib.axes._subplots.AxesSubplot at 0x7f3924910cf8>"
            ]
          },
          "metadata": {
            "tags": []
          },
          "execution_count": 77
        },
        {
          "output_type": "display_data",
          "data": {
            "image/png": "[encoded data removed]",
            "text/plain": [
              "<Figure size 432x288 with 1 Axes>"
            ]
          },
          "metadata": {
            "tags": [],
            "needs_background": "light"
          }
        }
      ]
    },
    {
      "cell_type": "code",
      "metadata": {
        "id": "DMJ7eoAFYvCJ",
        "colab_type": "code",
        "colab": {}
      },
      "source": [
        ""
      ],
      "execution_count": null,
      "outputs": []
    },
    {
      "cell_type": "code",
      "metadata": {
        "id": "JpBm0EhmXGTj",
        "colab_type": "code",
        "colab": {}
      },
      "source": [
        "more_than = df_churn2.query('CreditScore >500')"
      ],
      "execution_count": 54,
      "outputs": []
    },
    {
      "cell_type": "code",
      "metadata": {
        "id": "ong3-0ugYchQ",
        "colab_type": "code",
        "colab": {
          "base_uri": "https://localhost:8080/",
          "height": 68
        },
        "outputId": "d6bfd875-6fcb-47b0-cc2d-d0c228eaa66e"
      },
      "source": [
        "counts =more_than['Exited'].value_counts()\n",
        "\n",
        "counts"
      ],
      "execution_count": 74,
      "outputs": [
        {
          "output_type": "execute_result",
          "data": {
            "text/plain": [
              "0    7472\n",
              "1    1885\n",
              "Name: Exited, dtype: int64"
            ]
          },
          "metadata": {
            "tags": []
          },
          "execution_count": 74
        }
      ]
    },
    {
      "cell_type": "code",
      "metadata": {
        "id": "kCIs3IKIb5Kd",
        "colab_type": "code",
        "colab": {
          "base_uri": "https://localhost:8080/",
          "height": 34
        },
        "outputId": "722727a6-a08f-478b-c337-99e0680d45a5"
      },
      "source": [
        "porc_leave_more = (counts[1] / len(df_churn2))*100\n",
        "\n",
        "print(round(porc_leave_more) ,'%')"
      ],
      "execution_count": 82,
      "outputs": [
        {
          "output_type": "stream",
          "text": [
            "19.0 %\n"
          ],
          "name": "stdout"
        }
      ]
    },
    {
      "cell_type": "code",
      "metadata": {
        "id": "ihRaH78idqkO",
        "colab_type": "code",
        "colab": {
          "base_uri": "https://localhost:8080/",
          "height": 307
        },
        "outputId": "58ba9680-d1e1-44ef-992d-790a8178725e"
      },
      "source": [
        "sns.barplot(y= 'CreditScore', x= 'Exited', data= more_than,estimator=np.sum)"
      ],
      "execution_count": 78,
      "outputs": [
        {
          "output_type": "execute_result",
          "data": {
            "text/plain": [
              "<matplotlib.axes._subplots.AxesSubplot at 0x7f392486df98>"
            ]
          },
          "metadata": {
            "tags": []
          },
          "execution_count": 78
        },
        {
          "output_type": "display_data",
          "data": {
            "image/png": "[encoded data removed]",
            "text/plain": [
              "<Figure size 432x288 with 1 Axes>"
            ]
          },
          "metadata": {
            "tags": [],
            "needs_background": "light"
          }
        }
      ]
    },
    {
      "cell_type": "code",
      "metadata": {
        "id": "BGpPh3IAgND3",
        "colab_type": "code",
        "colab": {}
      },
      "source": [
        ""
      ],
      "execution_count": null,
      "outputs": []
    },
    {
      "cell_type": "markdown",
      "metadata": {
        "id": "Dxd8ds1fg0NE",
        "colab_type": "text"
      },
      "source": [
        "###The country is decisive for the client to leave the bank"
      ]
    },
    {
      "cell_type": "code",
      "metadata": {
        "id": "vkeg0ImOg22a",
        "colab_type": "code",
        "colab": {
          "base_uri": "https://localhost:8080/",
          "height": 102
        },
        "outputId": "b0d4a4ed-23d2-472e-df42-ab059333f708"
      },
      "source": [
        "df_churn2.groupby('Geography')['Exited'].sum()"
      ],
      "execution_count": 96,
      "outputs": [
        {
          "output_type": "execute_result",
          "data": {
            "text/plain": [
              "Geography\n",
              "France     810\n",
              "Germany    814\n",
              "Spain      413\n",
              "Name: Exited, dtype: int64"
            ]
          },
          "metadata": {
            "tags": []
          },
          "execution_count": 96
        }
      ]
    },
    {
      "cell_type": "code",
      "metadata": {
        "id": "rintV35RibLg",
        "colab_type": "code",
        "colab": {
          "base_uri": "https://localhost:8080/",
          "height": 296
        },
        "outputId": "01c93a6d-9a43-401b-c70e-67225dacaac4"
      },
      "source": [
        "sns.barplot(x= 'Geography',y= 'Exited',data= df_churn2,estimator= np.sum)"
      ],
      "execution_count": 110,
      "outputs": [
        {
          "output_type": "execute_result",
          "data": {
            "text/plain": [
              "<matplotlib.axes._subplots.AxesSubplot at 0x7f3924b73390>"
            ]
          },
          "metadata": {
            "tags": []
          },
          "execution_count": 110
        },
        {
          "output_type": "display_data",
          "data": {
            "image/png": "[encoded data removed]",
            "text/plain": [
              "<Figure size 432x288 with 1 Axes>"
            ]
          },
          "metadata": {
            "tags": [],
            "needs_background": "light"
          }
        }
      ]
    },
    {
      "cell_type": "code",
      "metadata": {
        "id": "_b7qVD3Mj39J",
        "colab_type": "code",
        "colab": {}
      },
      "source": [
        ""
      ],
      "execution_count": null,
      "outputs": []
    },
    {
      "cell_type": "markdown",
      "metadata": {
        "id": "Qizc8_Fqn2fk",
        "colab_type": "text"
      },
      "source": [
        "### There are more men than women who leave the bank"
      ]
    },
    {
      "cell_type": "code",
      "metadata": {
        "id": "M5R6RtEnn57h",
        "colab_type": "code",
        "colab": {
          "base_uri": "https://localhost:8080/",
          "height": 85
        },
        "outputId": "d20170d4-b51b-465d-a3d7-92ac5232fc5d"
      },
      "source": [
        "df_churn2.groupby('Gender')['Exited'].sum()"
      ],
      "execution_count": 111,
      "outputs": [
        {
          "output_type": "execute_result",
          "data": {
            "text/plain": [
              "Gender\n",
              "Female    1139\n",
              "Male       898\n",
              "Name: Exited, dtype: int64"
            ]
          },
          "metadata": {
            "tags": []
          },
          "execution_count": 111
        }
      ]
    },
    {
      "cell_type": "code",
      "metadata": {
        "id": "eoX6kPNboSGO",
        "colab_type": "code",
        "colab": {
          "base_uri": "https://localhost:8080/",
          "height": 296
        },
        "outputId": "99b4cd3e-97b8-4429-b548-4574ab5df0cd"
      },
      "source": [
        "sns.barplot(x= 'Gender', y= 'Exited', data= df_churn2,ci= None ,estimator= np.sum)"
      ],
      "execution_count": 113,
      "outputs": [
        {
          "output_type": "execute_result",
          "data": {
            "text/plain": [
              "<matplotlib.axes._subplots.AxesSubplot at 0x7f39245a4278>"
            ]
          },
          "metadata": {
            "tags": []
          },
          "execution_count": 113
        },
        {
          "output_type": "display_data",
          "data": {
            "image/png": "[encoded data removed]",
            "text/plain": [
              "<Figure size 432x288 with 1 Axes>"
            ]
          },
          "metadata": {
            "tags": [],
            "needs_background": "light"
          }
        }
      ]
    },
    {
      "cell_type": "code",
      "metadata": {
        "id": "5mY952y-oo_J",
        "colab_type": "code",
        "colab": {}
      },
      "source": [
        ""
      ],
      "execution_count": null,
      "outputs": []
    },
    {
      "cell_type": "markdown",
      "metadata": {
        "id": "9K_u9jQPpSjP",
        "colab_type": "text"
      },
      "source": [
        "### Younger customer has a tendency to leave the bank"
      ]
    },
    {
      "cell_type": "code",
      "metadata": {
        "id": "o0n339n_pNn9",
        "colab_type": "code",
        "colab": {}
      },
      "source": [
        "Age_btw_20 = df_churn2.query('Age <= 20')"
      ],
      "execution_count": 125,
      "outputs": []
    },
    {
      "cell_type": "code",
      "metadata": {
        "id": "LhMNGDeHsSjb",
        "colab_type": "code",
        "colab": {}
      },
      "source": [
        ""
      ],
      "execution_count": null,
      "outputs": []
    },
    {
      "cell_type": "code",
      "metadata": {
        "id": "wqfe6uMjqQHL",
        "colab_type": "code",
        "colab": {}
      },
      "source": [
        "Age_btw_20_40 = df_churn2.query('Age >20 & Age <=40')"
      ],
      "execution_count": 126,
      "outputs": []
    },
    {
      "cell_type": "code",
      "metadata": {
        "id": "jo6IKDImrK_3",
        "colab_type": "code",
        "colab": {}
      },
      "source": [
        "Age_btw_40_60 = df_churn2.query('Age >40 & Age <=60')"
      ],
      "execution_count": 127,
      "outputs": []
    },
    {
      "cell_type": "code",
      "metadata": {
        "id": "QuLjfxSPrSqi",
        "colab_type": "code",
        "colab": {}
      },
      "source": [
        "Age_btw_60_80 = df_churn2.query('Age > 60 & Age <=80')"
      ],
      "execution_count": 128,
      "outputs": []
    },
    {
      "cell_type": "code",
      "metadata": {
        "id": "AibLzpSrrmPc",
        "colab_type": "code",
        "colab": {}
      },
      "source": [
        "Age_high_80 = df_churn2.query('Age > 80')"
      ],
      "execution_count": 129,
      "outputs": []
    },
    {
      "cell_type": "code",
      "metadata": {
        "id": "buNJdL-trpzb",
        "colab_type": "code",
        "colab": {}
      },
      "source": [
        ""
      ],
      "execution_count": null,
      "outputs": []
    }
  ]
}