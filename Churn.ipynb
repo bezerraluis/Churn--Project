{
  "nbformat": 4,
  "nbformat_minor": 0,
  "metadata": {
    "colab": {
      "name": "Churn.ipynb",
      "provenance": [],
      "toc_visible": true,
      "mount_file_id": "1qNtDfKI8nZabTTt5MHRVo3Qtt4Lu9jO6",
      "authorship_tag": "ABX9TyO1f7NGKVa9DyJcCArFng2k",
      "include_colab_link": true
    },
    "kernelspec": {
      "name": "python3",
      "display_name": "Python 3"
    }
  },
  "cells": [
    {
      "cell_type": "markdown",
      "metadata": {
        "id": "view-in-github",
        "colab_type": "text"
      },
      "source": [
        "<a href=\"https://colab.research.google.com/github/bezerraluis/Churn--Project/blob/master/Churn.ipynb\" target=\"_parent\"><img src=\"https://colab.research.google.com/assets/colab-badge.svg\" alt=\"Open In Colab\"/></a>"
      ]
    },
    {
      "cell_type": "markdown",
      "metadata": {
        "id": "bbt-d38R8_-2"
      },
      "source": [
        "# Data Set"
      ]
    },
    {
      "cell_type": "markdown",
      "metadata": {
        "id": "xRA-LE5-WliB"
      },
      "source": [
        "Find a copy on :[Kaggle](https://www.kaggle.com/shrutimechlearn/churn-modelling)"
      ]
    },
    {
      "cell_type": "markdown",
      "metadata": {
        "id": "osq_8-Lm9AQf"
      },
      "source": [
        "### Description\n",
        "\n",
        "RowNumber - Row Numbers from 1 to 10000\n",
        "\n",
        "CustomerId - Unique Ids for bank customer identification  \n",
        "\n",
        "Surname - Customer's last name\n",
        "\n",
        "CreditScore -  Credit score of the customer\n",
        "\n",
        "Geography - The country from which the customer belongs\n",
        "\n",
        "Gender -  Male or Female\n",
        "\n",
        "Age - Age of the customer\n",
        "\n",
        "Tenure - Number of years for which the customer has been with the bank\n",
        "\n",
        "Balance - Bank balance of the customer\n",
        "\n",
        "NumOfProducts - Number of bank products the customer is utilising\n"
      ]
    },
    {
      "cell_type": "markdown",
      "metadata": {
        "id": "yRJ1n4HwAzdB"
      },
      "source": [
        "# Hypotheses \n",
        "\n",
        "Customers with lower scores tend to leave the bank.\n",
        "\n",
        "The country is decisive for the client to leave the bank\n",
        "\n",
        "There are more men than women who leave the bank.\n",
        "\n",
        "Younger customer has a tendency to leave the bank\n",
        "\n",
        "Customers with up to 2 years as a customer usually leave the bank.\n",
        "\n",
        "Customers who do not have a credit card tend to leave the bank.\n",
        "\n",
        "\n",
        "\n"
      ]
    },
    {
      "cell_type": "markdown",
      "metadata": {
        "id": "5XW-LJdBKbI9"
      },
      "source": [
        "# Business Problem"
      ]
    },
    {
      "cell_type": "markdown",
      "metadata": {
        "id": "qw52OmPcKfto"
      },
      "source": [
        "Decreasing the number of churns is something that the entire company needs to pursue. It is essential for the growth and health of any operation.\n",
        "\n",
        "How to project growth, attract investors if customer retention fails within organizations.\n",
        "\n",
        "When a user churns, and this is repeated with other people, a very large alert signal needs to be turned on.\n",
        "\n",
        "And a question must be answered: what are we doing wrong?\n",
        "\n",
        "Customers talk to each other. Information is accessible to all. Therefore, working to have an ever lower churn, close to zero, is a tireless pursuit.\n",
        "\n",
        "More than that. Understanding the (especially financial) impact of this metric is vital. It is what will maintain financial health and a safer hike for any business."
      ]
    },
    {
      "cell_type": "markdown",
      "metadata": {
        "id": "Y7nsXVGAOapj"
      },
      "source": [
        "## Business Goal"
      ]
    },
    {
      "cell_type": "markdown",
      "metadata": {
        "id": "QLbX7SDqOhrt"
      },
      "source": [
        " This data set contains details of a bank's customers and the target variable is a binary variable reflecting the fact whether the customer left the bank (closed his account) or he continues to be a customer.\n",
        "Our Objective is to predict if a customer stay o leave the bank, creating a predictive model with only the necessary variables to not make it too complex."
      ]
    },
    {
      "cell_type": "markdown",
      "metadata": {
        "id": "HWuYPxns9AgK"
      },
      "source": [
        "# Frameworks"
      ]
    },
    {
      "cell_type": "code",
      "metadata": {
        "id": "bYRx_opm_xku"
      },
      "source": [
        "import pandas as pd\n",
        "import numpy as np\n",
        "import seaborn as sns\n",
        "import matplotlib.pyplot as plt\n",
        "from sklearn.model_selection import train_test_split\n",
        "from sklearn.metrics import confusion_matrix\n",
        "from sklearn.metrics import plot_confusion_matrix\n",
        "from sklearn.metrics import precision_recall_fscore_support\n",
        "from sklearn.metrics import classification_report\n",
        "from sklearn.metrics import f1_score\n",
        "from sklearn.metrics import accuracy_score\n",
        "from sklearn.model_selection import train_test_split , KFold , cross_val_score,StratifiedKFold\n",
        "from sklearn.preprocessing import LabelEncoder\n",
        "from sklearn.svm import LinearSVC\n",
        "from sklearn.ensemble import RandomForestClassifier\n",
        "from sklearn.naive_bayes import GaussianNB, BernoulliNB, MultinomialNB\n",
        "from sklearn.tree import DecisionTreeClassifier\n",
        "from sklearn.ensemble import GradientBoostingClassifier\n",
        "from xgboost import XGBClassifier\n",
        "\n"
      ],
      "execution_count": 190,
      "outputs": []
    },
    {
      "cell_type": "markdown",
      "metadata": {
        "id": "1uHeBu0jP7e2"
      },
      "source": [
        "# Loading and viewing data"
      ]
    },
    {
      "cell_type": "code",
      "metadata": {
        "id": "0Y_p5_ud_927"
      },
      "source": [
        "df_churn= pd.read_csv('/content/drive/My Drive/Todos os arquivos do pc antigo/datasets Kaggle/churn.csv')"
      ],
      "execution_count": 2,
      "outputs": []
    },
    {
      "cell_type": "code",
      "metadata": {
        "id": "pc7mM-vpAElz",
        "outputId": "68d83435-0c0a-4b0b-e100-6b9597b0d954",
        "colab": {
          "base_uri": "https://localhost:8080/",
          "height": 224
        }
      },
      "source": [
        "df_churn.head()"
      ],
      "execution_count": 3,
      "outputs": [
        {
          "output_type": "execute_result",
          "data": {
            "text/html": [
              "<div>\n",
              "<style scoped>\n",
              "    .dataframe tbody tr th:only-of-type {\n",
              "        vertical-align: middle;\n",
              "    }\n",
              "\n",
              "    .dataframe tbody tr th {\n",
              "        vertical-align: top;\n",
              "    }\n",
              "\n",
              "    .dataframe thead th {\n",
              "        text-align: right;\n",
              "    }\n",
              "</style>\n",
              "<table border=\"1\" class=\"dataframe\">\n",
              "  <thead>\n",
              "    <tr style=\"text-align: right;\">\n",
              "      <th></th>\n",
              "      <th>RowNumber</th>\n",
              "      <th>CustomerId</th>\n",
              "      <th>Surname</th>\n",
              "      <th>CreditScore</th>\n",
              "      <th>Geography</th>\n",
              "      <th>Gender</th>\n",
              "      <th>Age</th>\n",
              "      <th>Tenure</th>\n",
              "      <th>Balance</th>\n",
              "      <th>NumOfProducts</th>\n",
              "      <th>HasCrCard</th>\n",
              "      <th>IsActiveMember</th>\n",
              "      <th>EstimatedSalary</th>\n",
              "      <th>Exited</th>\n",
              "    </tr>\n",
              "  </thead>\n",
              "  <tbody>\n",
              "    <tr>\n",
              "      <th>0</th>\n",
              "      <td>1</td>\n",
              "      <td>15634602</td>\n",
              "      <td>Hargrave</td>\n",
              "      <td>619</td>\n",
              "      <td>France</td>\n",
              "      <td>Female</td>\n",
              "      <td>42</td>\n",
              "      <td>2</td>\n",
              "      <td>0.00</td>\n",
              "      <td>1</td>\n",
              "      <td>1</td>\n",
              "      <td>1</td>\n",
              "      <td>101348.88</td>\n",
              "      <td>1</td>\n",
              "    </tr>\n",
              "    <tr>\n",
              "      <th>1</th>\n",
              "      <td>2</td>\n",
              "      <td>15647311</td>\n",
              "      <td>Hill</td>\n",
              "      <td>608</td>\n",
              "      <td>Spain</td>\n",
              "      <td>Female</td>\n",
              "      <td>41</td>\n",
              "      <td>1</td>\n",
              "      <td>83807.86</td>\n",
              "      <td>1</td>\n",
              "      <td>0</td>\n",
              "      <td>1</td>\n",
              "      <td>112542.58</td>\n",
              "      <td>0</td>\n",
              "    </tr>\n",
              "    <tr>\n",
              "      <th>2</th>\n",
              "      <td>3</td>\n",
              "      <td>15619304</td>\n",
              "      <td>Onio</td>\n",
              "      <td>502</td>\n",
              "      <td>France</td>\n",
              "      <td>Female</td>\n",
              "      <td>42</td>\n",
              "      <td>8</td>\n",
              "      <td>159660.80</td>\n",
              "      <td>3</td>\n",
              "      <td>1</td>\n",
              "      <td>0</td>\n",
              "      <td>113931.57</td>\n",
              "      <td>1</td>\n",
              "    </tr>\n",
              "    <tr>\n",
              "      <th>3</th>\n",
              "      <td>4</td>\n",
              "      <td>15701354</td>\n",
              "      <td>Boni</td>\n",
              "      <td>699</td>\n",
              "      <td>France</td>\n",
              "      <td>Female</td>\n",
              "      <td>39</td>\n",
              "      <td>1</td>\n",
              "      <td>0.00</td>\n",
              "      <td>2</td>\n",
              "      <td>0</td>\n",
              "      <td>0</td>\n",
              "      <td>93826.63</td>\n",
              "      <td>0</td>\n",
              "    </tr>\n",
              "    <tr>\n",
              "      <th>4</th>\n",
              "      <td>5</td>\n",
              "      <td>15737888</td>\n",
              "      <td>Mitchell</td>\n",
              "      <td>850</td>\n",
              "      <td>Spain</td>\n",
              "      <td>Female</td>\n",
              "      <td>43</td>\n",
              "      <td>2</td>\n",
              "      <td>125510.82</td>\n",
              "      <td>1</td>\n",
              "      <td>1</td>\n",
              "      <td>1</td>\n",
              "      <td>79084.10</td>\n",
              "      <td>0</td>\n",
              "    </tr>\n",
              "  </tbody>\n",
              "</table>\n",
              "</div>"
            ],
            "text/plain": [
              "   RowNumber  CustomerId   Surname  ...  IsActiveMember EstimatedSalary Exited\n",
              "0          1    15634602  Hargrave  ...               1       101348.88      1\n",
              "1          2    15647311      Hill  ...               1       112542.58      0\n",
              "2          3    15619304      Onio  ...               0       113931.57      1\n",
              "3          4    15701354      Boni  ...               0        93826.63      0\n",
              "4          5    15737888  Mitchell  ...               1        79084.10      0\n",
              "\n",
              "[5 rows x 14 columns]"
            ]
          },
          "metadata": {
            "tags": []
          },
          "execution_count": 3
        }
      ]
    },
    {
      "cell_type": "markdown",
      "metadata": {
        "id": "UAip7YUZQUl-"
      },
      "source": [
        "\n",
        "We do not have missing values"
      ]
    },
    {
      "cell_type": "code",
      "metadata": {
        "id": "494urThjAGZO",
        "outputId": "f92a065d-0a26-458b-c52e-dceadc5a3886",
        "colab": {
          "base_uri": "https://localhost:8080/",
          "height": 374
        }
      },
      "source": [
        "df_churn.info()"
      ],
      "execution_count": 4,
      "outputs": [
        {
          "output_type": "stream",
          "text": [
            "<class 'pandas.core.frame.DataFrame'>\n",
            "RangeIndex: 10000 entries, 0 to 9999\n",
            "Data columns (total 14 columns):\n",
            " #   Column           Non-Null Count  Dtype  \n",
            "---  ------           --------------  -----  \n",
            " 0   RowNumber        10000 non-null  int64  \n",
            " 1   CustomerId       10000 non-null  int64  \n",
            " 2   Surname          10000 non-null  object \n",
            " 3   CreditScore      10000 non-null  int64  \n",
            " 4   Geography        10000 non-null  object \n",
            " 5   Gender           10000 non-null  object \n",
            " 6   Age              10000 non-null  int64  \n",
            " 7   Tenure           10000 non-null  int64  \n",
            " 8   Balance          10000 non-null  float64\n",
            " 9   NumOfProducts    10000 non-null  int64  \n",
            " 10  HasCrCard        10000 non-null  int64  \n",
            " 11  IsActiveMember   10000 non-null  int64  \n",
            " 12  EstimatedSalary  10000 non-null  float64\n",
            " 13  Exited           10000 non-null  int64  \n",
            "dtypes: float64(2), int64(9), object(3)\n",
            "memory usage: 1.1+ MB\n"
          ],
          "name": "stdout"
        }
      ]
    },
    {
      "cell_type": "code",
      "metadata": {
        "id": "7naU3FMBAYZP"
      },
      "source": [
        ""
      ],
      "execution_count": 4,
      "outputs": []
    },
    {
      "cell_type": "markdown",
      "metadata": {
        "id": "rFilV9s9RRUt"
      },
      "source": [
        "# Data Cleaning"
      ]
    },
    {
      "cell_type": "markdown",
      "metadata": {
        "id": "9rO7VP7DSkjX"
      },
      "source": [
        "### Row Number"
      ]
    },
    {
      "cell_type": "code",
      "metadata": {
        "id": "XAs7VvMvSoHk",
        "outputId": "207d736a-7b8b-4f09-bcda-38a50479d6f0",
        "colab": {
          "base_uri": "https://localhost:8080/",
          "height": 34
        }
      },
      "source": [
        "df_churn['RowNumber'].unique()"
      ],
      "execution_count": 5,
      "outputs": [
        {
          "output_type": "execute_result",
          "data": {
            "text/plain": [
              "array([    1,     2,     3, ...,  9998,  9999, 10000])"
            ]
          },
          "metadata": {
            "tags": []
          },
          "execution_count": 5
        }
      ]
    },
    {
      "cell_type": "markdown",
      "metadata": {
        "id": "Nu5XGziWTRor"
      },
      "source": [
        "As we can see RowNumber is just a line identifier so it has no predictive power and we will delete it"
      ]
    },
    {
      "cell_type": "code",
      "metadata": {
        "id": "DwnylkzmS4j9"
      },
      "source": [
        "df_churn2 = df_churn.drop('RowNumber',axis= 1)"
      ],
      "execution_count": 6,
      "outputs": []
    },
    {
      "cell_type": "code",
      "metadata": {
        "id": "dQozIG8VqeDu",
        "outputId": "45eb7aa1-6fce-4ae5-9f30-9148a490f47d",
        "colab": {
          "base_uri": "https://localhost:8080/",
          "height": 224
        }
      },
      "source": [
        "df_churn2.head()"
      ],
      "execution_count": 7,
      "outputs": [
        {
          "output_type": "execute_result",
          "data": {
            "text/html": [
              "<div>\n",
              "<style scoped>\n",
              "    .dataframe tbody tr th:only-of-type {\n",
              "        vertical-align: middle;\n",
              "    }\n",
              "\n",
              "    .dataframe tbody tr th {\n",
              "        vertical-align: top;\n",
              "    }\n",
              "\n",
              "    .dataframe thead th {\n",
              "        text-align: right;\n",
              "    }\n",
              "</style>\n",
              "<table border=\"1\" class=\"dataframe\">\n",
              "  <thead>\n",
              "    <tr style=\"text-align: right;\">\n",
              "      <th></th>\n",
              "      <th>CustomerId</th>\n",
              "      <th>Surname</th>\n",
              "      <th>CreditScore</th>\n",
              "      <th>Geography</th>\n",
              "      <th>Gender</th>\n",
              "      <th>Age</th>\n",
              "      <th>Tenure</th>\n",
              "      <th>Balance</th>\n",
              "      <th>NumOfProducts</th>\n",
              "      <th>HasCrCard</th>\n",
              "      <th>IsActiveMember</th>\n",
              "      <th>EstimatedSalary</th>\n",
              "      <th>Exited</th>\n",
              "    </tr>\n",
              "  </thead>\n",
              "  <tbody>\n",
              "    <tr>\n",
              "      <th>0</th>\n",
              "      <td>15634602</td>\n",
              "      <td>Hargrave</td>\n",
              "      <td>619</td>\n",
              "      <td>France</td>\n",
              "      <td>Female</td>\n",
              "      <td>42</td>\n",
              "      <td>2</td>\n",
              "      <td>0.00</td>\n",
              "      <td>1</td>\n",
              "      <td>1</td>\n",
              "      <td>1</td>\n",
              "      <td>101348.88</td>\n",
              "      <td>1</td>\n",
              "    </tr>\n",
              "    <tr>\n",
              "      <th>1</th>\n",
              "      <td>15647311</td>\n",
              "      <td>Hill</td>\n",
              "      <td>608</td>\n",
              "      <td>Spain</td>\n",
              "      <td>Female</td>\n",
              "      <td>41</td>\n",
              "      <td>1</td>\n",
              "      <td>83807.86</td>\n",
              "      <td>1</td>\n",
              "      <td>0</td>\n",
              "      <td>1</td>\n",
              "      <td>112542.58</td>\n",
              "      <td>0</td>\n",
              "    </tr>\n",
              "    <tr>\n",
              "      <th>2</th>\n",
              "      <td>15619304</td>\n",
              "      <td>Onio</td>\n",
              "      <td>502</td>\n",
              "      <td>France</td>\n",
              "      <td>Female</td>\n",
              "      <td>42</td>\n",
              "      <td>8</td>\n",
              "      <td>159660.80</td>\n",
              "      <td>3</td>\n",
              "      <td>1</td>\n",
              "      <td>0</td>\n",
              "      <td>113931.57</td>\n",
              "      <td>1</td>\n",
              "    </tr>\n",
              "    <tr>\n",
              "      <th>3</th>\n",
              "      <td>15701354</td>\n",
              "      <td>Boni</td>\n",
              "      <td>699</td>\n",
              "      <td>France</td>\n",
              "      <td>Female</td>\n",
              "      <td>39</td>\n",
              "      <td>1</td>\n",
              "      <td>0.00</td>\n",
              "      <td>2</td>\n",
              "      <td>0</td>\n",
              "      <td>0</td>\n",
              "      <td>93826.63</td>\n",
              "      <td>0</td>\n",
              "    </tr>\n",
              "    <tr>\n",
              "      <th>4</th>\n",
              "      <td>15737888</td>\n",
              "      <td>Mitchell</td>\n",
              "      <td>850</td>\n",
              "      <td>Spain</td>\n",
              "      <td>Female</td>\n",
              "      <td>43</td>\n",
              "      <td>2</td>\n",
              "      <td>125510.82</td>\n",
              "      <td>1</td>\n",
              "      <td>1</td>\n",
              "      <td>1</td>\n",
              "      <td>79084.10</td>\n",
              "      <td>0</td>\n",
              "    </tr>\n",
              "  </tbody>\n",
              "</table>\n",
              "</div>"
            ],
            "text/plain": [
              "   CustomerId   Surname  CreditScore  ... IsActiveMember EstimatedSalary  Exited\n",
              "0    15634602  Hargrave          619  ...              1       101348.88       1\n",
              "1    15647311      Hill          608  ...              1       112542.58       0\n",
              "2    15619304      Onio          502  ...              0       113931.57       1\n",
              "3    15701354      Boni          699  ...              0        93826.63       0\n",
              "4    15737888  Mitchell          850  ...              1        79084.10       0\n",
              "\n",
              "[5 rows x 13 columns]"
            ]
          },
          "metadata": {
            "tags": []
          },
          "execution_count": 7
        }
      ]
    },
    {
      "cell_type": "markdown",
      "metadata": {
        "id": "p2_ZgSVeTpob"
      },
      "source": [
        "## CustomerId"
      ]
    },
    {
      "cell_type": "code",
      "metadata": {
        "id": "ptU52FGsTtGS",
        "outputId": "f5041aaa-06b8-41d5-aec5-febab4a5fc2a",
        "colab": {
          "base_uri": "https://localhost:8080/",
          "height": 34
        }
      },
      "source": [
        "df_churn['CustomerId'].unique()"
      ],
      "execution_count": 8,
      "outputs": [
        {
          "output_type": "execute_result",
          "data": {
            "text/plain": [
              "array([15634602, 15647311, 15619304, ..., 15584532, 15682355, 15628319])"
            ]
          },
          "metadata": {
            "tags": []
          },
          "execution_count": 8
        }
      ]
    },
    {
      "cell_type": "markdown",
      "metadata": {
        "id": "hyeT_lKmzVik"
      },
      "source": [
        "The same goes to CustomerID"
      ]
    },
    {
      "cell_type": "code",
      "metadata": {
        "id": "PpMckvApTrYA"
      },
      "source": [
        "df_churn2 = df_churn.drop('CustomerId',axis= 1)"
      ],
      "execution_count": 9,
      "outputs": []
    },
    {
      "cell_type": "markdown",
      "metadata": {
        "id": "OWYo-ZCtzeby"
      },
      "source": [
        "## Surname   "
      ]
    },
    {
      "cell_type": "code",
      "metadata": {
        "id": "5TuIpZI0zkWp",
        "outputId": "927129a2-38d4-4852-9726-263ec5771bc9",
        "colab": {
          "base_uri": "https://localhost:8080/",
          "height": 51
        }
      },
      "source": [
        "df_churn['Surname'].unique()"
      ],
      "execution_count": 10,
      "outputs": [
        {
          "output_type": "execute_result",
          "data": {
            "text/plain": [
              "array(['Hargrave', 'Hill', 'Onio', ..., 'Kashiwagi', 'Aldridge',\n",
              "       'Burbidge'], dtype=object)"
            ]
          },
          "metadata": {
            "tags": []
          },
          "execution_count": 10
        }
      ]
    },
    {
      "cell_type": "markdown",
      "metadata": {
        "id": "pl21Omv-0L-Q"
      },
      "source": [
        "There is no relation between churn and Surname, we are drop it.\n"
      ]
    },
    {
      "cell_type": "code",
      "metadata": {
        "id": "ToqfGgNdztv4"
      },
      "source": [
        "df_churn2 = df_churn.drop('Surname',axis= 1)"
      ],
      "execution_count": 11,
      "outputs": []
    },
    {
      "cell_type": "code",
      "metadata": {
        "id": "OH1zjrvFqmZM",
        "outputId": "0959489a-0154-49b6-8bcd-23ce318b5f74",
        "colab": {
          "base_uri": "https://localhost:8080/",
          "height": 224
        }
      },
      "source": [
        "df_churn2.head()"
      ],
      "execution_count": 119,
      "outputs": [
        {
          "output_type": "execute_result",
          "data": {
            "text/html": [
              "<div>\n",
              "<style scoped>\n",
              "    .dataframe tbody tr th:only-of-type {\n",
              "        vertical-align: middle;\n",
              "    }\n",
              "\n",
              "    .dataframe tbody tr th {\n",
              "        vertical-align: top;\n",
              "    }\n",
              "\n",
              "    .dataframe thead th {\n",
              "        text-align: right;\n",
              "    }\n",
              "</style>\n",
              "<table border=\"1\" class=\"dataframe\">\n",
              "  <thead>\n",
              "    <tr style=\"text-align: right;\">\n",
              "      <th></th>\n",
              "      <th>RowNumber</th>\n",
              "      <th>CustomerId</th>\n",
              "      <th>CreditScore</th>\n",
              "      <th>Geography</th>\n",
              "      <th>Gender</th>\n",
              "      <th>Age</th>\n",
              "      <th>Tenure</th>\n",
              "      <th>Balance</th>\n",
              "      <th>NumOfProducts</th>\n",
              "      <th>HasCrCard</th>\n",
              "      <th>IsActiveMember</th>\n",
              "      <th>EstimatedSalary</th>\n",
              "      <th>Exited</th>\n",
              "    </tr>\n",
              "  </thead>\n",
              "  <tbody>\n",
              "    <tr>\n",
              "      <th>0</th>\n",
              "      <td>1</td>\n",
              "      <td>15634602</td>\n",
              "      <td>619</td>\n",
              "      <td>0</td>\n",
              "      <td>0</td>\n",
              "      <td>42</td>\n",
              "      <td>2</td>\n",
              "      <td>0.00</td>\n",
              "      <td>1</td>\n",
              "      <td>1</td>\n",
              "      <td>1</td>\n",
              "      <td>101348.88</td>\n",
              "      <td>1</td>\n",
              "    </tr>\n",
              "    <tr>\n",
              "      <th>1</th>\n",
              "      <td>2</td>\n",
              "      <td>15647311</td>\n",
              "      <td>608</td>\n",
              "      <td>2</td>\n",
              "      <td>0</td>\n",
              "      <td>41</td>\n",
              "      <td>1</td>\n",
              "      <td>83807.86</td>\n",
              "      <td>1</td>\n",
              "      <td>0</td>\n",
              "      <td>1</td>\n",
              "      <td>112542.58</td>\n",
              "      <td>0</td>\n",
              "    </tr>\n",
              "    <tr>\n",
              "      <th>2</th>\n",
              "      <td>3</td>\n",
              "      <td>15619304</td>\n",
              "      <td>502</td>\n",
              "      <td>0</td>\n",
              "      <td>0</td>\n",
              "      <td>42</td>\n",
              "      <td>8</td>\n",
              "      <td>159660.80</td>\n",
              "      <td>3</td>\n",
              "      <td>1</td>\n",
              "      <td>0</td>\n",
              "      <td>113931.57</td>\n",
              "      <td>1</td>\n",
              "    </tr>\n",
              "    <tr>\n",
              "      <th>3</th>\n",
              "      <td>4</td>\n",
              "      <td>15701354</td>\n",
              "      <td>699</td>\n",
              "      <td>0</td>\n",
              "      <td>0</td>\n",
              "      <td>39</td>\n",
              "      <td>1</td>\n",
              "      <td>0.00</td>\n",
              "      <td>2</td>\n",
              "      <td>0</td>\n",
              "      <td>0</td>\n",
              "      <td>93826.63</td>\n",
              "      <td>0</td>\n",
              "    </tr>\n",
              "    <tr>\n",
              "      <th>4</th>\n",
              "      <td>5</td>\n",
              "      <td>15737888</td>\n",
              "      <td>850</td>\n",
              "      <td>2</td>\n",
              "      <td>0</td>\n",
              "      <td>43</td>\n",
              "      <td>2</td>\n",
              "      <td>125510.82</td>\n",
              "      <td>1</td>\n",
              "      <td>1</td>\n",
              "      <td>1</td>\n",
              "      <td>79084.10</td>\n",
              "      <td>0</td>\n",
              "    </tr>\n",
              "  </tbody>\n",
              "</table>\n",
              "</div>"
            ],
            "text/plain": [
              "   RowNumber  CustomerId  CreditScore  ...  IsActiveMember  EstimatedSalary  Exited\n",
              "0          1    15634602          619  ...               1        101348.88       1\n",
              "1          2    15647311          608  ...               1        112542.58       0\n",
              "2          3    15619304          502  ...               0        113931.57       1\n",
              "3          4    15701354          699  ...               0         93826.63       0\n",
              "4          5    15737888          850  ...               1         79084.10       0\n",
              "\n",
              "[5 rows x 13 columns]"
            ]
          },
          "metadata": {
            "tags": []
          },
          "execution_count": 119
        }
      ]
    },
    {
      "cell_type": "markdown",
      "metadata": {
        "id": "fF7rwRM82uds"
      },
      "source": [
        "## CreditScore  "
      ]
    },
    {
      "cell_type": "markdown",
      "metadata": {
        "id": "pqvnR6E_7p36"
      },
      "source": [
        "We have a good distribution of the data. A standard deviation of 96 and 75 percent of the data is between 584 and 718"
      ]
    },
    {
      "cell_type": "code",
      "metadata": {
        "id": "11uYogXW0Ili",
        "outputId": "63bd5698-04da-4840-eb4b-962209fbb527",
        "colab": {
          "base_uri": "https://localhost:8080/",
          "height": 0
        }
      },
      "source": [
        "df_churn2['CreditScore'].describe()"
      ],
      "execution_count": 13,
      "outputs": [
        {
          "output_type": "execute_result",
          "data": {
            "text/plain": [
              "count    10000.000000\n",
              "mean       650.528800\n",
              "std         96.653299\n",
              "min        350.000000\n",
              "25%        584.000000\n",
              "50%        652.000000\n",
              "75%        718.000000\n",
              "max        850.000000\n",
              "Name: CreditScore, dtype: float64"
            ]
          },
          "metadata": {
            "tags": []
          },
          "execution_count": 13
        }
      ]
    },
    {
      "cell_type": "markdown",
      "metadata": {
        "id": "3g1KoslC89NO"
      },
      "source": [
        "Here we can better visualize our distribution and our quartiles"
      ]
    },
    {
      "cell_type": "code",
      "metadata": {
        "id": "6FtfzG2g3EHB",
        "outputId": "487fe9a5-2161-47c7-bc67-08d5eaffdd9b",
        "colab": {
          "base_uri": "https://localhost:8080/",
          "height": 0
        }
      },
      "source": [
        "sns.boxplot(df_churn2['CreditScore'])"
      ],
      "execution_count": 14,
      "outputs": [
        {
          "output_type": "stream",
          "text": [
            "/usr/local/lib/python3.6/dist-packages/seaborn/_decorators.py:43: FutureWarning: Pass the following variable as a keyword arg: x. From version 0.12, the only valid positional argument will be `data`, and passing other arguments without an explicit keyword will result in an error or misinterpretation.\n",
            "  FutureWarning\n"
          ],
          "name": "stderr"
        },
        {
          "output_type": "execute_result",
          "data": {
            "text/plain": [
              "<matplotlib.axes._subplots.AxesSubplot at 0x7fcff78d85c0>"
            ]
          },
          "metadata": {
            "tags": []
          },
          "execution_count": 14
        },
        {
          "output_type": "display_data",
          "data": {
            "image/png": "[encoded data removed]",
            "text/plain": [
              "<Figure size 432x288 with 1 Axes>"
            ]
          },
          "metadata": {
            "tags": [],
            "needs_background": "light"
          }
        }
      ]
    },
    {
      "cell_type": "markdown",
      "metadata": {
        "id": "6F8N0wH_9IVh"
      },
      "source": [
        "We have a distribution very close to a normal curve."
      ]
    },
    {
      "cell_type": "code",
      "metadata": {
        "id": "oJawz98B3vO_",
        "outputId": "ebae712a-469a-4412-e794-94855c0fa914",
        "colab": {
          "base_uri": "https://localhost:8080/",
          "height": 0
        }
      },
      "source": [
        "sns.distplot(df_churn2['CreditScore'], bins= 15)"
      ],
      "execution_count": 15,
      "outputs": [
        {
          "output_type": "stream",
          "text": [
            "/usr/local/lib/python3.6/dist-packages/seaborn/distributions.py:2551: FutureWarning: `distplot` is a deprecated function and will be removed in a future version. Please adapt your code to use either `displot` (a figure-level function with similar flexibility) or `histplot` (an axes-level function for histograms).\n",
            "  warnings.warn(msg, FutureWarning)\n"
          ],
          "name": "stderr"
        },
        {
          "output_type": "execute_result",
          "data": {
            "text/plain": [
              "<matplotlib.axes._subplots.AxesSubplot at 0x7fcff7814d30>"
            ]
          },
          "metadata": {
            "tags": []
          },
          "execution_count": 15
        },
        {
          "output_type": "display_data",
          "data": {
            "image/png": "[encoded data removed]",
            "text/plain": [
              "<Figure size 432x288 with 1 Axes>"
            ]
          },
          "metadata": {
            "tags": [],
            "needs_background": "light"
          }
        }
      ]
    },
    {
      "cell_type": "markdown",
      "metadata": {
        "id": "wlFwq1aC93sD"
      },
      "source": [
        "## Geography   "
      ]
    },
    {
      "cell_type": "markdown",
      "metadata": {
        "id": "SocTxrdK_ZxB"
      },
      "source": [
        "We do not have misspelled words"
      ]
    },
    {
      "cell_type": "code",
      "metadata": {
        "id": "lj46KkbL7nnb",
        "outputId": "bc871779-6c96-4020-b8ac-2bea082195ea",
        "colab": {
          "base_uri": "https://localhost:8080/",
          "height": 0
        }
      },
      "source": [
        "df_churn2['Geography'].unique()"
      ],
      "execution_count": 16,
      "outputs": [
        {
          "output_type": "execute_result",
          "data": {
            "text/plain": [
              "array(['France', 'Spain', 'Germany'], dtype=object)"
            ]
          },
          "metadata": {
            "tags": []
          },
          "execution_count": 16
        }
      ]
    },
    {
      "cell_type": "markdown",
      "metadata": {
        "id": "BjkwNhOlAzme"
      },
      "source": [
        "## Gender "
      ]
    },
    {
      "cell_type": "markdown",
      "metadata": {
        "id": "KCI8j7MMC6lo"
      },
      "source": [
        "We do not have misspelled words"
      ]
    },
    {
      "cell_type": "code",
      "metadata": {
        "id": "t8o5K-7CA02P",
        "outputId": "c4903c4d-483e-4364-effb-64e5a9283d5d",
        "colab": {
          "base_uri": "https://localhost:8080/",
          "height": 0
        }
      },
      "source": [
        "df_churn2['Gender'].unique()"
      ],
      "execution_count": 17,
      "outputs": [
        {
          "output_type": "execute_result",
          "data": {
            "text/plain": [
              "array(['Female', 'Male'], dtype=object)"
            ]
          },
          "metadata": {
            "tags": []
          },
          "execution_count": 17
        }
      ]
    },
    {
      "cell_type": "code",
      "metadata": {
        "id": "t_6cMz8pC3Sl"
      },
      "source": [
        ""
      ],
      "execution_count": 17,
      "outputs": []
    },
    {
      "cell_type": "markdown",
      "metadata": {
        "id": "xgosH8ZiXzyl"
      },
      "source": [
        "## Age "
      ]
    },
    {
      "cell_type": "code",
      "metadata": {
        "id": "TLHCKjOgX2SW",
        "outputId": "b567d2da-0a96-47c4-ba52-867757b504a3",
        "colab": {
          "base_uri": "https://localhost:8080/",
          "height": 0
        }
      },
      "source": [
        "df_churn2['Age'].unique()"
      ],
      "execution_count": 18,
      "outputs": [
        {
          "output_type": "execute_result",
          "data": {
            "text/plain": [
              "array([42, 41, 39, 43, 44, 50, 29, 27, 31, 24, 34, 25, 35, 45, 58, 32, 38,\n",
              "       46, 36, 33, 40, 51, 61, 49, 37, 19, 66, 56, 26, 21, 55, 75, 22, 30,\n",
              "       28, 65, 48, 52, 57, 73, 47, 54, 72, 20, 67, 79, 62, 53, 80, 59, 68,\n",
              "       23, 60, 70, 63, 64, 18, 82, 69, 74, 71, 76, 77, 88, 85, 84, 78, 81,\n",
              "       92, 83])"
            ]
          },
          "metadata": {
            "tags": []
          },
          "execution_count": 18
        }
      ]
    },
    {
      "cell_type": "markdown",
      "metadata": {
        "id": "4t7iHuCYbZBH"
      },
      "source": [
        "We have a good distribution of the data. A standard deviation of 10 and 75 percent of the data is between 32 and 44 \n",
        "\n"
      ]
    },
    {
      "cell_type": "code",
      "metadata": {
        "id": "_hrtcfAPX6Ko",
        "outputId": "8831ca6d-2335-4e0b-e8f8-0fb8f4a65e8b",
        "colab": {
          "base_uri": "https://localhost:8080/",
          "height": 0
        }
      },
      "source": [
        "df_churn2['Age'].describe()"
      ],
      "execution_count": 19,
      "outputs": [
        {
          "output_type": "execute_result",
          "data": {
            "text/plain": [
              "count    10000.000000\n",
              "mean        38.921800\n",
              "std         10.487806\n",
              "min         18.000000\n",
              "25%         32.000000\n",
              "50%         37.000000\n",
              "75%         44.000000\n",
              "max         92.000000\n",
              "Name: Age, dtype: float64"
            ]
          },
          "metadata": {
            "tags": []
          },
          "execution_count": 19
        }
      ]
    },
    {
      "cell_type": "markdown",
      "metadata": {
        "id": "vNglWOO7c7Zt"
      },
      "source": [
        "We can see that we have data from 60 years old, which can be outliers in our distribution."
      ]
    },
    {
      "cell_type": "code",
      "metadata": {
        "id": "NAPysSeOYTLt",
        "outputId": "cf6182e8-3a0e-4ad0-a44e-56c15cc50be0",
        "colab": {
          "base_uri": "https://localhost:8080/",
          "height": 0
        }
      },
      "source": [
        "sns.boxplot(df_churn2['Age'])"
      ],
      "execution_count": 20,
      "outputs": [
        {
          "output_type": "stream",
          "text": [
            "/usr/local/lib/python3.6/dist-packages/seaborn/_decorators.py:43: FutureWarning: Pass the following variable as a keyword arg: x. From version 0.12, the only valid positional argument will be `data`, and passing other arguments without an explicit keyword will result in an error or misinterpretation.\n",
            "  FutureWarning\n"
          ],
          "name": "stderr"
        },
        {
          "output_type": "execute_result",
          "data": {
            "text/plain": [
              "<matplotlib.axes._subplots.AxesSubplot at 0x7fcff78203c8>"
            ]
          },
          "metadata": {
            "tags": []
          },
          "execution_count": 20
        },
        {
          "output_type": "display_data",
          "data": {
            "image/png": "[encoded data removed]",
            "text/plain": [
              "<Figure size 432x288 with 1 Axes>"
            ]
          },
          "metadata": {
            "tags": [],
            "needs_background": "light"
          }
        }
      ]
    },
    {
      "cell_type": "markdown",
      "metadata": {
        "id": "1yTkWUXldp_P"
      },
      "source": [
        "We can see that our distribution is approaching a normal distribution and that data from 60 is pulling the tail to the right"
      ]
    },
    {
      "cell_type": "code",
      "metadata": {
        "id": "-A8Da-qAczNA",
        "outputId": "6d30b6be-2687-40d3-889c-09d6c0ab1da6",
        "colab": {
          "base_uri": "https://localhost:8080/",
          "height": 0
        }
      },
      "source": [
        "sns.distplot(df_churn2['Age'], bins= 15)"
      ],
      "execution_count": 21,
      "outputs": [
        {
          "output_type": "stream",
          "text": [
            "/usr/local/lib/python3.6/dist-packages/seaborn/distributions.py:2551: FutureWarning: `distplot` is a deprecated function and will be removed in a future version. Please adapt your code to use either `displot` (a figure-level function with similar flexibility) or `histplot` (an axes-level function for histograms).\n",
            "  warnings.warn(msg, FutureWarning)\n"
          ],
          "name": "stderr"
        },
        {
          "output_type": "execute_result",
          "data": {
            "text/plain": [
              "<matplotlib.axes._subplots.AxesSubplot at 0x7fcff6019f98>"
            ]
          },
          "metadata": {
            "tags": []
          },
          "execution_count": 21
        },
        {
          "output_type": "display_data",
          "data": {
            "image/png": "[encoded data removed]",
            "text/plain": [
              "<Figure size 432x288 with 1 Axes>"
            ]
          },
          "metadata": {
            "tags": [],
            "needs_background": "light"
          }
        }
      ]
    },
    {
      "cell_type": "code",
      "metadata": {
        "id": "tNB3nLcsdaqw"
      },
      "source": [
        ""
      ],
      "execution_count": 21,
      "outputs": []
    },
    {
      "cell_type": "markdown",
      "metadata": {
        "id": "QK5WiI5AMxbG"
      },
      "source": [
        "## Tenure "
      ]
    },
    {
      "cell_type": "code",
      "metadata": {
        "id": "FxJIESFoMzO1",
        "outputId": "79a39097-f7cc-44d7-832a-ee7d0dd2c4ab",
        "colab": {
          "base_uri": "https://localhost:8080/",
          "height": 0
        }
      },
      "source": [
        "df_churn2['Tenure'].unique()"
      ],
      "execution_count": 22,
      "outputs": [
        {
          "output_type": "execute_result",
          "data": {
            "text/plain": [
              "array([ 2,  1,  8,  7,  4,  6,  3, 10,  5,  9,  0])"
            ]
          },
          "metadata": {
            "tags": []
          },
          "execution_count": 22
        }
      ]
    },
    {
      "cell_type": "markdown",
      "metadata": {
        "id": "DMZVwDvaNdgF"
      },
      "source": [
        "We do not have a problem with our data the standard deviation is low ,our data is distributed between 0 to 10 and the quartiles are ok."
      ]
    },
    {
      "cell_type": "code",
      "metadata": {
        "id": "H7Q3oR0EM4cz",
        "outputId": "9857d930-fed4-4c8f-e3db-b90b795e24b8",
        "colab": {
          "base_uri": "https://localhost:8080/",
          "height": 0
        }
      },
      "source": [
        "df_churn2['Tenure'].describe()"
      ],
      "execution_count": 23,
      "outputs": [
        {
          "output_type": "execute_result",
          "data": {
            "text/plain": [
              "count    10000.000000\n",
              "mean         5.012800\n",
              "std          2.892174\n",
              "min          0.000000\n",
              "25%          3.000000\n",
              "50%          5.000000\n",
              "75%          7.000000\n",
              "max         10.000000\n",
              "Name: Tenure, dtype: float64"
            ]
          },
          "metadata": {
            "tags": []
          },
          "execution_count": 23
        }
      ]
    },
    {
      "cell_type": "markdown",
      "metadata": {
        "id": "yW-t3sR6N9_7"
      },
      "source": [
        "We do not have outliers"
      ]
    },
    {
      "cell_type": "code",
      "metadata": {
        "id": "payLn_7ZM9vV",
        "outputId": "c777c819-3622-4572-c518-723ebc5569c7",
        "colab": {
          "base_uri": "https://localhost:8080/",
          "height": 0
        }
      },
      "source": [
        "sns.boxplot(df_churn2['Tenure'])"
      ],
      "execution_count": 24,
      "outputs": [
        {
          "output_type": "stream",
          "text": [
            "/usr/local/lib/python3.6/dist-packages/seaborn/_decorators.py:43: FutureWarning: Pass the following variable as a keyword arg: x. From version 0.12, the only valid positional argument will be `data`, and passing other arguments without an explicit keyword will result in an error or misinterpretation.\n",
            "  FutureWarning\n"
          ],
          "name": "stderr"
        },
        {
          "output_type": "execute_result",
          "data": {
            "text/plain": [
              "<matplotlib.axes._subplots.AxesSubplot at 0x7fcff5f2a0b8>"
            ]
          },
          "metadata": {
            "tags": []
          },
          "execution_count": 24
        },
        {
          "output_type": "display_data",
          "data": {
            "image/png": "[encoded data removed]",
            "text/plain": [
              "<Figure size 432x288 with 1 Axes>"
            ]
          },
          "metadata": {
            "tags": [],
            "needs_background": "light"
          }
        }
      ]
    },
    {
      "cell_type": "markdown",
      "metadata": {
        "id": "tDqBHl5WODXW"
      },
      "source": [
        "We do not have a normal distribution.\n"
      ]
    },
    {
      "cell_type": "code",
      "metadata": {
        "id": "NpHQiiw_NJoK",
        "outputId": "85136f22-475b-422e-8afc-ce8f12c9ce16",
        "colab": {
          "base_uri": "https://localhost:8080/",
          "height": 0
        }
      },
      "source": [
        "sns.distplot(df_churn2['Tenure'],bins=10)"
      ],
      "execution_count": 25,
      "outputs": [
        {
          "output_type": "stream",
          "text": [
            "/usr/local/lib/python3.6/dist-packages/seaborn/distributions.py:2551: FutureWarning: `distplot` is a deprecated function and will be removed in a future version. Please adapt your code to use either `displot` (a figure-level function with similar flexibility) or `histplot` (an axes-level function for histograms).\n",
            "  warnings.warn(msg, FutureWarning)\n"
          ],
          "name": "stderr"
        },
        {
          "output_type": "execute_result",
          "data": {
            "text/plain": [
              "<matplotlib.axes._subplots.AxesSubplot at 0x7fcff5fa70f0>"
            ]
          },
          "metadata": {
            "tags": []
          },
          "execution_count": 25
        },
        {
          "output_type": "display_data",
          "data": {
            "image/png": "[encoded data removed]",
            "text/plain": [
              "<Figure size 432x288 with 1 Axes>"
            ]
          },
          "metadata": {
            "tags": [],
            "needs_background": "light"
          }
        }
      ]
    },
    {
      "cell_type": "code",
      "metadata": {
        "id": "1alo2CUfNR8Q"
      },
      "source": [
        ""
      ],
      "execution_count": 25,
      "outputs": []
    },
    {
      "cell_type": "markdown",
      "metadata": {
        "id": "1O5JIAzSO29T"
      },
      "source": [
        "## Balance"
      ]
    },
    {
      "cell_type": "code",
      "metadata": {
        "id": "HAh9FjWZO6dk",
        "outputId": "e333c778-a30c-4827-b4df-e11283622e49",
        "colab": {
          "base_uri": "https://localhost:8080/",
          "height": 51
        }
      },
      "source": [
        "df_churn2['Balance'].unique()"
      ],
      "execution_count": 26,
      "outputs": [
        {
          "output_type": "execute_result",
          "data": {
            "text/plain": [
              "array([     0.  ,  83807.86, 159660.8 , ...,  57369.61,  75075.31,\n",
              "       130142.79])"
            ]
          },
          "metadata": {
            "tags": []
          },
          "execution_count": 26
        }
      ]
    },
    {
      "cell_type": "markdown",
      "metadata": {
        "id": "X585AV4kQNfL"
      },
      "source": [
        "We have customers with 0 on the account and 250898 max and most of the customers have between 0 to 127644\n"
      ]
    },
    {
      "cell_type": "code",
      "metadata": {
        "id": "Rb70iA94PBm2",
        "outputId": "9f0c8a2a-f590-4895-e323-b3379925f91b",
        "colab": {
          "base_uri": "https://localhost:8080/",
          "height": 170
        }
      },
      "source": [
        "df_churn2['Balance'].describe()"
      ],
      "execution_count": 27,
      "outputs": [
        {
          "output_type": "execute_result",
          "data": {
            "text/plain": [
              "count     10000.000000\n",
              "mean      76485.889288\n",
              "std       62397.405202\n",
              "min           0.000000\n",
              "25%           0.000000\n",
              "50%       97198.540000\n",
              "75%      127644.240000\n",
              "max      250898.090000\n",
              "Name: Balance, dtype: float64"
            ]
          },
          "metadata": {
            "tags": []
          },
          "execution_count": 27
        }
      ]
    },
    {
      "cell_type": "markdown",
      "metadata": {
        "id": "9IQp8xLSQ7jF"
      },
      "source": [
        "We do not have outliers"
      ]
    },
    {
      "cell_type": "code",
      "metadata": {
        "id": "TBklDnKEPbXv",
        "outputId": "66cb6f0a-e288-4b54-ea4d-598b704d5449",
        "colab": {
          "base_uri": "https://localhost:8080/",
          "height": 350
        }
      },
      "source": [
        "sns.boxplot(df_churn2['Balance'])"
      ],
      "execution_count": 28,
      "outputs": [
        {
          "output_type": "stream",
          "text": [
            "/usr/local/lib/python3.6/dist-packages/seaborn/_decorators.py:43: FutureWarning: Pass the following variable as a keyword arg: x. From version 0.12, the only valid positional argument will be `data`, and passing other arguments without an explicit keyword will result in an error or misinterpretation.\n",
            "  FutureWarning\n"
          ],
          "name": "stderr"
        },
        {
          "output_type": "execute_result",
          "data": {
            "text/plain": [
              "<matplotlib.axes._subplots.AxesSubplot at 0x7fcff5e8b320>"
            ]
          },
          "metadata": {
            "tags": []
          },
          "execution_count": 28
        },
        {
          "output_type": "display_data",
          "data": {
            "image/png": "[encoded data removed]",
            "text/plain": [
              "<Figure size 432x288 with 1 Axes>"
            ]
          },
          "metadata": {
            "tags": [],
            "needs_background": "light"
          }
        }
      ]
    },
    {
      "cell_type": "markdown",
      "metadata": {
        "id": "CJdbjlntT3Pk"
      },
      "source": [
        "We do not have a normal distribution , coustomers with 0 balance are skewing our data."
      ]
    },
    {
      "cell_type": "code",
      "metadata": {
        "id": "WR7F5nnsPsr7",
        "outputId": "6991bc08-36ae-45e9-8f23-3eb5e42de80a",
        "colab": {
          "base_uri": "https://localhost:8080/",
          "height": 361
        }
      },
      "source": [
        "sns.distplot(df_churn2['Balance'],bins=20)"
      ],
      "execution_count": 29,
      "outputs": [
        {
          "output_type": "stream",
          "text": [
            "/usr/local/lib/python3.6/dist-packages/seaborn/distributions.py:2551: FutureWarning: `distplot` is a deprecated function and will be removed in a future version. Please adapt your code to use either `displot` (a figure-level function with similar flexibility) or `histplot` (an axes-level function for histograms).\n",
            "  warnings.warn(msg, FutureWarning)\n"
          ],
          "name": "stderr"
        },
        {
          "output_type": "execute_result",
          "data": {
            "text/plain": [
              "<matplotlib.axes._subplots.AxesSubplot at 0x7fcff5e67cf8>"
            ]
          },
          "metadata": {
            "tags": []
          },
          "execution_count": 29
        },
        {
          "output_type": "display_data",
          "data": {
            "image/png": "[encoded data removed]",
            "text/plain": [
              "<Figure size 432x288 with 1 Axes>"
            ]
          },
          "metadata": {
            "tags": [],
            "needs_background": "light"
          }
        }
      ]
    },
    {
      "cell_type": "code",
      "metadata": {
        "id": "ttwlPYSBUfB2",
        "outputId": "e3934f95-1ea1-47ef-b83d-7b8f3ad71d8c",
        "colab": {
          "base_uri": "https://localhost:8080/",
          "height": 34
        }
      },
      "source": [
        "df_churn2['NumOfProducts'].unique()"
      ],
      "execution_count": 30,
      "outputs": [
        {
          "output_type": "execute_result",
          "data": {
            "text/plain": [
              "array([1, 3, 2, 4])"
            ]
          },
          "metadata": {
            "tags": []
          },
          "execution_count": 30
        }
      ]
    },
    {
      "cell_type": "markdown",
      "metadata": {
        "id": "KSMJzeqmcqu6"
      },
      "source": [
        "We have a good value of standard deviation of 0.58 showing our data is not too dispersed from the mean."
      ]
    },
    {
      "cell_type": "code",
      "metadata": {
        "id": "0WJZtTJOUfMO",
        "outputId": "281ed4b2-0080-406b-8197-e2843b18ff09",
        "colab": {
          "base_uri": "https://localhost:8080/",
          "height": 170
        }
      },
      "source": [
        "df_churn2['NumOfProducts'].describe()"
      ],
      "execution_count": 31,
      "outputs": [
        {
          "output_type": "execute_result",
          "data": {
            "text/plain": [
              "count    10000.000000\n",
              "mean         1.530200\n",
              "std          0.581654\n",
              "min          1.000000\n",
              "25%          1.000000\n",
              "50%          1.000000\n",
              "75%          2.000000\n",
              "max          4.000000\n",
              "Name: NumOfProducts, dtype: float64"
            ]
          },
          "metadata": {
            "tags": []
          },
          "execution_count": 31
        }
      ]
    },
    {
      "cell_type": "markdown",
      "metadata": {
        "id": "NMp-rIeDcel8"
      },
      "source": [
        "We have a value of 4 that might be a outlier"
      ]
    },
    {
      "cell_type": "code",
      "metadata": {
        "id": "oBrDXE8cUfQU",
        "outputId": "94549bc5-52a3-48ed-abad-e00799c4f562",
        "colab": {
          "base_uri": "https://localhost:8080/",
          "height": 350
        }
      },
      "source": [
        "sns.boxplot(df_churn2['NumOfProducts'])"
      ],
      "execution_count": 32,
      "outputs": [
        {
          "output_type": "stream",
          "text": [
            "/usr/local/lib/python3.6/dist-packages/seaborn/_decorators.py:43: FutureWarning: Pass the following variable as a keyword arg: x. From version 0.12, the only valid positional argument will be `data`, and passing other arguments without an explicit keyword will result in an error or misinterpretation.\n",
            "  FutureWarning\n"
          ],
          "name": "stderr"
        },
        {
          "output_type": "execute_result",
          "data": {
            "text/plain": [
              "<matplotlib.axes._subplots.AxesSubplot at 0x7fcff5db2c18>"
            ]
          },
          "metadata": {
            "tags": []
          },
          "execution_count": 32
        },
        {
          "output_type": "display_data",
          "data": {
            "image/png": "[encoded data removed]",
            "text/plain": [
              "<Figure size 432x288 with 1 Axes>"
            ]
          },
          "metadata": {
            "tags": [],
            "needs_background": "light"
          }
        }
      ]
    },
    {
      "cell_type": "code",
      "metadata": {
        "id": "ASBStoA9cVkj",
        "outputId": "7e97cb9b-e946-496a-89af-a2b8d68cd834",
        "colab": {
          "base_uri": "https://localhost:8080/",
          "height": 350
        }
      },
      "source": [
        "sns.distplot(df_churn2['NumOfProducts'], bins= 10)"
      ],
      "execution_count": 33,
      "outputs": [
        {
          "output_type": "stream",
          "text": [
            "/usr/local/lib/python3.6/dist-packages/seaborn/distributions.py:2551: FutureWarning: `distplot` is a deprecated function and will be removed in a future version. Please adapt your code to use either `displot` (a figure-level function with similar flexibility) or `histplot` (an axes-level function for histograms).\n",
            "  warnings.warn(msg, FutureWarning)\n"
          ],
          "name": "stderr"
        },
        {
          "output_type": "execute_result",
          "data": {
            "text/plain": [
              "<matplotlib.axes._subplots.AxesSubplot at 0x7fcff5cebfd0>"
            ]
          },
          "metadata": {
            "tags": []
          },
          "execution_count": 33
        },
        {
          "output_type": "display_data",
          "data": {
            "image/png": "[encoded data removed]",
            "text/plain": [
              "<Figure size 432x288 with 1 Axes>"
            ]
          },
          "metadata": {
            "tags": [],
            "needs_background": "light"
          }
        }
      ]
    },
    {
      "cell_type": "code",
      "metadata": {
        "id": "3y0SV2lMdR6d"
      },
      "source": [
        ""
      ],
      "execution_count": 33,
      "outputs": []
    },
    {
      "cell_type": "markdown",
      "metadata": {
        "id": "ZES_wIKkx0gQ"
      },
      "source": [
        "### HasCrCard  "
      ]
    },
    {
      "cell_type": "markdown",
      "metadata": {
        "id": "HWAAFkbARUfU"
      },
      "source": [
        "We only have 0 and 1 "
      ]
    },
    {
      "cell_type": "code",
      "metadata": {
        "id": "0mPI40Udx241",
        "outputId": "6a668ba8-a750-488b-9f4e-965f5ce2aa06",
        "colab": {
          "base_uri": "https://localhost:8080/",
          "height": 0
        }
      },
      "source": [
        "df_churn2['HasCrCard'].unique()"
      ],
      "execution_count": 34,
      "outputs": [
        {
          "output_type": "execute_result",
          "data": {
            "text/plain": [
              "array([1, 0])"
            ]
          },
          "metadata": {
            "tags": []
          },
          "execution_count": 34
        }
      ]
    },
    {
      "cell_type": "markdown",
      "metadata": {
        "id": "eGO3CfenLZC5"
      },
      "source": [
        "### EstimatedSalary "
      ]
    },
    {
      "cell_type": "markdown",
      "metadata": {
        "id": "-iVwYaYnQHku"
      },
      "source": [
        "Most of our data is 51000 and 149388 and our data is a bit dispersed std of 57510"
      ]
    },
    {
      "cell_type": "code",
      "metadata": {
        "id": "bpsH2sTaLbmE",
        "outputId": "ad8bdd63-174a-44c0-9d80-dcb840b6ba18",
        "colab": {
          "base_uri": "https://localhost:8080/",
          "height": 0
        }
      },
      "source": [
        "df_churn2['EstimatedSalary'].describe()"
      ],
      "execution_count": 35,
      "outputs": [
        {
          "output_type": "execute_result",
          "data": {
            "text/plain": [
              "count     10000.000000\n",
              "mean     100090.239881\n",
              "std       57510.492818\n",
              "min          11.580000\n",
              "25%       51002.110000\n",
              "50%      100193.915000\n",
              "75%      149388.247500\n",
              "max      199992.480000\n",
              "Name: EstimatedSalary, dtype: float64"
            ]
          },
          "metadata": {
            "tags": []
          },
          "execution_count": 35
        }
      ]
    },
    {
      "cell_type": "markdown",
      "metadata": {
        "id": "_67gmDh5QDHY"
      },
      "source": [
        "We do not have any outliers"
      ]
    },
    {
      "cell_type": "code",
      "metadata": {
        "id": "Eo3olZmwLhAw",
        "outputId": "c8161b07-a0f9-4a38-defa-a89007a7c41f",
        "colab": {
          "base_uri": "https://localhost:8080/",
          "height": 0
        }
      },
      "source": [
        "sns.boxplot(df_churn2['EstimatedSalary'])"
      ],
      "execution_count": 36,
      "outputs": [
        {
          "output_type": "stream",
          "text": [
            "/usr/local/lib/python3.6/dist-packages/seaborn/_decorators.py:43: FutureWarning: Pass the following variable as a keyword arg: x. From version 0.12, the only valid positional argument will be `data`, and passing other arguments without an explicit keyword will result in an error or misinterpretation.\n",
            "  FutureWarning\n"
          ],
          "name": "stderr"
        },
        {
          "output_type": "execute_result",
          "data": {
            "text/plain": [
              "<matplotlib.axes._subplots.AxesSubplot at 0x7fcff5c70978>"
            ]
          },
          "metadata": {
            "tags": []
          },
          "execution_count": 36
        },
        {
          "output_type": "display_data",
          "data": {
            "image/png": "[encoded data removed]",
            "text/plain": [
              "<Figure size 432x288 with 1 Axes>"
            ]
          },
          "metadata": {
            "tags": [],
            "needs_background": "light"
          }
        }
      ]
    },
    {
      "cell_type": "code",
      "metadata": {
        "id": "IsoAMFQMP1KS",
        "outputId": "6f8e834a-23b9-470f-bffb-652ea5f22b92",
        "colab": {
          "base_uri": "https://localhost:8080/",
          "height": 0
        }
      },
      "source": [
        "sns.distplot(df_churn2['EstimatedSalary'])"
      ],
      "execution_count": 37,
      "outputs": [
        {
          "output_type": "stream",
          "text": [
            "/usr/local/lib/python3.6/dist-packages/seaborn/distributions.py:2551: FutureWarning: `distplot` is a deprecated function and will be removed in a future version. Please adapt your code to use either `displot` (a figure-level function with similar flexibility) or `histplot` (an axes-level function for histograms).\n",
            "  warnings.warn(msg, FutureWarning)\n"
          ],
          "name": "stderr"
        },
        {
          "output_type": "execute_result",
          "data": {
            "text/plain": [
              "<matplotlib.axes._subplots.AxesSubplot at 0x7fcff5c45c18>"
            ]
          },
          "metadata": {
            "tags": []
          },
          "execution_count": 37
        },
        {
          "output_type": "display_data",
          "data": {
            "image/png": "[encoded data removed]",
            "text/plain": [
              "<Figure size 432x288 with 1 Axes>"
            ]
          },
          "metadata": {
            "tags": [],
            "needs_background": "light"
          }
        }
      ]
    },
    {
      "cell_type": "code",
      "metadata": {
        "id": "QaFbxLucRIbE"
      },
      "source": [
        ""
      ],
      "execution_count": 37,
      "outputs": []
    },
    {
      "cell_type": "markdown",
      "metadata": {
        "id": "oNGvf9o5RfdQ"
      },
      "source": [
        "### Exited  "
      ]
    },
    {
      "cell_type": "code",
      "metadata": {
        "id": "fniGtaKNRhTu",
        "outputId": "275fa8ab-596c-4836-f493-df8e04226543",
        "colab": {
          "base_uri": "https://localhost:8080/",
          "height": 34
        }
      },
      "source": [
        "df_churn2['Exited'].unique()"
      ],
      "execution_count": 38,
      "outputs": [
        {
          "output_type": "execute_result",
          "data": {
            "text/plain": [
              "array([1, 0])"
            ]
          },
          "metadata": {
            "tags": []
          },
          "execution_count": 38
        }
      ]
    },
    {
      "cell_type": "code",
      "metadata": {
        "id": "KJy2EatPRleo"
      },
      "source": [
        ""
      ],
      "execution_count": 38,
      "outputs": []
    },
    {
      "cell_type": "markdown",
      "metadata": {
        "id": "e4ilgtbZMh46"
      },
      "source": [
        "# Exploratory Data Analysis"
      ]
    },
    {
      "cell_type": "markdown",
      "metadata": {
        "id": "rPIZYDZbRQrU"
      },
      "source": [
        "## checking the classes"
      ]
    },
    {
      "cell_type": "code",
      "metadata": {
        "id": "_7RnVRerMm9u",
        "outputId": "b9c093e4-c9b2-4926-cd22-d892ac94f365",
        "colab": {
          "base_uri": "https://localhost:8080/",
          "height": 68
        }
      },
      "source": [
        "exited = df_churn2['Exited'].value_counts() # 1 - leave\n",
        "                                            # 0 - stay\n",
        "exited"
      ],
      "execution_count": 39,
      "outputs": [
        {
          "output_type": "execute_result",
          "data": {
            "text/plain": [
              "0    7963\n",
              "1    2037\n",
              "Name: Exited, dtype: int64"
            ]
          },
          "metadata": {
            "tags": []
          },
          "execution_count": 39
        }
      ]
    },
    {
      "cell_type": "markdown",
      "metadata": {
        "id": "gNM3ySM6QlzN"
      },
      "source": [
        "Almost 80 % of the customers did not close account "
      ]
    },
    {
      "cell_type": "code",
      "metadata": {
        "id": "76zXuKbzNLv5",
        "outputId": "9c9296cf-7028-4e7d-e8b0-b72a4bfa19b6",
        "colab": {
          "base_uri": "https://localhost:8080/",
          "height": 34
        }
      },
      "source": [
        "stay = (exited[0] / len(df_churn2))*100\n",
        "\n",
        "stay\n",
        "\n"
      ],
      "execution_count": 40,
      "outputs": [
        {
          "output_type": "execute_result",
          "data": {
            "text/plain": [
              "79.63"
            ]
          },
          "metadata": {
            "tags": []
          },
          "execution_count": 40
        }
      ]
    },
    {
      "cell_type": "markdown",
      "metadata": {
        "id": "Bz25z2SLQ1iA"
      },
      "source": [
        "*We* have  inbalanced classes on our data set "
      ]
    },
    {
      "cell_type": "code",
      "metadata": {
        "id": "Y36JpXkiOEr6",
        "outputId": "9c2b8e9d-397e-4834-ff22-aa85c2033c6e",
        "colab": {
          "base_uri": "https://localhost:8080/",
          "height": 34
        }
      },
      "source": [
        "leave = (exited[1] / len(df_churn2))*100\n",
        "\n",
        "leave"
      ],
      "execution_count": 41,
      "outputs": [
        {
          "output_type": "execute_result",
          "data": {
            "text/plain": [
              "20.369999999999997"
            ]
          },
          "metadata": {
            "tags": []
          },
          "execution_count": 41
        }
      ]
    },
    {
      "cell_type": "markdown",
      "metadata": {
        "id": "G-I_DBq3RecI"
      },
      "source": [
        "## Checking the Hypotheses"
      ]
    },
    {
      "cell_type": "markdown",
      "metadata": {
        "id": "OsC0D-_TRvFe"
      },
      "source": [
        "Customers with lower scores tend to leave the bank.\n",
        "\n",
        "The country is decisive for the client to leave the bank\n",
        "\n",
        "There are more men than women who leave the bank.\n",
        "\n",
        "Younger customer has a tendency to leave the bank\n",
        "\n",
        "Customers with up to 2 years as a customer usually leave the bank.\n",
        "\n",
        "Customers who do not have a credit card tend to leave the bank."
      ]
    },
    {
      "cell_type": "markdown",
      "metadata": {
        "id": "WXQ-SvEGSKmW"
      },
      "source": [
        "### Customers with lower scores tend to leave the bank."
      ]
    },
    {
      "cell_type": "markdown",
      "metadata": {
        "id": "j__B5pXlwSSh"
      },
      "source": [
        "Let's create a new dataframe with CredtScore less than 500 because this is our parameter to low score."
      ]
    },
    {
      "cell_type": "code",
      "metadata": {
        "id": "29pQwtAaYGj8",
        "outputId": "a23a6bfc-5a5f-4c43-8a9f-52806266e725",
        "colab": {
          "base_uri": "https://localhost:8080/",
          "height": 0
        }
      },
      "source": [
        "less_than = df_churn2.query('CreditScore <=500')\n",
        "\n",
        "len(less_than)"
      ],
      "execution_count": 42,
      "outputs": [
        {
          "output_type": "execute_result",
          "data": {
            "text/plain": [
              "643"
            ]
          },
          "metadata": {
            "tags": []
          },
          "execution_count": 42
        }
      ]
    },
    {
      "cell_type": "markdown",
      "metadata": {
        "id": "x51qgfddwskJ"
      },
      "source": [
        "Now we can see that 152 customers left the bank"
      ]
    },
    {
      "cell_type": "code",
      "metadata": {
        "id": "U-HB2iaQZz5b",
        "outputId": "042ad33b-2754-4137-844b-9db71238309d",
        "colab": {
          "base_uri": "https://localhost:8080/",
          "height": 0
        }
      },
      "source": [
        "count = less_than['Exited'].value_counts()\n",
        "\n",
        "count"
      ],
      "execution_count": 43,
      "outputs": [
        {
          "output_type": "execute_result",
          "data": {
            "text/plain": [
              "0    491\n",
              "1    152\n",
              "Name: Exited, dtype: int64"
            ]
          },
          "metadata": {
            "tags": []
          },
          "execution_count": 43
        }
      ]
    },
    {
      "cell_type": "markdown",
      "metadata": {
        "id": "RT_4bYc2yDxm"
      },
      "source": [
        "  24 %  of the customers with low Score left the bank"
      ]
    },
    {
      "cell_type": "code",
      "metadata": {
        "id": "UmIJV9KJcJJI",
        "outputId": "26cbf9b7-9d2c-4bce-e344-63b77eca365f",
        "colab": {
          "base_uri": "https://localhost:8080/",
          "height": 0
        }
      },
      "source": [
        "porc_leave = (count[1] / len(less_than))*100\n",
        "\n",
        "print(round(porc_leave),'%')"
      ],
      "execution_count": 44,
      "outputs": [
        {
          "output_type": "stream",
          "text": [
            "24.0 %\n"
          ],
          "name": "stdout"
        }
      ]
    },
    {
      "cell_type": "markdown",
      "metadata": {
        "id": "bO54Y7WHyPb2"
      },
      "source": [
        "we can visualize the difference of customers who left and who did not leave"
      ]
    },
    {
      "cell_type": "code",
      "metadata": {
        "id": "by_UgtstYu7Q",
        "outputId": "8c4cb9df-b58b-4221-a159-32bb1e4bf710",
        "colab": {
          "base_uri": "https://localhost:8080/",
          "height": 0
        }
      },
      "source": [
        "sns.barplot(y= 'CreditScore', x= 'Exited', data= less_than,estimator=np.sum)"
      ],
      "execution_count": 45,
      "outputs": [
        {
          "output_type": "execute_result",
          "data": {
            "text/plain": [
              "<matplotlib.axes._subplots.AxesSubplot at 0x7fcff5b79668>"
            ]
          },
          "metadata": {
            "tags": []
          },
          "execution_count": 45
        },
        {
          "output_type": "display_data",
          "data": {
            "image/png": "[encoded data removed]",
            "text/plain": [
              "<Figure size 432x288 with 1 Axes>"
            ]
          },
          "metadata": {
            "tags": [],
            "needs_background": "light"
          }
        }
      ]
    },
    {
      "cell_type": "markdown",
      "metadata": {
        "id": "hvorCPlcz2EJ"
      },
      "source": [
        "We are going to create a new dataframe with customers with more than 500 score"
      ]
    },
    {
      "cell_type": "code",
      "metadata": {
        "id": "JpBm0EhmXGTj",
        "outputId": "bbb20a98-1b45-44aa-9b77-631e72fb3853",
        "colab": {
          "base_uri": "https://localhost:8080/",
          "height": 0
        }
      },
      "source": [
        "more_than = df_churn2.query('CreditScore >500')\n",
        "\n",
        "len(more_than)"
      ],
      "execution_count": 46,
      "outputs": [
        {
          "output_type": "execute_result",
          "data": {
            "text/plain": [
              "9357"
            ]
          },
          "metadata": {
            "tags": []
          },
          "execution_count": 46
        }
      ]
    },
    {
      "cell_type": "markdown",
      "metadata": {
        "id": "8htTc_j40iIF"
      },
      "source": [
        "We have 1885 customers with more than 500 score who left the bank "
      ]
    },
    {
      "cell_type": "code",
      "metadata": {
        "id": "ong3-0ugYchQ",
        "outputId": "59505e78-3b79-405f-acef-d58dc8bb59bd",
        "colab": {
          "base_uri": "https://localhost:8080/",
          "height": 0
        }
      },
      "source": [
        "counts =more_than['Exited'].value_counts()\n",
        "\n",
        "counts"
      ],
      "execution_count": 47,
      "outputs": [
        {
          "output_type": "execute_result",
          "data": {
            "text/plain": [
              "0    7472\n",
              "1    1885\n",
              "Name: Exited, dtype: int64"
            ]
          },
          "metadata": {
            "tags": []
          },
          "execution_count": 47
        }
      ]
    },
    {
      "cell_type": "markdown",
      "metadata": {
        "id": "GwTGqVdd07_9"
      },
      "source": [
        "20 % of the customers left the bank"
      ]
    },
    {
      "cell_type": "code",
      "metadata": {
        "id": "kCIs3IKIb5Kd",
        "outputId": "9e132a4f-bd0d-4e2e-9437-51241c04a13c",
        "colab": {
          "base_uri": "https://localhost:8080/",
          "height": 0
        }
      },
      "source": [
        "porc_leave_more = (counts[1] / len(more_than))*100\n",
        "\n",
        "print(round(porc_leave_more) ,'%')"
      ],
      "execution_count": 48,
      "outputs": [
        {
          "output_type": "stream",
          "text": [
            "20.0 %\n"
          ],
          "name": "stdout"
        }
      ]
    },
    {
      "cell_type": "markdown",
      "metadata": {
        "id": "CNgB5UYh1EQs"
      },
      "source": [
        "we can visualize the difference of customers who left and who did not leave"
      ]
    },
    {
      "cell_type": "code",
      "metadata": {
        "id": "ihRaH78idqkO",
        "outputId": "4951657a-087f-4897-8a6c-fab0a5fb0c04",
        "colab": {
          "base_uri": "https://localhost:8080/",
          "height": 0
        }
      },
      "source": [
        "sns.barplot(y= 'CreditScore', x= 'Exited', data= more_than,estimator=np.sum)"
      ],
      "execution_count": 49,
      "outputs": [
        {
          "output_type": "execute_result",
          "data": {
            "text/plain": [
              "<matplotlib.axes._subplots.AxesSubplot at 0x7fcff5b555c0>"
            ]
          },
          "metadata": {
            "tags": []
          },
          "execution_count": 49
        },
        {
          "output_type": "display_data",
          "data": {
            "image/png": "[encoded data removed]",
            "text/plain": [
              "<Figure size 432x288 with 1 Axes>"
            ]
          },
          "metadata": {
            "tags": [],
            "needs_background": "light"
          }
        }
      ]
    },
    {
      "cell_type": "code",
      "metadata": {
        "id": "BGpPh3IAgND3"
      },
      "source": [
        ""
      ],
      "execution_count": 49,
      "outputs": []
    },
    {
      "cell_type": "markdown",
      "metadata": {
        "id": "Dxd8ds1fg0NE"
      },
      "source": [
        "###The country is decisive for the client to leave the bank"
      ]
    },
    {
      "cell_type": "markdown",
      "metadata": {
        "id": "aPLpjlQm1VQc"
      },
      "source": [
        "France and Germany has almost the same amount of customers who left the bank , only Spain has half of the value."
      ]
    },
    {
      "cell_type": "code",
      "metadata": {
        "id": "vkeg0ImOg22a",
        "outputId": "dd6947e6-c386-4095-cf92-8e4e13b91d45",
        "colab": {
          "base_uri": "https://localhost:8080/",
          "height": 0
        }
      },
      "source": [
        "country_leave = df_churn2.groupby('Geography')['Exited'].sum()\n",
        "\n",
        "country_leave"
      ],
      "execution_count": 50,
      "outputs": [
        {
          "output_type": "execute_result",
          "data": {
            "text/plain": [
              "Geography\n",
              "France     810\n",
              "Germany    814\n",
              "Spain      413\n",
              "Name: Exited, dtype: int64"
            ]
          },
          "metadata": {
            "tags": []
          },
          "execution_count": 50
        }
      ]
    },
    {
      "cell_type": "markdown",
      "metadata": {
        "id": "vLCeUKpRbph4"
      },
      "source": [
        "Total customers from france who left the bank"
      ]
    },
    {
      "cell_type": "code",
      "metadata": {
        "id": "MBXqWYePW36i",
        "outputId": "c12e4a25-e122-4ec0-e05f-6616dcdef40d",
        "colab": {
          "base_uri": "https://localhost:8080/",
          "height": 0
        }
      },
      "source": [
        "total_france = df_churn2.query('Geography == \"France\"')\n",
        "\n",
        "len(total_france)"
      ],
      "execution_count": 51,
      "outputs": [
        {
          "output_type": "execute_result",
          "data": {
            "text/plain": [
              "5014"
            ]
          },
          "metadata": {
            "tags": []
          },
          "execution_count": 51
        }
      ]
    },
    {
      "cell_type": "markdown",
      "metadata": {
        "id": "aRO8PJ04b3dj"
      },
      "source": [
        "16 % of customers from France left the bank"
      ]
    },
    {
      "cell_type": "code",
      "metadata": {
        "id": "0Z6e08nBWSN1",
        "outputId": "8f51d4d9-cf67-4ef1-f6bf-4a7f985a10ff",
        "colab": {
          "base_uri": "https://localhost:8080/",
          "height": 0
        }
      },
      "source": [
        "porcent_france_leave = round(((country_leave[0]) / len(total_france))*100)\n",
        "\n",
        "porcent_france_leave"
      ],
      "execution_count": 52,
      "outputs": [
        {
          "output_type": "execute_result",
          "data": {
            "text/plain": [
              "16.0"
            ]
          },
          "metadata": {
            "tags": []
          },
          "execution_count": 52
        }
      ]
    },
    {
      "cell_type": "markdown",
      "metadata": {
        "id": "GdwTlMVu_vDO"
      },
      "source": [
        "Total customers from Germany who left the bank"
      ]
    },
    {
      "cell_type": "code",
      "metadata": {
        "id": "bqgWsLZicJwk",
        "outputId": "973be45a-5ff9-42cc-9896-4f971cfe30ef",
        "colab": {
          "base_uri": "https://localhost:8080/",
          "height": 0
        }
      },
      "source": [
        "total_germany = df_churn2.query('Geography == \"Germany\"')\n",
        "\n",
        "len(total_germany)"
      ],
      "execution_count": 53,
      "outputs": [
        {
          "output_type": "execute_result",
          "data": {
            "text/plain": [
              "2509"
            ]
          },
          "metadata": {
            "tags": []
          },
          "execution_count": 53
        }
      ]
    },
    {
      "cell_type": "markdown",
      "metadata": {
        "id": "mfDaQJaS_FBf"
      },
      "source": [
        "32 % of customers from Germany left the bank"
      ]
    },
    {
      "cell_type": "code",
      "metadata": {
        "id": "Uwq-_gRTcJ2s",
        "outputId": "16dede1b-774f-4d70-ac30-06ae0a268f55",
        "colab": {
          "base_uri": "https://localhost:8080/",
          "height": 0
        }
      },
      "source": [
        "porcent_germany_leave = round (((country_leave[1]) / len(total_germany))*100)\n",
        "\n",
        "porcent_germany_leave"
      ],
      "execution_count": 54,
      "outputs": [
        {
          "output_type": "execute_result",
          "data": {
            "text/plain": [
              "32.0"
            ]
          },
          "metadata": {
            "tags": []
          },
          "execution_count": 54
        }
      ]
    },
    {
      "cell_type": "markdown",
      "metadata": {
        "id": "kASr_fNh_3e4"
      },
      "source": [
        "Total customers from Spain who left the bank"
      ]
    },
    {
      "cell_type": "code",
      "metadata": {
        "id": "JH1XQn5H9lHm",
        "outputId": "cbe8113d-e92a-4334-fb8e-e508855d8c55",
        "colab": {
          "base_uri": "https://localhost:8080/",
          "height": 0
        }
      },
      "source": [
        "total_spain = df_churn2.query('Geography == \"Spain\"')\n",
        "\n",
        "len(total_spain)"
      ],
      "execution_count": 55,
      "outputs": [
        {
          "output_type": "execute_result",
          "data": {
            "text/plain": [
              "2477"
            ]
          },
          "metadata": {
            "tags": []
          },
          "execution_count": 55
        }
      ]
    },
    {
      "cell_type": "markdown",
      "metadata": {
        "id": "ZBAN285Q_7r1"
      },
      "source": [
        "17 % of customers from Spain left the bank"
      ]
    },
    {
      "cell_type": "code",
      "metadata": {
        "id": "HbNaX4ML9n1S",
        "outputId": "91aed0a1-4a09-4f4d-a5cc-86b49489f0f9",
        "colab": {
          "base_uri": "https://localhost:8080/",
          "height": 0
        }
      },
      "source": [
        "porcent_spain_leave = round(((country_leave[2]) / len(total_spain))*100)\n",
        "\n",
        "porcent_spain_leave"
      ],
      "execution_count": 56,
      "outputs": [
        {
          "output_type": "execute_result",
          "data": {
            "text/plain": [
              "17.0"
            ]
          },
          "metadata": {
            "tags": []
          },
          "execution_count": 56
        }
      ]
    },
    {
      "cell_type": "markdown",
      "metadata": {
        "id": "QJBt48DFNC-9"
      },
      "source": [
        "Here we can visualize the difference between the three cities "
      ]
    },
    {
      "cell_type": "code",
      "metadata": {
        "id": "rintV35RibLg",
        "outputId": "1fdb9733-e8a7-4510-b50f-afe070e233a8",
        "colab": {
          "base_uri": "https://localhost:8080/",
          "height": 0
        }
      },
      "source": [
        "sns.barplot(x= 'Geography',y= 'Exited',data= df_churn2,estimator= np.sum)"
      ],
      "execution_count": 57,
      "outputs": [
        {
          "output_type": "execute_result",
          "data": {
            "text/plain": [
              "<matplotlib.axes._subplots.AxesSubplot at 0x7fcff5ac67b8>"
            ]
          },
          "metadata": {
            "tags": []
          },
          "execution_count": 57
        },
        {
          "output_type": "display_data",
          "data": {
            "image/png": "[encoded data removed]",
            "text/plain": [
              "<Figure size 432x288 with 1 Axes>"
            ]
          },
          "metadata": {
            "tags": [],
            "needs_background": "light"
          }
        }
      ]
    },
    {
      "cell_type": "code",
      "metadata": {
        "id": "_b7qVD3Mj39J"
      },
      "source": [
        ""
      ],
      "execution_count": 57,
      "outputs": []
    },
    {
      "cell_type": "markdown",
      "metadata": {
        "id": "Qizc8_Fqn2fk"
      },
      "source": [
        "### There are more men than women who leave the bank"
      ]
    },
    {
      "cell_type": "markdown",
      "metadata": {
        "id": "ZDuXz5TfNYtJ"
      },
      "source": [
        "We have 1139 women and 898 men who left the bank"
      ]
    },
    {
      "cell_type": "code",
      "metadata": {
        "id": "M5R6RtEnn57h",
        "outputId": "c7f39250-0265-4698-f801-3057fe8567f3",
        "colab": {
          "base_uri": "https://localhost:8080/",
          "height": 0
        }
      },
      "source": [
        "gender_leave = df_churn2.groupby('Gender')['Exited'].sum()\n",
        "\n",
        "gender_leave"
      ],
      "execution_count": 58,
      "outputs": [
        {
          "output_type": "execute_result",
          "data": {
            "text/plain": [
              "Gender\n",
              "Female    1139\n",
              "Male       898\n",
              "Name: Exited, dtype: int64"
            ]
          },
          "metadata": {
            "tags": []
          },
          "execution_count": 58
        }
      ]
    },
    {
      "cell_type": "markdown",
      "metadata": {
        "id": "9IEz3XxrIoI0"
      },
      "source": [
        "Total of men"
      ]
    },
    {
      "cell_type": "code",
      "metadata": {
        "id": "nF0TJmTcFdCc",
        "outputId": "d17b9dc7-2449-4828-b5dc-9c55caec8c88",
        "colab": {
          "base_uri": "https://localhost:8080/",
          "height": 0
        }
      },
      "source": [
        "male = df_churn2.query('Gender == \"Male\"')\n",
        "\n",
        "male.shape"
      ],
      "execution_count": 59,
      "outputs": [
        {
          "output_type": "execute_result",
          "data": {
            "text/plain": [
              "(5457, 13)"
            ]
          },
          "metadata": {
            "tags": []
          },
          "execution_count": 59
        }
      ]
    },
    {
      "cell_type": "markdown",
      "metadata": {
        "id": "slwNR6BAIsPp"
      },
      "source": [
        "We have 16 % of men who left the bank"
      ]
    },
    {
      "cell_type": "code",
      "metadata": {
        "id": "bvbIk0DDFdHi",
        "outputId": "77cf5771-7ad2-466b-ee0c-1989954e9b70",
        "colab": {
          "base_uri": "https://localhost:8080/",
          "height": 0
        }
      },
      "source": [
        "porce_male_leave = round((gender_leave[1] / len(male))*100)\n",
        "\n",
        "porce_male_leave"
      ],
      "execution_count": 60,
      "outputs": [
        {
          "output_type": "execute_result",
          "data": {
            "text/plain": [
              "16.0"
            ]
          },
          "metadata": {
            "tags": []
          },
          "execution_count": 60
        }
      ]
    },
    {
      "cell_type": "markdown",
      "metadata": {
        "id": "F-dt8pwbI040"
      },
      "source": [
        "Total of women who left the bank"
      ]
    },
    {
      "cell_type": "code",
      "metadata": {
        "id": "NmSfpudGG2oF",
        "outputId": "aa5db17b-d50f-4903-c082-fe32be3e271b",
        "colab": {
          "base_uri": "https://localhost:8080/",
          "height": 0
        }
      },
      "source": [
        "female = df_churn2.query('Gender == \"Female\"')\n",
        "\n",
        "female.shape"
      ],
      "execution_count": 61,
      "outputs": [
        {
          "output_type": "execute_result",
          "data": {
            "text/plain": [
              "(4543, 13)"
            ]
          },
          "metadata": {
            "tags": []
          },
          "execution_count": 61
        }
      ]
    },
    {
      "cell_type": "markdown",
      "metadata": {
        "id": "Dji80ihgI8i1"
      },
      "source": [
        "We have 20 % of women who left the bank "
      ]
    },
    {
      "cell_type": "code",
      "metadata": {
        "id": "_AieDW2tG2ka",
        "outputId": "01f5c0b0-a397-4934-a737-1d5b1d4cc443",
        "colab": {
          "base_uri": "https://localhost:8080/",
          "height": 0
        }
      },
      "source": [
        "porce_female_leave = round((gender_leave[1] / len(female))*100)\n",
        "\n",
        "porce_female_leave"
      ],
      "execution_count": 62,
      "outputs": [
        {
          "output_type": "execute_result",
          "data": {
            "text/plain": [
              "20.0"
            ]
          },
          "metadata": {
            "tags": []
          },
          "execution_count": 62
        }
      ]
    },
    {
      "cell_type": "markdown",
      "metadata": {
        "id": "vpB_YpuxNoGR"
      },
      "source": [
        "Here we can visualize the difference between the two classes "
      ]
    },
    {
      "cell_type": "code",
      "metadata": {
        "id": "eoX6kPNboSGO",
        "outputId": "b468d6e2-e8b9-49a4-d989-4cc69211d3a2",
        "colab": {
          "base_uri": "https://localhost:8080/",
          "height": 0
        }
      },
      "source": [
        "sns.barplot(x= 'Gender', y= 'Exited', data= df_churn2,ci= None ,estimator= np.sum)"
      ],
      "execution_count": 63,
      "outputs": [
        {
          "output_type": "execute_result",
          "data": {
            "text/plain": [
              "<matplotlib.axes._subplots.AxesSubplot at 0x7fcff5a2cb00>"
            ]
          },
          "metadata": {
            "tags": []
          },
          "execution_count": 63
        },
        {
          "output_type": "display_data",
          "data": {
            "image/png": "[encoded data removed]",
            "text/plain": [
              "<Figure size 432x288 with 1 Axes>"
            ]
          },
          "metadata": {
            "tags": [],
            "needs_background": "light"
          }
        }
      ]
    },
    {
      "cell_type": "code",
      "metadata": {
        "id": "5mY952y-oo_J"
      },
      "source": [
        ""
      ],
      "execution_count": 63,
      "outputs": []
    },
    {
      "cell_type": "markdown",
      "metadata": {
        "id": "9K_u9jQPpSjP"
      },
      "source": [
        "### Younger customer has a tendency to leave the bank"
      ]
    },
    {
      "cell_type": "markdown",
      "metadata": {
        "id": "X2gn7DkCguGe"
      },
      "source": [
        "#### Until 20 years old"
      ]
    },
    {
      "cell_type": "markdown",
      "metadata": {
        "id": "pBp-J0DzN34Y"
      },
      "source": [
        "In order to complete this analysis I am going to split our data set into different classes every 20 years , in the first class we have 89 customers"
      ]
    },
    {
      "cell_type": "code",
      "metadata": {
        "id": "o0n339n_pNn9",
        "outputId": "8f3d22b3-04e7-4856-cedd-f84142d4422e",
        "colab": {
          "base_uri": "https://localhost:8080/",
          "height": 0
        }
      },
      "source": [
        "Age_btw_20 = df_churn2.query('Age <= 20')\n",
        "\n",
        "len(Age_btw_20)"
      ],
      "execution_count": 64,
      "outputs": [
        {
          "output_type": "execute_result",
          "data": {
            "text/plain": [
              "89"
            ]
          },
          "metadata": {
            "tags": []
          },
          "execution_count": 64
        }
      ]
    },
    {
      "cell_type": "markdown",
      "metadata": {
        "id": "Z62JWC5ONIwI"
      },
      "source": [
        "We have 5 customers who left the bank and 84 who did not"
      ]
    },
    {
      "cell_type": "code",
      "metadata": {
        "id": "6ESbIT6QLZKT",
        "outputId": "1129e017-9ee5-47c1-a5ae-efb96ae3743f",
        "colab": {
          "base_uri": "https://localhost:8080/",
          "height": 0
        }
      },
      "source": [
        "count_20 = Age_btw_20['Exited'].value_counts()\n",
        "\n",
        "count_20"
      ],
      "execution_count": 65,
      "outputs": [
        {
          "output_type": "execute_result",
          "data": {
            "text/plain": [
              "0    84\n",
              "1     5\n",
              "Name: Exited, dtype: int64"
            ]
          },
          "metadata": {
            "tags": []
          },
          "execution_count": 65
        }
      ]
    },
    {
      "cell_type": "markdown",
      "metadata": {
        "id": "1v_EMOhvOluj"
      },
      "source": [
        "We can see that only 5  20-year-old customers left the bank and the quantity for age"
      ]
    },
    {
      "cell_type": "code",
      "metadata": {
        "id": "LhMNGDeHsSjb",
        "outputId": "27fbd6dd-d5ef-4ce7-c7dc-d84ce96c9957",
        "colab": {
          "base_uri": "https://localhost:8080/",
          "height": 0
        }
      },
      "source": [
        "btw_20 = Age_btw_20.groupby('Age')['Exited'].sum().head(10)\n",
        "\n",
        "btw_20"
      ],
      "execution_count": 66,
      "outputs": [
        {
          "output_type": "execute_result",
          "data": {
            "text/plain": [
              "Age\n",
              "18    2\n",
              "19    1\n",
              "20    2\n",
              "Name: Exited, dtype: int64"
            ]
          },
          "metadata": {
            "tags": []
          },
          "execution_count": 66
        }
      ]
    },
    {
      "cell_type": "markdown",
      "metadata": {
        "id": "PPD0SVgzNacM"
      },
      "source": [
        "6 % of our customers with a maximum of 20 years old age left the bank"
      ]
    },
    {
      "cell_type": "code",
      "metadata": {
        "id": "4WuSV8GnLPWI",
        "outputId": "a8083727-2a05-43f1-c1f2-4a084b003e70",
        "colab": {
          "base_uri": "https://localhost:8080/",
          "height": 0
        }
      },
      "source": [
        "porc_leave_btw20 = (count_20[1] / len(Age_btw_20))*100\n",
        "\n",
        "print(round(porc_leave_btw20),'%')"
      ],
      "execution_count": 67,
      "outputs": [
        {
          "output_type": "stream",
          "text": [
            "6.0 %\n"
          ],
          "name": "stdout"
        }
      ]
    },
    {
      "cell_type": "markdown",
      "metadata": {
        "id": "e-rcgyKGPNCq"
      },
      "source": [
        "Here we can plot the customers by age"
      ]
    },
    {
      "cell_type": "code",
      "metadata": {
        "id": "vG314UIpgSNN",
        "outputId": "c294abe3-3f41-41b2-f7e4-7f8b4adc2549",
        "colab": {
          "base_uri": "https://localhost:8080/",
          "height": 0
        }
      },
      "source": [
        "sns.barplot(x= 'Age', y= 'Exited', data= Age_btw_20,ci= None ,estimator= np.sum)"
      ],
      "execution_count": 68,
      "outputs": [
        {
          "output_type": "execute_result",
          "data": {
            "text/plain": [
              "<matplotlib.axes._subplots.AxesSubplot at 0x7fcff5a01eb8>"
            ]
          },
          "metadata": {
            "tags": []
          },
          "execution_count": 68
        },
        {
          "output_type": "display_data",
          "data": {
            "image/png": "[encoded data removed]",
            "text/plain": [
              "<Figure size 432x288 with 1 Axes>"
            ]
          },
          "metadata": {
            "tags": [],
            "needs_background": "light"
          }
        }
      ]
    },
    {
      "cell_type": "markdown",
      "metadata": {
        "id": "sTTNxcDvg5X9"
      },
      "source": [
        "#### Between 20 and 40 years old"
      ]
    },
    {
      "cell_type": "markdown",
      "metadata": {
        "id": "zXNku24GPZ8Q"
      },
      "source": [
        "Customers between 20 and 40 years old. We have 6330 customers with that age"
      ]
    },
    {
      "cell_type": "code",
      "metadata": {
        "id": "wqfe6uMjqQHL",
        "outputId": "c2b282ed-7cc4-4e43-ffcd-26d24ac30ab9",
        "colab": {
          "base_uri": "https://localhost:8080/",
          "height": 0
        }
      },
      "source": [
        "Age_btw_20_40 = df_churn2.query('Age >20 & Age <=40')\n",
        "\n",
        "len(Age_btw_20_40)"
      ],
      "execution_count": 69,
      "outputs": [
        {
          "output_type": "execute_result",
          "data": {
            "text/plain": [
              "6330"
            ]
          },
          "metadata": {
            "tags": []
          },
          "execution_count": 69
        }
      ]
    },
    {
      "cell_type": "markdown",
      "metadata": {
        "id": "od_ophxdPIaG"
      },
      "source": [
        "We have 681 customers who left the bank and 5649 who did not"
      ]
    },
    {
      "cell_type": "code",
      "metadata": {
        "id": "lhNWNZRWORbf",
        "outputId": "357f8d87-b5e0-4512-e4ac-9b7d68326df8",
        "colab": {
          "base_uri": "https://localhost:8080/",
          "height": 0
        }
      },
      "source": [
        "count_20_40 = Age_btw_20_40['Exited'].value_counts()\n",
        "\n",
        "count_20_40"
      ],
      "execution_count": 70,
      "outputs": [
        {
          "output_type": "execute_result",
          "data": {
            "text/plain": [
              "0    5649\n",
              "1     681\n",
              "Name: Exited, dtype: int64"
            ]
          },
          "metadata": {
            "tags": []
          },
          "execution_count": 70
        }
      ]
    },
    {
      "cell_type": "markdown",
      "metadata": {
        "id": "D1Z5WWlhPUZ5"
      },
      "source": [
        "11 % of our customers between 20 and 40 years old left the bank"
      ]
    },
    {
      "cell_type": "code",
      "metadata": {
        "id": "EKWsEpCrOlN5",
        "outputId": "0727c6bf-c7f3-4d96-cd8a-15e1e4e7cda0",
        "colab": {
          "base_uri": "https://localhost:8080/",
          "height": 0
        }
      },
      "source": [
        "porc_leave_20_40 = (count_20_40[1] / len(Age_btw_20_40))*100\n",
        "\n",
        "print(round(porc_leave_20_40),'%')"
      ],
      "execution_count": 71,
      "outputs": [
        {
          "output_type": "stream",
          "text": [
            "11.0 %\n"
          ],
          "name": "stdout"
        }
      ]
    },
    {
      "cell_type": "markdown",
      "metadata": {
        "id": "QMuke2BiDjta"
      },
      "source": [
        "We can see that the top 10 customers who leave the bank between 20 and 40 years old are between 30 and 40 years old"
      ]
    },
    {
      "cell_type": "code",
      "metadata": {
        "id": "DxrNaWE1frnT",
        "outputId": "2d611ab8-a5c0-4fa4-e720-5d994dcba1db",
        "colab": {
          "base_uri": "https://localhost:8080/",
          "height": 0
        }
      },
      "source": [
        "Age_btw_20_40.groupby('Age')['Exited'].sum().sort_values(ascending = False).head(10)"
      ],
      "execution_count": 72,
      "outputs": [
        {
          "output_type": "execute_result",
          "data": {
            "text/plain": [
              "Age\n",
              "40    89\n",
              "39    72\n",
              "38    63\n",
              "37    62\n",
              "35    57\n",
              "36    53\n",
              "33    44\n",
              "34    33\n",
              "31    33\n",
              "32    32\n",
              "Name: Exited, dtype: int64"
            ]
          },
          "metadata": {
            "tags": []
          },
          "execution_count": 72
        }
      ]
    },
    {
      "cell_type": "markdown",
      "metadata": {
        "id": "ZPKX36rfF7KF"
      },
      "source": [
        "Now we can visualize all the ages and it is clear that \n",
        "The higher the age the more customers leave the bank when we consider ages from 20 to 40 years old."
      ]
    },
    {
      "cell_type": "code",
      "metadata": {
        "id": "NDXYHL_8gxiV",
        "outputId": "21427658-3a54-49c2-912b-f5f755a0d50f",
        "colab": {
          "base_uri": "https://localhost:8080/",
          "height": 0
        }
      },
      "source": [
        "sns.barplot(x= 'Age', y= 'Exited', data= Age_btw_20_40,ci= None ,estimator= np.sum);"
      ],
      "execution_count": 73,
      "outputs": [
        {
          "output_type": "display_data",
          "data": {
            "image/png": "[encoded data removed]",
            "text/plain": [
              "<Figure size 432x288 with 1 Axes>"
            ]
          },
          "metadata": {
            "tags": [],
            "needs_background": "light"
          }
        }
      ]
    },
    {
      "cell_type": "markdown",
      "metadata": {
        "id": "2Vs5lwO3hCJm"
      },
      "source": [
        "#### Between 40 and 60 years old "
      ]
    },
    {
      "cell_type": "markdown",
      "metadata": {
        "id": "a4TPgBlnHGwS"
      },
      "source": [
        "Customers between 40 and 60 years old. We have 3117 customers with that age"
      ]
    },
    {
      "cell_type": "code",
      "metadata": {
        "id": "jo6IKDImrK_3",
        "outputId": "44f640cd-5510-4266-d3a8-f985e8085b08",
        "colab": {
          "base_uri": "https://localhost:8080/",
          "height": 0
        }
      },
      "source": [
        "Age_btw_40_60 = df_churn2.query('Age >40 & Age <=60')\n",
        "\n",
        "len(Age_btw_40_60)"
      ],
      "execution_count": 74,
      "outputs": [
        {
          "output_type": "execute_result",
          "data": {
            "text/plain": [
              "3117"
            ]
          },
          "metadata": {
            "tags": []
          },
          "execution_count": 74
        }
      ]
    },
    {
      "cell_type": "markdown",
      "metadata": {
        "id": "fDRt9alpRDu9"
      },
      "source": [
        "We have 1236 customers who left the bank and 1881 who did not "
      ]
    },
    {
      "cell_type": "code",
      "metadata": {
        "id": "-LUKTwi4QDeQ",
        "outputId": "396d6e06-675e-4390-d22d-46cacc35a664",
        "colab": {
          "base_uri": "https://localhost:8080/",
          "height": 0
        }
      },
      "source": [
        "count_40_60 = Age_btw_40_60['Exited'].value_counts()\n",
        "\n",
        "count_40_60"
      ],
      "execution_count": 75,
      "outputs": [
        {
          "output_type": "execute_result",
          "data": {
            "text/plain": [
              "0    1881\n",
              "1    1236\n",
              "Name: Exited, dtype: int64"
            ]
          },
          "metadata": {
            "tags": []
          },
          "execution_count": 75
        }
      ]
    },
    {
      "cell_type": "markdown",
      "metadata": {
        "id": "t5Ox4MreRMwl"
      },
      "source": [
        "40 % of our customers between 40 and 60 years old left the bank"
      ]
    },
    {
      "cell_type": "code",
      "metadata": {
        "id": "mu8bPd2KQbCU",
        "outputId": "2fb36b4c-8c82-4e59-8bd3-101f8a8665ef",
        "colab": {
          "base_uri": "https://localhost:8080/",
          "height": 0
        }
      },
      "source": [
        "porc_leave_40_60 = (count_40_60[1] / len(Age_btw_40_60))*100\n",
        "\n",
        "print(round(porc_leave_40_60),'%')"
      ],
      "execution_count": 76,
      "outputs": [
        {
          "output_type": "stream",
          "text": [
            "40.0 %\n"
          ],
          "name": "stdout"
        }
      ]
    },
    {
      "cell_type": "markdown",
      "metadata": {
        "id": "7_IAQ40wHWLy"
      },
      "source": [
        "We can see that the top 10 customers who leave the bank between 40 and 60 years old, are between 40 and 50 years old"
      ]
    },
    {
      "cell_type": "code",
      "metadata": {
        "id": "TdQIdV0mftvR",
        "outputId": "987cf77e-cb32-4794-dee2-ada01a10ed16",
        "colab": {
          "base_uri": "https://localhost:8080/",
          "height": 0
        }
      },
      "source": [
        "Age_btw_40_60.groupby('Age')['Exited'].sum().sort_values(ascending = False).head(10)"
      ],
      "execution_count": 77,
      "outputs": [
        {
          "output_type": "execute_result",
          "data": {
            "text/plain": [
              "Age\n",
              "46    91\n",
              "43    88\n",
              "45    87\n",
              "48    80\n",
              "42    77\n",
              "47    77\n",
              "49    75\n",
              "44    73\n",
              "50    71\n",
              "41    69\n",
              "Name: Exited, dtype: int64"
            ]
          },
          "metadata": {
            "tags": []
          },
          "execution_count": 77
        }
      ]
    },
    {
      "cell_type": "markdown",
      "metadata": {
        "id": "HPoS1jG7I6mH"
      },
      "source": [
        "Now we can visualize all the ages and we can notice that most of the customers who left the bank between 40 and 50 years old and after 50 years old."
      ]
    },
    {
      "cell_type": "code",
      "metadata": {
        "id": "aSr7iR05gzCN",
        "outputId": "e25160ac-8715-4057-bace-a5638135caf3",
        "colab": {
          "base_uri": "https://localhost:8080/",
          "height": 0
        }
      },
      "source": [
        "sns.barplot(x= 'Age', y= 'Exited', data= Age_btw_40_60,ci= None ,estimator= np.sum)"
      ],
      "execution_count": 78,
      "outputs": [
        {
          "output_type": "execute_result",
          "data": {
            "text/plain": [
              "<matplotlib.axes._subplots.AxesSubplot at 0x7fcff59f9518>"
            ]
          },
          "metadata": {
            "tags": []
          },
          "execution_count": 78
        },
        {
          "output_type": "display_data",
          "data": {
            "image/png": "[encoded data removed]",
            "text/plain": [
              "<Figure size 432x288 with 1 Axes>"
            ]
          },
          "metadata": {
            "tags": [],
            "needs_background": "light"
          }
        }
      ]
    },
    {
      "cell_type": "markdown",
      "metadata": {
        "id": "PZ04Kc2bJcUr"
      },
      "source": [
        "Customers between 60 and 80 years old. We have 452 customers with taht age"
      ]
    },
    {
      "cell_type": "markdown",
      "metadata": {
        "id": "HLVwNGSLhKgk"
      },
      "source": [
        "#### Between 60 and 80 years old "
      ]
    },
    {
      "cell_type": "code",
      "metadata": {
        "id": "QuLjfxSPrSqi",
        "outputId": "987afbb8-ae45-41b0-a29f-8c735c11395c",
        "colab": {
          "base_uri": "https://localhost:8080/",
          "height": 0
        }
      },
      "source": [
        "Age_btw_60_80 = df_churn2.query('Age > 60 & Age <=80')\n",
        "\n",
        "len(Age_btw_60_80)"
      ],
      "execution_count": 79,
      "outputs": [
        {
          "output_type": "execute_result",
          "data": {
            "text/plain": [
              "452"
            ]
          },
          "metadata": {
            "tags": []
          },
          "execution_count": 79
        }
      ]
    },
    {
      "cell_type": "markdown",
      "metadata": {
        "id": "8mOvOFY5S7xv"
      },
      "source": [
        "We have 114 customers who left the bank and 338 who did not"
      ]
    },
    {
      "cell_type": "code",
      "metadata": {
        "id": "n8qAPEVHSahH",
        "outputId": "29f518bd-f414-4d15-9d10-e9662a174818",
        "colab": {
          "base_uri": "https://localhost:8080/",
          "height": 0
        }
      },
      "source": [
        "count_60_80 = Age_btw_60_80['Exited'].value_counts()\n",
        "\n",
        "count_60_80"
      ],
      "execution_count": 80,
      "outputs": [
        {
          "output_type": "execute_result",
          "data": {
            "text/plain": [
              "0    338\n",
              "1    114\n",
              "Name: Exited, dtype: int64"
            ]
          },
          "metadata": {
            "tags": []
          },
          "execution_count": 80
        }
      ]
    },
    {
      "cell_type": "markdown",
      "metadata": {
        "id": "fzWf5XT8TMgt"
      },
      "source": [
        "25 % of our customers between 60 and 80 years old left the bank"
      ]
    },
    {
      "cell_type": "code",
      "metadata": {
        "id": "GtgVqdgvSGhB",
        "outputId": "53f97199-2576-4dd0-c54a-35cea6be89c8",
        "colab": {
          "base_uri": "https://localhost:8080/",
          "height": 0
        }
      },
      "source": [
        "porc_leave_60_80 = (count_60_80[1] / len(Age_btw_60_80))*100\n",
        "\n",
        "print(round(porc_leave_60_80),'%')"
      ],
      "execution_count": 81,
      "outputs": [
        {
          "output_type": "stream",
          "text": [
            "25.0 %\n"
          ],
          "name": "stdout"
        }
      ]
    },
    {
      "cell_type": "markdown",
      "metadata": {
        "id": "JLU-59ZqJ5Ju"
      },
      "source": [
        "We can see that the top 10 customers who leave the bank between 60 and 80 years old, are between 60 and 70 years old"
      ]
    },
    {
      "cell_type": "code",
      "metadata": {
        "id": "fklIdgY2fuSh",
        "outputId": "9104c06c-801e-4b0c-cc13-2a7f7017b216",
        "colab": {
          "base_uri": "https://localhost:8080/",
          "height": 0
        }
      },
      "source": [
        "Age_btw_60_80.groupby('Age')['Exited'].sum().sort_values(ascending = False).head(10)"
      ],
      "execution_count": 82,
      "outputs": [
        {
          "output_type": "execute_result",
          "data": {
            "text/plain": [
              "Age\n",
              "61    21\n",
              "62    21\n",
              "63    18\n",
              "64    12\n",
              "65     8\n",
              "71     7\n",
              "66     7\n",
              "68     6\n",
              "67     5\n",
              "70     4\n",
              "Name: Exited, dtype: int64"
            ]
          },
          "metadata": {
            "tags": []
          },
          "execution_count": 82
        }
      ]
    },
    {
      "cell_type": "markdown",
      "metadata": {
        "id": "ASRKKhn9KC9a"
      },
      "source": [
        "We can see we do not have customers from 75 who left the bank and the most customers are from 61 to 64 years old."
      ]
    },
    {
      "cell_type": "code",
      "metadata": {
        "id": "3JpRC-jOg0cU",
        "outputId": "3e87d9ec-9264-4794-def9-5e940e0f15e4",
        "colab": {
          "base_uri": "https://localhost:8080/",
          "height": 0
        }
      },
      "source": [
        "sns.barplot(x= 'Age', y= 'Exited', data= Age_btw_60_80,ci= None ,estimator= np.sum)"
      ],
      "execution_count": 83,
      "outputs": [
        {
          "output_type": "execute_result",
          "data": {
            "text/plain": [
              "<matplotlib.axes._subplots.AxesSubplot at 0x7fcff58439b0>"
            ]
          },
          "metadata": {
            "tags": []
          },
          "execution_count": 83
        },
        {
          "output_type": "display_data",
          "data": {
            "image/png": "[encoded data removed]",
            "text/plain": [
              "<Figure size 432x288 with 1 Axes>"
            ]
          },
          "metadata": {
            "tags": [],
            "needs_background": "light"
          }
        }
      ]
    },
    {
      "cell_type": "markdown",
      "metadata": {
        "id": "26RJRhCchSJy"
      },
      "source": [
        "#### Above 80 years old "
      ]
    },
    {
      "cell_type": "markdown",
      "metadata": {
        "id": "EZGzKkoVKmp1"
      },
      "source": [
        "Customers from 80 years old. We have 12 customers with taht age"
      ]
    },
    {
      "cell_type": "code",
      "metadata": {
        "id": "AibLzpSrrmPc",
        "outputId": "f77d7540-55f0-4f52-a22a-c9bde3f4091c",
        "colab": {
          "base_uri": "https://localhost:8080/",
          "height": 0
        }
      },
      "source": [
        "Age_high_80 = df_churn2.query('Age > 80')\n",
        "\n",
        "len(Age_high_80)"
      ],
      "execution_count": 84,
      "outputs": [
        {
          "output_type": "execute_result",
          "data": {
            "text/plain": [
              "12"
            ]
          },
          "metadata": {
            "tags": []
          },
          "execution_count": 84
        }
      ]
    },
    {
      "cell_type": "markdown",
      "metadata": {
        "id": "YbBKU-3nUFja"
      },
      "source": [
        "We have 1 customers who left the bank and 11 who did not"
      ]
    },
    {
      "cell_type": "code",
      "metadata": {
        "id": "f-PKIrIDTk_E",
        "outputId": "26f43669-bcc3-4b73-8518-34987edfcf50",
        "colab": {
          "base_uri": "https://localhost:8080/",
          "height": 0
        }
      },
      "source": [
        "count_high_80 = Age_high_80['Exited'].value_counts()\n",
        "\n",
        "count_high_80"
      ],
      "execution_count": 85,
      "outputs": [
        {
          "output_type": "execute_result",
          "data": {
            "text/plain": [
              "0    11\n",
              "1     1\n",
              "Name: Exited, dtype: int64"
            ]
          },
          "metadata": {
            "tags": []
          },
          "execution_count": 85
        }
      ]
    },
    {
      "cell_type": "markdown",
      "metadata": {
        "id": "qgRvDhKxUf6L"
      },
      "source": [
        "8 % of the customers above 80 years old left the bank"
      ]
    },
    {
      "cell_type": "code",
      "metadata": {
        "id": "ToHz05MCT1iy",
        "outputId": "d5f939b7-fe52-4f2a-b290-82ef82197fa0",
        "colab": {
          "base_uri": "https://localhost:8080/",
          "height": 0
        }
      },
      "source": [
        "porc_leave_high_80= (count_high_80[1] / len(Age_high_80))*100\n",
        "\n",
        "print(round(porc_leave_high_80),'%')"
      ],
      "execution_count": 86,
      "outputs": [
        {
          "output_type": "stream",
          "text": [
            "8.0 %\n"
          ],
          "name": "stdout"
        }
      ]
    },
    {
      "cell_type": "markdown",
      "metadata": {
        "id": "jrJZL0GkKp1L"
      },
      "source": [
        "We just have 1 customer with 84 years old who left the bank "
      ]
    },
    {
      "cell_type": "code",
      "metadata": {
        "id": "buNJdL-trpzb",
        "outputId": "faf72a1d-d7ac-45a8-af9c-ca421fbc1f73",
        "colab": {
          "base_uri": "https://localhost:8080/",
          "height": 0
        }
      },
      "source": [
        "Age_high_80.groupby('Age')['Exited'].sum()"
      ],
      "execution_count": 87,
      "outputs": [
        {
          "output_type": "execute_result",
          "data": {
            "text/plain": [
              "Age\n",
              "81    0\n",
              "82    0\n",
              "83    0\n",
              "84    1\n",
              "85    0\n",
              "88    0\n",
              "92    0\n",
              "Name: Exited, dtype: int64"
            ]
          },
          "metadata": {
            "tags": []
          },
          "execution_count": 87
        }
      ]
    },
    {
      "cell_type": "markdown",
      "metadata": {
        "id": "KhTVKAfOK3Pk"
      },
      "source": [
        "We can visualize  the only customer who left the bank"
      ]
    },
    {
      "cell_type": "code",
      "metadata": {
        "id": "__yRuwfkfsKa",
        "outputId": "158c9bd0-4784-4e07-ed07-cfda38a9131e",
        "colab": {
          "base_uri": "https://localhost:8080/",
          "height": 0
        }
      },
      "source": [
        "sns.barplot(x= 'Age', y= 'Exited', data= Age_high_80,ci= None ,estimator= np.sum)"
      ],
      "execution_count": 88,
      "outputs": [
        {
          "output_type": "execute_result",
          "data": {
            "text/plain": [
              "<matplotlib.axes._subplots.AxesSubplot at 0x7fcff5787a20>"
            ]
          },
          "metadata": {
            "tags": []
          },
          "execution_count": 88
        },
        {
          "output_type": "display_data",
          "data": {
            "image/png": "[encoded data removed]",
            "text/plain": [
              "<Figure size 432x288 with 1 Axes>"
            ]
          },
          "metadata": {
            "tags": [],
            "needs_background": "light"
          }
        }
      ]
    },
    {
      "cell_type": "markdown",
      "metadata": {
        "id": "dtL5LHdLcbq8"
      },
      "source": [
        "#### Most of customers who left the bank from 30 to 50 years old "
      ]
    },
    {
      "cell_type": "markdown",
      "metadata": {
        "id": "8rr85fz_dIWe"
      },
      "source": [
        "##### Between 30 and 40 years old"
      ]
    },
    {
      "cell_type": "markdown",
      "metadata": {
        "id": "aVyjHUabKpyD"
      },
      "source": [
        "\n",
        "**In the previous analyzes it was possible to notice that most of the customers who left the bank in relation to age are between 30 and 50 years old, let's make a more specific analysis with these values ​​to answer our hypothesis.**"
      ]
    },
    {
      "cell_type": "markdown",
      "metadata": {
        "id": "q89WpANKbsLR"
      },
      "source": [
        "We have 4778 customers between 30 and 40 years old "
      ]
    },
    {
      "cell_type": "code",
      "metadata": {
        "id": "CWGIFh7oKo-s",
        "outputId": "7022d231-e290-47b7-b91b-17443c35e3eb",
        "colab": {
          "base_uri": "https://localhost:8080/",
          "height": 34
        }
      },
      "source": [
        "Age_btw_30_40 = df_churn2.query('Age >=30 & Age <=40')\n",
        "\n",
        "len(Age_btw_30_40)"
      ],
      "execution_count": 89,
      "outputs": [
        {
          "output_type": "execute_result",
          "data": {
            "text/plain": [
              "4778"
            ]
          },
          "metadata": {
            "tags": []
          },
          "execution_count": 89
        }
      ]
    },
    {
      "cell_type": "markdown",
      "metadata": {
        "id": "EClnH3LbbzWf"
      },
      "source": [
        "We have 562 customers who left the bank"
      ]
    },
    {
      "cell_type": "code",
      "metadata": {
        "id": "7zQvRW0yKpEZ",
        "outputId": "230437f8-3219-49b3-e2a3-c6599abe017a",
        "colab": {
          "base_uri": "https://localhost:8080/",
          "height": 68
        }
      },
      "source": [
        "count_30_40 = Age_btw_30_40['Exited'].value_counts()\n",
        "\n",
        "count_30_40"
      ],
      "execution_count": 90,
      "outputs": [
        {
          "output_type": "execute_result",
          "data": {
            "text/plain": [
              "0    4216\n",
              "1     562\n",
              "Name: Exited, dtype: int64"
            ]
          },
          "metadata": {
            "tags": []
          },
          "execution_count": 90
        }
      ]
    },
    {
      "cell_type": "markdown",
      "metadata": {
        "id": "9N6XCxdOcGj6"
      },
      "source": [
        "12 % of customers left the bank"
      ]
    },
    {
      "cell_type": "code",
      "metadata": {
        "id": "QZb5aUe1LPK_",
        "outputId": "ff1779e4-d150-4f0f-b3d6-2a75ad129f5e",
        "colab": {
          "base_uri": "https://localhost:8080/",
          "height": 34
        }
      },
      "source": [
        "porc_leave_30_40 = (count_30_40[1] / len(Age_btw_30_40))*100\n",
        "\n",
        "print(round(porc_leave_30_40),'%')"
      ],
      "execution_count": 91,
      "outputs": [
        {
          "output_type": "stream",
          "text": [
            "12.0 %\n"
          ],
          "name": "stdout"
        }
      ]
    },
    {
      "cell_type": "markdown",
      "metadata": {
        "id": "_e8M61OoLvi1"
      },
      "source": [
        "##### Between 40 and 50 years old "
      ]
    },
    {
      "cell_type": "markdown",
      "metadata": {
        "id": "zBneP53qdSCJ"
      },
      "source": [
        "We have 2320 customers between 40 and 50 years old "
      ]
    },
    {
      "cell_type": "code",
      "metadata": {
        "id": "VcRdYrimLu4P",
        "outputId": "f9eac314-f0aa-49e1-c072-0c491586a54c",
        "colab": {
          "base_uri": "https://localhost:8080/",
          "height": 34
        }
      },
      "source": [
        "Age_btw_40_50 = df_churn2.query('Age >40 & Age <=50')\n",
        "\n",
        "len(Age_btw_40_50)"
      ],
      "execution_count": 92,
      "outputs": [
        {
          "output_type": "execute_result",
          "data": {
            "text/plain": [
              "2320"
            ]
          },
          "metadata": {
            "tags": []
          },
          "execution_count": 92
        }
      ]
    },
    {
      "cell_type": "markdown",
      "metadata": {
        "id": "k9Bu0fdWdwCf"
      },
      "source": [
        "We have 788 customers who left the bank"
      ]
    },
    {
      "cell_type": "code",
      "metadata": {
        "id": "KGnQLJetLu9e",
        "outputId": "96ff7a05-f933-4376-c31a-a9752ce1d64a",
        "colab": {
          "base_uri": "https://localhost:8080/",
          "height": 68
        }
      },
      "source": [
        "count_40_50 = Age_btw_40_50['Exited'].value_counts()\n",
        "\n",
        "count_40_50"
      ],
      "execution_count": 93,
      "outputs": [
        {
          "output_type": "execute_result",
          "data": {
            "text/plain": [
              "0    1532\n",
              "1     788\n",
              "Name: Exited, dtype: int64"
            ]
          },
          "metadata": {
            "tags": []
          },
          "execution_count": 93
        }
      ]
    },
    {
      "cell_type": "markdown",
      "metadata": {
        "id": "QoqOB4yod6vr"
      },
      "source": [
        "34 % of the customers left the bank"
      ]
    },
    {
      "cell_type": "code",
      "metadata": {
        "id": "FUUujUfhLu7r",
        "outputId": "21505351-4ef2-4986-e2f4-6bb1c2958905",
        "colab": {
          "base_uri": "https://localhost:8080/",
          "height": 34
        }
      },
      "source": [
        "porc_leave_40_50 = (count_40_50[1] / len(Age_btw_40_50))*100\n",
        "\n",
        "print(round(porc_leave_40_50),'%')"
      ],
      "execution_count": 94,
      "outputs": [
        {
          "output_type": "stream",
          "text": [
            "34.0 %\n"
          ],
          "name": "stdout"
        }
      ]
    },
    {
      "cell_type": "markdown",
      "metadata": {
        "id": "CheZXx83eDNz"
      },
      "source": [
        "We have 7098 customers between 30 and 50 years old"
      ]
    },
    {
      "cell_type": "code",
      "metadata": {
        "id": "bmN-JFqnLu1O",
        "outputId": "a6106f9b-c2cd-44f9-8399-8a8a3cca1963",
        "colab": {
          "base_uri": "https://localhost:8080/",
          "height": 34
        }
      },
      "source": [
        "total_customer_btw_30_50 = len(Age_btw_30_40) + len(Age_btw_40_50)\n",
        "\n",
        "total_customer_btw_30_50"
      ],
      "execution_count": 95,
      "outputs": [
        {
          "output_type": "execute_result",
          "data": {
            "text/plain": [
              "7098"
            ]
          },
          "metadata": {
            "tags": []
          },
          "execution_count": 95
        }
      ]
    },
    {
      "cell_type": "markdown",
      "metadata": {
        "id": "g-Kr_O8IOwkW"
      },
      "source": [
        "Our customers between 30 an 50 years old represents 71 % of total of customers"
      ]
    },
    {
      "cell_type": "code",
      "metadata": {
        "id": "oc8BTPc4M30x",
        "outputId": "a7b7f64d-57ba-4658-a58d-9d73accdfd4d",
        "colab": {
          "base_uri": "https://localhost:8080/",
          "height": 34
        }
      },
      "source": [
        "porcent_total_customer = round((total_customer_btw_30_50 ) / len(df_churn2)*100)\n",
        "\n",
        "print(round(porcent_total_customer),'%')"
      ],
      "execution_count": 96,
      "outputs": [
        {
          "output_type": "stream",
          "text": [
            "71 %\n"
          ],
          "name": "stdout"
        }
      ]
    },
    {
      "cell_type": "markdown",
      "metadata": {
        "id": "efWcXzeTfuAa"
      },
      "source": [
        "We have 1350 customers who left the bank between 30 and 50 years old "
      ]
    },
    {
      "cell_type": "code",
      "metadata": {
        "id": "slg56n-VQo0C",
        "outputId": "65ce04c8-6d0a-4087-fa61-f6ec5e9ed2b4",
        "colab": {
          "base_uri": "https://localhost:8080/",
          "height": 34
        }
      },
      "source": [
        "total_saiu_banco_30_50 = ((count_30_40[1] + count_40_50[1]))\n",
        "\n",
        "total_saiu_banco_30_50"
      ],
      "execution_count": 97,
      "outputs": [
        {
          "output_type": "execute_result",
          "data": {
            "text/plain": [
              "1350"
            ]
          },
          "metadata": {
            "tags": []
          },
          "execution_count": 97
        }
      ]
    },
    {
      "cell_type": "markdown",
      "metadata": {
        "id": "YqduAaXSQPiT"
      },
      "source": [
        "19% of customers aged 30 to 50 leave the bank"
      ]
    },
    {
      "cell_type": "code",
      "metadata": {
        "id": "hZTLpnFcPTEv",
        "outputId": "c2e23505-349e-4b0b-f827-c71c299661e6",
        "colab": {
          "base_uri": "https://localhost:8080/",
          "height": 34
        }
      },
      "source": [
        "porcent_custom_btw_30_50_left = ((count_30_40[1] + count_40_50[1]) / total_customer_btw_30_50)*100\n",
        "\n",
        "print(round(porcent_custom_btw_30_50_left),'%')"
      ],
      "execution_count": 98,
      "outputs": [
        {
          "output_type": "stream",
          "text": [
            "19.0 %\n"
          ],
          "name": "stdout"
        }
      ]
    },
    {
      "cell_type": "markdown",
      "metadata": {
        "id": "qUM35ZP6ovUY"
      },
      "source": [
        "### Customers with up to 2 years as a customer usually leave the bank \n",
        "\n"
      ]
    },
    {
      "cell_type": "markdown",
      "metadata": {
        "id": "g6jK3uxIlfNX"
      },
      "source": [
        " we have 2496 customers on this class"
      ]
    },
    {
      "cell_type": "code",
      "metadata": {
        "id": "GMB9DeWNowwV",
        "outputId": "768dcb53-5753-4e20-a579-5730e75b2e57",
        "colab": {
          "base_uri": "https://localhost:8080/",
          "height": 34
        }
      },
      "source": [
        "tenure_up_to_2 = df_churn2.query('Tenure <= 2')\n",
        "\n",
        "\n",
        "len(tenure_up_to_2)"
      ],
      "execution_count": 99,
      "outputs": [
        {
          "output_type": "execute_result",
          "data": {
            "text/plain": [
              "2496"
            ]
          },
          "metadata": {
            "tags": []
          },
          "execution_count": 99
        }
      ]
    },
    {
      "cell_type": "markdown",
      "metadata": {
        "id": "dScZ-slHhc3v"
      },
      "source": [
        "\n",
        "we can see how many customers leave per year of stay"
      ]
    },
    {
      "cell_type": "code",
      "metadata": {
        "id": "7yCfoWZ6qjeR",
        "outputId": "798920cc-637f-46af-b90b-c54aaa713a9b",
        "colab": {
          "base_uri": "https://localhost:8080/",
          "height": 102
        }
      },
      "source": [
        "up_2 = tenure_up_to_2.groupby('Tenure')['Exited'].sum()\n",
        "\n",
        "up_2"
      ],
      "execution_count": 100,
      "outputs": [
        {
          "output_type": "execute_result",
          "data": {
            "text/plain": [
              "Tenure\n",
              "0     95\n",
              "1    232\n",
              "2    201\n",
              "Name: Exited, dtype: int64"
            ]
          },
          "metadata": {
            "tags": []
          },
          "execution_count": 100
        }
      ]
    },
    {
      "cell_type": "markdown",
      "metadata": {
        "id": "Y0XvtXdBiMSJ"
      },
      "source": [
        "We have 528 customers who left the bank"
      ]
    },
    {
      "cell_type": "code",
      "metadata": {
        "id": "x1fy4BpRpIqS",
        "outputId": "0117c9f6-ed30-4569-ed7a-71154c34b2cb",
        "colab": {
          "base_uri": "https://localhost:8080/",
          "height": 34
        }
      },
      "source": [
        "total_up2_leave = up_2[0] + up_2[1] + up_2[2]\n",
        "\n",
        "total_up2_leave"
      ],
      "execution_count": 101,
      "outputs": [
        {
          "output_type": "execute_result",
          "data": {
            "text/plain": [
              "528"
            ]
          },
          "metadata": {
            "tags": []
          },
          "execution_count": 101
        }
      ]
    },
    {
      "cell_type": "markdown",
      "metadata": {
        "id": "aFU8F5PMh3cd"
      },
      "source": [
        "we can vizualize how many customers leave per year of stay"
      ]
    },
    {
      "cell_type": "code",
      "metadata": {
        "id": "NHjc-mZkrROI",
        "outputId": "6d95811a-e64c-4100-fa3a-615b34957492",
        "colab": {
          "base_uri": "https://localhost:8080/",
          "height": 296
        }
      },
      "source": [
        "sns.barplot(x= 'Tenure' , y= 'Exited' , data= tenure_up_to_2,ci=None,estimator=np.sum)"
      ],
      "execution_count": 102,
      "outputs": [
        {
          "output_type": "execute_result",
          "data": {
            "text/plain": [
              "<matplotlib.axes._subplots.AxesSubplot at 0x7fcff56f45f8>"
            ]
          },
          "metadata": {
            "tags": []
          },
          "execution_count": 102
        },
        {
          "output_type": "display_data",
          "data": {
            "image/png": "[encoded data removed]",
            "text/plain": [
              "<Figure size 432x288 with 1 Axes>"
            ]
          },
          "metadata": {
            "tags": [],
            "needs_background": "light"
          }
        }
      ]
    },
    {
      "cell_type": "markdown",
      "metadata": {
        "id": "kJ4ofeYGiSE-"
      },
      "source": [
        "21 % of customers left the bank"
      ]
    },
    {
      "cell_type": "code",
      "metadata": {
        "id": "06OPnrU1oR4L",
        "outputId": "d5ad50f4-feb7-483e-c712-052f437d794c",
        "colab": {
          "base_uri": "https://localhost:8080/",
          "height": 34
        }
      },
      "source": [
        "porc_up_2_leave = (up_2[0]/len(tenure_up_to_2) + up_2[1]/len(tenure_up_to_2) + up_2[2]/len(tenure_up_to_2))*100\n",
        "\n",
        "porc_up_2_leave"
      ],
      "execution_count": 103,
      "outputs": [
        {
          "output_type": "execute_result",
          "data": {
            "text/plain": [
              "21.153846153846157"
            ]
          },
          "metadata": {
            "tags": []
          },
          "execution_count": 103
        }
      ]
    },
    {
      "cell_type": "markdown",
      "metadata": {
        "id": "EtD3fVVcqMfY"
      },
      "source": [
        "### Customers who do not have a credit card tend to leave the bank"
      ]
    },
    {
      "cell_type": "markdown",
      "metadata": {
        "id": "IZLSUuc0jeRW"
      },
      "source": [
        "7055 customers have credit card and 2945 customers do not have it."
      ]
    },
    {
      "cell_type": "code",
      "metadata": {
        "id": "va6T_LPosD9C",
        "outputId": "268c4efc-3d4e-4338-ae38-e30d83e002b6",
        "colab": {
          "base_uri": "https://localhost:8080/",
          "height": 0
        }
      },
      "source": [
        "total_CR =df_churn2['HasCrCard'].value_counts()\n",
        "\n",
        "total_CR"
      ],
      "execution_count": 104,
      "outputs": [
        {
          "output_type": "execute_result",
          "data": {
            "text/plain": [
              "1    7055\n",
              "0    2945\n",
              "Name: HasCrCard, dtype: int64"
            ]
          },
          "metadata": {
            "tags": []
          },
          "execution_count": 104
        }
      ]
    },
    {
      "cell_type": "markdown",
      "metadata": {
        "id": "atYx9fdKTFkn"
      },
      "source": [
        "Number of customers who do not have credit card 2945"
      ]
    },
    {
      "cell_type": "code",
      "metadata": {
        "id": "2AGVbYVVkRKL",
        "outputId": "20bb47fc-a070-407a-cc50-16ed258f6a57",
        "colab": {
          "base_uri": "https://localhost:8080/",
          "height": 0
        }
      },
      "source": [
        "has_no_Crcd = df_churn2.query('HasCrCard == 0' )\n",
        "\n",
        "len(has_no_Crcd)"
      ],
      "execution_count": 105,
      "outputs": [
        {
          "output_type": "execute_result",
          "data": {
            "text/plain": [
              "2945"
            ]
          },
          "metadata": {
            "tags": []
          },
          "execution_count": 105
        }
      ]
    },
    {
      "cell_type": "markdown",
      "metadata": {
        "id": "hXSXAF2NTT0u"
      },
      "source": [
        "Number of customers who do not have credit card and left the bank 613 "
      ]
    },
    {
      "cell_type": "code",
      "metadata": {
        "id": "NUdvPyF1mQEL",
        "outputId": "7bcf8b55-9f9e-4394-8001-8271078ebe15",
        "colab": {
          "base_uri": "https://localhost:8080/",
          "height": 0
        }
      },
      "source": [
        "leave_crcd = df_churn2.groupby('HasCrCard')['Exited'].sum()\n",
        "\n",
        "leave_crcd[0]"
      ],
      "execution_count": 106,
      "outputs": [
        {
          "output_type": "execute_result",
          "data": {
            "text/plain": [
              "613"
            ]
          },
          "metadata": {
            "tags": []
          },
          "execution_count": 106
        }
      ]
    },
    {
      "cell_type": "markdown",
      "metadata": {
        "id": "1ZBS7-TujuYD"
      },
      "source": [
        "21 % of customers who not have a credit card left the bank"
      ]
    },
    {
      "cell_type": "code",
      "metadata": {
        "id": "B_mvtHQnqbwl",
        "outputId": "265eca20-d54c-4f56-89cc-16c296091851",
        "colab": {
          "base_uri": "https://localhost:8080/",
          "height": 0
        }
      },
      "source": [
        "porc_leave_crcd = round((leave_crcd[0]/len(has_no_Crcd))*100)\n",
        "\n",
        "porc_leave_crcd"
      ],
      "execution_count": 107,
      "outputs": [
        {
          "output_type": "execute_result",
          "data": {
            "text/plain": [
              "21.0"
            ]
          },
          "metadata": {
            "tags": []
          },
          "execution_count": 107
        }
      ]
    },
    {
      "cell_type": "markdown",
      "metadata": {
        "id": "JKgaOM7ZT2xu"
      },
      "source": [
        "Here we can visualize the difference between who left the bank and who did not."
      ]
    },
    {
      "cell_type": "code",
      "metadata": {
        "id": "Fm9D6lF-r__m",
        "outputId": "9dddd206-76df-4dfd-d245-94df6088fe14",
        "colab": {
          "base_uri": "https://localhost:8080/",
          "height": 0
        }
      },
      "source": [
        "sns.barplot(x='HasCrCard',y= 'Exited',data=df_churn2,estimator= np.sum, ci= None)"
      ],
      "execution_count": 108,
      "outputs": [
        {
          "output_type": "execute_result",
          "data": {
            "text/plain": [
              "<matplotlib.axes._subplots.AxesSubplot at 0x7fcff56c8e48>"
            ]
          },
          "metadata": {
            "tags": []
          },
          "execution_count": 108
        },
        {
          "output_type": "display_data",
          "data": {
            "image/png": "[encoded data removed]",
            "text/plain": [
              "<Figure size 432x288 with 1 Axes>"
            ]
          },
          "metadata": {
            "tags": [],
            "needs_background": "light"
          }
        }
      ]
    },
    {
      "cell_type": "markdown",
      "metadata": {
        "id": "zKR99OT8us6x"
      },
      "source": [
        "# Conclusions\n"
      ]
    },
    {
      "cell_type": "markdown",
      "metadata": {
        "id": "hcH7cEBEvGCU"
      },
      "source": [
        "**Customers with lower scores tend to leave the bank.**\n",
        "\n",
        "A : 24 % of customers with low score leave the bank\n",
        "\n",
        "**The country is decisive for the client to leave the bank**\n",
        "\n",
        "A : France and Germany in terms of number of customers who left the bank are practically the same 810 and 814 respectively and Spain has 413.However , in percentage we have 32% for Germany and 16% for France and Spain. \n",
        "\n",
        "**There are more men than women who leave the bank.**\n",
        "\n",
        "A : Yes , we have 1139 women wich represents 20 % of women who left and we have 898 men wich represents 16 % of men who left.\n",
        "\n",
        "**Younger customer has a tendency to leave the bank**\n",
        "\n",
        "A : No, it was possible to see that customers up to 25 years old  do not have a high exit rate from the bank, however customers between 30 and 50 years old  are the vast majority of bank customers and that also have the highest number and exit rate.\n",
        "\n",
        "\n",
        "\n",
        "**Customers with up to 2 years as a customer usually leave the bank.**\n",
        "\n",
        "A : 528 or 21 % of customers up to 2 years as a customer left the bank \n",
        "\n",
        "**Customers who do not have a credit card tend to leave the bank.**\n",
        "\n",
        "A: 613 or 21 % of customers who do not have credit card leave the bank\n"
      ]
    },
    {
      "cell_type": "markdown",
      "metadata": {
        "id": "3RfXO8F1ogJ-"
      },
      "source": [
        "# Metrics"
      ]
    },
    {
      "cell_type": "code",
      "metadata": {
        "id": "EjlL-j6momJH"
      },
      "source": [
        ""
      ],
      "execution_count": 108,
      "outputs": []
    },
    {
      "cell_type": "markdown",
      "metadata": {
        "id": "zCmy9Hi7vz-A"
      },
      "source": [
        "# Baseline"
      ]
    },
    {
      "cell_type": "code",
      "metadata": {
        "id": "_69x3cDTuzcq"
      },
      "source": [
        "\n",
        "X= df_churn2[['Age','HasCrCard']]\n",
        "\n",
        "y = df_churn2['Exited']\n"
      ],
      "execution_count": 109,
      "outputs": []
    },
    {
      "cell_type": "code",
      "metadata": {
        "id": "9WyE17rGXPps"
      },
      "source": [
        "X_train , X_test , y_train ,y_test = train_test_split(X,y,random_state = 42 , )"
      ],
      "execution_count": 110,
      "outputs": []
    },
    {
      "cell_type": "code",
      "metadata": {
        "id": "o0gnfV3QXSl-"
      },
      "source": [
        "SVC = LinearSVC()"
      ],
      "execution_count": 111,
      "outputs": []
    },
    {
      "cell_type": "code",
      "metadata": {
        "id": "O-i8kf-tXPmz"
      },
      "source": [
        "SVC.fit(X_train,y_train)\n"
      ],
      "execution_count": null,
      "outputs": []
    },
    {
      "cell_type": "code",
      "metadata": {
        "id": "E8QplGyWajJO",
        "outputId": "4bc677b4-e291-4bec-b48c-05cb5427b7f7",
        "colab": {
          "base_uri": "https://localhost:8080/",
          "height": 279
        }
      },
      "source": [
        "plot_confusion_matrix(SVC, X_test, y_test) \n",
        "plt.show()"
      ],
      "execution_count": 130,
      "outputs": [
        {
          "output_type": "display_data",
          "data": {
            "image/png": "[encoded data removed]",
            "text/plain": [
              "<Figure size 432x288 with 2 Axes>"
            ]
          },
          "metadata": {
            "tags": [],
            "needs_background": "light"
          }
        }
      ]
    },
    {
      "cell_type": "code",
      "metadata": {
        "id": "5kYMfx2Of7XQ"
      },
      "source": [
        "pred = SVC.predict(X_test)"
      ],
      "execution_count": 114,
      "outputs": []
    },
    {
      "cell_type": "code",
      "metadata": {
        "id": "QUxJMXTSf0kl",
        "outputId": "6ba566b5-02b6-4148-dfa5-0ff6f18f8127",
        "colab": {
          "base_uri": "https://localhost:8080/",
          "height": 170
        }
      },
      "source": [
        "print(classification_report(y_test,pred))\n",
        "\n"
      ],
      "execution_count": 129,
      "outputs": [
        {
          "output_type": "stream",
          "text": [
            "              precision    recall  f1-score   support\n",
            "\n",
            "           0       0.80      0.97      0.88      2003\n",
            "           1       0.16      0.02      0.04       497\n",
            "\n",
            "    accuracy                           0.78      2500\n",
            "   macro avg       0.48      0.50      0.46      2500\n",
            "weighted avg       0.67      0.78      0.71      2500\n",
            "\n"
          ],
          "name": "stdout"
        }
      ]
    },
    {
      "cell_type": "code",
      "metadata": {
        "id": "ruy2f6ykf0ve"
      },
      "source": [
        ""
      ],
      "execution_count": 115,
      "outputs": []
    },
    {
      "cell_type": "markdown",
      "metadata": {
        "id": "UdNnVYXhooRk"
      },
      "source": [
        "# Feature Engeneering"
      ]
    },
    {
      "cell_type": "code",
      "metadata": {
        "id": "SDgJ60nFl5s1"
      },
      "source": [
        "lab = LabelEncoder()"
      ],
      "execution_count": 116,
      "outputs": []
    },
    {
      "cell_type": "code",
      "metadata": {
        "id": "z_ws-0EFpD4w"
      },
      "source": [
        "df_churn2['Gender'] = lab.fit_transform(df_churn2['Gender'] )\n",
        "\n",
        "df_churn2['Geography'] = lab.fit_transform(df_churn2['Geography'] )"
      ],
      "execution_count": 117,
      "outputs": []
    },
    {
      "cell_type": "code",
      "metadata": {
        "id": "w_3kG2XVmmaQ",
        "outputId": "1172d1c4-0457-4c86-d3ad-7afa74ad0b33",
        "colab": {
          "base_uri": "https://localhost:8080/",
          "height": 224
        }
      },
      "source": [
        "df_churn2.head()"
      ],
      "execution_count": 120,
      "outputs": [
        {
          "output_type": "execute_result",
          "data": {
            "text/html": [
              "<div>\n",
              "<style scoped>\n",
              "    .dataframe tbody tr th:only-of-type {\n",
              "        vertical-align: middle;\n",
              "    }\n",
              "\n",
              "    .dataframe tbody tr th {\n",
              "        vertical-align: top;\n",
              "    }\n",
              "\n",
              "    .dataframe thead th {\n",
              "        text-align: right;\n",
              "    }\n",
              "</style>\n",
              "<table border=\"1\" class=\"dataframe\">\n",
              "  <thead>\n",
              "    <tr style=\"text-align: right;\">\n",
              "      <th></th>\n",
              "      <th>RowNumber</th>\n",
              "      <th>CustomerId</th>\n",
              "      <th>CreditScore</th>\n",
              "      <th>Geography</th>\n",
              "      <th>Gender</th>\n",
              "      <th>Age</th>\n",
              "      <th>Tenure</th>\n",
              "      <th>Balance</th>\n",
              "      <th>NumOfProducts</th>\n",
              "      <th>HasCrCard</th>\n",
              "      <th>IsActiveMember</th>\n",
              "      <th>EstimatedSalary</th>\n",
              "      <th>Exited</th>\n",
              "    </tr>\n",
              "  </thead>\n",
              "  <tbody>\n",
              "    <tr>\n",
              "      <th>0</th>\n",
              "      <td>1</td>\n",
              "      <td>15634602</td>\n",
              "      <td>619</td>\n",
              "      <td>0</td>\n",
              "      <td>0</td>\n",
              "      <td>42</td>\n",
              "      <td>2</td>\n",
              "      <td>0.00</td>\n",
              "      <td>1</td>\n",
              "      <td>1</td>\n",
              "      <td>1</td>\n",
              "      <td>101348.88</td>\n",
              "      <td>1</td>\n",
              "    </tr>\n",
              "    <tr>\n",
              "      <th>1</th>\n",
              "      <td>2</td>\n",
              "      <td>15647311</td>\n",
              "      <td>608</td>\n",
              "      <td>2</td>\n",
              "      <td>0</td>\n",
              "      <td>41</td>\n",
              "      <td>1</td>\n",
              "      <td>83807.86</td>\n",
              "      <td>1</td>\n",
              "      <td>0</td>\n",
              "      <td>1</td>\n",
              "      <td>112542.58</td>\n",
              "      <td>0</td>\n",
              "    </tr>\n",
              "    <tr>\n",
              "      <th>2</th>\n",
              "      <td>3</td>\n",
              "      <td>15619304</td>\n",
              "      <td>502</td>\n",
              "      <td>0</td>\n",
              "      <td>0</td>\n",
              "      <td>42</td>\n",
              "      <td>8</td>\n",
              "      <td>159660.80</td>\n",
              "      <td>3</td>\n",
              "      <td>1</td>\n",
              "      <td>0</td>\n",
              "      <td>113931.57</td>\n",
              "      <td>1</td>\n",
              "    </tr>\n",
              "    <tr>\n",
              "      <th>3</th>\n",
              "      <td>4</td>\n",
              "      <td>15701354</td>\n",
              "      <td>699</td>\n",
              "      <td>0</td>\n",
              "      <td>0</td>\n",
              "      <td>39</td>\n",
              "      <td>1</td>\n",
              "      <td>0.00</td>\n",
              "      <td>2</td>\n",
              "      <td>0</td>\n",
              "      <td>0</td>\n",
              "      <td>93826.63</td>\n",
              "      <td>0</td>\n",
              "    </tr>\n",
              "    <tr>\n",
              "      <th>4</th>\n",
              "      <td>5</td>\n",
              "      <td>15737888</td>\n",
              "      <td>850</td>\n",
              "      <td>2</td>\n",
              "      <td>0</td>\n",
              "      <td>43</td>\n",
              "      <td>2</td>\n",
              "      <td>125510.82</td>\n",
              "      <td>1</td>\n",
              "      <td>1</td>\n",
              "      <td>1</td>\n",
              "      <td>79084.10</td>\n",
              "      <td>0</td>\n",
              "    </tr>\n",
              "  </tbody>\n",
              "</table>\n",
              "</div>"
            ],
            "text/plain": [
              "   RowNumber  CustomerId  CreditScore  ...  IsActiveMember  EstimatedSalary  Exited\n",
              "0          1    15634602          619  ...               1        101348.88       1\n",
              "1          2    15647311          608  ...               1        112542.58       0\n",
              "2          3    15619304          502  ...               0        113931.57       1\n",
              "3          4    15701354          699  ...               0         93826.63       0\n",
              "4          5    15737888          850  ...               1         79084.10       0\n",
              "\n",
              "[5 rows x 13 columns]"
            ]
          },
          "metadata": {
            "tags": []
          },
          "execution_count": 120
        }
      ]
    },
    {
      "cell_type": "code",
      "metadata": {
        "id": "A4ROhYkTmmfK"
      },
      "source": [
        ""
      ],
      "execution_count": 123,
      "outputs": []
    },
    {
      "cell_type": "markdown",
      "metadata": {
        "id": "ILHODk2lpPdz"
      },
      "source": [
        "# Cross Validation"
      ]
    },
    {
      "cell_type": "code",
      "metadata": {
        "id": "mrAcqii0sAhb"
      },
      "source": [
        "X= df_churn2.drop('Exited',axis= 1)\n",
        "\n",
        "y = df_churn2['Exited']"
      ],
      "execution_count": 151,
      "outputs": []
    },
    {
      "cell_type": "code",
      "metadata": {
        "id": "wIvzla3spQGq"
      },
      "source": [
        "def cross_valid (model,name,X =  X, y= y):\n",
        "  \n",
        "  modelo = model()\n",
        "  cv = 10\n",
        "  scoring = 'accuracy' # funcão mse dentro do cross_validation_score\n",
        "  n_jobs = -1\n",
        "  \n",
        "  \n",
        "  score = cross_val_score(modelo,X ,y , cv= cv , scoring= scoring, n_jobs= n_jobs)\n",
        "\n",
        "  Acc = score.mean()\n",
        "\n",
        "\n",
        "\n",
        "  print('Acc',Acc)"
      ],
      "execution_count": 192,
      "outputs": []
    },
    {
      "cell_type": "code",
      "metadata": {
        "id": "cCLmCMulwHIv",
        "outputId": "e276ed68-a0ce-48fe-8549-6550b3245c1f",
        "colab": {
          "base_uri": "https://localhost:8080/",
          "height": 34
        }
      },
      "source": [
        "cross_valid(LinearSVC,'SVC')"
      ],
      "execution_count": 193,
      "outputs": [
        {
          "output_type": "stream",
          "text": [
            "Acc 0.6183\n"
          ],
          "name": "stdout"
        }
      ]
    },
    {
      "cell_type": "code",
      "metadata": {
        "id": "jnzAk9EF2C3l",
        "outputId": "60f55313-1553-4488-a9d3-3c1761d1669f",
        "colab": {
          "base_uri": "https://localhost:8080/",
          "height": 34
        }
      },
      "source": [
        "cross_valid(RandomForestClassifier,'Random_forest')"
      ],
      "execution_count": 194,
      "outputs": [
        {
          "output_type": "stream",
          "text": [
            "Acc 0.8585\n"
          ],
          "name": "stdout"
        }
      ]
    },
    {
      "cell_type": "code",
      "metadata": {
        "id": "aoKwk5lz2DBk",
        "outputId": "b5e66867-bde1-4d38-d114-38175f9d72db",
        "colab": {
          "base_uri": "https://localhost:8080/",
          "height": 34
        }
      },
      "source": [
        "cross_valid(MultinomialNB,'mult')"
      ],
      "execution_count": 195,
      "outputs": [
        {
          "output_type": "stream",
          "text": [
            "Acc 0.5032\n"
          ],
          "name": "stdout"
        }
      ]
    },
    {
      "cell_type": "code",
      "metadata": {
        "id": "BB0OVutm2DLt",
        "outputId": "43156f04-bfd7-4700-b162-17f2210ffcf1",
        "colab": {
          "base_uri": "https://localhost:8080/",
          "height": 34
        }
      },
      "source": [
        "cross_valid(DecisionTreeClassifier,'random')"
      ],
      "execution_count": 196,
      "outputs": [
        {
          "output_type": "stream",
          "text": [
            "Acc 0.7767999999999999\n"
          ],
          "name": "stdout"
        }
      ]
    },
    {
      "cell_type": "code",
      "metadata": {
        "id": "D4TgFfAH2DJX",
        "outputId": "0a9bf20e-496a-4ebc-c440-85bc6bf329f2",
        "colab": {
          "base_uri": "https://localhost:8080/",
          "height": 34
        }
      },
      "source": [
        "cross_valid(GradientBoostingClassifier,'gradient')"
      ],
      "execution_count": 197,
      "outputs": [
        {
          "output_type": "stream",
          "text": [
            "Acc 0.8577\n"
          ],
          "name": "stdout"
        }
      ]
    },
    {
      "cell_type": "code",
      "metadata": {
        "id": "YhCsMh2y2DGJ",
        "outputId": "4b0bd31e-a6b0-4061-c752-5e10abc6469a",
        "colab": {
          "base_uri": "https://localhost:8080/",
          "height": 34
        }
      },
      "source": [
        "cross_valid(XGBClassifier,'xgb')"
      ],
      "execution_count": 198,
      "outputs": [
        {
          "output_type": "stream",
          "text": [
            "Acc 0.8583000000000001\n"
          ],
          "name": "stdout"
        }
      ]
    },
    {
      "cell_type": "markdown",
      "metadata": {
        "id": "WFTtt30jpaPK"
      },
      "source": [
        "# Tuning Hyperparameters"
      ]
    },
    {
      "cell_type": "code",
      "metadata": {
        "id": "uFCVtbBjpcA2"
      },
      "source": [
        ""
      ],
      "execution_count": 198,
      "outputs": []
    },
    {
      "cell_type": "markdown",
      "metadata": {
        "id": "LfFrh22QpitX"
      },
      "source": [
        "# Best Model"
      ]
    },
    {
      "cell_type": "code",
      "metadata": {
        "id": "Hug4PQyPplXN"
      },
      "source": [
        ""
      ],
      "execution_count": 118,
      "outputs": []
    },
    {
      "cell_type": "markdown",
      "metadata": {
        "id": "E_rjhVp7pt52"
      },
      "source": [
        "# Conclusion"
      ]
    },
    {
      "cell_type": "code",
      "metadata": {
        "id": "bYTfuNdPpwPr"
      },
      "source": [
        ""
      ],
      "execution_count": 118,
      "outputs": []
    }
  ]
}