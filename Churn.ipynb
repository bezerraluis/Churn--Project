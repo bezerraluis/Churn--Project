{
  "nbformat": 4,
  "nbformat_minor": 0,
  "metadata": {
    "colab": {
      "name": "Churn.ipynb",
      "provenance": [],
      "authorship_tag": "ABX9TyN0rEUD1oesWrbqp2XkHqUT",
      "include_colab_link": true
    },
    "kernelspec": {
      "display_name": "Python 3",
      "name": "python3"
    }
  },
  "cells": [
    {
      "cell_type": "markdown",
      "metadata": {
        "id": "view-in-github",
        "colab_type": "text"
      },
      "source": [
        "<a href=\"https://colab.research.google.com/github/bezerraluis/Churn--Project/blob/master/Churn.ipynb\" target=\"_parent\"><img src=\"https://colab.research.google.com/assets/colab-badge.svg\" alt=\"Open In Colab\"/></a>"
      ]
    },
    {
      "cell_type": "markdown",
      "metadata": {
        "id": "bbt-d38R8_-2"
      },
      "source": [
        "# Data Set"
      ]
    },
    {
      "cell_type": "markdown",
      "metadata": {
        "id": "xRA-LE5-WliB"
      },
      "source": [
        "Find a copy on :[Kaggle](https://www.kaggle.com/shrutimechlearn/churn-modelling)\r\n",
        "\r\n",
        "![money_churn.jpg](data:image/jpeg;base64,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)"
      ]
    },
    {
      "cell_type": "markdown",
      "metadata": {
        "id": "yRJ1n4HwAzdB"
      },
      "source": [
        "# Hypotheses \n",
        "\n",
        "\n",
        "h1 .Customers with lower scores tend to leave the bank.\n",
        "\n",
        "h2 .The country is decisive for the client to leave the bank\n",
        "\n",
        "h3 .There are more men than women who leave the bank.\n",
        "\n",
        "h4 .Younger customer has a tendency to leave the bank\n",
        "\n",
        "h5 .Customers with up to 2 years as a customer usually leave the bank.\n",
        "\n",
        "h6 .Customers who do not have a credit card tend to leave the bank.\n",
        "\n",
        "\n",
        "\n"
      ]
    },
    {
      "cell_type": "markdown",
      "metadata": {
        "id": "5XW-LJdBKbI9"
      },
      "source": [
        "# Business Problem"
      ]
    },
    {
      "cell_type": "markdown",
      "metadata": {
        "id": "qw52OmPcKfto"
      },
      "source": [
        "Decreasing the number of churns is something that the entire company needs to pursue. It is essential for the growth and health of any operation.\n",
        "\n",
        "How to project growth, attract investors if customer retention fails within organizations.\n",
        "\n",
        "When a user churns, and this is repeated with other people, a very large alert signal needs to be turned on.\n",
        "\n",
        "And a question must be answered: what are we doing wrong?\n",
        "\n",
        "Customers talk to each other. Information is accessible to all. Therefore, working to have an ever lower churn, close to zero, is a tireless pursuit.\n",
        "\n",
        "More than that. Understanding the (especially financial) impact of this metric is vital. It is what will maintain financial health and a safer hike for any business."
      ]
    },
    {
      "cell_type": "markdown",
      "metadata": {
        "id": "Y7nsXVGAOapj"
      },
      "source": [
        "## Business Needs\r\n"
      ]
    },
    {
      "cell_type": "markdown",
      "metadata": {
        "id": "QLbX7SDqOhrt"
      },
      "source": [
        "\n",
        "TheBank needs to understand why the churn rate is increasing and which actions \n",
        "\n",
        "are recommended to reduce this number. They ask you to create a predictive \n",
        "\n",
        "model that helps to explain the probability of a client to churn.\n",
        "\n",
        "The information they need from you is:\n",
        "\n",
        "Current churn rate Model's performance Turnover if your prediction helps to \n",
        "\n",
        "prevent churn If The Bank opts for offering discounts to avoid churn, what \n",
        "\n",
        "would be the total cost for the entitySuggestions to reduce churn"
      ]
    },
    {
      "cell_type": "markdown",
      "metadata": {
        "id": "XV9lLZr3Ugh1"
      },
      "source": [
        "# Solution\r\n",
        "\r\n",
        "Model to predict client's churn probability, using API to receive a customer and output a probability"
      ]
    },
    {
      "cell_type": "markdown",
      "metadata": {
        "id": "o2lgAkUSU92O"
      },
      "source": [
        "# Description\r\n",
        "\r\n",
        "RowNumber - Row Numbers from 1 to 10000\r\n",
        "\r\n",
        "CustomerId - Unique Ids for bank customer identification  \r\n",
        "\r\n",
        "Surname - Customer's last name\r\n",
        "\r\n",
        "CreditScore -  Credit score of the customer\r\n",
        "\r\n",
        "Geography - The country from which the customer belongs\r\n",
        "\r\n",
        "Gender -  Male or Female\r\n",
        "\r\n",
        "Age - Age of the customer\r\n",
        "\r\n",
        "Tenure - Number of years for which the customer has been with the bank\r\n",
        "\r\n",
        "Balance - Bank balance of the customer\r\n",
        "\r\n",
        "NumOfProducts - Number of bank products the customer is utilising"
      ]
    },
    {
      "cell_type": "markdown",
      "metadata": {
        "id": "_ihbgpBgeqCl"
      },
      "source": [
        "# Index:\r\n",
        "\r\n",
        "1 Problema de Negócio.\r\n",
        "\r\n",
        "2 Importações de bibliotecas\r\n",
        "\r\n",
        "3.0 Análise descritiva dos Dados\r\n",
        " \r\n",
        " 3.1 Descrição dos dados\r\n",
        " \r\n",
        " 3.2 Verificando valores nulos\r\n",
        " \r\n",
        " 3.3 Verificando a distribuição e outliers\r\n",
        "\r\n",
        "4.0 Análise Exploratória\r\n",
        "\r\n",
        "5.0 Limpeza de dados\r\n",
        "\r\n",
        "6.0 Preparando os dados \r\n",
        "\r\n",
        "7.0Algoritmo Não Supervisionado\r\n",
        "\r\n",
        "8.0 Algoritmo Supervisionado\r\n",
        "\r\n",
        "9.0 Criando novas variáveis\r\n",
        "\r\n",
        "10.0 SMOTE\r\n",
        "\r\n",
        "11.0 Métricas\r\n",
        "\r\n",
        "12.0 Modelo base"
      ]
    },
    {
      "cell_type": "markdown",
      "metadata": {
        "id": "HWuYPxns9AgK"
      },
      "source": [
        "# 1.0 Frameworks"
      ]
    },
    {
      "cell_type": "code",
      "metadata": {
        "colab": {
          "base_uri": "https://localhost:8080/"
        },
        "id": "bwLLzdeJCFXH",
        "outputId": "5ac48940-da2c-4348-c97f-7018425fd9b9"
      },
      "source": [
        "from google.colab import drive\n",
        "drive.mount('/content/drive')"
      ],
      "execution_count": 54,
      "outputs": [
        {
          "output_type": "stream",
          "text": [
            "Drive already mounted at /content/drive; to attempt to forcibly remount, call drive.mount(\"/content/drive\", force_remount=True).\n"
          ],
          "name": "stdout"
        }
      ]
    },
    {
      "cell_type": "code",
      "metadata": {
        "id": "BlEiEIty12mO",
        "colab": {
          "base_uri": "https://localhost:8080/"
        },
        "outputId": "a898b193-d8b0-4e52-d1be-01d7af19b3eb"
      },
      "source": [
        "from imblearn.over_sampling import SMOTE\n",
        "from imblearn.pipeline import Pipeline\n",
        "from imblearn.under_sampling import RandomUnderSampler\n",
        "from imblearn.over_sampling import RandomOverSampler\n",
        "from sklearn.model_selection import RepeatedStratifiedKFold"
      ],
      "execution_count": 55,
      "outputs": [
        {
          "output_type": "stream",
          "text": [
            "/usr/local/lib/python3.6/dist-packages/sklearn/externals/six.py:31: FutureWarning: The module is deprecated in version 0.21 and will be removed in version 0.23 since we've dropped support for Python 2.7. Please rely on the official version of six (https://pypi.org/project/six/).\n",
            "  \"(https://pypi.org/project/six/).\", FutureWarning)\n",
            "/usr/local/lib/python3.6/dist-packages/sklearn/utils/deprecation.py:144: FutureWarning: The sklearn.neighbors.base module is  deprecated in version 0.22 and will be removed in version 0.24. The corresponding classes / functions should instead be imported from sklearn.neighbors. Anything that cannot be imported from sklearn.neighbors is now part of the private API.\n",
            "  warnings.warn(message, FutureWarning)\n"
          ],
          "name": "stderr"
        }
      ]
    },
    {
      "cell_type": "code",
      "metadata": {
        "id": "bYRx_opm_xku"
      },
      "source": [
        "import pandas as pd\n",
        "import numpy as np\n",
        "import seaborn as sns\n",
        "import matplotlib.pyplot as plt\n",
        "import lightgbm as lgb\n",
        "from sklearn import metrics\n",
        "from sklearn.model_selection import train_test_split\n",
        "from sklearn.model_selection import GridSearchCV\n",
        "from sklearn.preprocessing import MinMaxScaler , StandardScaler\n",
        "from sklearn.preprocessing import OrdinalEncoder\n",
        "from sklearn.metrics import confusion_matrix\n",
        "from sklearn.metrics import plot_confusion_matrix\n",
        "from sklearn.metrics import precision_recall_fscore_support\n",
        "from sklearn.metrics import classification_report\n",
        "from sklearn.metrics import f1_score\n",
        "from sklearn.metrics import accuracy_score\n",
        "from sklearn.model_selection import train_test_split , KFold , cross_val_score,StratifiedKFold\n",
        "from sklearn.preprocessing import LabelEncoder\n",
        "from sklearn.preprocessing import PowerTransformer\n",
        "from sklearn.svm import LinearSVC\n",
        "from sklearn.linear_model import LogisticRegression\n",
        "from sklearn.ensemble import RandomForestClassifier\n",
        "from sklearn.ensemble import BaggingClassifier\n",
        "from sklearn.svm import SVC\n",
        "from sklearn.naive_bayes import GaussianNB, BernoulliNB, MultinomialNB\n",
        "from sklearn.tree import DecisionTreeClassifier\n",
        "from sklearn.ensemble import GradientBoostingClassifier\n",
        "from sklearn.linear_model import LogisticRegression\n",
        "from sklearn.discriminant_analysis import QuadraticDiscriminantAnalysis, LinearDiscriminantAnalysis\n",
        "from sklearn.neighbors import KNeighborsClassifier\n",
        "from xgboost import XGBClassifier\n",
        "from sklearn.cluster import KMeans\n",
        "\n",
        "# para tirar os valores de notação científica\n",
        "pd.set_option('display.float_format', lambda x: f'{x:,.3f}')\n",
        "\n",
        "\n",
        "\n",
        "\n",
        "# Desabilitando warnings\n",
        "import warnings\n",
        "warnings.filterwarnings('ignore')\n",
        "\n",
        "%matplotlib inline\n"
      ],
      "execution_count": 229,
      "outputs": []
    },
    {
      "cell_type": "markdown",
      "metadata": {
        "id": "M18WVgM0dc9S"
      },
      "source": [
        "# Helper Function"
      ]
    },
    {
      "cell_type": "code",
      "metadata": {
        "id": "zhT2g_3OdcaD"
      },
      "source": [
        "def Myheat_map(dataset, variaveis):\r\n",
        "\r\n",
        "    df_corr = dataset[variaveis].corr()\r\n",
        "\r\n",
        "    fig, ax = plt.subplots(figsize=(16, 10))\r\n",
        "    # mask\r\n",
        "    mask = np.triu(np.ones_like(df_corr, dtype=np.bool))\r\n",
        "    # adjust mask and df\r\n",
        "    mask = mask[1:, :-1]\r\n",
        "    corr = df_corr.iloc[1:,:-1].copy()\r\n",
        "    # color map\r\n",
        "    cmap = sns.diverging_palette(0, 230, 90, 60, as_cmap=True)\r\n",
        "\r\n",
        "    # plot heatmap\r\n",
        "    sns.heatmap(corr, mask=mask, annot=True, fmt=\".2f\",\r\n",
        "                   linewidths=5, cmap=cmap, vmin=-1, vmax=1, \r\n",
        "                   cbar_kws={\"shrink\": .8}, square=True)\r\n",
        "    yticks = [i.upper() for i in corr.index]\r\n",
        "    xticks = [i.upper() for i in corr.columns]\r\n",
        "    plt.yticks(plt.yticks()[0], labels=yticks, rotation=0)\r\n",
        "    plt.xticks(plt.xticks()[0], labels=xticks, rotation=20)\r\n",
        "\r\n",
        "    # title\r\n",
        "    title = 'CORRELATION MATRIX\\n'\r\n",
        "    plt.title(title, loc='left', fontsize=18)\r\n",
        "    plt.show()\r\n",
        "    \r\n",
        "def cramer_v(var_x, var_y):\r\n",
        "\r\n",
        "    # builds contigency matrix (or confusion matrix)\r\n",
        "    confusion_matrix_v = pd.crosstab(var_x, var_y).values\r\n",
        "\r\n",
        "    # gets the sum of all values in the matrix\r\n",
        "    n = confusion_matrix_v.sum()\r\n",
        "\r\n",
        "    # gets the rows, cols\r\n",
        "    r, k = confusion_matrix_v.shape\r\n",
        "\r\n",
        "    # gets the chi-squared\r\n",
        "    chi2 = chi2_contingency(confusion_matrix_v)[0]\r\n",
        "\r\n",
        "    # makes the bias correction\r\n",
        "    chi2corr = max(0, chi2 - (k-1) * (r-1) / (n-1))\r\n",
        "    kcorr = k - (k-1) ** 2 / (n-1)\r\n",
        "    rcorr = r - (r-1) ** 2 / (n-1)\r\n",
        "\r\n",
        "    # returns cramér V\r\n",
        "    return np.sqrt((chi2corr/n) / min(kcorr-1, rcorr-1))\r\n",
        "\r\n",
        "def model_selection(X_train, y_train, X_test, y_test):\r\n",
        "\r\n",
        "    # Modelos\r\n",
        "    models = [('lr',LogisticRegression(),1),\r\n",
        "              ('svm',SVC(),2),\r\n",
        "              ('lda',LinearDiscriminantAnalysis(),3),\r\n",
        "              ('qda',QuadraticDiscriminantAnalysis(),4),\r\n",
        "              ('dt',DecisionTreeClassifier(),5),\r\n",
        "              ('rf', RandomForestClassifier(class_weight=\"balanced\"),6),\r\n",
        "              ('lgb',lgb.LGBMClassifier(),7),\r\n",
        "              ('xgboost', XGBClassifier(),8),\r\n",
        "              ('bagging',BaggingClassifier(),9),\r\n",
        "              ('knn',KNeighborsClassifier(),10)]\r\n",
        "\r\n",
        "    # Resultados\r\n",
        "    resultados = {'LR': [],\r\n",
        "                  'SVM': [],\r\n",
        "                  'LDA': [],\r\n",
        "                  'QDA': [],\r\n",
        "                  'DecisionTree': [],\r\n",
        "                  'RandomForestClassifier': [],\r\n",
        "                  'LGBM': [],\r\n",
        "                  'XGBOOST': [],\r\n",
        "                  'BAGGING':[],\r\n",
        "                  'KNN':[]}\r\n",
        "\r\n",
        "    # Testando algoritmos\r\n",
        "    for name, model,_ in models:\r\n",
        "        \r\n",
        "        counter = 0\r\n",
        "        resultado = []\r\n",
        "        while counter <= 10:\r\n",
        "        \r\n",
        "            # resultado\r\n",
        "            model.fit(X_train, y_train)\r\n",
        "            pred = model.predict(X_test)\r\n",
        "            score = f1_score(y_test, pred)\r\n",
        "            resultado.append(score)\r\n",
        "            counter += 1\r\n",
        "\r\n",
        "\r\n",
        "        if name == 'lr':\r\n",
        "            resultados['LR'].append(np.mean(resultado))\r\n",
        "        elif name == 'knn':\r\n",
        "            resultados['KNN'].append(np.mean(resultado)) \r\n",
        "        elif name == 'svm':\r\n",
        "            resultados['SVM'].append(np.mean(resultado))\r\n",
        "        elif name == 'dt':\r\n",
        "            resultados['DecisionTree'].append(np.mean(resultado))\r\n",
        "        elif name == 'rf':\r\n",
        "            resultados['RandomForestClassifier'].append(np.mean(resultado))\r\n",
        "        elif name == 'lgb':\r\n",
        "            resultados['LGBM'].append(np.mean(resultado))\r\n",
        "        elif name == 'xgboost':\r\n",
        "            resultados['XGBOOST'].append(np.mean(resultado))\r\n",
        "        elif name =='lda':\r\n",
        "            resultados['LDA'].append(np.mean(resultado))\r\n",
        "        elif name == 'qda':\r\n",
        "            resultados['QDA'].append(np.mean(resultado))\r\n",
        "        elif name == 'bagging':\r\n",
        "            resultados['BAGGING'].append(np.mean(resultado))\r\n",
        "   \r\n",
        "\r\n",
        "    # Painel\r\n",
        "    resultados_df = pd.DataFrame(resultados)\r\n",
        "    return resultados_df"
      ],
      "execution_count": 206,
      "outputs": []
    },
    {
      "cell_type": "markdown",
      "metadata": {
        "id": "1uHeBu0jP7e2"
      },
      "source": [
        "# 2.0 Descriptive Data Analysis"
      ]
    },
    {
      "cell_type": "markdown",
      "metadata": {
        "id": "UTwlMO7DH4C4"
      },
      "source": [
        "## 2.1 Viewing data"
      ]
    },
    {
      "cell_type": "code",
      "metadata": {
        "id": "0Y_p5_ud_927"
      },
      "source": [
        "df_churn= pd.read_csv('/content/drive/My Drive/Todos os arquivos do pc antigo/datasets Kaggle/churn.csv')"
      ],
      "execution_count": 57,
      "outputs": []
    },
    {
      "cell_type": "code",
      "metadata": {
        "id": "pc7mM-vpAElz",
        "colab": {
          "base_uri": "https://localhost:8080/",
          "height": 224
        },
        "outputId": "c6deeb24-d778-48ba-85d3-8a063cff7b7c"
      },
      "source": [
        "df_churn.head()"
      ],
      "execution_count": 58,
      "outputs": [
        {
          "output_type": "execute_result",
          "data": {
            "text/html": [
              "<div>\n",
              "<style scoped>\n",
              "    .dataframe tbody tr th:only-of-type {\n",
              "        vertical-align: middle;\n",
              "    }\n",
              "\n",
              "    .dataframe tbody tr th {\n",
              "        vertical-align: top;\n",
              "    }\n",
              "\n",
              "    .dataframe thead th {\n",
              "        text-align: right;\n",
              "    }\n",
              "</style>\n",
              "<table border=\"1\" class=\"dataframe\">\n",
              "  <thead>\n",
              "    <tr style=\"text-align: right;\">\n",
              "      <th></th>\n",
              "      <th>RowNumber</th>\n",
              "      <th>CustomerId</th>\n",
              "      <th>Surname</th>\n",
              "      <th>CreditScore</th>\n",
              "      <th>Geography</th>\n",
              "      <th>Gender</th>\n",
              "      <th>Age</th>\n",
              "      <th>Tenure</th>\n",
              "      <th>Balance</th>\n",
              "      <th>NumOfProducts</th>\n",
              "      <th>HasCrCard</th>\n",
              "      <th>IsActiveMember</th>\n",
              "      <th>EstimatedSalary</th>\n",
              "      <th>Exited</th>\n",
              "    </tr>\n",
              "  </thead>\n",
              "  <tbody>\n",
              "    <tr>\n",
              "      <th>0</th>\n",
              "      <td>1</td>\n",
              "      <td>15634602</td>\n",
              "      <td>Hargrave</td>\n",
              "      <td>619</td>\n",
              "      <td>France</td>\n",
              "      <td>Female</td>\n",
              "      <td>42</td>\n",
              "      <td>2</td>\n",
              "      <td>0.000</td>\n",
              "      <td>1</td>\n",
              "      <td>1</td>\n",
              "      <td>1</td>\n",
              "      <td>101,348.880</td>\n",
              "      <td>1</td>\n",
              "    </tr>\n",
              "    <tr>\n",
              "      <th>1</th>\n",
              "      <td>2</td>\n",
              "      <td>15647311</td>\n",
              "      <td>Hill</td>\n",
              "      <td>608</td>\n",
              "      <td>Spain</td>\n",
              "      <td>Female</td>\n",
              "      <td>41</td>\n",
              "      <td>1</td>\n",
              "      <td>83,807.860</td>\n",
              "      <td>1</td>\n",
              "      <td>0</td>\n",
              "      <td>1</td>\n",
              "      <td>112,542.580</td>\n",
              "      <td>0</td>\n",
              "    </tr>\n",
              "    <tr>\n",
              "      <th>2</th>\n",
              "      <td>3</td>\n",
              "      <td>15619304</td>\n",
              "      <td>Onio</td>\n",
              "      <td>502</td>\n",
              "      <td>France</td>\n",
              "      <td>Female</td>\n",
              "      <td>42</td>\n",
              "      <td>8</td>\n",
              "      <td>159,660.800</td>\n",
              "      <td>3</td>\n",
              "      <td>1</td>\n",
              "      <td>0</td>\n",
              "      <td>113,931.570</td>\n",
              "      <td>1</td>\n",
              "    </tr>\n",
              "    <tr>\n",
              "      <th>3</th>\n",
              "      <td>4</td>\n",
              "      <td>15701354</td>\n",
              "      <td>Boni</td>\n",
              "      <td>699</td>\n",
              "      <td>France</td>\n",
              "      <td>Female</td>\n",
              "      <td>39</td>\n",
              "      <td>1</td>\n",
              "      <td>0.000</td>\n",
              "      <td>2</td>\n",
              "      <td>0</td>\n",
              "      <td>0</td>\n",
              "      <td>93,826.630</td>\n",
              "      <td>0</td>\n",
              "    </tr>\n",
              "    <tr>\n",
              "      <th>4</th>\n",
              "      <td>5</td>\n",
              "      <td>15737888</td>\n",
              "      <td>Mitchell</td>\n",
              "      <td>850</td>\n",
              "      <td>Spain</td>\n",
              "      <td>Female</td>\n",
              "      <td>43</td>\n",
              "      <td>2</td>\n",
              "      <td>125,510.820</td>\n",
              "      <td>1</td>\n",
              "      <td>1</td>\n",
              "      <td>1</td>\n",
              "      <td>79,084.100</td>\n",
              "      <td>0</td>\n",
              "    </tr>\n",
              "  </tbody>\n",
              "</table>\n",
              "</div>"
            ],
            "text/plain": [
              "   RowNumber  CustomerId   Surname  ...  IsActiveMember EstimatedSalary Exited\n",
              "0          1    15634602  Hargrave  ...               1     101,348.880      1\n",
              "1          2    15647311      Hill  ...               1     112,542.580      0\n",
              "2          3    15619304      Onio  ...               0     113,931.570      1\n",
              "3          4    15701354      Boni  ...               0      93,826.630      0\n",
              "4          5    15737888  Mitchell  ...               1      79,084.100      0\n",
              "\n",
              "[5 rows x 14 columns]"
            ]
          },
          "metadata": {
            "tags": []
          },
          "execution_count": 58
        }
      ]
    },
    {
      "cell_type": "markdown",
      "metadata": {
        "id": "oRbl1d2AIKpM"
      },
      "source": [
        "## 2.2 Missing Values"
      ]
    },
    {
      "cell_type": "markdown",
      "metadata": {
        "id": "UAip7YUZQUl-"
      },
      "source": [
        "\n",
        "We do not have missing values"
      ]
    },
    {
      "cell_type": "code",
      "metadata": {
        "id": "494urThjAGZO",
        "colab": {
          "base_uri": "https://localhost:8080/"
        },
        "outputId": "a8ec2556-59ed-47de-e5b5-ab8b86d4222e"
      },
      "source": [
        "df_churn.info()"
      ],
      "execution_count": 59,
      "outputs": [
        {
          "output_type": "stream",
          "text": [
            "<class 'pandas.core.frame.DataFrame'>\n",
            "RangeIndex: 10000 entries, 0 to 9999\n",
            "Data columns (total 14 columns):\n",
            " #   Column           Non-Null Count  Dtype  \n",
            "---  ------           --------------  -----  \n",
            " 0   RowNumber        10000 non-null  int64  \n",
            " 1   CustomerId       10000 non-null  int64  \n",
            " 2   Surname          10000 non-null  object \n",
            " 3   CreditScore      10000 non-null  int64  \n",
            " 4   Geography        10000 non-null  object \n",
            " 5   Gender           10000 non-null  object \n",
            " 6   Age              10000 non-null  int64  \n",
            " 7   Tenure           10000 non-null  int64  \n",
            " 8   Balance          10000 non-null  float64\n",
            " 9   NumOfProducts    10000 non-null  int64  \n",
            " 10  HasCrCard        10000 non-null  int64  \n",
            " 11  IsActiveMember   10000 non-null  int64  \n",
            " 12  EstimatedSalary  10000 non-null  float64\n",
            " 13  Exited           10000 non-null  int64  \n",
            "dtypes: float64(2), int64(9), object(3)\n",
            "memory usage: 1.1+ MB\n"
          ],
          "name": "stdout"
        }
      ]
    },
    {
      "cell_type": "markdown",
      "metadata": {
        "id": "rPIZYDZbRQrU"
      },
      "source": [
        "## 2.3 checking the classes"
      ]
    },
    {
      "cell_type": "markdown",
      "metadata": {
        "id": "gNM3ySM6QlzN"
      },
      "source": [
        " 80 % of the customers did not close account "
      ]
    },
    {
      "cell_type": "code",
      "metadata": {
        "colab": {
          "base_uri": "https://localhost:8080/",
          "height": 214
        },
        "id": "DyUoeA6PKNLF",
        "outputId": "b03a31e0-6664-4d4d-df15-08e5bddd9450"
      },
      "source": [
        "stay = (exited[0] / len(df_churn2))*100\n",
        "\n",
        "print(stay,'%')\n",
        "\n"
      ],
      "execution_count": 60,
      "outputs": [
        {
          "output_type": "error",
          "ename": "NameError",
          "evalue": "ignored",
          "traceback": [
            "\u001b[0;31m---------------------------------------------------------------------------\u001b[0m",
            "\u001b[0;31mNameError\u001b[0m                                 Traceback (most recent call last)",
            "\u001b[0;32m<ipython-input-60-79e38148b4db>\u001b[0m in \u001b[0;36m<module>\u001b[0;34m()\u001b[0m\n\u001b[0;32m----> 1\u001b[0;31m \u001b[0mstay\u001b[0m \u001b[0;34m=\u001b[0m \u001b[0;34m(\u001b[0m\u001b[0mexited\u001b[0m\u001b[0;34m[\u001b[0m\u001b[0;36m0\u001b[0m\u001b[0;34m]\u001b[0m \u001b[0;34m/\u001b[0m \u001b[0mlen\u001b[0m\u001b[0;34m(\u001b[0m\u001b[0mdf_churn2\u001b[0m\u001b[0;34m)\u001b[0m\u001b[0;34m)\u001b[0m\u001b[0;34m*\u001b[0m\u001b[0;36m100\u001b[0m\u001b[0;34m\u001b[0m\u001b[0;34m\u001b[0m\u001b[0m\n\u001b[0m\u001b[1;32m      2\u001b[0m \u001b[0;34m\u001b[0m\u001b[0m\n\u001b[1;32m      3\u001b[0m \u001b[0mprint\u001b[0m\u001b[0;34m(\u001b[0m\u001b[0mstay\u001b[0m\u001b[0;34m,\u001b[0m\u001b[0;34m'%'\u001b[0m\u001b[0;34m)\u001b[0m\u001b[0;34m\u001b[0m\u001b[0;34m\u001b[0m\u001b[0m\n\u001b[1;32m      4\u001b[0m \u001b[0;34m\u001b[0m\u001b[0m\n",
            "\u001b[0;31mNameError\u001b[0m: name 'exited' is not defined"
          ]
        }
      ]
    },
    {
      "cell_type": "markdown",
      "metadata": {
        "id": "bHgG7DlEKNLO"
      },
      "source": [
        "*We* have  inbalanced classes on our data set "
      ]
    },
    {
      "cell_type": "code",
      "metadata": {
        "colab": {
          "base_uri": "https://localhost:8080/",
          "height": 197
        },
        "id": "X_IIXk0aKNLP",
        "outputId": "ab47c388-a90b-4133-e254-af3317fa1128"
      },
      "source": [
        "leave = (exited[1] / len(df_churn2))*100\n",
        "\n",
        "leave"
      ],
      "execution_count": 61,
      "outputs": [
        {
          "output_type": "error",
          "ename": "NameError",
          "evalue": "ignored",
          "traceback": [
            "\u001b[0;31m---------------------------------------------------------------------------\u001b[0m",
            "\u001b[0;31mNameError\u001b[0m                                 Traceback (most recent call last)",
            "\u001b[0;32m<ipython-input-61-efdbe7446d21>\u001b[0m in \u001b[0;36m<module>\u001b[0;34m()\u001b[0m\n\u001b[0;32m----> 1\u001b[0;31m \u001b[0mleave\u001b[0m \u001b[0;34m=\u001b[0m \u001b[0;34m(\u001b[0m\u001b[0mexited\u001b[0m\u001b[0;34m[\u001b[0m\u001b[0;36m1\u001b[0m\u001b[0;34m]\u001b[0m \u001b[0;34m/\u001b[0m \u001b[0mlen\u001b[0m\u001b[0;34m(\u001b[0m\u001b[0mdf_churn2\u001b[0m\u001b[0;34m)\u001b[0m\u001b[0;34m)\u001b[0m\u001b[0;34m*\u001b[0m\u001b[0;36m100\u001b[0m\u001b[0;34m\u001b[0m\u001b[0;34m\u001b[0m\u001b[0m\n\u001b[0m\u001b[1;32m      2\u001b[0m \u001b[0;34m\u001b[0m\u001b[0m\n\u001b[1;32m      3\u001b[0m \u001b[0mleave\u001b[0m\u001b[0;34m\u001b[0m\u001b[0;34m\u001b[0m\u001b[0m\n",
            "\u001b[0;31mNameError\u001b[0m: name 'exited' is not defined"
          ]
        }
      ]
    },
    {
      "cell_type": "markdown",
      "metadata": {
        "id": "5YbbmrLlKXMR"
      },
      "source": [
        "## 2.4 Distribution and Data"
      ]
    },
    {
      "cell_type": "markdown",
      "metadata": {
        "id": "9rO7VP7DSkjX"
      },
      "source": [
        "### 2.4.1 Row Number"
      ]
    },
    {
      "cell_type": "code",
      "metadata": {
        "id": "XAs7VvMvSoHk",
        "colab": {
          "base_uri": "https://localhost:8080/"
        },
        "outputId": "691351a9-2ec9-4f29-f7fc-5a0cc66c3183"
      },
      "source": [
        "df_churn['RowNumber'].unique()"
      ],
      "execution_count": 62,
      "outputs": [
        {
          "output_type": "execute_result",
          "data": {
            "text/plain": [
              "array([    1,     2,     3, ...,  9998,  9999, 10000])"
            ]
          },
          "metadata": {
            "tags": []
          },
          "execution_count": 62
        }
      ]
    },
    {
      "cell_type": "markdown",
      "metadata": {
        "id": "Nu5XGziWTRor"
      },
      "source": [
        "As we can see RowNumber is just a line identifier so it has no predictive power and we will delete it"
      ]
    },
    {
      "cell_type": "code",
      "metadata": {
        "id": "DwnylkzmS4j9"
      },
      "source": [
        "df_churn2 = df_churn.drop('RowNumber',axis= 1)"
      ],
      "execution_count": 63,
      "outputs": []
    },
    {
      "cell_type": "code",
      "metadata": {
        "id": "dQozIG8VqeDu",
        "colab": {
          "base_uri": "https://localhost:8080/",
          "height": 224
        },
        "outputId": "34cf1319-27a0-4d28-b751-ab5a46da2c82"
      },
      "source": [
        "df_churn2.head()"
      ],
      "execution_count": 64,
      "outputs": [
        {
          "output_type": "execute_result",
          "data": {
            "text/html": [
              "<div>\n",
              "<style scoped>\n",
              "    .dataframe tbody tr th:only-of-type {\n",
              "        vertical-align: middle;\n",
              "    }\n",
              "\n",
              "    .dataframe tbody tr th {\n",
              "        vertical-align: top;\n",
              "    }\n",
              "\n",
              "    .dataframe thead th {\n",
              "        text-align: right;\n",
              "    }\n",
              "</style>\n",
              "<table border=\"1\" class=\"dataframe\">\n",
              "  <thead>\n",
              "    <tr style=\"text-align: right;\">\n",
              "      <th></th>\n",
              "      <th>CustomerId</th>\n",
              "      <th>Surname</th>\n",
              "      <th>CreditScore</th>\n",
              "      <th>Geography</th>\n",
              "      <th>Gender</th>\n",
              "      <th>Age</th>\n",
              "      <th>Tenure</th>\n",
              "      <th>Balance</th>\n",
              "      <th>NumOfProducts</th>\n",
              "      <th>HasCrCard</th>\n",
              "      <th>IsActiveMember</th>\n",
              "      <th>EstimatedSalary</th>\n",
              "      <th>Exited</th>\n",
              "    </tr>\n",
              "  </thead>\n",
              "  <tbody>\n",
              "    <tr>\n",
              "      <th>0</th>\n",
              "      <td>15634602</td>\n",
              "      <td>Hargrave</td>\n",
              "      <td>619</td>\n",
              "      <td>France</td>\n",
              "      <td>Female</td>\n",
              "      <td>42</td>\n",
              "      <td>2</td>\n",
              "      <td>0.000</td>\n",
              "      <td>1</td>\n",
              "      <td>1</td>\n",
              "      <td>1</td>\n",
              "      <td>101,348.880</td>\n",
              "      <td>1</td>\n",
              "    </tr>\n",
              "    <tr>\n",
              "      <th>1</th>\n",
              "      <td>15647311</td>\n",
              "      <td>Hill</td>\n",
              "      <td>608</td>\n",
              "      <td>Spain</td>\n",
              "      <td>Female</td>\n",
              "      <td>41</td>\n",
              "      <td>1</td>\n",
              "      <td>83,807.860</td>\n",
              "      <td>1</td>\n",
              "      <td>0</td>\n",
              "      <td>1</td>\n",
              "      <td>112,542.580</td>\n",
              "      <td>0</td>\n",
              "    </tr>\n",
              "    <tr>\n",
              "      <th>2</th>\n",
              "      <td>15619304</td>\n",
              "      <td>Onio</td>\n",
              "      <td>502</td>\n",
              "      <td>France</td>\n",
              "      <td>Female</td>\n",
              "      <td>42</td>\n",
              "      <td>8</td>\n",
              "      <td>159,660.800</td>\n",
              "      <td>3</td>\n",
              "      <td>1</td>\n",
              "      <td>0</td>\n",
              "      <td>113,931.570</td>\n",
              "      <td>1</td>\n",
              "    </tr>\n",
              "    <tr>\n",
              "      <th>3</th>\n",
              "      <td>15701354</td>\n",
              "      <td>Boni</td>\n",
              "      <td>699</td>\n",
              "      <td>France</td>\n",
              "      <td>Female</td>\n",
              "      <td>39</td>\n",
              "      <td>1</td>\n",
              "      <td>0.000</td>\n",
              "      <td>2</td>\n",
              "      <td>0</td>\n",
              "      <td>0</td>\n",
              "      <td>93,826.630</td>\n",
              "      <td>0</td>\n",
              "    </tr>\n",
              "    <tr>\n",
              "      <th>4</th>\n",
              "      <td>15737888</td>\n",
              "      <td>Mitchell</td>\n",
              "      <td>850</td>\n",
              "      <td>Spain</td>\n",
              "      <td>Female</td>\n",
              "      <td>43</td>\n",
              "      <td>2</td>\n",
              "      <td>125,510.820</td>\n",
              "      <td>1</td>\n",
              "      <td>1</td>\n",
              "      <td>1</td>\n",
              "      <td>79,084.100</td>\n",
              "      <td>0</td>\n",
              "    </tr>\n",
              "  </tbody>\n",
              "</table>\n",
              "</div>"
            ],
            "text/plain": [
              "   CustomerId   Surname  CreditScore  ... IsActiveMember EstimatedSalary  Exited\n",
              "0    15634602  Hargrave          619  ...              1     101,348.880       1\n",
              "1    15647311      Hill          608  ...              1     112,542.580       0\n",
              "2    15619304      Onio          502  ...              0     113,931.570       1\n",
              "3    15701354      Boni          699  ...              0      93,826.630       0\n",
              "4    15737888  Mitchell          850  ...              1      79,084.100       0\n",
              "\n",
              "[5 rows x 13 columns]"
            ]
          },
          "metadata": {
            "tags": []
          },
          "execution_count": 64
        }
      ]
    },
    {
      "cell_type": "markdown",
      "metadata": {
        "id": "p2_ZgSVeTpob"
      },
      "source": [
        "### 2.4.2 CustomerId"
      ]
    },
    {
      "cell_type": "code",
      "metadata": {
        "id": "ptU52FGsTtGS",
        "colab": {
          "base_uri": "https://localhost:8080/"
        },
        "outputId": "3b528d09-10ed-4c42-aac1-afb98608a280"
      },
      "source": [
        "df_churn['CustomerId'].unique()"
      ],
      "execution_count": 65,
      "outputs": [
        {
          "output_type": "execute_result",
          "data": {
            "text/plain": [
              "array([15634602, 15647311, 15619304, ..., 15584532, 15682355, 15628319])"
            ]
          },
          "metadata": {
            "tags": []
          },
          "execution_count": 65
        }
      ]
    },
    {
      "cell_type": "markdown",
      "metadata": {
        "id": "hyeT_lKmzVik"
      },
      "source": [
        "The same goes to CustomerID"
      ]
    },
    {
      "cell_type": "code",
      "metadata": {
        "id": "PpMckvApTrYA"
      },
      "source": [
        "df_churn2 = df_churn.drop('CustomerId',axis= 1)"
      ],
      "execution_count": 66,
      "outputs": []
    },
    {
      "cell_type": "markdown",
      "metadata": {
        "id": "OWYo-ZCtzeby"
      },
      "source": [
        "### 2.4.3 Surname   "
      ]
    },
    {
      "cell_type": "code",
      "metadata": {
        "id": "5TuIpZI0zkWp",
        "colab": {
          "base_uri": "https://localhost:8080/"
        },
        "outputId": "17415676-a514-4d35-c1ac-7c29244278dc"
      },
      "source": [
        "df_churn['Surname'].unique()"
      ],
      "execution_count": 67,
      "outputs": [
        {
          "output_type": "execute_result",
          "data": {
            "text/plain": [
              "array(['Hargrave', 'Hill', 'Onio', ..., 'Kashiwagi', 'Aldridge',\n",
              "       'Burbidge'], dtype=object)"
            ]
          },
          "metadata": {
            "tags": []
          },
          "execution_count": 67
        }
      ]
    },
    {
      "cell_type": "markdown",
      "metadata": {
        "id": "pl21Omv-0L-Q"
      },
      "source": [
        "There is no relation between churn and Surname, we are going to drop it.\n"
      ]
    },
    {
      "cell_type": "code",
      "metadata": {
        "id": "ToqfGgNdztv4"
      },
      "source": [
        "df_churn2 = df_churn.drop('Surname',axis= 1)"
      ],
      "execution_count": 68,
      "outputs": []
    },
    {
      "cell_type": "code",
      "metadata": {
        "id": "OH1zjrvFqmZM",
        "colab": {
          "base_uri": "https://localhost:8080/",
          "height": 224
        },
        "outputId": "2b349f47-89c2-4315-8b91-7b7a53d143b8"
      },
      "source": [
        "df_churn2.head()"
      ],
      "execution_count": 69,
      "outputs": [
        {
          "output_type": "execute_result",
          "data": {
            "text/html": [
              "<div>\n",
              "<style scoped>\n",
              "    .dataframe tbody tr th:only-of-type {\n",
              "        vertical-align: middle;\n",
              "    }\n",
              "\n",
              "    .dataframe tbody tr th {\n",
              "        vertical-align: top;\n",
              "    }\n",
              "\n",
              "    .dataframe thead th {\n",
              "        text-align: right;\n",
              "    }\n",
              "</style>\n",
              "<table border=\"1\" class=\"dataframe\">\n",
              "  <thead>\n",
              "    <tr style=\"text-align: right;\">\n",
              "      <th></th>\n",
              "      <th>RowNumber</th>\n",
              "      <th>CustomerId</th>\n",
              "      <th>CreditScore</th>\n",
              "      <th>Geography</th>\n",
              "      <th>Gender</th>\n",
              "      <th>Age</th>\n",
              "      <th>Tenure</th>\n",
              "      <th>Balance</th>\n",
              "      <th>NumOfProducts</th>\n",
              "      <th>HasCrCard</th>\n",
              "      <th>IsActiveMember</th>\n",
              "      <th>EstimatedSalary</th>\n",
              "      <th>Exited</th>\n",
              "    </tr>\n",
              "  </thead>\n",
              "  <tbody>\n",
              "    <tr>\n",
              "      <th>0</th>\n",
              "      <td>1</td>\n",
              "      <td>15634602</td>\n",
              "      <td>619</td>\n",
              "      <td>France</td>\n",
              "      <td>Female</td>\n",
              "      <td>42</td>\n",
              "      <td>2</td>\n",
              "      <td>0.000</td>\n",
              "      <td>1</td>\n",
              "      <td>1</td>\n",
              "      <td>1</td>\n",
              "      <td>101,348.880</td>\n",
              "      <td>1</td>\n",
              "    </tr>\n",
              "    <tr>\n",
              "      <th>1</th>\n",
              "      <td>2</td>\n",
              "      <td>15647311</td>\n",
              "      <td>608</td>\n",
              "      <td>Spain</td>\n",
              "      <td>Female</td>\n",
              "      <td>41</td>\n",
              "      <td>1</td>\n",
              "      <td>83,807.860</td>\n",
              "      <td>1</td>\n",
              "      <td>0</td>\n",
              "      <td>1</td>\n",
              "      <td>112,542.580</td>\n",
              "      <td>0</td>\n",
              "    </tr>\n",
              "    <tr>\n",
              "      <th>2</th>\n",
              "      <td>3</td>\n",
              "      <td>15619304</td>\n",
              "      <td>502</td>\n",
              "      <td>France</td>\n",
              "      <td>Female</td>\n",
              "      <td>42</td>\n",
              "      <td>8</td>\n",
              "      <td>159,660.800</td>\n",
              "      <td>3</td>\n",
              "      <td>1</td>\n",
              "      <td>0</td>\n",
              "      <td>113,931.570</td>\n",
              "      <td>1</td>\n",
              "    </tr>\n",
              "    <tr>\n",
              "      <th>3</th>\n",
              "      <td>4</td>\n",
              "      <td>15701354</td>\n",
              "      <td>699</td>\n",
              "      <td>France</td>\n",
              "      <td>Female</td>\n",
              "      <td>39</td>\n",
              "      <td>1</td>\n",
              "      <td>0.000</td>\n",
              "      <td>2</td>\n",
              "      <td>0</td>\n",
              "      <td>0</td>\n",
              "      <td>93,826.630</td>\n",
              "      <td>0</td>\n",
              "    </tr>\n",
              "    <tr>\n",
              "      <th>4</th>\n",
              "      <td>5</td>\n",
              "      <td>15737888</td>\n",
              "      <td>850</td>\n",
              "      <td>Spain</td>\n",
              "      <td>Female</td>\n",
              "      <td>43</td>\n",
              "      <td>2</td>\n",
              "      <td>125,510.820</td>\n",
              "      <td>1</td>\n",
              "      <td>1</td>\n",
              "      <td>1</td>\n",
              "      <td>79,084.100</td>\n",
              "      <td>0</td>\n",
              "    </tr>\n",
              "  </tbody>\n",
              "</table>\n",
              "</div>"
            ],
            "text/plain": [
              "   RowNumber  CustomerId  CreditScore  ... IsActiveMember EstimatedSalary  Exited\n",
              "0          1    15634602          619  ...              1     101,348.880       1\n",
              "1          2    15647311          608  ...              1     112,542.580       0\n",
              "2          3    15619304          502  ...              0     113,931.570       1\n",
              "3          4    15701354          699  ...              0      93,826.630       0\n",
              "4          5    15737888          850  ...              1      79,084.100       0\n",
              "\n",
              "[5 rows x 13 columns]"
            ]
          },
          "metadata": {
            "tags": []
          },
          "execution_count": 69
        }
      ]
    },
    {
      "cell_type": "markdown",
      "metadata": {
        "id": "fF7rwRM82uds"
      },
      "source": [
        "### 2.4.4 CreditScore  "
      ]
    },
    {
      "cell_type": "markdown",
      "metadata": {
        "id": "pqvnR6E_7p36"
      },
      "source": [
        "We have a good distribution of the data. A standard deviation of 96 and 75 percent of the data is between 584 and 718"
      ]
    },
    {
      "cell_type": "code",
      "metadata": {
        "id": "11uYogXW0Ili",
        "colab": {
          "base_uri": "https://localhost:8080/"
        },
        "outputId": "c750108f-ce4f-46ee-82d3-5cdfa2310f0e"
      },
      "source": [
        "df_churn2['CreditScore'].describe()"
      ],
      "execution_count": 70,
      "outputs": [
        {
          "output_type": "execute_result",
          "data": {
            "text/plain": [
              "count   10,000.000\n",
              "mean       650.529\n",
              "std         96.653\n",
              "min        350.000\n",
              "25%        584.000\n",
              "50%        652.000\n",
              "75%        718.000\n",
              "max        850.000\n",
              "Name: CreditScore, dtype: float64"
            ]
          },
          "metadata": {
            "tags": []
          },
          "execution_count": 70
        }
      ]
    },
    {
      "cell_type": "markdown",
      "metadata": {
        "id": "3g1KoslC89NO"
      },
      "source": [
        "Here we can better visualize our distribution and our quartiles"
      ]
    },
    {
      "cell_type": "code",
      "metadata": {
        "id": "6FtfzG2g3EHB",
        "colab": {
          "base_uri": "https://localhost:8080/",
          "height": 296
        },
        "outputId": "fbe790a8-3727-4b42-8391-96495beca4f4"
      },
      "source": [
        "sns.boxplot(df_churn2['CreditScore'])"
      ],
      "execution_count": 71,
      "outputs": [
        {
          "output_type": "execute_result",
          "data": {
            "text/plain": [
              "<matplotlib.axes._subplots.AxesSubplot at 0x7eff33238c18>"
            ]
          },
          "metadata": {
            "tags": []
          },
          "execution_count": 71
        },
        {
          "output_type": "display_data",
          "data": {
            "image/png": "[encoded data removed]",
            "text/plain": [
              "<Figure size 432x288 with 1 Axes>"
            ]
          },
          "metadata": {
            "tags": [],
            "needs_background": "light"
          }
        }
      ]
    },
    {
      "cell_type": "markdown",
      "metadata": {
        "id": "6F8N0wH_9IVh"
      },
      "source": [
        "We have a distribution very close to a normal curve."
      ]
    },
    {
      "cell_type": "code",
      "metadata": {
        "id": "oJawz98B3vO_",
        "colab": {
          "base_uri": "https://localhost:8080/",
          "height": 296
        },
        "outputId": "d8bb2d02-68b1-4f7b-f275-59012164205f"
      },
      "source": [
        "sns.distplot(df_churn2['CreditScore'], bins= 15)"
      ],
      "execution_count": 72,
      "outputs": [
        {
          "output_type": "execute_result",
          "data": {
            "text/plain": [
              "<matplotlib.axes._subplots.AxesSubplot at 0x7eff331cd278>"
            ]
          },
          "metadata": {
            "tags": []
          },
          "execution_count": 72
        },
        {
          "output_type": "display_data",
          "data": {
            "image/png": "[encoded data removed]",
            "text/plain": [
              "<Figure size 432x288 with 1 Axes>"
            ]
          },
          "metadata": {
            "tags": [],
            "needs_background": "light"
          }
        }
      ]
    },
    {
      "cell_type": "markdown",
      "metadata": {
        "id": "wlFwq1aC93sD"
      },
      "source": [
        "### 2.4.5 Geography   "
      ]
    },
    {
      "cell_type": "markdown",
      "metadata": {
        "id": "SocTxrdK_ZxB"
      },
      "source": [
        "We do not have misspelled words"
      ]
    },
    {
      "cell_type": "code",
      "metadata": {
        "id": "lj46KkbL7nnb",
        "colab": {
          "base_uri": "https://localhost:8080/"
        },
        "outputId": "724dd912-b636-4ecd-e81a-13062a386fbe"
      },
      "source": [
        "df_churn2['Geography'].unique()"
      ],
      "execution_count": 73,
      "outputs": [
        {
          "output_type": "execute_result",
          "data": {
            "text/plain": [
              "array(['France', 'Spain', 'Germany'], dtype=object)"
            ]
          },
          "metadata": {
            "tags": []
          },
          "execution_count": 73
        }
      ]
    },
    {
      "cell_type": "markdown",
      "metadata": {
        "id": "BjkwNhOlAzme"
      },
      "source": [
        "### 2.4.6 Gender "
      ]
    },
    {
      "cell_type": "markdown",
      "metadata": {
        "id": "KCI8j7MMC6lo"
      },
      "source": [
        "We do not have misspelled words"
      ]
    },
    {
      "cell_type": "code",
      "metadata": {
        "id": "t8o5K-7CA02P",
        "colab": {
          "base_uri": "https://localhost:8080/"
        },
        "outputId": "249137b9-6f77-4230-ac0d-02b05bab6b8e"
      },
      "source": [
        "df_churn2['Gender'].unique()"
      ],
      "execution_count": 74,
      "outputs": [
        {
          "output_type": "execute_result",
          "data": {
            "text/plain": [
              "array(['Female', 'Male'], dtype=object)"
            ]
          },
          "metadata": {
            "tags": []
          },
          "execution_count": 74
        }
      ]
    },
    {
      "cell_type": "code",
      "metadata": {
        "id": "t_6cMz8pC3Sl"
      },
      "source": [
        ""
      ],
      "execution_count": 74,
      "outputs": []
    },
    {
      "cell_type": "markdown",
      "metadata": {
        "id": "xgosH8ZiXzyl"
      },
      "source": [
        "### 2.4.7 Age "
      ]
    },
    {
      "cell_type": "code",
      "metadata": {
        "id": "TLHCKjOgX2SW",
        "colab": {
          "base_uri": "https://localhost:8080/"
        },
        "outputId": "7b37bbaf-0ee3-4f11-b96c-f12680095cb9"
      },
      "source": [
        "df_churn2['Age'].unique()"
      ],
      "execution_count": 75,
      "outputs": [
        {
          "output_type": "execute_result",
          "data": {
            "text/plain": [
              "array([42, 41, 39, 43, 44, 50, 29, 27, 31, 24, 34, 25, 35, 45, 58, 32, 38,\n",
              "       46, 36, 33, 40, 51, 61, 49, 37, 19, 66, 56, 26, 21, 55, 75, 22, 30,\n",
              "       28, 65, 48, 52, 57, 73, 47, 54, 72, 20, 67, 79, 62, 53, 80, 59, 68,\n",
              "       23, 60, 70, 63, 64, 18, 82, 69, 74, 71, 76, 77, 88, 85, 84, 78, 81,\n",
              "       92, 83])"
            ]
          },
          "metadata": {
            "tags": []
          },
          "execution_count": 75
        }
      ]
    },
    {
      "cell_type": "markdown",
      "metadata": {
        "id": "4t7iHuCYbZBH"
      },
      "source": [
        "We have a good distribution of the data. A standard deviation of 10 and 75 percent of the data is between 32 and 44 \n",
        "\n"
      ]
    },
    {
      "cell_type": "code",
      "metadata": {
        "id": "_hrtcfAPX6Ko",
        "colab": {
          "base_uri": "https://localhost:8080/"
        },
        "outputId": "df2c8a90-15d6-439d-b46e-53ecc2fc93a1"
      },
      "source": [
        "df_churn2['Age'].describe()"
      ],
      "execution_count": 76,
      "outputs": [
        {
          "output_type": "execute_result",
          "data": {
            "text/plain": [
              "count   10,000.000\n",
              "mean        38.922\n",
              "std         10.488\n",
              "min         18.000\n",
              "25%         32.000\n",
              "50%         37.000\n",
              "75%         44.000\n",
              "max         92.000\n",
              "Name: Age, dtype: float64"
            ]
          },
          "metadata": {
            "tags": []
          },
          "execution_count": 76
        }
      ]
    },
    {
      "cell_type": "markdown",
      "metadata": {
        "id": "vNglWOO7c7Zt"
      },
      "source": [
        "We can see that we have data from 60 years old, which can be outliers in our distribution."
      ]
    },
    {
      "cell_type": "code",
      "metadata": {
        "id": "NAPysSeOYTLt",
        "colab": {
          "base_uri": "https://localhost:8080/",
          "height": 296
        },
        "outputId": "2abb12ff-39fe-4f0a-825d-1517258f6e71"
      },
      "source": [
        "sns.boxplot(df_churn2['Age'])"
      ],
      "execution_count": 77,
      "outputs": [
        {
          "output_type": "execute_result",
          "data": {
            "text/plain": [
              "<matplotlib.axes._subplots.AxesSubplot at 0x7eff3221ab00>"
            ]
          },
          "metadata": {
            "tags": []
          },
          "execution_count": 77
        },
        {
          "output_type": "display_data",
          "data": {
            "image/png": "[encoded data removed]",
            "text/plain": [
              "<Figure size 432x288 with 1 Axes>"
            ]
          },
          "metadata": {
            "tags": [],
            "needs_background": "light"
          }
        }
      ]
    },
    {
      "cell_type": "markdown",
      "metadata": {
        "id": "1yTkWUXldp_P"
      },
      "source": [
        "We can see that our distribution is approaching a normal distribution and that data from 60 is pulling the tail to the right"
      ]
    },
    {
      "cell_type": "code",
      "metadata": {
        "id": "-A8Da-qAczNA",
        "colab": {
          "base_uri": "https://localhost:8080/",
          "height": 296
        },
        "outputId": "bab56734-93f0-430d-bccb-b1e8d7b47320"
      },
      "source": [
        "sns.distplot(df_churn2['Age'], bins= 15)"
      ],
      "execution_count": 78,
      "outputs": [
        {
          "output_type": "execute_result",
          "data": {
            "text/plain": [
              "<matplotlib.axes._subplots.AxesSubplot at 0x7eff321a3f28>"
            ]
          },
          "metadata": {
            "tags": []
          },
          "execution_count": 78
        },
        {
          "output_type": "display_data",
          "data": {
            "image/png": "[encoded data removed]",
            "text/plain": [
              "<Figure size 432x288 with 1 Axes>"
            ]
          },
          "metadata": {
            "tags": [],
            "needs_background": "light"
          }
        }
      ]
    },
    {
      "cell_type": "code",
      "metadata": {
        "id": "tNB3nLcsdaqw"
      },
      "source": [
        ""
      ],
      "execution_count": 78,
      "outputs": []
    },
    {
      "cell_type": "markdown",
      "metadata": {
        "id": "QK5WiI5AMxbG"
      },
      "source": [
        "### 2.4.8 Tenure "
      ]
    },
    {
      "cell_type": "code",
      "metadata": {
        "id": "FxJIESFoMzO1",
        "colab": {
          "base_uri": "https://localhost:8080/"
        },
        "outputId": "1435d03b-da6a-4e8a-ec2e-ced5ae5e8090"
      },
      "source": [
        "df_churn2['Tenure'].unique()"
      ],
      "execution_count": 79,
      "outputs": [
        {
          "output_type": "execute_result",
          "data": {
            "text/plain": [
              "array([ 2,  1,  8,  7,  4,  6,  3, 10,  5,  9,  0])"
            ]
          },
          "metadata": {
            "tags": []
          },
          "execution_count": 79
        }
      ]
    },
    {
      "cell_type": "markdown",
      "metadata": {
        "id": "DMZVwDvaNdgF"
      },
      "source": [
        "We do not have a problem with our data the standard deviation is low ,our data is distributed between 0 to 10 and the quartiles are ok."
      ]
    },
    {
      "cell_type": "code",
      "metadata": {
        "id": "H7Q3oR0EM4cz",
        "colab": {
          "base_uri": "https://localhost:8080/"
        },
        "outputId": "83295f04-0191-44d7-eae9-2896613023ee"
      },
      "source": [
        "df_churn2['Tenure'].describe()"
      ],
      "execution_count": 80,
      "outputs": [
        {
          "output_type": "execute_result",
          "data": {
            "text/plain": [
              "count   10,000.000\n",
              "mean         5.013\n",
              "std          2.892\n",
              "min          0.000\n",
              "25%          3.000\n",
              "50%          5.000\n",
              "75%          7.000\n",
              "max         10.000\n",
              "Name: Tenure, dtype: float64"
            ]
          },
          "metadata": {
            "tags": []
          },
          "execution_count": 80
        }
      ]
    },
    {
      "cell_type": "markdown",
      "metadata": {
        "id": "yW-t3sR6N9_7"
      },
      "source": [
        "We do not have outliers"
      ]
    },
    {
      "cell_type": "code",
      "metadata": {
        "id": "payLn_7ZM9vV",
        "colab": {
          "base_uri": "https://localhost:8080/",
          "height": 279
        },
        "outputId": "c0ae7914-b1b8-4ce3-aef8-b7a0262f4b4e"
      },
      "source": [
        "sns.boxplot(df_churn2['Tenure']);"
      ],
      "execution_count": 81,
      "outputs": [
        {
          "output_type": "display_data",
          "data": {
            "image/png": "[encoded data removed]",
            "text/plain": [
              "<Figure size 432x288 with 1 Axes>"
            ]
          },
          "metadata": {
            "tags": [],
            "needs_background": "light"
          }
        }
      ]
    },
    {
      "cell_type": "markdown",
      "metadata": {
        "id": "tDqBHl5WODXW"
      },
      "source": [
        "We do not have a normal distribution.\n"
      ]
    },
    {
      "cell_type": "code",
      "metadata": {
        "id": "NpHQiiw_NJoK",
        "colab": {
          "base_uri": "https://localhost:8080/",
          "height": 279
        },
        "outputId": "9891237e-7bb5-4e04-fdfe-733346704ca8"
      },
      "source": [
        "sns.distplot(df_churn2['Tenure'],bins=10);"
      ],
      "execution_count": 82,
      "outputs": [
        {
          "output_type": "display_data",
          "data": {
            "image/png": "[encoded data removed]",
            "text/plain": [
              "<Figure size 432x288 with 1 Axes>"
            ]
          },
          "metadata": {
            "tags": [],
            "needs_background": "light"
          }
        }
      ]
    },
    {
      "cell_type": "markdown",
      "metadata": {
        "id": "1O5JIAzSO29T"
      },
      "source": [
        "### 2.4.9 Balance"
      ]
    },
    {
      "cell_type": "code",
      "metadata": {
        "id": "HAh9FjWZO6dk",
        "colab": {
          "base_uri": "https://localhost:8080/"
        },
        "outputId": "efd6f920-b87e-4d91-9911-66efe6c3d354"
      },
      "source": [
        "df_churn2['Balance'].unique()"
      ],
      "execution_count": 83,
      "outputs": [
        {
          "output_type": "execute_result",
          "data": {
            "text/plain": [
              "array([     0.  ,  83807.86, 159660.8 , ...,  57369.61,  75075.31,\n",
              "       130142.79])"
            ]
          },
          "metadata": {
            "tags": []
          },
          "execution_count": 83
        }
      ]
    },
    {
      "cell_type": "markdown",
      "metadata": {
        "id": "X585AV4kQNfL"
      },
      "source": [
        "We have customers with 0 on the account and 250898 max and most of the customers have between 0 to 127644\n"
      ]
    },
    {
      "cell_type": "code",
      "metadata": {
        "id": "Rb70iA94PBm2",
        "colab": {
          "base_uri": "https://localhost:8080/"
        },
        "outputId": "9002f2ff-326f-4f42-b368-ae3e59808745"
      },
      "source": [
        "df_churn2['Balance'].describe()"
      ],
      "execution_count": 84,
      "outputs": [
        {
          "output_type": "execute_result",
          "data": {
            "text/plain": [
              "count    10,000.000\n",
              "mean     76,485.889\n",
              "std      62,397.405\n",
              "min           0.000\n",
              "25%           0.000\n",
              "50%      97,198.540\n",
              "75%     127,644.240\n",
              "max     250,898.090\n",
              "Name: Balance, dtype: float64"
            ]
          },
          "metadata": {
            "tags": []
          },
          "execution_count": 84
        }
      ]
    },
    {
      "cell_type": "markdown",
      "metadata": {
        "id": "9IQp8xLSQ7jF"
      },
      "source": [
        "We do not have outliers"
      ]
    },
    {
      "cell_type": "code",
      "metadata": {
        "id": "TBklDnKEPbXv",
        "colab": {
          "base_uri": "https://localhost:8080/",
          "height": 279
        },
        "outputId": "22763b6f-d1c6-4dd0-d3d4-a824ad04373e"
      },
      "source": [
        "sns.boxplot(df_churn2['Balance']);"
      ],
      "execution_count": 85,
      "outputs": [
        {
          "output_type": "display_data",
          "data": {
            "image/png": "[encoded data removed]",
            "text/plain": [
              "<Figure size 432x288 with 1 Axes>"
            ]
          },
          "metadata": {
            "tags": [],
            "needs_background": "light"
          }
        }
      ]
    },
    {
      "cell_type": "markdown",
      "metadata": {
        "id": "CJdbjlntT3Pk"
      },
      "source": [
        "We do not have a normal distribution , coustomers with 0 balance are skewing our data."
      ]
    },
    {
      "cell_type": "code",
      "metadata": {
        "id": "WR7F5nnsPsr7",
        "colab": {
          "base_uri": "https://localhost:8080/",
          "height": 290
        },
        "outputId": "6b2ed105-8649-4fc8-abac-6fcbb34945e5"
      },
      "source": [
        "sns.distplot(df_churn2['Balance'],bins=20);"
      ],
      "execution_count": 86,
      "outputs": [
        {
          "output_type": "display_data",
          "data": {
            "image/png": "[encoded data removed]",
            "text/plain": [
              "<Figure size 432x288 with 1 Axes>"
            ]
          },
          "metadata": {
            "tags": [],
            "needs_background": "light"
          }
        }
      ]
    },
    {
      "cell_type": "code",
      "metadata": {
        "id": "ttwlPYSBUfB2",
        "colab": {
          "base_uri": "https://localhost:8080/"
        },
        "outputId": "c7acd41a-2f0f-4a47-a815-61bce0798a1d"
      },
      "source": [
        "df_churn2['NumOfProducts'].unique()"
      ],
      "execution_count": 87,
      "outputs": [
        {
          "output_type": "execute_result",
          "data": {
            "text/plain": [
              "array([1, 3, 2, 4])"
            ]
          },
          "metadata": {
            "tags": []
          },
          "execution_count": 87
        }
      ]
    },
    {
      "cell_type": "markdown",
      "metadata": {
        "id": "KSMJzeqmcqu6"
      },
      "source": [
        "We have a good value of standard deviation of 0.58 showing our data is not too dispersed from the mean."
      ]
    },
    {
      "cell_type": "code",
      "metadata": {
        "id": "0WJZtTJOUfMO",
        "colab": {
          "base_uri": "https://localhost:8080/"
        },
        "outputId": "b3f326f4-935a-451e-f312-0b1af2a9e097"
      },
      "source": [
        "df_churn2['NumOfProducts'].describe()"
      ],
      "execution_count": 88,
      "outputs": [
        {
          "output_type": "execute_result",
          "data": {
            "text/plain": [
              "count   10,000.000\n",
              "mean         1.530\n",
              "std          0.582\n",
              "min          1.000\n",
              "25%          1.000\n",
              "50%          1.000\n",
              "75%          2.000\n",
              "max          4.000\n",
              "Name: NumOfProducts, dtype: float64"
            ]
          },
          "metadata": {
            "tags": []
          },
          "execution_count": 88
        }
      ]
    },
    {
      "cell_type": "markdown",
      "metadata": {
        "id": "NMp-rIeDcel8"
      },
      "source": [
        "We have a value of 4 that might be a outlier"
      ]
    },
    {
      "cell_type": "code",
      "metadata": {
        "id": "oBrDXE8cUfQU",
        "colab": {
          "base_uri": "https://localhost:8080/",
          "height": 279
        },
        "outputId": "740b2e7a-9ee0-41c2-fbcb-e989f24f19a1"
      },
      "source": [
        "sns.boxplot(df_churn2['NumOfProducts']);"
      ],
      "execution_count": 89,
      "outputs": [
        {
          "output_type": "display_data",
          "data": {
            "image/png": "[encoded data removed]",
            "text/plain": [
              "<Figure size 432x288 with 1 Axes>"
            ]
          },
          "metadata": {
            "tags": [],
            "needs_background": "light"
          }
        }
      ]
    },
    {
      "cell_type": "code",
      "metadata": {
        "id": "ASBStoA9cVkj",
        "colab": {
          "base_uri": "https://localhost:8080/",
          "height": 279
        },
        "outputId": "290fe585-d159-4424-8c90-9f7c6b87d7e0"
      },
      "source": [
        "sns.distplot(df_churn2['NumOfProducts'], bins= 10);"
      ],
      "execution_count": 90,
      "outputs": [
        {
          "output_type": "display_data",
          "data": {
            "image/png": "[encoded data removed]",
            "text/plain": [
              "<Figure size 432x288 with 1 Axes>"
            ]
          },
          "metadata": {
            "tags": [],
            "needs_background": "light"
          }
        }
      ]
    },
    {
      "cell_type": "code",
      "metadata": {
        "id": "3y0SV2lMdR6d"
      },
      "source": [
        ""
      ],
      "execution_count": 90,
      "outputs": []
    },
    {
      "cell_type": "markdown",
      "metadata": {
        "id": "ZES_wIKkx0gQ"
      },
      "source": [
        "### 2.4.9.1 HasCrCard  "
      ]
    },
    {
      "cell_type": "markdown",
      "metadata": {
        "id": "HWAAFkbARUfU"
      },
      "source": [
        "We only have 0 and 1 "
      ]
    },
    {
      "cell_type": "code",
      "metadata": {
        "id": "0mPI40Udx241",
        "colab": {
          "base_uri": "https://localhost:8080/"
        },
        "outputId": "89bae7ad-b2c6-4d5c-e63b-a9ee31e18b2d"
      },
      "source": [
        "df_churn2['HasCrCard'].unique()"
      ],
      "execution_count": 91,
      "outputs": [
        {
          "output_type": "execute_result",
          "data": {
            "text/plain": [
              "array([1, 0])"
            ]
          },
          "metadata": {
            "tags": []
          },
          "execution_count": 91
        }
      ]
    },
    {
      "cell_type": "markdown",
      "metadata": {
        "id": "eGO3CfenLZC5"
      },
      "source": [
        "### 2.4.9.2 EstimatedSalary "
      ]
    },
    {
      "cell_type": "markdown",
      "metadata": {
        "id": "-iVwYaYnQHku"
      },
      "source": [
        "Most of our data is 51000 and 149388 and our data is a bit dispersed std of 57510"
      ]
    },
    {
      "cell_type": "code",
      "metadata": {
        "id": "bpsH2sTaLbmE",
        "colab": {
          "base_uri": "https://localhost:8080/"
        },
        "outputId": "7c525e72-e44b-4fab-ecc0-55a92015155b"
      },
      "source": [
        "df_churn2['EstimatedSalary'].describe()"
      ],
      "execution_count": 92,
      "outputs": [
        {
          "output_type": "execute_result",
          "data": {
            "text/plain": [
              "count    10,000.000\n",
              "mean    100,090.240\n",
              "std      57,510.493\n",
              "min          11.580\n",
              "25%      51,002.110\n",
              "50%     100,193.915\n",
              "75%     149,388.247\n",
              "max     199,992.480\n",
              "Name: EstimatedSalary, dtype: float64"
            ]
          },
          "metadata": {
            "tags": []
          },
          "execution_count": 92
        }
      ]
    },
    {
      "cell_type": "markdown",
      "metadata": {
        "id": "_67gmDh5QDHY"
      },
      "source": [
        "We do not have any outliers"
      ]
    },
    {
      "cell_type": "code",
      "metadata": {
        "id": "Eo3olZmwLhAw",
        "colab": {
          "base_uri": "https://localhost:8080/",
          "height": 296
        },
        "outputId": "bfd221b1-16ea-45df-ed4e-536fad6e5f4b"
      },
      "source": [
        "sns.boxplot(df_churn2['EstimatedSalary'])"
      ],
      "execution_count": 93,
      "outputs": [
        {
          "output_type": "execute_result",
          "data": {
            "text/plain": [
              "<matplotlib.axes._subplots.AxesSubplot at 0x7eff31e78e48>"
            ]
          },
          "metadata": {
            "tags": []
          },
          "execution_count": 93
        },
        {
          "output_type": "display_data",
          "data": {
            "image/png": "[encoded data removed]",
            "text/plain": [
              "<Figure size 432x288 with 1 Axes>"
            ]
          },
          "metadata": {
            "tags": [],
            "needs_background": "light"
          }
        }
      ]
    },
    {
      "cell_type": "code",
      "metadata": {
        "id": "IsoAMFQMP1KS",
        "colab": {
          "base_uri": "https://localhost:8080/",
          "height": 307
        },
        "outputId": "6bd3a965-119a-4c2c-a80f-c0b86e3225dd"
      },
      "source": [
        "sns.distplot(df_churn2['EstimatedSalary'])"
      ],
      "execution_count": 94,
      "outputs": [
        {
          "output_type": "execute_result",
          "data": {
            "text/plain": [
              "<matplotlib.axes._subplots.AxesSubplot at 0x7eff31e374a8>"
            ]
          },
          "metadata": {
            "tags": []
          },
          "execution_count": 94
        },
        {
          "output_type": "display_data",
          "data": {
            "image/png": "[encoded data removed]",
            "text/plain": [
              "<Figure size 432x288 with 1 Axes>"
            ]
          },
          "metadata": {
            "tags": [],
            "needs_background": "light"
          }
        }
      ]
    },
    {
      "cell_type": "code",
      "metadata": {
        "id": "QaFbxLucRIbE"
      },
      "source": [
        ""
      ],
      "execution_count": 94,
      "outputs": []
    },
    {
      "cell_type": "markdown",
      "metadata": {
        "id": "oNGvf9o5RfdQ"
      },
      "source": [
        "###2.4.9.3 Exited  "
      ]
    },
    {
      "cell_type": "code",
      "metadata": {
        "id": "fniGtaKNRhTu",
        "colab": {
          "base_uri": "https://localhost:8080/"
        },
        "outputId": "6d039259-423d-4f08-dc84-629b1c12a96d"
      },
      "source": [
        "df_churn2['Exited'].unique()"
      ],
      "execution_count": 95,
      "outputs": [
        {
          "output_type": "execute_result",
          "data": {
            "text/plain": [
              "array([1, 0])"
            ]
          },
          "metadata": {
            "tags": []
          },
          "execution_count": 95
        }
      ]
    },
    {
      "cell_type": "code",
      "metadata": {
        "id": "KJy2EatPRleo"
      },
      "source": [
        ""
      ],
      "execution_count": 95,
      "outputs": []
    },
    {
      "cell_type": "markdown",
      "metadata": {
        "id": "e4ilgtbZMh46"
      },
      "source": [
        "# 3.0 Exploratory Data Analysis"
      ]
    },
    {
      "cell_type": "markdown",
      "metadata": {
        "id": "G-I_DBq3RecI"
      },
      "source": [
        "## 3.1 Checking the Hypotheses"
      ]
    },
    {
      "cell_type": "markdown",
      "metadata": {
        "id": "OsC0D-_TRvFe"
      },
      "source": [
        "h1. Customers with lower scores tend to leave the bank.\n",
        "\n",
        "h2. The country is decisive for the client to leave the bank\n",
        "\n",
        "h3. There are more men than women who leave the bank.\n",
        "\n",
        "h4. Younger customer has a tendency to leave the bank\n",
        "\n",
        "h5. Customers with up to 2 years as a customer usually leave the bank.\n",
        "\n",
        "h6. Customers who do not have a credit card tend to leave the bank."
      ]
    },
    {
      "cell_type": "markdown",
      "metadata": {
        "id": "WXQ-SvEGSKmW"
      },
      "source": [
        "### 3.1.1 h1 Customers with lower scores tend to leave the bank."
      ]
    },
    {
      "cell_type": "markdown",
      "metadata": {
        "id": "j__B5pXlwSSh"
      },
      "source": [
        "Let's create a new dataframe with CredtScore less than 500 because this is our parameter to low score."
      ]
    },
    {
      "cell_type": "code",
      "metadata": {
        "id": "29pQwtAaYGj8",
        "colab": {
          "base_uri": "https://localhost:8080/"
        },
        "outputId": "171c3587-63e9-4115-f180-c1226cecbbea"
      },
      "source": [
        "less_than = df_churn2.query('CreditScore <=500')\n",
        "\n",
        "len(less_than)"
      ],
      "execution_count": 96,
      "outputs": [
        {
          "output_type": "execute_result",
          "data": {
            "text/plain": [
              "643"
            ]
          },
          "metadata": {
            "tags": []
          },
          "execution_count": 96
        }
      ]
    },
    {
      "cell_type": "markdown",
      "metadata": {
        "id": "x51qgfddwskJ"
      },
      "source": [
        "Now we can see that 152 customers left the bank"
      ]
    },
    {
      "cell_type": "code",
      "metadata": {
        "id": "U-HB2iaQZz5b",
        "colab": {
          "base_uri": "https://localhost:8080/"
        },
        "outputId": "918913c6-24db-4c7c-dec4-aa5040222dae"
      },
      "source": [
        "count = less_than['Exited'].value_counts()\n",
        "\n",
        "count"
      ],
      "execution_count": 97,
      "outputs": [
        {
          "output_type": "execute_result",
          "data": {
            "text/plain": [
              "0    491\n",
              "1    152\n",
              "Name: Exited, dtype: int64"
            ]
          },
          "metadata": {
            "tags": []
          },
          "execution_count": 97
        }
      ]
    },
    {
      "cell_type": "markdown",
      "metadata": {
        "id": "RT_4bYc2yDxm"
      },
      "source": [
        "  24 %  of the customers with low Score left the bank"
      ]
    },
    {
      "cell_type": "code",
      "metadata": {
        "id": "UmIJV9KJcJJI",
        "colab": {
          "base_uri": "https://localhost:8080/"
        },
        "outputId": "9280d241-4531-4140-bae9-7a1f00ec721f"
      },
      "source": [
        "porc_leave = (count[1] / len(less_than))*100\n",
        "\n",
        "print(round(porc_leave),'%')"
      ],
      "execution_count": 98,
      "outputs": [
        {
          "output_type": "stream",
          "text": [
            "24 %\n"
          ],
          "name": "stdout"
        }
      ]
    },
    {
      "cell_type": "markdown",
      "metadata": {
        "id": "bO54Y7WHyPb2"
      },
      "source": [
        "we can visualize the difference of customers who left and who did not leave"
      ]
    },
    {
      "cell_type": "code",
      "metadata": {
        "id": "by_UgtstYu7Q",
        "colab": {
          "base_uri": "https://localhost:8080/",
          "height": 296
        },
        "outputId": "befd24d5-29d7-4bbd-9c54-031082f78769"
      },
      "source": [
        "sns.barplot(y= 'CreditScore', x= 'Exited', data= less_than,estimator=np.sum)"
      ],
      "execution_count": 99,
      "outputs": [
        {
          "output_type": "execute_result",
          "data": {
            "text/plain": [
              "<matplotlib.axes._subplots.AxesSubplot at 0x7eff31d81d30>"
            ]
          },
          "metadata": {
            "tags": []
          },
          "execution_count": 99
        },
        {
          "output_type": "display_data",
          "data": {
            "image/png": "[encoded data removed]",
            "text/plain": [
              "<Figure size 432x288 with 1 Axes>"
            ]
          },
          "metadata": {
            "tags": [],
            "needs_background": "light"
          }
        }
      ]
    },
    {
      "cell_type": "markdown",
      "metadata": {
        "id": "hvorCPlcz2EJ"
      },
      "source": [
        "We are going to create a new dataframe with customers with more than 500 score"
      ]
    },
    {
      "cell_type": "code",
      "metadata": {
        "id": "JpBm0EhmXGTj",
        "colab": {
          "base_uri": "https://localhost:8080/"
        },
        "outputId": "66c49237-4a9d-4494-fda8-0c3eea39f71c"
      },
      "source": [
        "more_than = df_churn2.query('CreditScore >500')\n",
        "\n",
        "len(more_than)"
      ],
      "execution_count": 100,
      "outputs": [
        {
          "output_type": "execute_result",
          "data": {
            "text/plain": [
              "9357"
            ]
          },
          "metadata": {
            "tags": []
          },
          "execution_count": 100
        }
      ]
    },
    {
      "cell_type": "markdown",
      "metadata": {
        "id": "8htTc_j40iIF"
      },
      "source": [
        "We have 1885 customers with more than 500 score who left the bank "
      ]
    },
    {
      "cell_type": "code",
      "metadata": {
        "id": "ong3-0ugYchQ",
        "colab": {
          "base_uri": "https://localhost:8080/"
        },
        "outputId": "7958ce5b-5422-47dd-eaad-4ddb594a083b"
      },
      "source": [
        "counts =more_than['Exited'].value_counts()\n",
        "\n",
        "counts"
      ],
      "execution_count": 101,
      "outputs": [
        {
          "output_type": "execute_result",
          "data": {
            "text/plain": [
              "0    7472\n",
              "1    1885\n",
              "Name: Exited, dtype: int64"
            ]
          },
          "metadata": {
            "tags": []
          },
          "execution_count": 101
        }
      ]
    },
    {
      "cell_type": "markdown",
      "metadata": {
        "id": "GwTGqVdd07_9"
      },
      "source": [
        "20 % of the customers left the bank"
      ]
    },
    {
      "cell_type": "code",
      "metadata": {
        "id": "kCIs3IKIb5Kd",
        "colab": {
          "base_uri": "https://localhost:8080/"
        },
        "outputId": "f7f701cb-4aa6-4b4d-c571-b62338f8ec7c"
      },
      "source": [
        "porc_leave_more = (counts[1] / len(more_than))*100\n",
        "\n",
        "print(round(porc_leave_more) ,'%')"
      ],
      "execution_count": 102,
      "outputs": [
        {
          "output_type": "stream",
          "text": [
            "20 %\n"
          ],
          "name": "stdout"
        }
      ]
    },
    {
      "cell_type": "markdown",
      "metadata": {
        "id": "CNgB5UYh1EQs"
      },
      "source": [
        "we can visualize the difference of customers who left and who did not leave"
      ]
    },
    {
      "cell_type": "code",
      "metadata": {
        "id": "ihRaH78idqkO",
        "colab": {
          "base_uri": "https://localhost:8080/",
          "height": 307
        },
        "outputId": "85913b5f-5f08-465a-f1d1-445413bf18ab"
      },
      "source": [
        "sns.barplot(y= 'CreditScore', x= 'Exited', data= more_than,estimator=np.sum)"
      ],
      "execution_count": 103,
      "outputs": [
        {
          "output_type": "execute_result",
          "data": {
            "text/plain": [
              "<matplotlib.axes._subplots.AxesSubplot at 0x7eff31ce4080>"
            ]
          },
          "metadata": {
            "tags": []
          },
          "execution_count": 103
        },
        {
          "output_type": "display_data",
          "data": {
            "image/png": "[encoded data removed]",
            "text/plain": [
              "<Figure size 432x288 with 1 Axes>"
            ]
          },
          "metadata": {
            "tags": [],
            "needs_background": "light"
          }
        }
      ]
    },
    {
      "cell_type": "code",
      "metadata": {
        "id": "BGpPh3IAgND3"
      },
      "source": [
        ""
      ],
      "execution_count": 103,
      "outputs": []
    },
    {
      "cell_type": "markdown",
      "metadata": {
        "id": "Dxd8ds1fg0NE"
      },
      "source": [
        "###3.1.2 h2 The country is decisive for the client to leave the bank"
      ]
    },
    {
      "cell_type": "markdown",
      "metadata": {
        "id": "aPLpjlQm1VQc"
      },
      "source": [
        "France and Germany has almost the same amount of customers who left the bank , only Spain has half of the value."
      ]
    },
    {
      "cell_type": "code",
      "metadata": {
        "id": "vkeg0ImOg22a",
        "colab": {
          "base_uri": "https://localhost:8080/"
        },
        "outputId": "afb88415-8270-4d30-f85b-261f1aea0ba0"
      },
      "source": [
        "country_leave = df_churn2.groupby('Geography')['Exited'].sum()\n",
        "\n",
        "country_leave"
      ],
      "execution_count": 104,
      "outputs": [
        {
          "output_type": "execute_result",
          "data": {
            "text/plain": [
              "Geography\n",
              "France     810\n",
              "Germany    814\n",
              "Spain      413\n",
              "Name: Exited, dtype: int64"
            ]
          },
          "metadata": {
            "tags": []
          },
          "execution_count": 104
        }
      ]
    },
    {
      "cell_type": "markdown",
      "metadata": {
        "id": "vLCeUKpRbph4"
      },
      "source": [
        "Total customers from france who left the bank"
      ]
    },
    {
      "cell_type": "code",
      "metadata": {
        "id": "MBXqWYePW36i",
        "colab": {
          "base_uri": "https://localhost:8080/"
        },
        "outputId": "de0e862c-a63c-44b4-c086-c34ee2fbeb58"
      },
      "source": [
        "total_france = df_churn2.query('Geography == \"France\"')\n",
        "\n",
        "len(total_france)"
      ],
      "execution_count": 105,
      "outputs": [
        {
          "output_type": "execute_result",
          "data": {
            "text/plain": [
              "5014"
            ]
          },
          "metadata": {
            "tags": []
          },
          "execution_count": 105
        }
      ]
    },
    {
      "cell_type": "markdown",
      "metadata": {
        "id": "aRO8PJ04b3dj"
      },
      "source": [
        "16 % of customers from France left the bank"
      ]
    },
    {
      "cell_type": "code",
      "metadata": {
        "id": "0Z6e08nBWSN1",
        "colab": {
          "base_uri": "https://localhost:8080/"
        },
        "outputId": "deb01a97-a530-44c4-da70-31c31bdb9ac8"
      },
      "source": [
        "porcent_france_leave = round(((country_leave[0]) / len(total_france))*100)\n",
        "\n",
        "porcent_france_leave"
      ],
      "execution_count": 106,
      "outputs": [
        {
          "output_type": "execute_result",
          "data": {
            "text/plain": [
              "16"
            ]
          },
          "metadata": {
            "tags": []
          },
          "execution_count": 106
        }
      ]
    },
    {
      "cell_type": "markdown",
      "metadata": {
        "id": "GdwTlMVu_vDO"
      },
      "source": [
        "Total customers from Germany who left the bank"
      ]
    },
    {
      "cell_type": "code",
      "metadata": {
        "id": "bqgWsLZicJwk",
        "colab": {
          "base_uri": "https://localhost:8080/"
        },
        "outputId": "7f43a12f-1666-4bd2-8b92-539aafe02a8f"
      },
      "source": [
        "total_germany = df_churn2.query('Geography == \"Germany\"')\n",
        "\n",
        "len(total_germany)"
      ],
      "execution_count": 107,
      "outputs": [
        {
          "output_type": "execute_result",
          "data": {
            "text/plain": [
              "2509"
            ]
          },
          "metadata": {
            "tags": []
          },
          "execution_count": 107
        }
      ]
    },
    {
      "cell_type": "markdown",
      "metadata": {
        "id": "mfDaQJaS_FBf"
      },
      "source": [
        "32 % of customers from Germany left the bank"
      ]
    },
    {
      "cell_type": "code",
      "metadata": {
        "id": "Uwq-_gRTcJ2s",
        "colab": {
          "base_uri": "https://localhost:8080/"
        },
        "outputId": "92e4a362-2ec0-4162-d83c-ae19f622b7cd"
      },
      "source": [
        "porcent_germany_leave = round (((country_leave[1]) / len(total_germany))*100)\n",
        "\n",
        "porcent_germany_leave"
      ],
      "execution_count": 108,
      "outputs": [
        {
          "output_type": "execute_result",
          "data": {
            "text/plain": [
              "32"
            ]
          },
          "metadata": {
            "tags": []
          },
          "execution_count": 108
        }
      ]
    },
    {
      "cell_type": "markdown",
      "metadata": {
        "id": "kASr_fNh_3e4"
      },
      "source": [
        "Total customers from Spain who left the bank"
      ]
    },
    {
      "cell_type": "code",
      "metadata": {
        "id": "JH1XQn5H9lHm",
        "colab": {
          "base_uri": "https://localhost:8080/"
        },
        "outputId": "2e712dd1-0b43-448f-f2b9-ea847ed119a8"
      },
      "source": [
        "total_spain = df_churn2.query('Geography == \"Spain\"')\n",
        "\n",
        "len(total_spain)"
      ],
      "execution_count": 109,
      "outputs": [
        {
          "output_type": "execute_result",
          "data": {
            "text/plain": [
              "2477"
            ]
          },
          "metadata": {
            "tags": []
          },
          "execution_count": 109
        }
      ]
    },
    {
      "cell_type": "markdown",
      "metadata": {
        "id": "ZBAN285Q_7r1"
      },
      "source": [
        "17 % of customers from Spain left the bank"
      ]
    },
    {
      "cell_type": "code",
      "metadata": {
        "id": "HbNaX4ML9n1S",
        "colab": {
          "base_uri": "https://localhost:8080/"
        },
        "outputId": "69e53dc8-de1e-4c24-e5a5-70f6d1d5757a"
      },
      "source": [
        "porcent_spain_leave = round(((country_leave[2]) / len(total_spain))*100)\n",
        "\n",
        "porcent_spain_leave"
      ],
      "execution_count": 110,
      "outputs": [
        {
          "output_type": "execute_result",
          "data": {
            "text/plain": [
              "17"
            ]
          },
          "metadata": {
            "tags": []
          },
          "execution_count": 110
        }
      ]
    },
    {
      "cell_type": "markdown",
      "metadata": {
        "id": "QJBt48DFNC-9"
      },
      "source": [
        "Here we can visualize the difference between the three cities "
      ]
    },
    {
      "cell_type": "code",
      "metadata": {
        "id": "rintV35RibLg",
        "colab": {
          "base_uri": "https://localhost:8080/",
          "height": 388
        },
        "outputId": "fc4786ac-eec9-49eb-a778-2092054f16ec"
      },
      "source": [
        "plt.figure(figsize=(12,6))\r\n",
        "\r\n",
        "plt.subplot(1,2,1)\r\n",
        "plt.ticklabel_format(style='plain', axis='y')\r\n",
        "plt.ticklabel_format(style='plain', axis='x')\r\n",
        "sns.barplot(x= 'Geography',y= 'Exited',data= df_churn2,estimator= np.sum);"
      ],
      "execution_count": 111,
      "outputs": [
        {
          "output_type": "display_data",
          "data": {
            "image/png": "[encoded data removed]",
            "text/plain": [
              "<Figure size 864x432 with 1 Axes>"
            ]
          },
          "metadata": {
            "tags": [],
            "needs_background": "light"
          }
        }
      ]
    },
    {
      "cell_type": "code",
      "metadata": {
        "id": "_b7qVD3Mj39J"
      },
      "source": [
        ""
      ],
      "execution_count": 111,
      "outputs": []
    },
    {
      "cell_type": "markdown",
      "metadata": {
        "id": "Qizc8_Fqn2fk"
      },
      "source": [
        "### 3.1.3  h3 There are more men than women who leave the bank"
      ]
    },
    {
      "cell_type": "markdown",
      "metadata": {
        "id": "ZDuXz5TfNYtJ"
      },
      "source": [
        "We have 1139 women and 898 men who left the bank"
      ]
    },
    {
      "cell_type": "code",
      "metadata": {
        "id": "M5R6RtEnn57h",
        "colab": {
          "base_uri": "https://localhost:8080/"
        },
        "outputId": "2ff16283-2dd3-4f53-9b9f-df64b37b4ad9"
      },
      "source": [
        "gender_leave = df_churn2.groupby('Gender')['Exited'].sum()\n",
        "\n",
        "gender_leave"
      ],
      "execution_count": 112,
      "outputs": [
        {
          "output_type": "execute_result",
          "data": {
            "text/plain": [
              "Gender\n",
              "Female    1139\n",
              "Male       898\n",
              "Name: Exited, dtype: int64"
            ]
          },
          "metadata": {
            "tags": []
          },
          "execution_count": 112
        }
      ]
    },
    {
      "cell_type": "markdown",
      "metadata": {
        "id": "9IEz3XxrIoI0"
      },
      "source": [
        "Total of men"
      ]
    },
    {
      "cell_type": "code",
      "metadata": {
        "id": "nF0TJmTcFdCc",
        "colab": {
          "base_uri": "https://localhost:8080/"
        },
        "outputId": "29beddb2-ced2-47d8-c390-7f8a180bab3a"
      },
      "source": [
        "male = df_churn2.query('Gender == \"Male\"')\n",
        "\n",
        "male.shape"
      ],
      "execution_count": 113,
      "outputs": [
        {
          "output_type": "execute_result",
          "data": {
            "text/plain": [
              "(5457, 13)"
            ]
          },
          "metadata": {
            "tags": []
          },
          "execution_count": 113
        }
      ]
    },
    {
      "cell_type": "markdown",
      "metadata": {
        "id": "slwNR6BAIsPp"
      },
      "source": [
        "We have 16 % of men who left the bank"
      ]
    },
    {
      "cell_type": "code",
      "metadata": {
        "id": "bvbIk0DDFdHi",
        "colab": {
          "base_uri": "https://localhost:8080/"
        },
        "outputId": "5d42be43-3352-4fce-f9ad-68a3bd458180"
      },
      "source": [
        "porce_male_leave = round((gender_leave[1] / len(male))*100)\n",
        "\n",
        "porce_male_leave"
      ],
      "execution_count": 114,
      "outputs": [
        {
          "output_type": "execute_result",
          "data": {
            "text/plain": [
              "16"
            ]
          },
          "metadata": {
            "tags": []
          },
          "execution_count": 114
        }
      ]
    },
    {
      "cell_type": "markdown",
      "metadata": {
        "id": "F-dt8pwbI040"
      },
      "source": [
        "Total of women who left the bank"
      ]
    },
    {
      "cell_type": "code",
      "metadata": {
        "id": "NmSfpudGG2oF",
        "colab": {
          "base_uri": "https://localhost:8080/"
        },
        "outputId": "df545b50-5454-4dd1-d31a-06720892035a"
      },
      "source": [
        "female = df_churn2.query('Gender == \"Female\"')\n",
        "\n",
        "female.shape"
      ],
      "execution_count": 115,
      "outputs": [
        {
          "output_type": "execute_result",
          "data": {
            "text/plain": [
              "(4543, 13)"
            ]
          },
          "metadata": {
            "tags": []
          },
          "execution_count": 115
        }
      ]
    },
    {
      "cell_type": "markdown",
      "metadata": {
        "id": "Dji80ihgI8i1"
      },
      "source": [
        "We have 20 % of women who left the bank "
      ]
    },
    {
      "cell_type": "code",
      "metadata": {
        "id": "_AieDW2tG2ka",
        "colab": {
          "base_uri": "https://localhost:8080/"
        },
        "outputId": "3f47a998-4ab8-4fbf-af76-9df70bf1f35c"
      },
      "source": [
        "porce_female_leave = round((gender_leave[1] / len(female))*100)\n",
        "\n",
        "porce_female_leave"
      ],
      "execution_count": 116,
      "outputs": [
        {
          "output_type": "execute_result",
          "data": {
            "text/plain": [
              "20"
            ]
          },
          "metadata": {
            "tags": []
          },
          "execution_count": 116
        }
      ]
    },
    {
      "cell_type": "markdown",
      "metadata": {
        "id": "vpB_YpuxNoGR"
      },
      "source": [
        "Here we can visualize the difference between the two classes "
      ]
    },
    {
      "cell_type": "code",
      "metadata": {
        "id": "eoX6kPNboSGO",
        "colab": {
          "base_uri": "https://localhost:8080/",
          "height": 296
        },
        "outputId": "18f0693a-5611-4fd6-f9be-6d751309345d"
      },
      "source": [
        "sns.barplot(x= 'Gender', y= 'Exited', data= df_churn2,ci= None ,estimator= np.sum)"
      ],
      "execution_count": 117,
      "outputs": [
        {
          "output_type": "execute_result",
          "data": {
            "text/plain": [
              "<matplotlib.axes._subplots.AxesSubplot at 0x7eff31f878d0>"
            ]
          },
          "metadata": {
            "tags": []
          },
          "execution_count": 117
        },
        {
          "output_type": "display_data",
          "data": {
            "image/png": "[encoded data removed]",
            "text/plain": [
              "<Figure size 432x288 with 1 Axes>"
            ]
          },
          "metadata": {
            "tags": [],
            "needs_background": "light"
          }
        }
      ]
    },
    {
      "cell_type": "code",
      "metadata": {
        "id": "5mY952y-oo_J"
      },
      "source": [
        ""
      ],
      "execution_count": 117,
      "outputs": []
    },
    {
      "cell_type": "markdown",
      "metadata": {
        "id": "9K_u9jQPpSjP"
      },
      "source": [
        "### 3.1.4 h4 Younger customer has a tendency to leave the bank"
      ]
    },
    {
      "cell_type": "markdown",
      "metadata": {
        "id": "X2gn7DkCguGe"
      },
      "source": [
        "####  Until 20 years old"
      ]
    },
    {
      "cell_type": "markdown",
      "metadata": {
        "id": "pBp-J0DzN34Y"
      },
      "source": [
        "In order to complete this analysis I am going to split our data set into different classes every 20 years , in the first class we have 89 customers"
      ]
    },
    {
      "cell_type": "code",
      "metadata": {
        "id": "o0n339n_pNn9",
        "colab": {
          "base_uri": "https://localhost:8080/"
        },
        "outputId": "a2e95869-5e24-4662-d978-7709b2a88550"
      },
      "source": [
        "Age_btw_20 = df_churn2.query('Age <= 20')\n",
        "\n",
        "len(Age_btw_20)"
      ],
      "execution_count": 118,
      "outputs": [
        {
          "output_type": "execute_result",
          "data": {
            "text/plain": [
              "89"
            ]
          },
          "metadata": {
            "tags": []
          },
          "execution_count": 118
        }
      ]
    },
    {
      "cell_type": "markdown",
      "metadata": {
        "id": "Z62JWC5ONIwI"
      },
      "source": [
        "We have 5 customers who left the bank and 84 who did not"
      ]
    },
    {
      "cell_type": "code",
      "metadata": {
        "id": "6ESbIT6QLZKT",
        "colab": {
          "base_uri": "https://localhost:8080/"
        },
        "outputId": "9e16cd57-00f2-4d25-c7f4-0693e1e4e4d9"
      },
      "source": [
        "count_20 = Age_btw_20['Exited'].value_counts()\n",
        "\n",
        "count_20"
      ],
      "execution_count": 119,
      "outputs": [
        {
          "output_type": "execute_result",
          "data": {
            "text/plain": [
              "0    84\n",
              "1     5\n",
              "Name: Exited, dtype: int64"
            ]
          },
          "metadata": {
            "tags": []
          },
          "execution_count": 119
        }
      ]
    },
    {
      "cell_type": "markdown",
      "metadata": {
        "id": "1v_EMOhvOluj"
      },
      "source": [
        "We can see that only 5  20-year-old customers left the bank and the quantity for age"
      ]
    },
    {
      "cell_type": "code",
      "metadata": {
        "id": "LhMNGDeHsSjb",
        "colab": {
          "base_uri": "https://localhost:8080/"
        },
        "outputId": "700ab423-af85-4ce6-9979-916f2055a39b"
      },
      "source": [
        "btw_20 = Age_btw_20.groupby('Age')['Exited'].sum().head(10)\n",
        "\n",
        "btw_20"
      ],
      "execution_count": 120,
      "outputs": [
        {
          "output_type": "execute_result",
          "data": {
            "text/plain": [
              "Age\n",
              "18    2\n",
              "19    1\n",
              "20    2\n",
              "Name: Exited, dtype: int64"
            ]
          },
          "metadata": {
            "tags": []
          },
          "execution_count": 120
        }
      ]
    },
    {
      "cell_type": "markdown",
      "metadata": {
        "id": "PPD0SVgzNacM"
      },
      "source": [
        "6 % of our customers with a maximum of 20 years old age left the bank"
      ]
    },
    {
      "cell_type": "code",
      "metadata": {
        "id": "4WuSV8GnLPWI",
        "colab": {
          "base_uri": "https://localhost:8080/"
        },
        "outputId": "c562c88b-c269-4888-bf34-3144c846e560"
      },
      "source": [
        "porc_leave_btw20 = (count_20[1] / len(Age_btw_20))*100\n",
        "\n",
        "print(round(porc_leave_btw20),'%')"
      ],
      "execution_count": 121,
      "outputs": [
        {
          "output_type": "stream",
          "text": [
            "6 %\n"
          ],
          "name": "stdout"
        }
      ]
    },
    {
      "cell_type": "markdown",
      "metadata": {
        "id": "e-rcgyKGPNCq"
      },
      "source": [
        "Here we can plot the customers by age"
      ]
    },
    {
      "cell_type": "code",
      "metadata": {
        "id": "vG314UIpgSNN",
        "colab": {
          "base_uri": "https://localhost:8080/",
          "height": 296
        },
        "outputId": "9edab187-6d81-4215-ab35-97e44c45dcdc"
      },
      "source": [
        "sns.barplot(x= 'Age', y= 'Exited', data= Age_btw_20,ci= None ,estimator= np.sum)"
      ],
      "execution_count": 122,
      "outputs": [
        {
          "output_type": "execute_result",
          "data": {
            "text/plain": [
              "<matplotlib.axes._subplots.AxesSubplot at 0x7eff320c4438>"
            ]
          },
          "metadata": {
            "tags": []
          },
          "execution_count": 122
        },
        {
          "output_type": "display_data",
          "data": {
            "image/png": "[encoded data removed]",
            "text/plain": [
              "<Figure size 432x288 with 1 Axes>"
            ]
          },
          "metadata": {
            "tags": [],
            "needs_background": "light"
          }
        }
      ]
    },
    {
      "cell_type": "markdown",
      "metadata": {
        "id": "sTTNxcDvg5X9"
      },
      "source": [
        "#### Between 20 and 40 years old"
      ]
    },
    {
      "cell_type": "markdown",
      "metadata": {
        "id": "zXNku24GPZ8Q"
      },
      "source": [
        "Customers between 20 and 40 years old. We have 6330 customers with that age"
      ]
    },
    {
      "cell_type": "code",
      "metadata": {
        "id": "wqfe6uMjqQHL",
        "colab": {
          "base_uri": "https://localhost:8080/"
        },
        "outputId": "de4f2ecd-c2a4-48cc-9b84-ccd22e4e4ff0"
      },
      "source": [
        "Age_btw_20_40 = df_churn2.query('Age >20 & Age <=40')\n",
        "\n",
        "len(Age_btw_20_40)"
      ],
      "execution_count": 123,
      "outputs": [
        {
          "output_type": "execute_result",
          "data": {
            "text/plain": [
              "6330"
            ]
          },
          "metadata": {
            "tags": []
          },
          "execution_count": 123
        }
      ]
    },
    {
      "cell_type": "markdown",
      "metadata": {
        "id": "od_ophxdPIaG"
      },
      "source": [
        "We have 681 customers who left the bank and 5649 who did not"
      ]
    },
    {
      "cell_type": "code",
      "metadata": {
        "id": "lhNWNZRWORbf",
        "colab": {
          "base_uri": "https://localhost:8080/"
        },
        "outputId": "129e2736-2509-46df-d1d4-ac1d68a284db"
      },
      "source": [
        "count_20_40 = Age_btw_20_40['Exited'].value_counts()\n",
        "\n",
        "count_20_40"
      ],
      "execution_count": 124,
      "outputs": [
        {
          "output_type": "execute_result",
          "data": {
            "text/plain": [
              "0    5649\n",
              "1     681\n",
              "Name: Exited, dtype: int64"
            ]
          },
          "metadata": {
            "tags": []
          },
          "execution_count": 124
        }
      ]
    },
    {
      "cell_type": "markdown",
      "metadata": {
        "id": "D1Z5WWlhPUZ5"
      },
      "source": [
        "11 % of our customers between 20 and 40 years old left the bank"
      ]
    },
    {
      "cell_type": "code",
      "metadata": {
        "id": "EKWsEpCrOlN5",
        "colab": {
          "base_uri": "https://localhost:8080/"
        },
        "outputId": "90398dc2-f82e-4bc2-837f-f3a51a5a8c41"
      },
      "source": [
        "porc_leave_20_40 = (count_20_40[1] / len(Age_btw_20_40))*100\n",
        "\n",
        "print(round(porc_leave_20_40),'%')"
      ],
      "execution_count": 125,
      "outputs": [
        {
          "output_type": "stream",
          "text": [
            "11 %\n"
          ],
          "name": "stdout"
        }
      ]
    },
    {
      "cell_type": "markdown",
      "metadata": {
        "id": "QMuke2BiDjta"
      },
      "source": [
        "We can see that the top 10 customers who leave the bank between 20 and 40 years old are between 30 and 40 years old"
      ]
    },
    {
      "cell_type": "code",
      "metadata": {
        "id": "DxrNaWE1frnT",
        "colab": {
          "base_uri": "https://localhost:8080/"
        },
        "outputId": "588baf4c-8efd-4b92-c3cb-3c8b3d4f4665"
      },
      "source": [
        "Age_btw_20_40.groupby('Age')['Exited'].sum().sort_values(ascending = False).head(10)"
      ],
      "execution_count": 126,
      "outputs": [
        {
          "output_type": "execute_result",
          "data": {
            "text/plain": [
              "Age\n",
              "40    89\n",
              "39    72\n",
              "38    63\n",
              "37    62\n",
              "35    57\n",
              "36    53\n",
              "33    44\n",
              "34    33\n",
              "31    33\n",
              "32    32\n",
              "Name: Exited, dtype: int64"
            ]
          },
          "metadata": {
            "tags": []
          },
          "execution_count": 126
        }
      ]
    },
    {
      "cell_type": "markdown",
      "metadata": {
        "id": "ZPKX36rfF7KF"
      },
      "source": [
        "Now we can visualize all the ages and it is clear that \n",
        "The higher the age the more customers leave the bank when we consider ages from 20 to 40 years old."
      ]
    },
    {
      "cell_type": "code",
      "metadata": {
        "id": "NDXYHL_8gxiV",
        "colab": {
          "base_uri": "https://localhost:8080/",
          "height": 279
        },
        "outputId": "be1cd9a9-0d8b-4849-b713-be5b27c89115"
      },
      "source": [
        "sns.barplot(x= 'Age', y= 'Exited', data= Age_btw_20_40,ci= None ,estimator= np.sum);"
      ],
      "execution_count": 127,
      "outputs": [
        {
          "output_type": "display_data",
          "data": {
            "image/png": "[encoded data removed]",
            "text/plain": [
              "<Figure size 432x288 with 1 Axes>"
            ]
          },
          "metadata": {
            "tags": [],
            "needs_background": "light"
          }
        }
      ]
    },
    {
      "cell_type": "markdown",
      "metadata": {
        "id": "2Vs5lwO3hCJm"
      },
      "source": [
        "#### Between 40 and 60 years old "
      ]
    },
    {
      "cell_type": "markdown",
      "metadata": {
        "id": "a4TPgBlnHGwS"
      },
      "source": [
        "Customers between 40 and 60 years old. We have 3117 customers with that age"
      ]
    },
    {
      "cell_type": "code",
      "metadata": {
        "id": "jo6IKDImrK_3",
        "colab": {
          "base_uri": "https://localhost:8080/"
        },
        "outputId": "c5bb3111-d5f9-4148-8a99-b897f4db9f74"
      },
      "source": [
        "Age_btw_40_60 = df_churn2.query('Age >40 & Age <=60')\n",
        "\n",
        "len(Age_btw_40_60)"
      ],
      "execution_count": 128,
      "outputs": [
        {
          "output_type": "execute_result",
          "data": {
            "text/plain": [
              "3117"
            ]
          },
          "metadata": {
            "tags": []
          },
          "execution_count": 128
        }
      ]
    },
    {
      "cell_type": "markdown",
      "metadata": {
        "id": "fDRt9alpRDu9"
      },
      "source": [
        "We have 1236 customers who left the bank and 1881 who did not "
      ]
    },
    {
      "cell_type": "code",
      "metadata": {
        "id": "-LUKTwi4QDeQ",
        "colab": {
          "base_uri": "https://localhost:8080/"
        },
        "outputId": "e83ab1a0-dc7d-450f-e51f-b73eb910b597"
      },
      "source": [
        "count_40_60 = Age_btw_40_60['Exited'].value_counts()\n",
        "\n",
        "count_40_60"
      ],
      "execution_count": 129,
      "outputs": [
        {
          "output_type": "execute_result",
          "data": {
            "text/plain": [
              "0    1881\n",
              "1    1236\n",
              "Name: Exited, dtype: int64"
            ]
          },
          "metadata": {
            "tags": []
          },
          "execution_count": 129
        }
      ]
    },
    {
      "cell_type": "markdown",
      "metadata": {
        "id": "t5Ox4MreRMwl"
      },
      "source": [
        "40 % of our customers between 40 and 60 years old left the bank"
      ]
    },
    {
      "cell_type": "code",
      "metadata": {
        "id": "mu8bPd2KQbCU",
        "colab": {
          "base_uri": "https://localhost:8080/"
        },
        "outputId": "e8f06fa6-dc2a-4b36-e200-9450ad85a7ad"
      },
      "source": [
        "porc_leave_40_60 = (count_40_60[1] / len(Age_btw_40_60))*100\n",
        "\n",
        "print(round(porc_leave_40_60),'%')"
      ],
      "execution_count": 130,
      "outputs": [
        {
          "output_type": "stream",
          "text": [
            "40 %\n"
          ],
          "name": "stdout"
        }
      ]
    },
    {
      "cell_type": "markdown",
      "metadata": {
        "id": "7_IAQ40wHWLy"
      },
      "source": [
        "We can see that the top 10 customers who leave the bank between 40 and 60 years old, are between 40 and 50 years old"
      ]
    },
    {
      "cell_type": "code",
      "metadata": {
        "id": "TdQIdV0mftvR",
        "colab": {
          "base_uri": "https://localhost:8080/"
        },
        "outputId": "36d76c3f-12dc-4b63-9a41-8dbd2167a019"
      },
      "source": [
        "Age_btw_40_60.groupby('Age')['Exited'].sum().sort_values(ascending = False).head(10)"
      ],
      "execution_count": 131,
      "outputs": [
        {
          "output_type": "execute_result",
          "data": {
            "text/plain": [
              "Age\n",
              "46    91\n",
              "43    88\n",
              "45    87\n",
              "48    80\n",
              "42    77\n",
              "47    77\n",
              "49    75\n",
              "44    73\n",
              "50    71\n",
              "41    69\n",
              "Name: Exited, dtype: int64"
            ]
          },
          "metadata": {
            "tags": []
          },
          "execution_count": 131
        }
      ]
    },
    {
      "cell_type": "markdown",
      "metadata": {
        "id": "HPoS1jG7I6mH"
      },
      "source": [
        "Now we can visualize all the ages and we can notice that most of the customers who left the bank between 40 and 50 years old and after 50 years old."
      ]
    },
    {
      "cell_type": "code",
      "metadata": {
        "id": "aSr7iR05gzCN",
        "colab": {
          "base_uri": "https://localhost:8080/",
          "height": 296
        },
        "outputId": "66e2a83a-a13c-4eff-c8f3-2bba72e0a62c"
      },
      "source": [
        "sns.barplot(x= 'Age', y= 'Exited', data= Age_btw_40_60,ci= None ,estimator= np.sum)"
      ],
      "execution_count": 132,
      "outputs": [
        {
          "output_type": "execute_result",
          "data": {
            "text/plain": [
              "<matplotlib.axes._subplots.AxesSubplot at 0x7eff31f49cc0>"
            ]
          },
          "metadata": {
            "tags": []
          },
          "execution_count": 132
        },
        {
          "output_type": "display_data",
          "data": {
            "image/png": "[encoded data removed]",
            "text/plain": [
              "<Figure size 432x288 with 1 Axes>"
            ]
          },
          "metadata": {
            "tags": [],
            "needs_background": "light"
          }
        }
      ]
    },
    {
      "cell_type": "markdown",
      "metadata": {
        "id": "PZ04Kc2bJcUr"
      },
      "source": [
        "Customers between 60 and 80 years old. We have 452 customers with taht age"
      ]
    },
    {
      "cell_type": "markdown",
      "metadata": {
        "id": "HLVwNGSLhKgk"
      },
      "source": [
        "#### Between 60 and 80 years old "
      ]
    },
    {
      "cell_type": "code",
      "metadata": {
        "id": "QuLjfxSPrSqi",
        "colab": {
          "base_uri": "https://localhost:8080/"
        },
        "outputId": "b8f4d94c-f5fb-44f0-b679-66cbc09ffe7b"
      },
      "source": [
        "Age_btw_60_80 = df_churn2.query('Age > 60 & Age <=80')\n",
        "\n",
        "len(Age_btw_60_80)"
      ],
      "execution_count": 133,
      "outputs": [
        {
          "output_type": "execute_result",
          "data": {
            "text/plain": [
              "452"
            ]
          },
          "metadata": {
            "tags": []
          },
          "execution_count": 133
        }
      ]
    },
    {
      "cell_type": "markdown",
      "metadata": {
        "id": "8mOvOFY5S7xv"
      },
      "source": [
        "We have 114 customers who left the bank and 338 who did not"
      ]
    },
    {
      "cell_type": "code",
      "metadata": {
        "id": "n8qAPEVHSahH",
        "colab": {
          "base_uri": "https://localhost:8080/"
        },
        "outputId": "26267235-0fbb-46b4-8bca-5fa420856a44"
      },
      "source": [
        "count_60_80 = Age_btw_60_80['Exited'].value_counts()\n",
        "\n",
        "count_60_80"
      ],
      "execution_count": 134,
      "outputs": [
        {
          "output_type": "execute_result",
          "data": {
            "text/plain": [
              "0    338\n",
              "1    114\n",
              "Name: Exited, dtype: int64"
            ]
          },
          "metadata": {
            "tags": []
          },
          "execution_count": 134
        }
      ]
    },
    {
      "cell_type": "markdown",
      "metadata": {
        "id": "fzWf5XT8TMgt"
      },
      "source": [
        "25 % of our customers between 60 and 80 years old left the bank"
      ]
    },
    {
      "cell_type": "code",
      "metadata": {
        "id": "GtgVqdgvSGhB",
        "colab": {
          "base_uri": "https://localhost:8080/"
        },
        "outputId": "0e93594e-9164-4888-efed-cb1a38aea302"
      },
      "source": [
        "porc_leave_60_80 = (count_60_80[1] / len(Age_btw_60_80))*100\n",
        "\n",
        "print(round(porc_leave_60_80),'%')"
      ],
      "execution_count": 135,
      "outputs": [
        {
          "output_type": "stream",
          "text": [
            "25 %\n"
          ],
          "name": "stdout"
        }
      ]
    },
    {
      "cell_type": "markdown",
      "metadata": {
        "id": "JLU-59ZqJ5Ju"
      },
      "source": [
        "We can see that the top 10 customers who leave the bank between 60 and 80 years old, are between 60 and 70 years old"
      ]
    },
    {
      "cell_type": "code",
      "metadata": {
        "id": "fklIdgY2fuSh",
        "colab": {
          "base_uri": "https://localhost:8080/"
        },
        "outputId": "254021be-a42a-4125-d6a9-08c6cde5dada"
      },
      "source": [
        "Age_btw_60_80.groupby('Age')['Exited'].sum().sort_values(ascending = False).head(10)"
      ],
      "execution_count": 136,
      "outputs": [
        {
          "output_type": "execute_result",
          "data": {
            "text/plain": [
              "Age\n",
              "61    21\n",
              "62    21\n",
              "63    18\n",
              "64    12\n",
              "65     8\n",
              "71     7\n",
              "66     7\n",
              "68     6\n",
              "67     5\n",
              "70     4\n",
              "Name: Exited, dtype: int64"
            ]
          },
          "metadata": {
            "tags": []
          },
          "execution_count": 136
        }
      ]
    },
    {
      "cell_type": "markdown",
      "metadata": {
        "id": "ASRKKhn9KC9a"
      },
      "source": [
        "We can see we do not have customers from 75 who left the bank and the most customers are from 61 to 64 years old."
      ]
    },
    {
      "cell_type": "code",
      "metadata": {
        "id": "3JpRC-jOg0cU",
        "colab": {
          "base_uri": "https://localhost:8080/",
          "height": 296
        },
        "outputId": "359a4a31-d59e-4175-f4ba-bc385a9e578b"
      },
      "source": [
        "sns.barplot(x= 'Age', y= 'Exited', data= Age_btw_60_80,ci= None ,estimator= np.sum)"
      ],
      "execution_count": 137,
      "outputs": [
        {
          "output_type": "execute_result",
          "data": {
            "text/plain": [
              "<matplotlib.axes._subplots.AxesSubplot at 0x7eff3204beb8>"
            ]
          },
          "metadata": {
            "tags": []
          },
          "execution_count": 137
        },
        {
          "output_type": "display_data",
          "data": {
            "image/png": "[encoded data removed]",
            "text/plain": [
              "<Figure size 432x288 with 1 Axes>"
            ]
          },
          "metadata": {
            "tags": [],
            "needs_background": "light"
          }
        }
      ]
    },
    {
      "cell_type": "markdown",
      "metadata": {
        "id": "26RJRhCchSJy"
      },
      "source": [
        "#### Above 80 years old "
      ]
    },
    {
      "cell_type": "markdown",
      "metadata": {
        "id": "EZGzKkoVKmp1"
      },
      "source": [
        "Customers from 80 years old. We have 12 customers with taht age"
      ]
    },
    {
      "cell_type": "code",
      "metadata": {
        "id": "AibLzpSrrmPc",
        "colab": {
          "base_uri": "https://localhost:8080/"
        },
        "outputId": "58f01f1b-b532-4884-c924-b284d893f08c"
      },
      "source": [
        "Age_high_80 = df_churn2.query('Age > 80')\n",
        "\n",
        "len(Age_high_80)"
      ],
      "execution_count": 138,
      "outputs": [
        {
          "output_type": "execute_result",
          "data": {
            "text/plain": [
              "12"
            ]
          },
          "metadata": {
            "tags": []
          },
          "execution_count": 138
        }
      ]
    },
    {
      "cell_type": "markdown",
      "metadata": {
        "id": "YbBKU-3nUFja"
      },
      "source": [
        "We have 1 customers who left the bank and 11 who did not"
      ]
    },
    {
      "cell_type": "code",
      "metadata": {
        "id": "f-PKIrIDTk_E",
        "colab": {
          "base_uri": "https://localhost:8080/"
        },
        "outputId": "9da52332-ab22-4a94-c34b-2f4885dda8a5"
      },
      "source": [
        "count_high_80 = Age_high_80['Exited'].value_counts()\n",
        "\n",
        "count_high_80"
      ],
      "execution_count": 139,
      "outputs": [
        {
          "output_type": "execute_result",
          "data": {
            "text/plain": [
              "0    11\n",
              "1     1\n",
              "Name: Exited, dtype: int64"
            ]
          },
          "metadata": {
            "tags": []
          },
          "execution_count": 139
        }
      ]
    },
    {
      "cell_type": "markdown",
      "metadata": {
        "id": "qgRvDhKxUf6L"
      },
      "source": [
        "8 % of the customers above 80 years old left the bank"
      ]
    },
    {
      "cell_type": "code",
      "metadata": {
        "id": "ToHz05MCT1iy",
        "colab": {
          "base_uri": "https://localhost:8080/"
        },
        "outputId": "1bb2f476-f5f6-4379-edd5-53005d6c61bf"
      },
      "source": [
        "porc_leave_high_80= (count_high_80[1] / len(Age_high_80))*100\n",
        "\n",
        "print(round(porc_leave_high_80),'%')"
      ],
      "execution_count": 140,
      "outputs": [
        {
          "output_type": "stream",
          "text": [
            "8 %\n"
          ],
          "name": "stdout"
        }
      ]
    },
    {
      "cell_type": "markdown",
      "metadata": {
        "id": "jrJZL0GkKp1L"
      },
      "source": [
        "We just have 1 customer with 84 years old who left the bank "
      ]
    },
    {
      "cell_type": "code",
      "metadata": {
        "id": "buNJdL-trpzb",
        "colab": {
          "base_uri": "https://localhost:8080/"
        },
        "outputId": "349f050b-fd0c-4e40-fbe9-c5aa32561c2f"
      },
      "source": [
        "Age_high_80.groupby('Age')['Exited'].sum()"
      ],
      "execution_count": 141,
      "outputs": [
        {
          "output_type": "execute_result",
          "data": {
            "text/plain": [
              "Age\n",
              "81    0\n",
              "82    0\n",
              "83    0\n",
              "84    1\n",
              "85    0\n",
              "88    0\n",
              "92    0\n",
              "Name: Exited, dtype: int64"
            ]
          },
          "metadata": {
            "tags": []
          },
          "execution_count": 141
        }
      ]
    },
    {
      "cell_type": "markdown",
      "metadata": {
        "id": "KhTVKAfOK3Pk"
      },
      "source": [
        "We can visualize  the only customer who left the bank"
      ]
    },
    {
      "cell_type": "code",
      "metadata": {
        "id": "__yRuwfkfsKa",
        "colab": {
          "base_uri": "https://localhost:8080/",
          "height": 296
        },
        "outputId": "6c47ed43-753b-4864-dc0c-14d17e9c00b1"
      },
      "source": [
        "sns.barplot(x= 'Age', y= 'Exited', data= Age_high_80,ci= None ,estimator= np.sum)"
      ],
      "execution_count": 142,
      "outputs": [
        {
          "output_type": "execute_result",
          "data": {
            "text/plain": [
              "<matplotlib.axes._subplots.AxesSubplot at 0x7eff31c4c358>"
            ]
          },
          "metadata": {
            "tags": []
          },
          "execution_count": 142
        },
        {
          "output_type": "display_data",
          "data": {
            "image/png": "[encoded data removed]",
            "text/plain": [
              "<Figure size 432x288 with 1 Axes>"
            ]
          },
          "metadata": {
            "tags": [],
            "needs_background": "light"
          }
        }
      ]
    },
    {
      "cell_type": "markdown",
      "metadata": {
        "id": "dtL5LHdLcbq8"
      },
      "source": [
        "#### Most of customers who left the bank from 30 to 50 years old "
      ]
    },
    {
      "cell_type": "markdown",
      "metadata": {
        "id": "8rr85fz_dIWe"
      },
      "source": [
        "##### Between 30 and 40 years old"
      ]
    },
    {
      "cell_type": "markdown",
      "metadata": {
        "id": "aVyjHUabKpyD"
      },
      "source": [
        "\n",
        "**In the previous analyzes it was possible to notice that most of the customers who left the bank in relation to age are between 30 and 50 years old, let's make a more specific analysis with these values ​​to answer our hypothesis.**"
      ]
    },
    {
      "cell_type": "markdown",
      "metadata": {
        "id": "q89WpANKbsLR"
      },
      "source": [
        "We have 4778 customers between 30 and 40 years old "
      ]
    },
    {
      "cell_type": "code",
      "metadata": {
        "id": "CWGIFh7oKo-s",
        "colab": {
          "base_uri": "https://localhost:8080/"
        },
        "outputId": "8f7b89ee-e6cd-4291-87af-72ced4ef4c3a"
      },
      "source": [
        "Age_btw_30_40 = df_churn2.query('Age >=30 & Age <=40')\n",
        "\n",
        "len(Age_btw_30_40)"
      ],
      "execution_count": 143,
      "outputs": [
        {
          "output_type": "execute_result",
          "data": {
            "text/plain": [
              "4778"
            ]
          },
          "metadata": {
            "tags": []
          },
          "execution_count": 143
        }
      ]
    },
    {
      "cell_type": "markdown",
      "metadata": {
        "id": "EClnH3LbbzWf"
      },
      "source": [
        "We have 562 customers who left the bank"
      ]
    },
    {
      "cell_type": "code",
      "metadata": {
        "id": "7zQvRW0yKpEZ",
        "colab": {
          "base_uri": "https://localhost:8080/"
        },
        "outputId": "16961b71-70ed-485c-962f-cdfcbb59c5e5"
      },
      "source": [
        "count_30_40 = Age_btw_30_40['Exited'].value_counts()\n",
        "\n",
        "count_30_40"
      ],
      "execution_count": 144,
      "outputs": [
        {
          "output_type": "execute_result",
          "data": {
            "text/plain": [
              "0    4216\n",
              "1     562\n",
              "Name: Exited, dtype: int64"
            ]
          },
          "metadata": {
            "tags": []
          },
          "execution_count": 144
        }
      ]
    },
    {
      "cell_type": "markdown",
      "metadata": {
        "id": "9N6XCxdOcGj6"
      },
      "source": [
        "12 % of customers left the bank"
      ]
    },
    {
      "cell_type": "code",
      "metadata": {
        "id": "QZb5aUe1LPK_",
        "colab": {
          "base_uri": "https://localhost:8080/"
        },
        "outputId": "d7cf7616-06a7-4291-fb6a-cc032a5f0382"
      },
      "source": [
        "porc_leave_30_40 = (count_30_40[1] / len(Age_btw_30_40))*100\n",
        "\n",
        "print(round(porc_leave_30_40),'%')"
      ],
      "execution_count": 145,
      "outputs": [
        {
          "output_type": "stream",
          "text": [
            "12 %\n"
          ],
          "name": "stdout"
        }
      ]
    },
    {
      "cell_type": "markdown",
      "metadata": {
        "id": "_e8M61OoLvi1"
      },
      "source": [
        "##### Between 40 and 50 years old "
      ]
    },
    {
      "cell_type": "markdown",
      "metadata": {
        "id": "zBneP53qdSCJ"
      },
      "source": [
        "We have 2320 customers between 40 and 50 years old "
      ]
    },
    {
      "cell_type": "code",
      "metadata": {
        "id": "VcRdYrimLu4P",
        "colab": {
          "base_uri": "https://localhost:8080/"
        },
        "outputId": "5dffa20e-11c7-49a3-f8a2-ef0db5abfec0"
      },
      "source": [
        "Age_btw_40_50 = df_churn2.query('Age >40 & Age <=50')\n",
        "\n",
        "len(Age_btw_40_50)"
      ],
      "execution_count": 146,
      "outputs": [
        {
          "output_type": "execute_result",
          "data": {
            "text/plain": [
              "2320"
            ]
          },
          "metadata": {
            "tags": []
          },
          "execution_count": 146
        }
      ]
    },
    {
      "cell_type": "markdown",
      "metadata": {
        "id": "k9Bu0fdWdwCf"
      },
      "source": [
        "We have 788 customers who left the bank"
      ]
    },
    {
      "cell_type": "code",
      "metadata": {
        "id": "KGnQLJetLu9e",
        "colab": {
          "base_uri": "https://localhost:8080/"
        },
        "outputId": "b1eb34d8-8d42-4c0c-ea12-1e33aeb6b450"
      },
      "source": [
        "count_40_50 = Age_btw_40_50['Exited'].value_counts()\n",
        "\n",
        "count_40_50"
      ],
      "execution_count": 147,
      "outputs": [
        {
          "output_type": "execute_result",
          "data": {
            "text/plain": [
              "0    1532\n",
              "1     788\n",
              "Name: Exited, dtype: int64"
            ]
          },
          "metadata": {
            "tags": []
          },
          "execution_count": 147
        }
      ]
    },
    {
      "cell_type": "markdown",
      "metadata": {
        "id": "QoqOB4yod6vr"
      },
      "source": [
        "34 % of the customers left the bank"
      ]
    },
    {
      "cell_type": "code",
      "metadata": {
        "id": "FUUujUfhLu7r",
        "colab": {
          "base_uri": "https://localhost:8080/"
        },
        "outputId": "e602de8e-1da5-4b8c-daae-640314d18af8"
      },
      "source": [
        "porc_leave_40_50 = (count_40_50[1] / len(Age_btw_40_50))*100\n",
        "\n",
        "print(round(porc_leave_40_50),'%')"
      ],
      "execution_count": 148,
      "outputs": [
        {
          "output_type": "stream",
          "text": [
            "34 %\n"
          ],
          "name": "stdout"
        }
      ]
    },
    {
      "cell_type": "markdown",
      "metadata": {
        "id": "CheZXx83eDNz"
      },
      "source": [
        "We have 7098 customers between 30 and 50 years old"
      ]
    },
    {
      "cell_type": "code",
      "metadata": {
        "id": "bmN-JFqnLu1O",
        "colab": {
          "base_uri": "https://localhost:8080/"
        },
        "outputId": "2af901a2-d6e0-4adf-b928-e87b64adeb73"
      },
      "source": [
        "total_customer_btw_30_50 = len(Age_btw_30_40) + len(Age_btw_40_50)\n",
        "\n",
        "total_customer_btw_30_50"
      ],
      "execution_count": 149,
      "outputs": [
        {
          "output_type": "execute_result",
          "data": {
            "text/plain": [
              "7098"
            ]
          },
          "metadata": {
            "tags": []
          },
          "execution_count": 149
        }
      ]
    },
    {
      "cell_type": "markdown",
      "metadata": {
        "id": "g-Kr_O8IOwkW"
      },
      "source": [
        "Our customers between 30 an 50 years old represents 71 % of total of customers"
      ]
    },
    {
      "cell_type": "code",
      "metadata": {
        "id": "oc8BTPc4M30x",
        "colab": {
          "base_uri": "https://localhost:8080/"
        },
        "outputId": "063ccfd9-357f-41b2-eca5-81ed05d876f0"
      },
      "source": [
        "porcent_total_customer = round((total_customer_btw_30_50 ) / len(df_churn2)*100)\n",
        "\n",
        "print(round(porcent_total_customer),'%')"
      ],
      "execution_count": 150,
      "outputs": [
        {
          "output_type": "stream",
          "text": [
            "71 %\n"
          ],
          "name": "stdout"
        }
      ]
    },
    {
      "cell_type": "markdown",
      "metadata": {
        "id": "efWcXzeTfuAa"
      },
      "source": [
        "We have 1350 customers who left the bank between 30 and 50 years old "
      ]
    },
    {
      "cell_type": "code",
      "metadata": {
        "id": "slg56n-VQo0C",
        "colab": {
          "base_uri": "https://localhost:8080/"
        },
        "outputId": "2b2b48fd-7af6-48bf-9f28-fec802f2b4bb"
      },
      "source": [
        "total_saiu_banco_30_50 = ((count_30_40[1] + count_40_50[1]))\n",
        "\n",
        "total_saiu_banco_30_50"
      ],
      "execution_count": 151,
      "outputs": [
        {
          "output_type": "execute_result",
          "data": {
            "text/plain": [
              "1350"
            ]
          },
          "metadata": {
            "tags": []
          },
          "execution_count": 151
        }
      ]
    },
    {
      "cell_type": "markdown",
      "metadata": {
        "id": "YqduAaXSQPiT"
      },
      "source": [
        "19% of customers aged 30 to 50 leave the bank"
      ]
    },
    {
      "cell_type": "code",
      "metadata": {
        "id": "hZTLpnFcPTEv",
        "colab": {
          "base_uri": "https://localhost:8080/"
        },
        "outputId": "3c2f7cb1-d943-42cb-b7fe-2d279b9fcc27"
      },
      "source": [
        "porcent_custom_btw_30_50_left = ((count_30_40[1] + count_40_50[1]) / total_customer_btw_30_50)*100\n",
        "\n",
        "print(round(porcent_custom_btw_30_50_left),'%')"
      ],
      "execution_count": 152,
      "outputs": [
        {
          "output_type": "stream",
          "text": [
            "19 %\n"
          ],
          "name": "stdout"
        }
      ]
    },
    {
      "cell_type": "markdown",
      "metadata": {
        "id": "qUM35ZP6ovUY"
      },
      "source": [
        "### 3.1.5  h5 Customers with up to 2 years as a customer usually leave the bank \n",
        "\n"
      ]
    },
    {
      "cell_type": "markdown",
      "metadata": {
        "id": "g6jK3uxIlfNX"
      },
      "source": [
        " we have 2496 customers on this class"
      ]
    },
    {
      "cell_type": "code",
      "metadata": {
        "id": "GMB9DeWNowwV",
        "colab": {
          "base_uri": "https://localhost:8080/"
        },
        "outputId": "7656a490-d899-4039-fd65-489d713790db"
      },
      "source": [
        "tenure_up_to_2 = df_churn2.query('Tenure <= 2')\n",
        "\n",
        "\n",
        "len(tenure_up_to_2)"
      ],
      "execution_count": 153,
      "outputs": [
        {
          "output_type": "execute_result",
          "data": {
            "text/plain": [
              "2496"
            ]
          },
          "metadata": {
            "tags": []
          },
          "execution_count": 153
        }
      ]
    },
    {
      "cell_type": "markdown",
      "metadata": {
        "id": "dScZ-slHhc3v"
      },
      "source": [
        "\n",
        "we can see how many customers leave per year of stay"
      ]
    },
    {
      "cell_type": "code",
      "metadata": {
        "id": "7yCfoWZ6qjeR",
        "colab": {
          "base_uri": "https://localhost:8080/"
        },
        "outputId": "dc3af654-3c4f-46fe-a4af-fb0960743a00"
      },
      "source": [
        "up_2 = tenure_up_to_2.groupby('Tenure')['Exited'].sum()\n",
        "\n",
        "up_2"
      ],
      "execution_count": 154,
      "outputs": [
        {
          "output_type": "execute_result",
          "data": {
            "text/plain": [
              "Tenure\n",
              "0     95\n",
              "1    232\n",
              "2    201\n",
              "Name: Exited, dtype: int64"
            ]
          },
          "metadata": {
            "tags": []
          },
          "execution_count": 154
        }
      ]
    },
    {
      "cell_type": "markdown",
      "metadata": {
        "id": "Y0XvtXdBiMSJ"
      },
      "source": [
        "We have 528 customers who left the bank"
      ]
    },
    {
      "cell_type": "code",
      "metadata": {
        "id": "x1fy4BpRpIqS",
        "colab": {
          "base_uri": "https://localhost:8080/"
        },
        "outputId": "b0b8c069-e76e-4a8d-d14a-ae152b977eee"
      },
      "source": [
        "total_up2_leave = up_2[0] + up_2[1] + up_2[2]\n",
        "\n",
        "total_up2_leave"
      ],
      "execution_count": 155,
      "outputs": [
        {
          "output_type": "execute_result",
          "data": {
            "text/plain": [
              "528"
            ]
          },
          "metadata": {
            "tags": []
          },
          "execution_count": 155
        }
      ]
    },
    {
      "cell_type": "markdown",
      "metadata": {
        "id": "aFU8F5PMh3cd"
      },
      "source": [
        "we can vizualize how many customers leave per year of stay"
      ]
    },
    {
      "cell_type": "code",
      "metadata": {
        "id": "NHjc-mZkrROI",
        "colab": {
          "base_uri": "https://localhost:8080/",
          "height": 296
        },
        "outputId": "e965d79a-5fc1-4041-e45a-f0a97daf07b7"
      },
      "source": [
        "sns.barplot(x= 'Tenure' , y= 'Exited' , data= tenure_up_to_2,ci=None,estimator=np.sum)"
      ],
      "execution_count": 156,
      "outputs": [
        {
          "output_type": "execute_result",
          "data": {
            "text/plain": [
              "<matplotlib.axes._subplots.AxesSubplot at 0x7eff31c49f98>"
            ]
          },
          "metadata": {
            "tags": []
          },
          "execution_count": 156
        },
        {
          "output_type": "display_data",
          "data": {
            "image/png": "[encoded data removed]",
            "text/plain": [
              "<Figure size 432x288 with 1 Axes>"
            ]
          },
          "metadata": {
            "tags": [],
            "needs_background": "light"
          }
        }
      ]
    },
    {
      "cell_type": "markdown",
      "metadata": {
        "id": "kJ4ofeYGiSE-"
      },
      "source": [
        "21 % of customers left the bank"
      ]
    },
    {
      "cell_type": "code",
      "metadata": {
        "id": "06OPnrU1oR4L",
        "colab": {
          "base_uri": "https://localhost:8080/"
        },
        "outputId": "b2b29fb7-df65-4e9e-e0d9-fda87a00658d"
      },
      "source": [
        "porc_up_2_leave = (up_2[0]/len(tenure_up_to_2) + up_2[1]/len(tenure_up_to_2) + up_2[2]/len(tenure_up_to_2))*100\n",
        "\n",
        "porc_up_2_leave"
      ],
      "execution_count": 157,
      "outputs": [
        {
          "output_type": "execute_result",
          "data": {
            "text/plain": [
              "21.153846153846157"
            ]
          },
          "metadata": {
            "tags": []
          },
          "execution_count": 157
        }
      ]
    },
    {
      "cell_type": "markdown",
      "metadata": {
        "id": "EtD3fVVcqMfY"
      },
      "source": [
        "### 3.1.6 h6 Customers who do not have a credit card tend to leave the bank"
      ]
    },
    {
      "cell_type": "markdown",
      "metadata": {
        "id": "IZLSUuc0jeRW"
      },
      "source": [
        "7055 customers have credit card and 2945 customers do not have it."
      ]
    },
    {
      "cell_type": "code",
      "metadata": {
        "id": "va6T_LPosD9C",
        "colab": {
          "base_uri": "https://localhost:8080/"
        },
        "outputId": "e2749b1e-4e48-4bcf-bac2-2960dbd9f5ee"
      },
      "source": [
        "total_CR =df_churn2['HasCrCard'].value_counts()\n",
        "\n",
        "total_CR"
      ],
      "execution_count": 158,
      "outputs": [
        {
          "output_type": "execute_result",
          "data": {
            "text/plain": [
              "1    7055\n",
              "0    2945\n",
              "Name: HasCrCard, dtype: int64"
            ]
          },
          "metadata": {
            "tags": []
          },
          "execution_count": 158
        }
      ]
    },
    {
      "cell_type": "markdown",
      "metadata": {
        "id": "atYx9fdKTFkn"
      },
      "source": [
        "Number of customers who do not have credit card 2945"
      ]
    },
    {
      "cell_type": "code",
      "metadata": {
        "id": "2AGVbYVVkRKL",
        "colab": {
          "base_uri": "https://localhost:8080/"
        },
        "outputId": "30113fd0-badf-42ea-892f-894cea3c517a"
      },
      "source": [
        "has_no_Crcd = df_churn2.query('HasCrCard == 0' )\n",
        "\n",
        "len(has_no_Crcd)"
      ],
      "execution_count": 159,
      "outputs": [
        {
          "output_type": "execute_result",
          "data": {
            "text/plain": [
              "2945"
            ]
          },
          "metadata": {
            "tags": []
          },
          "execution_count": 159
        }
      ]
    },
    {
      "cell_type": "markdown",
      "metadata": {
        "id": "hXSXAF2NTT0u"
      },
      "source": [
        "Number of customers who do not have credit card and left the bank 613 "
      ]
    },
    {
      "cell_type": "code",
      "metadata": {
        "id": "NUdvPyF1mQEL",
        "colab": {
          "base_uri": "https://localhost:8080/"
        },
        "outputId": "66151cce-5935-4203-c30e-63bb7c160c8c"
      },
      "source": [
        "leave_crcd = df_churn2.groupby('HasCrCard')['Exited'].sum()\n",
        "\n",
        "leave_crcd[0]"
      ],
      "execution_count": 160,
      "outputs": [
        {
          "output_type": "execute_result",
          "data": {
            "text/plain": [
              "613"
            ]
          },
          "metadata": {
            "tags": []
          },
          "execution_count": 160
        }
      ]
    },
    {
      "cell_type": "markdown",
      "metadata": {
        "id": "1ZBS7-TujuYD"
      },
      "source": [
        "21 % of customers who not have a credit card left the bank"
      ]
    },
    {
      "cell_type": "code",
      "metadata": {
        "id": "B_mvtHQnqbwl",
        "colab": {
          "base_uri": "https://localhost:8080/"
        },
        "outputId": "236bb2b3-6a5a-4a5a-b133-a1639aa3cd0f"
      },
      "source": [
        "porc_leave_crcd = round((leave_crcd[0]/len(has_no_Crcd))*100)\n",
        "\n",
        "porc_leave_crcd"
      ],
      "execution_count": 161,
      "outputs": [
        {
          "output_type": "execute_result",
          "data": {
            "text/plain": [
              "21"
            ]
          },
          "metadata": {
            "tags": []
          },
          "execution_count": 161
        }
      ]
    },
    {
      "cell_type": "markdown",
      "metadata": {
        "id": "JKgaOM7ZT2xu"
      },
      "source": [
        "Here we can visualize the difference between who left the bank and who did not."
      ]
    },
    {
      "cell_type": "code",
      "metadata": {
        "id": "Fm9D6lF-r__m",
        "colab": {
          "base_uri": "https://localhost:8080/",
          "height": 296
        },
        "outputId": "e9b4c741-3d58-446f-9eae-662941c01f26"
      },
      "source": [
        "sns.barplot(x='HasCrCard',y= 'Exited',data=df_churn2,estimator= np.sum, ci= None)"
      ],
      "execution_count": 162,
      "outputs": [
        {
          "output_type": "execute_result",
          "data": {
            "text/plain": [
              "<matplotlib.axes._subplots.AxesSubplot at 0x7eff31b17c18>"
            ]
          },
          "metadata": {
            "tags": []
          },
          "execution_count": 162
        },
        {
          "output_type": "display_data",
          "data": {
            "image/png": "[encoded data removed]",
            "text/plain": [
              "<Figure size 432x288 with 1 Axes>"
            ]
          },
          "metadata": {
            "tags": [],
            "needs_background": "light"
          }
        }
      ]
    },
    {
      "cell_type": "markdown",
      "metadata": {
        "id": "zKR99OT8us6x"
      },
      "source": [
        "## 3.1.7 Conclusions\n"
      ]
    },
    {
      "cell_type": "markdown",
      "metadata": {
        "id": "hcH7cEBEvGCU"
      },
      "source": [
        "**Customers with lower scores tend to leave the bank.**\n",
        "\n",
        "A : 24 % of customers with low score leave the bank\n",
        "\n",
        "**The country is decisive for the client to leave the bank**\n",
        "\n",
        "A : France and Germany in terms of number of customers who left the bank are practically the same 810 and 814 respectively and Spain has 413.However , in percentage we have 32% for Germany and 16% for France and Spain. \n",
        "\n",
        "**There are more men than women who leave the bank.**\n",
        "\n",
        "A : Yes , we have 1139 women wich represents 20 % of women who left and we have 898 men wich represents 16 % of men who left.\n",
        "\n",
        "**Younger customer has a tendency to leave the bank**\n",
        "\n",
        "A : No, it was possible to see that customers up to 25 years old  do not have a high exit rate from the bank, however customers between 30 and 50 years old  are the vast majority of bank customers and that also have the highest number and exit rate.\n",
        "\n",
        "\n",
        "\n",
        "**Customers with up to 2 years as a customer usually leave the bank.**\n",
        "\n",
        "A : 528 or 21 % of customers up to 2 years as a customer left the bank \n",
        "\n",
        "**Customers who do not have a credit card tend to leave the bank.**\n",
        "\n",
        "A: 613 or 21 % of customers who do not have credit card leave the bank\n"
      ]
    },
    {
      "cell_type": "markdown",
      "metadata": {
        "id": "huxsfFFlW_gx"
      },
      "source": [
        "# Feature Engeneering"
      ]
    },
    {
      "cell_type": "markdown",
      "metadata": {
        "id": "4HjBN0lhZeCu"
      },
      "source": [
        "Criar variável com Kmeans usando k=2. O valor de k é devido a estarmos trabalhando com um problema binário.\r\n",
        "Com objetivo de capturar concentrações que podem indicar o churn de clientes ou não foram criadas as variáveis abaixo:- Criar variável EstimatedSalary por location.\r\n",
        "\r\n",
        "- Criar variável Balance por location.\r\n",
        "\r\n",
        "- Criar variável EstimatedSalary por Gender.\r\n",
        "\r\n",
        "- Criar variável EstimatedSalary por HascrCard.\r\n",
        "\r\n",
        "- Criar variável CreditScore por HascrCard.\r\n",
        "\r\n",
        "- Criar variável CreditScore por Gender.\r\n",
        "\r\n",
        "Criar a variável LTV - Life Time Value, através da divisão de Balance por Tenure. Montante de dinheiro que o cliente (disponível para o banco realizar emprestimos) dividido pelo tempo que o cliente está com o Banco."
      ]
    },
    {
      "cell_type": "code",
      "metadata": {
        "id": "WQRWEGFFXMXh"
      },
      "source": [
        "# Copia do dataset original\r\n",
        "dataset = df_churn2.copy()"
      ],
      "execution_count": 171,
      "outputs": []
    },
    {
      "cell_type": "code",
      "metadata": {
        "id": "5Snp_7zNXMin"
      },
      "source": [
        "# Variável kmeans distancia eucliadiana\r\n",
        "# Criando copia\r\n",
        "churn_temp = dataset.copy()\r\n",
        "\r\n",
        "# Encoder\r\n",
        "enc = OrdinalEncoder()\r\n",
        "churn_temp['Gender'] = churn_temp['Gender'].apply(lambda x: 1 if x == 'Female' else 0)\r\n",
        "churn_temp['Geography'] = enc.fit_transform(np.array(churn_temp['Geography']).reshape(-1,1))\r\n",
        "\r\n",
        "# kmeans model\r\n",
        "model = KMeans(n_clusters=2,init='k-means++')\r\n",
        "model.fit(churn_temp)\r\n",
        "dataset['kmeans_group'] = model.labels_\r\n",
        "dataset['kmeans_group'] = dataset['kmeans_group'].astype('category')\r\n",
        "dataset['kmeans_group'] = dataset['kmeans_group'].apply(lambda x: 'G1' if x==1 else 'G2')"
      ],
      "execution_count": 172,
      "outputs": []
    },
    {
      "cell_type": "code",
      "metadata": {
        "id": "D4kpnfFWhPMg"
      },
      "source": [
        "# Criar variável Balance por location\r\n",
        "group_balance = dataset.groupby('Geography').agg({'Balance': ['mean']}).reset_index()\r\n",
        "group = pd.concat([group_balance['Geography'],group_balance['Balance']['mean']], axis=1)\r\n",
        "group = group.rename(columns={\"mean\":\"balance_mean_country\"})\r\n",
        "dataset = dataset.merge(group, left_on='Geography', right_on='Geography', how='inner')\r\n",
        "\r\n"
      ],
      "execution_count": 173,
      "outputs": []
    },
    {
      "cell_type": "code",
      "metadata": {
        "id": "_CshRx98jyhA"
      },
      "source": [
        "# Criar variável EstimatedSalary por location\r\n",
        "group_EstimatedSalary = dataset.groupby('Geography').agg({'EstimatedSalary': ['mean']}).reset_index()\r\n",
        "group = pd.concat([group_EstimatedSalary['Geography'],  group_EstimatedSalary['EstimatedSalary']['mean']], axis=1)\r\n",
        "group = group.rename(columns={\"mean\":\"EstimatedSalary_mean_geo\"})\r\n",
        "dataset = dataset.merge(group, left_on='Geography', right_on='Geography', how='inner')"
      ],
      "execution_count": 174,
      "outputs": []
    },
    {
      "cell_type": "code",
      "metadata": {
        "id": "BCo_j1coj0Ra"
      },
      "source": [
        "# Criar variável EstimatedSalary por gender\r\n",
        "group_Gender = dataset.groupby('Gender').agg({'EstimatedSalary': ['mean']}).reset_index()\r\n",
        "group = pd.concat([group_Gender['Gender'],  group_Gender['EstimatedSalary']['mean']], axis=1)\r\n",
        "group = group.rename(columns={\"mean\":\"EstimatedSalary_mean_gender\"})\r\n",
        "dataset = dataset.merge(group, left_on='Gender', right_on='Gender', how='inner')"
      ],
      "execution_count": 175,
      "outputs": []
    },
    {
      "cell_type": "code",
      "metadata": {
        "id": "bI4XZ4Lij0eK"
      },
      "source": [
        "# Criar variável EstimatedSalary por hascrcard\r\n",
        "group_HasCrCard = dataset.groupby('HasCrCard').agg({'EstimatedSalary': ['mean']}).reset_index()\r\n",
        "group = pd.concat([group_HasCrCard['HasCrCard'],  group_HasCrCard['EstimatedSalary']['mean']], axis=1)\r\n",
        "group = group.rename(columns={\"mean\":\"group_HasCrCard_mean\"})\r\n",
        "dataset = dataset.merge(group, left_on='HasCrCard', right_on='HasCrCard', how='inner')"
      ],
      "execution_count": 176,
      "outputs": []
    },
    {
      "cell_type": "code",
      "metadata": {
        "id": "rbY6BuEmkGGK"
      },
      "source": [
        "# Criar variável CreditScore score por Hascrcard\r\n",
        "group_hascrcard = dataset.groupby('HasCrCard').agg({'CreditScore': ['mean']}).reset_index()\r\n",
        "group = pd.concat([group_hascrcard['HasCrCard'],  group_hascrcard['CreditScore']['mean']], axis=1)\r\n",
        "group = group.rename(columns={\"mean\":\"hascrcard_mean_credit\"})\r\n",
        "dataset = dataset.merge(group, left_on='HasCrCard', right_on='HasCrCard', how='inner')"
      ],
      "execution_count": 177,
      "outputs": []
    },
    {
      "cell_type": "code",
      "metadata": {
        "id": "gJ5bIoFEkGN1"
      },
      "source": [
        "# Criar variável CreditScore score por Gender\r\n",
        "group_gender = dataset.groupby('Gender').agg({'CreditScore': ['mean']}).reset_index()\r\n",
        "group = pd.concat([group_gender['Gender'],  group_gender['CreditScore']['mean']], axis=1)\r\n",
        "group = group.rename(columns={\"mean\":\"gender_mean_credit\"})\r\n",
        "dataset = dataset.merge(group, left_on='Gender', right_on='Gender', how='inner')"
      ],
      "execution_count": 178,
      "outputs": []
    },
    {
      "cell_type": "code",
      "metadata": {
        "id": "3mBOd4fzkGX_"
      },
      "source": [
        "# Criar variável LTV\r\n",
        "balance = dataset['Balance'].astype('int64')\r\n",
        "dataset['LTV'] = balance / (dataset['Tenure'] + 0.1)"
      ],
      "execution_count": 184,
      "outputs": []
    },
    {
      "cell_type": "code",
      "metadata": {
        "id": "0bVRV9bIcdyZ",
        "outputId": "d735536b-33e9-4969-cf24-aae16765837a",
        "colab": {
          "base_uri": "https://localhost:8080/",
          "height": 224
        }
      },
      "source": [
        "# Dando uma olhada como ficou o dataset\r\n",
        "dataset.head()"
      ],
      "execution_count": 186,
      "outputs": [
        {
          "output_type": "execute_result",
          "data": {
            "text/html": [
              "<div>\n",
              "<style scoped>\n",
              "    .dataframe tbody tr th:only-of-type {\n",
              "        vertical-align: middle;\n",
              "    }\n",
              "\n",
              "    .dataframe tbody tr th {\n",
              "        vertical-align: top;\n",
              "    }\n",
              "\n",
              "    .dataframe thead th {\n",
              "        text-align: right;\n",
              "    }\n",
              "</style>\n",
              "<table border=\"1\" class=\"dataframe\">\n",
              "  <thead>\n",
              "    <tr style=\"text-align: right;\">\n",
              "      <th></th>\n",
              "      <th>RowNumber</th>\n",
              "      <th>CustomerId</th>\n",
              "      <th>CreditScore</th>\n",
              "      <th>Geography</th>\n",
              "      <th>Gender</th>\n",
              "      <th>Age</th>\n",
              "      <th>Tenure</th>\n",
              "      <th>Balance</th>\n",
              "      <th>NumOfProducts</th>\n",
              "      <th>HasCrCard</th>\n",
              "      <th>IsActiveMember</th>\n",
              "      <th>EstimatedSalary</th>\n",
              "      <th>Exited</th>\n",
              "      <th>kmeans_group</th>\n",
              "      <th>balance_mean_country</th>\n",
              "      <th>EstimatedSalary_mean_geo</th>\n",
              "      <th>EstimatedSalary_mean_gender</th>\n",
              "      <th>group_HasCrCard_mean</th>\n",
              "      <th>hascrcard_mean_credit</th>\n",
              "      <th>gender_mean_credit</th>\n",
              "      <th>LTV</th>\n",
              "    </tr>\n",
              "  </thead>\n",
              "  <tbody>\n",
              "    <tr>\n",
              "      <th>0</th>\n",
              "      <td>1</td>\n",
              "      <td>15634602</td>\n",
              "      <td>619</td>\n",
              "      <td>France</td>\n",
              "      <td>Female</td>\n",
              "      <td>42</td>\n",
              "      <td>2</td>\n",
              "      <td>0.000</td>\n",
              "      <td>1</td>\n",
              "      <td>1</td>\n",
              "      <td>1</td>\n",
              "      <td>101,348.880</td>\n",
              "      <td>1</td>\n",
              "      <td>G2</td>\n",
              "      <td>62,092.637</td>\n",
              "      <td>99,899.181</td>\n",
              "      <td>100,601.541</td>\n",
              "      <td>99,721.162</td>\n",
              "      <td>650.188</td>\n",
              "      <td>650.831</td>\n",
              "      <td>0.000</td>\n",
              "    </tr>\n",
              "    <tr>\n",
              "      <th>1</th>\n",
              "      <td>3</td>\n",
              "      <td>15619304</td>\n",
              "      <td>502</td>\n",
              "      <td>France</td>\n",
              "      <td>Female</td>\n",
              "      <td>42</td>\n",
              "      <td>8</td>\n",
              "      <td>159,660.800</td>\n",
              "      <td>3</td>\n",
              "      <td>1</td>\n",
              "      <td>0</td>\n",
              "      <td>113,931.570</td>\n",
              "      <td>1</td>\n",
              "      <td>G2</td>\n",
              "      <td>62,092.637</td>\n",
              "      <td>99,899.181</td>\n",
              "      <td>100,601.541</td>\n",
              "      <td>99,721.162</td>\n",
              "      <td>650.188</td>\n",
              "      <td>650.831</td>\n",
              "      <td>19,711.111</td>\n",
              "    </tr>\n",
              "    <tr>\n",
              "      <th>2</th>\n",
              "      <td>13</td>\n",
              "      <td>15632264</td>\n",
              "      <td>476</td>\n",
              "      <td>France</td>\n",
              "      <td>Female</td>\n",
              "      <td>34</td>\n",
              "      <td>10</td>\n",
              "      <td>0.000</td>\n",
              "      <td>2</td>\n",
              "      <td>1</td>\n",
              "      <td>0</td>\n",
              "      <td>26,260.980</td>\n",
              "      <td>0</td>\n",
              "      <td>G2</td>\n",
              "      <td>62,092.637</td>\n",
              "      <td>99,899.181</td>\n",
              "      <td>100,601.541</td>\n",
              "      <td>99,721.162</td>\n",
              "      <td>650.188</td>\n",
              "      <td>650.831</td>\n",
              "      <td>0.000</td>\n",
              "    </tr>\n",
              "    <tr>\n",
              "      <th>3</th>\n",
              "      <td>20</td>\n",
              "      <td>15568982</td>\n",
              "      <td>726</td>\n",
              "      <td>France</td>\n",
              "      <td>Female</td>\n",
              "      <td>24</td>\n",
              "      <td>6</td>\n",
              "      <td>0.000</td>\n",
              "      <td>2</td>\n",
              "      <td>1</td>\n",
              "      <td>1</td>\n",
              "      <td>54,724.030</td>\n",
              "      <td>0</td>\n",
              "      <td>G2</td>\n",
              "      <td>62,092.637</td>\n",
              "      <td>99,899.181</td>\n",
              "      <td>100,601.541</td>\n",
              "      <td>99,721.162</td>\n",
              "      <td>650.188</td>\n",
              "      <td>650.831</td>\n",
              "      <td>0.000</td>\n",
              "    </tr>\n",
              "    <tr>\n",
              "      <th>4</th>\n",
              "      <td>25</td>\n",
              "      <td>15625047</td>\n",
              "      <td>846</td>\n",
              "      <td>France</td>\n",
              "      <td>Female</td>\n",
              "      <td>38</td>\n",
              "      <td>5</td>\n",
              "      <td>0.000</td>\n",
              "      <td>1</td>\n",
              "      <td>1</td>\n",
              "      <td>1</td>\n",
              "      <td>187,616.160</td>\n",
              "      <td>0</td>\n",
              "      <td>G2</td>\n",
              "      <td>62,092.637</td>\n",
              "      <td>99,899.181</td>\n",
              "      <td>100,601.541</td>\n",
              "      <td>99,721.162</td>\n",
              "      <td>650.188</td>\n",
              "      <td>650.831</td>\n",
              "      <td>0.000</td>\n",
              "    </tr>\n",
              "  </tbody>\n",
              "</table>\n",
              "</div>"
            ],
            "text/plain": [
              "   RowNumber  CustomerId  ...  gender_mean_credit        LTV\n",
              "0          1    15634602  ...             650.831      0.000\n",
              "1          3    15619304  ...             650.831 19,711.111\n",
              "2         13    15632264  ...             650.831      0.000\n",
              "3         20    15568982  ...             650.831      0.000\n",
              "4         25    15625047  ...             650.831      0.000\n",
              "\n",
              "[5 rows x 21 columns]"
            ]
          },
          "metadata": {
            "tags": []
          },
          "execution_count": 186
        }
      ]
    },
    {
      "cell_type": "markdown",
      "metadata": {
        "id": "DdRXPawvIKuR"
      },
      "source": [
        "## Heat Map"
      ]
    },
    {
      "cell_type": "code",
      "metadata": {
        "id": "iZ4PoYyKjyXp"
      },
      "source": [
        ""
      ],
      "execution_count": 179,
      "outputs": []
    },
    {
      "cell_type": "code",
      "metadata": {
        "id": "BTnpWDo0LUN6"
      },
      "source": [
        "df_churn_heat = df_churn2[['CreditScore','Age','Balance','NumOfProducts','EstimatedSalary','Tenure']]"
      ],
      "execution_count": 180,
      "outputs": []
    },
    {
      "cell_type": "code",
      "metadata": {
        "id": "2W4Jym6RLVUj",
        "colab": {
          "base_uri": "https://localhost:8080/",
          "height": 204
        },
        "outputId": "fc834152-cd3c-4aa2-bf34-3be5aa0f8c02"
      },
      "source": [
        "df_churn_heat.head()"
      ],
      "execution_count": 181,
      "outputs": [
        {
          "output_type": "execute_result",
          "data": {
            "text/html": [
              "<div>\n",
              "<style scoped>\n",
              "    .dataframe tbody tr th:only-of-type {\n",
              "        vertical-align: middle;\n",
              "    }\n",
              "\n",
              "    .dataframe tbody tr th {\n",
              "        vertical-align: top;\n",
              "    }\n",
              "\n",
              "    .dataframe thead th {\n",
              "        text-align: right;\n",
              "    }\n",
              "</style>\n",
              "<table border=\"1\" class=\"dataframe\">\n",
              "  <thead>\n",
              "    <tr style=\"text-align: right;\">\n",
              "      <th></th>\n",
              "      <th>CreditScore</th>\n",
              "      <th>Age</th>\n",
              "      <th>Balance</th>\n",
              "      <th>NumOfProducts</th>\n",
              "      <th>EstimatedSalary</th>\n",
              "      <th>Tenure</th>\n",
              "    </tr>\n",
              "  </thead>\n",
              "  <tbody>\n",
              "    <tr>\n",
              "      <th>0</th>\n",
              "      <td>619</td>\n",
              "      <td>42</td>\n",
              "      <td>0.000</td>\n",
              "      <td>1</td>\n",
              "      <td>101,348.880</td>\n",
              "      <td>2</td>\n",
              "    </tr>\n",
              "    <tr>\n",
              "      <th>1</th>\n",
              "      <td>608</td>\n",
              "      <td>41</td>\n",
              "      <td>83,807.860</td>\n",
              "      <td>1</td>\n",
              "      <td>112,542.580</td>\n",
              "      <td>1</td>\n",
              "    </tr>\n",
              "    <tr>\n",
              "      <th>2</th>\n",
              "      <td>502</td>\n",
              "      <td>42</td>\n",
              "      <td>159,660.800</td>\n",
              "      <td>3</td>\n",
              "      <td>113,931.570</td>\n",
              "      <td>8</td>\n",
              "    </tr>\n",
              "    <tr>\n",
              "      <th>3</th>\n",
              "      <td>699</td>\n",
              "      <td>39</td>\n",
              "      <td>0.000</td>\n",
              "      <td>2</td>\n",
              "      <td>93,826.630</td>\n",
              "      <td>1</td>\n",
              "    </tr>\n",
              "    <tr>\n",
              "      <th>4</th>\n",
              "      <td>850</td>\n",
              "      <td>43</td>\n",
              "      <td>125,510.820</td>\n",
              "      <td>1</td>\n",
              "      <td>79,084.100</td>\n",
              "      <td>2</td>\n",
              "    </tr>\n",
              "  </tbody>\n",
              "</table>\n",
              "</div>"
            ],
            "text/plain": [
              "   CreditScore  Age     Balance  NumOfProducts  EstimatedSalary  Tenure\n",
              "0          619   42       0.000              1      101,348.880       2\n",
              "1          608   41  83,807.860              1      112,542.580       1\n",
              "2          502   42 159,660.800              3      113,931.570       8\n",
              "3          699   39       0.000              2       93,826.630       1\n",
              "4          850   43 125,510.820              1       79,084.100       2"
            ]
          },
          "metadata": {
            "tags": []
          },
          "execution_count": 181
        }
      ]
    },
    {
      "cell_type": "code",
      "metadata": {
        "id": "RMGFwqgMIQDD",
        "colab": {
          "base_uri": "https://localhost:8080/",
          "height": 684
        },
        "outputId": "baeb5e68-86bc-43a5-fca9-254f7e77f824"
      },
      "source": [
        "plt.figure(figsize=(10,10))\n",
        "sns.heatmap(df_churn_heat.corr(),annot= True,center= 0,cmap= 'viridis')"
      ],
      "execution_count": 182,
      "outputs": [
        {
          "output_type": "execute_result",
          "data": {
            "text/plain": [
              "<matplotlib.axes._subplots.AxesSubplot at 0x7eff320d10b8>"
            ]
          },
          "metadata": {
            "tags": []
          },
          "execution_count": 182
        },
        {
          "output_type": "display_data",
          "data": {
            "image/png": "[encoded data removed]",
            "text/plain": [
              "<Figure size 720x720 with 2 Axes>"
            ]
          },
          "metadata": {
            "tags": [],
            "needs_background": "light"
          }
        }
      ]
    },
    {
      "cell_type": "code",
      "metadata": {
        "id": "Bd47qbZeIQHh"
      },
      "source": [
        "df_churn_heat_spearman = df_churn2.drop(['CreditScore','Age','Balance','NumOfProducts','EstimatedSalary','CustomerId','RowNumber','Tenure'],axis=1)"
      ],
      "execution_count": 183,
      "outputs": []
    },
    {
      "cell_type": "code",
      "metadata": {
        "id": "iBK5bJl2IQMX",
        "colab": {
          "base_uri": "https://localhost:8080/",
          "height": 204
        },
        "outputId": "9bb38db6-355b-4278-f479-c646320b29d1"
      },
      "source": [
        "df_churn_heat_spearman.head()"
      ],
      "execution_count": 115,
      "outputs": [
        {
          "output_type": "execute_result",
          "data": {
            "text/html": [
              "<div>\n",
              "<style scoped>\n",
              "    .dataframe tbody tr th:only-of-type {\n",
              "        vertical-align: middle;\n",
              "    }\n",
              "\n",
              "    .dataframe tbody tr th {\n",
              "        vertical-align: top;\n",
              "    }\n",
              "\n",
              "    .dataframe thead th {\n",
              "        text-align: right;\n",
              "    }\n",
              "</style>\n",
              "<table border=\"1\" class=\"dataframe\">\n",
              "  <thead>\n",
              "    <tr style=\"text-align: right;\">\n",
              "      <th></th>\n",
              "      <th>Geography</th>\n",
              "      <th>Gender</th>\n",
              "      <th>HasCrCard</th>\n",
              "      <th>IsActiveMember</th>\n",
              "      <th>Exited</th>\n",
              "    </tr>\n",
              "  </thead>\n",
              "  <tbody>\n",
              "    <tr>\n",
              "      <th>0</th>\n",
              "      <td>France</td>\n",
              "      <td>Female</td>\n",
              "      <td>1</td>\n",
              "      <td>1</td>\n",
              "      <td>1</td>\n",
              "    </tr>\n",
              "    <tr>\n",
              "      <th>1</th>\n",
              "      <td>Spain</td>\n",
              "      <td>Female</td>\n",
              "      <td>0</td>\n",
              "      <td>1</td>\n",
              "      <td>0</td>\n",
              "    </tr>\n",
              "    <tr>\n",
              "      <th>2</th>\n",
              "      <td>France</td>\n",
              "      <td>Female</td>\n",
              "      <td>1</td>\n",
              "      <td>0</td>\n",
              "      <td>1</td>\n",
              "    </tr>\n",
              "    <tr>\n",
              "      <th>3</th>\n",
              "      <td>France</td>\n",
              "      <td>Female</td>\n",
              "      <td>0</td>\n",
              "      <td>0</td>\n",
              "      <td>0</td>\n",
              "    </tr>\n",
              "    <tr>\n",
              "      <th>4</th>\n",
              "      <td>Spain</td>\n",
              "      <td>Female</td>\n",
              "      <td>1</td>\n",
              "      <td>1</td>\n",
              "      <td>0</td>\n",
              "    </tr>\n",
              "  </tbody>\n",
              "</table>\n",
              "</div>"
            ],
            "text/plain": [
              "  Geography  Gender  HasCrCard  IsActiveMember  Exited\n",
              "0    France  Female          1               1       1\n",
              "1     Spain  Female          0               1       0\n",
              "2    France  Female          1               0       1\n",
              "3    France  Female          0               0       0\n",
              "4     Spain  Female          1               1       0"
            ]
          },
          "metadata": {
            "tags": []
          },
          "execution_count": 115
        }
      ]
    },
    {
      "cell_type": "code",
      "metadata": {
        "colab": {
          "base_uri": "https://localhost:8080/",
          "height": 596
        },
        "id": "05GnEqirPJ4Y",
        "outputId": "cf70061a-f2f0-4b95-eb12-9d87d725a5a1"
      },
      "source": [
        "plt.figure(figsize=(10,10))\r\n",
        "sns.heatmap(df_churn_heat_spearman.corr(method='spearman'),annot= True);"
      ],
      "execution_count": 143,
      "outputs": [
        {
          "output_type": "display_data",
          "data": {
            "image/png": "[encoded data removed]",
            "text/plain": [
              "<Figure size 720x720 with 2 Axes>"
            ]
          },
          "metadata": {
            "tags": [],
            "needs_background": "light"
          }
        }
      ]
    },
    {
      "cell_type": "markdown",
      "metadata": {
        "id": "3RfXO8F1ogJ-"
      },
      "source": [
        " # 4.0  Metrics"
      ]
    },
    {
      "cell_type": "code",
      "metadata": {
        "id": "EjlL-j6momJH"
      },
      "source": [
        ""
      ],
      "execution_count": 115,
      "outputs": []
    },
    {
      "cell_type": "code",
      "metadata": {
        "id": "iJdiIwA9XIMR"
      },
      "source": [
        ""
      ],
      "execution_count": 115,
      "outputs": []
    },
    {
      "cell_type": "markdown",
      "metadata": {
        "id": "zCmy9Hi7vz-A"
      },
      "source": [
        "# 5.0 Baseline"
      ]
    },
    {
      "cell_type": "code",
      "metadata": {
        "id": "_69x3cDTuzcq"
      },
      "source": [
        "\n",
        "X= df_churn2[['Age','HasCrCard']]\n",
        "\n",
        "y = df_churn2['Exited']\n"
      ],
      "execution_count": 116,
      "outputs": []
    },
    {
      "cell_type": "code",
      "metadata": {
        "id": "9WyE17rGXPps"
      },
      "source": [
        "X_train , X_test , y_train ,y_test = train_test_split(X,y,random_state = 42 )"
      ],
      "execution_count": 117,
      "outputs": []
    },
    {
      "cell_type": "code",
      "metadata": {
        "id": "gj07LUgdhKKl",
        "colab": {
          "base_uri": "https://localhost:8080/"
        },
        "outputId": "13c42e33-6556-4fc9-eb82-507498ba1bd7"
      },
      "source": [
        "X_test.shape"
      ],
      "execution_count": 118,
      "outputs": [
        {
          "output_type": "execute_result",
          "data": {
            "text/plain": [
              "(2500, 2)"
            ]
          },
          "metadata": {
            "tags": []
          },
          "execution_count": 118
        }
      ]
    },
    {
      "cell_type": "code",
      "metadata": {
        "id": "o0gnfV3QXSl-"
      },
      "source": [
        "SVC = LinearSVC()"
      ],
      "execution_count": 119,
      "outputs": []
    },
    {
      "cell_type": "code",
      "metadata": {
        "id": "O-i8kf-tXPmz",
        "colab": {
          "base_uri": "https://localhost:8080/"
        },
        "outputId": "3f69036d-b01e-48a2-e832-57bf9e9050fe"
      },
      "source": [
        "SVC.fit(X_train,y_train)\n"
      ],
      "execution_count": 120,
      "outputs": [
        {
          "output_type": "execute_result",
          "data": {
            "text/plain": [
              "LinearSVC(C=1.0, class_weight=None, dual=True, fit_intercept=True,\n",
              "          intercept_scaling=1, loss='squared_hinge', max_iter=1000,\n",
              "          multi_class='ovr', penalty='l2', random_state=None, tol=0.0001,\n",
              "          verbose=0)"
            ]
          },
          "metadata": {
            "tags": []
          },
          "execution_count": 120
        }
      ]
    },
    {
      "cell_type": "code",
      "metadata": {
        "id": "E8QplGyWajJO",
        "colab": {
          "base_uri": "https://localhost:8080/",
          "height": 282
        },
        "outputId": "6504a779-067f-41e1-97a2-7104da93e898"
      },
      "source": [
        "plot_confusion_matrix(SVC, X_test, y_test ) \n",
        "plt.show()"
      ],
      "execution_count": 121,
      "outputs": [
        {
          "output_type": "display_data",
          "data": {
            "image/png": "[encoded data removed]",
            "text/plain": [
              "<Figure size 432x288 with 2 Axes>"
            ]
          },
          "metadata": {
            "tags": [],
            "needs_background": "light"
          }
        }
      ]
    },
    {
      "cell_type": "code",
      "metadata": {
        "id": "5kYMfx2Of7XQ"
      },
      "source": [
        "pred = SVC.predict(X_test)"
      ],
      "execution_count": 122,
      "outputs": []
    },
    {
      "cell_type": "code",
      "metadata": {
        "id": "zEmX4Lsncv44",
        "colab": {
          "base_uri": "https://localhost:8080/"
        },
        "outputId": "afe12fd1-6416-4bf4-c366-b1fcbc73327e"
      },
      "source": [
        "confusion_matrix(y_test,pred)"
      ],
      "execution_count": 123,
      "outputs": [
        {
          "output_type": "execute_result",
          "data": {
            "text/plain": [
              "array([[2003,    0],\n",
              "       [ 497,    0]])"
            ]
          },
          "metadata": {
            "tags": []
          },
          "execution_count": 123
        }
      ]
    },
    {
      "cell_type": "code",
      "metadata": {
        "id": "QUxJMXTSf0kl",
        "colab": {
          "base_uri": "https://localhost:8080/"
        },
        "outputId": "a94556b7-34f3-4420-df3c-43916e3ad618"
      },
      "source": [
        "print(classification_report(y_test,pred))\n",
        "\n"
      ],
      "execution_count": 124,
      "outputs": [
        {
          "output_type": "stream",
          "text": [
            "              precision    recall  f1-score   support\n",
            "\n",
            "           0       0.80      1.00      0.89      2003\n",
            "           1       0.00      0.00      0.00       497\n",
            "\n",
            "    accuracy                           0.80      2500\n",
            "   macro avg       0.40      0.50      0.44      2500\n",
            "weighted avg       0.64      0.80      0.71      2500\n",
            "\n"
          ],
          "name": "stdout"
        }
      ]
    },
    {
      "cell_type": "code",
      "metadata": {
        "id": "ruy2f6ykf0ve"
      },
      "source": [
        ""
      ],
      "execution_count": 124,
      "outputs": []
    },
    {
      "cell_type": "markdown",
      "metadata": {
        "id": "UdNnVYXhooRk"
      },
      "source": [
        "# 6.0 Feature Engeneering"
      ]
    },
    {
      "cell_type": "code",
      "metadata": {
        "id": "SDgJ60nFl5s1"
      },
      "source": [
        "lab = LabelEncoder()"
      ],
      "execution_count": 125,
      "outputs": []
    },
    {
      "cell_type": "code",
      "metadata": {
        "id": "z_ws-0EFpD4w"
      },
      "source": [
        "df_churn2['Gender'] = lab.fit_transform(df_churn2['Gender'] )\n",
        "\n",
        "df_churn2['Geography'] = lab.fit_transform(df_churn2['Geography'] )"
      ],
      "execution_count": 126,
      "outputs": []
    },
    {
      "cell_type": "code",
      "metadata": {
        "id": "w_3kG2XVmmaQ",
        "colab": {
          "base_uri": "https://localhost:8080/",
          "height": 202
        },
        "outputId": "e7bf6b98-58e4-41b7-fa60-cbcb5132d272"
      },
      "source": [
        "df_churn2.head()"
      ],
      "execution_count": 127,
      "outputs": [
        {
          "output_type": "execute_result",
          "data": {
            "text/html": [
              "<div>\n",
              "<style scoped>\n",
              "    .dataframe tbody tr th:only-of-type {\n",
              "        vertical-align: middle;\n",
              "    }\n",
              "\n",
              "    .dataframe tbody tr th {\n",
              "        vertical-align: top;\n",
              "    }\n",
              "\n",
              "    .dataframe thead th {\n",
              "        text-align: right;\n",
              "    }\n",
              "</style>\n",
              "<table border=\"1\" class=\"dataframe\">\n",
              "  <thead>\n",
              "    <tr style=\"text-align: right;\">\n",
              "      <th></th>\n",
              "      <th>RowNumber</th>\n",
              "      <th>CustomerId</th>\n",
              "      <th>CreditScore</th>\n",
              "      <th>Geography</th>\n",
              "      <th>Gender</th>\n",
              "      <th>Age</th>\n",
              "      <th>Tenure</th>\n",
              "      <th>Balance</th>\n",
              "      <th>NumOfProducts</th>\n",
              "      <th>HasCrCard</th>\n",
              "      <th>IsActiveMember</th>\n",
              "      <th>EstimatedSalary</th>\n",
              "      <th>Exited</th>\n",
              "    </tr>\n",
              "  </thead>\n",
              "  <tbody>\n",
              "    <tr>\n",
              "      <th>0</th>\n",
              "      <td>1</td>\n",
              "      <td>15634602</td>\n",
              "      <td>619</td>\n",
              "      <td>0</td>\n",
              "      <td>0</td>\n",
              "      <td>42</td>\n",
              "      <td>2</td>\n",
              "      <td>0.000</td>\n",
              "      <td>1</td>\n",
              "      <td>1</td>\n",
              "      <td>1</td>\n",
              "      <td>101,348.880</td>\n",
              "      <td>1</td>\n",
              "    </tr>\n",
              "    <tr>\n",
              "      <th>1</th>\n",
              "      <td>2</td>\n",
              "      <td>15647311</td>\n",
              "      <td>608</td>\n",
              "      <td>2</td>\n",
              "      <td>0</td>\n",
              "      <td>41</td>\n",
              "      <td>1</td>\n",
              "      <td>83,807.860</td>\n",
              "      <td>1</td>\n",
              "      <td>0</td>\n",
              "      <td>1</td>\n",
              "      <td>112,542.580</td>\n",
              "      <td>0</td>\n",
              "    </tr>\n",
              "    <tr>\n",
              "      <th>2</th>\n",
              "      <td>3</td>\n",
              "      <td>15619304</td>\n",
              "      <td>502</td>\n",
              "      <td>0</td>\n",
              "      <td>0</td>\n",
              "      <td>42</td>\n",
              "      <td>8</td>\n",
              "      <td>159,660.800</td>\n",
              "      <td>3</td>\n",
              "      <td>1</td>\n",
              "      <td>0</td>\n",
              "      <td>113,931.570</td>\n",
              "      <td>1</td>\n",
              "    </tr>\n",
              "    <tr>\n",
              "      <th>3</th>\n",
              "      <td>4</td>\n",
              "      <td>15701354</td>\n",
              "      <td>699</td>\n",
              "      <td>0</td>\n",
              "      <td>0</td>\n",
              "      <td>39</td>\n",
              "      <td>1</td>\n",
              "      <td>0.000</td>\n",
              "      <td>2</td>\n",
              "      <td>0</td>\n",
              "      <td>0</td>\n",
              "      <td>93,826.630</td>\n",
              "      <td>0</td>\n",
              "    </tr>\n",
              "    <tr>\n",
              "      <th>4</th>\n",
              "      <td>5</td>\n",
              "      <td>15737888</td>\n",
              "      <td>850</td>\n",
              "      <td>2</td>\n",
              "      <td>0</td>\n",
              "      <td>43</td>\n",
              "      <td>2</td>\n",
              "      <td>125,510.820</td>\n",
              "      <td>1</td>\n",
              "      <td>1</td>\n",
              "      <td>1</td>\n",
              "      <td>79,084.100</td>\n",
              "      <td>0</td>\n",
              "    </tr>\n",
              "  </tbody>\n",
              "</table>\n",
              "</div>"
            ],
            "text/plain": [
              "   RowNumber  CustomerId  CreditScore  ...  IsActiveMember  EstimatedSalary  Exited\n",
              "0          1    15634602          619  ...               1      101,348.880       1\n",
              "1          2    15647311          608  ...               1      112,542.580       0\n",
              "2          3    15619304          502  ...               0      113,931.570       1\n",
              "3          4    15701354          699  ...               0       93,826.630       0\n",
              "4          5    15737888          850  ...               1       79,084.100       0\n",
              "\n",
              "[5 rows x 13 columns]"
            ]
          },
          "metadata": {
            "tags": []
          },
          "execution_count": 127
        }
      ]
    },
    {
      "cell_type": "code",
      "metadata": {
        "id": "A4ROhYkTmmfK"
      },
      "source": [
        ""
      ],
      "execution_count": 127,
      "outputs": []
    },
    {
      "cell_type": "markdown",
      "metadata": {
        "id": "ILHODk2lpPdz"
      },
      "source": [
        "# 7.0 Data Preparation"
      ]
    },
    {
      "cell_type": "code",
      "metadata": {
        "id": "mrAcqii0sAhb"
      },
      "source": [
        "X= dataset.drop(['Exited','RowNumber','CustomerId'],axis= 1)\n",
        "\n",
        "y = dataset['Exited']"
      ],
      "execution_count": 220,
      "outputs": []
    },
    {
      "cell_type": "code",
      "metadata": {
        "id": "OcYRTOnvnH4F"
      },
      "source": [
        "X_train,X_test,y_train,y_test = train_test_split(X,y,test_size = 0.3,random_state = 42)"
      ],
      "execution_count": 221,
      "outputs": []
    },
    {
      "cell_type": "code",
      "metadata": {
        "id": "-iFTFuozqt77"
      },
      "source": [
        "# Alterando os tipos da Geography e Gender\r\n",
        "varr = ['Geography', 'Gender']\r\n",
        "for var in varr:\r\n",
        "    X_train[var] = X_train[var].astype('category')\r\n",
        "    X_test[var] = X_test[var].astype('category')\r\n",
        "\r\n",
        "# Alterando o tipo dos ys\r\n",
        "y_train = y_train.astype('int64')\r\n",
        "y_test = y_test.astype('int64')"
      ],
      "execution_count": 222,
      "outputs": []
    },
    {
      "cell_type": "markdown",
      "metadata": {
        "id": "yBQoEAaL0c77"
      },
      "source": [
        "## Power Transform"
      ]
    },
    {
      "cell_type": "code",
      "metadata": {
        "id": "R-vDKt2ZzeYY"
      },
      "source": [
        "# Copy dos dados\r\n",
        "X_train_power = X_train.copy() \r\n",
        "X_test_power = X_test.copy()\r\n",
        "y_train_power = y_train.copy()\r\n",
        "y_test_power = y_test.copy()"
      ],
      "execution_count": 226,
      "outputs": []
    },
    {
      "cell_type": "markdown",
      "metadata": {
        "id": "j-5trYJ_zq2S"
      },
      "source": [
        "## transformando as variáveis categóricas em numéricas "
      ]
    },
    {
      "cell_type": "code",
      "metadata": {
        "id": "BBPtun6Tzcjm"
      },
      "source": [
        "# Ordinal Encoder\r\n",
        "variaveis_category = X_train_power.select_dtypes('category')\r\n",
        "\r\n",
        "# Instanciando o Ordinal Encoder\r\n",
        "enc = OrdinalEncoder()\r\n",
        "\r\n",
        "for var in variaveis_category:\r\n",
        "    X_train_power[var] = enc.fit_transform(np.array(X_train_power[var]).reshape(-1,1))\r\n",
        "    X_test_power[var] = enc.transform(np.array(X_test_power[var]).reshape(-1,1))"
      ],
      "execution_count": 227,
      "outputs": []
    },
    {
      "cell_type": "code",
      "metadata": {
        "id": "0Mkg9bBNwH9d"
      },
      "source": [
        "\r\n",
        "# Numerical var\r\n",
        "variaveis_numerical = X_train_power.select_dtypes(['int64','float64'])\r\n",
        "\r\n",
        "# Instanciando o Power Transform\r\n",
        "power = PowerTransformer()\r\n",
        "\r\n",
        "for var in variaveis_numerical:\r\n",
        "    X_train_power[var] = power.fit_transform(np.array(X_train_power[var]).reshape(-1,1))\r\n",
        "    X_test_power[var] = power.transform(np.array(X_test_power[var]).reshape(-1,1))"
      ],
      "execution_count": 231,
      "outputs": []
    },
    {
      "cell_type": "markdown",
      "metadata": {
        "id": "09Pv4-wf0zIE"
      },
      "source": [
        "## MinMaxScaler"
      ]
    },
    {
      "cell_type": "code",
      "metadata": {
        "id": "EhIbXy6_1RgU"
      },
      "source": [
        "# Copy dos dados\r\n",
        "X_train_minmax = X_train.copy() \r\n",
        "X_test_minmax = X_test.copy()\r\n",
        "y_train_minmax = y_train.copy()\r\n",
        "y_test_minmax = y_test.copy()"
      ],
      "execution_count": 232,
      "outputs": []
    },
    {
      "cell_type": "markdown",
      "metadata": {
        "id": "bGT9miDW1Rge"
      },
      "source": [
        "## transformando as variáveis categóricas em numéricas "
      ]
    },
    {
      "cell_type": "code",
      "metadata": {
        "id": "bapHT6ny1Rge"
      },
      "source": [
        "# Ordinal Encoder\r\n",
        "variaveis_category = X_train_minmax.select_dtypes('category')\r\n",
        "\r\n",
        "# Instanciando o Ordinal Encoder\r\n",
        "enc = OrdinalEncoder()\r\n",
        "\r\n",
        "for var in variaveis_category:\r\n",
        "    X_train_minmax[var] = enc.fit_transform(np.array(X_train_minmax[var]).reshape(-1,1))\r\n",
        "    X_test_minmax[var] = enc.transform(np.array(X_test_minmax[var]).reshape(-1,1))"
      ],
      "execution_count": 233,
      "outputs": []
    },
    {
      "cell_type": "code",
      "metadata": {
        "id": "j3wWmpvx1Rge"
      },
      "source": [
        "\r\n",
        "# Numerical var\r\n",
        "variaveis_numerical = X_train_minmax.select_dtypes(['int64','float64'])\r\n",
        "\r\n",
        "# Instanciando o Power Transform\r\n",
        "power = MinMaxScaler()\r\n",
        "\r\n",
        "for var in variaveis_numerical:\r\n",
        "    X_train_minmax[var] = power.fit_transform(np.array(X_train_minmax[var]).reshape(-1,1))\r\n",
        "    X_test_minmax[var] = power.transform(np.array(X_test_minmax[var]).reshape(-1,1))"
      ],
      "execution_count": 234,
      "outputs": []
    },
    {
      "cell_type": "markdown",
      "metadata": {
        "id": "cD2HVBze2PZK"
      },
      "source": [
        "# Balancing Data "
      ]
    },
    {
      "cell_type": "code",
      "metadata": {
        "id": "WiViOZ-d2SXL"
      },
      "source": [
        ""
      ],
      "execution_count": null,
      "outputs": []
    },
    {
      "cell_type": "markdown",
      "metadata": {
        "id": "E_rjhVp7pt52"
      },
      "source": [
        "#10.0 Conclusion"
      ]
    },
    {
      "cell_type": "code",
      "metadata": {
        "id": "bYTfuNdPpwPr"
      },
      "source": [
        ""
      ],
      "execution_count": null,
      "outputs": []
    },
    {
      "cell_type": "code",
      "metadata": {
        "id": "TnCRXyVM9cd-"
      },
      "source": [
        ""
      ],
      "execution_count": null,
      "outputs": []
    },
    {
      "cell_type": "code",
      "metadata": {
        "id": "BwI8v2GtH80j"
      },
      "source": [
        ""
      ],
      "execution_count": null,
      "outputs": []
    },
    {
      "cell_type": "markdown",
      "metadata": {
        "id": "L-nRzayqIGbK"
      },
      "source": [
        ""
      ]
    }
  ]
}