{
  "nbformat": 4,
  "nbformat_minor": 0,
  "metadata": {
    "colab": {
      "name": "Churn.ipynb",
      "provenance": [],
      "toc_visible": true,
      "mount_file_id": "1qNtDfKI8nZabTTt5MHRVo3Qtt4Lu9jO6",
      "authorship_tag": "ABX9TyPFiimp1zKoRQkl1EuTl3vD",
      "include_colab_link": true
    },
    "kernelspec": {
      "name": "python3",
      "display_name": "Python 3"
    }
  },
  "cells": [
    {
      "cell_type": "markdown",
      "metadata": {
        "id": "view-in-github",
        "colab_type": "text"
      },
      "source": [
        "<a href=\"https://colab.research.google.com/github/bezerraluis/Churn--Project/blob/master/Churn.ipynb\" target=\"_parent\"><img src=\"https://colab.research.google.com/assets/colab-badge.svg\" alt=\"Open In Colab\"/></a>"
      ]
    },
    {
      "cell_type": "markdown",
      "metadata": {
        "id": "bbt-d38R8_-2",
        "colab_type": "text"
      },
      "source": [
        "# Data Set"
      ]
    },
    {
      "cell_type": "markdown",
      "metadata": {
        "id": "xRA-LE5-WliB",
        "colab_type": "text"
      },
      "source": [
        "Find a copy on :[Kaggle](https://www.kaggle.com/shrutimechlearn/churn-modelling)"
      ]
    },
    {
      "cell_type": "markdown",
      "metadata": {
        "id": "osq_8-Lm9AQf",
        "colab_type": "text"
      },
      "source": [
        "### Description\n",
        "\n",
        "RowNumber - Row Numbers from 1 to 10000\n",
        "\n",
        "CustomerId - Unique Ids for bank customer identification  \n",
        "\n",
        "Surname - Customer's last name\n",
        "\n",
        "CreditScore -  Credit score of the customer\n",
        "\n",
        "Geography - The country from which the customer belongs\n",
        "\n",
        "Gender -  Male or Female\n",
        "\n",
        "Age - Age of the customer\n",
        "\n",
        "Tenure - Number of years for which the customer has been with the bank\n",
        "\n",
        "Balance - Bank balance of the customer\n",
        "\n",
        "NumOfProducts - Number of bank products the customer is utilising\n"
      ]
    },
    {
      "cell_type": "markdown",
      "metadata": {
        "id": "yRJ1n4HwAzdB",
        "colab_type": "text"
      },
      "source": [
        "# Hypotheses \n",
        "\n",
        "Customers with lower scores tend to leave the bank.\n",
        "\n",
        "The country is decisive for the client to leave the bank\n",
        "\n",
        "There are more men than women who leave the bank.\n",
        "\n",
        "Younger customer has a tendency to leave the bank\n",
        "\n",
        "Customers with up to 2 years as a customer usually leave the bank.\n",
        "\n",
        "Customers who do not have a credit card tend to leave the bank.\n",
        "\n",
        "\n",
        "\n"
      ]
    },
    {
      "cell_type": "markdown",
      "metadata": {
        "id": "5XW-LJdBKbI9",
        "colab_type": "text"
      },
      "source": [
        "# Business Problem"
      ]
    },
    {
      "cell_type": "markdown",
      "metadata": {
        "id": "qw52OmPcKfto",
        "colab_type": "text"
      },
      "source": [
        "Decreasing the number of churns is something that the entire company needs to pursue. It is essential for the growth and health of any operation.\n",
        "\n",
        "How to project growth, attract investors if customer retention fails within organizations.\n",
        "\n",
        "When a user churns, and this is repeated with other people, a very large alert signal needs to be turned on.\n",
        "\n",
        "And a question must be answered: what are we doing wrong?\n",
        "\n",
        "Customers talk to each other. Information is accessible to all. Therefore, working to have an ever lower churn, close to zero, is a tireless pursuit.\n",
        "\n",
        "More than that. Understanding the (especially financial) impact of this metric is vital. It is what will maintain financial health and a safer hike for any business."
      ]
    },
    {
      "cell_type": "markdown",
      "metadata": {
        "id": "Y7nsXVGAOapj",
        "colab_type": "text"
      },
      "source": [
        "## Business Goal"
      ]
    },
    {
      "cell_type": "markdown",
      "metadata": {
        "id": "QLbX7SDqOhrt",
        "colab_type": "text"
      },
      "source": [
        " This data set contains details of a bank's customers and the target variable is a binary variable reflecting the fact whether the customer left the bank (closed his account) or he continues to be a customer.\n",
        "Our Objective is to predict if a customer stay o leave the bank, creating a predictive model with only the necessary variables to not make it too complex."
      ]
    },
    {
      "cell_type": "markdown",
      "metadata": {
        "id": "HWuYPxns9AgK",
        "colab_type": "text"
      },
      "source": [
        "# Frameworks"
      ]
    },
    {
      "cell_type": "code",
      "metadata": {
        "id": "bYRx_opm_xku",
        "colab_type": "code",
        "colab": {
          "base_uri": "https://localhost:8080/",
          "height": 71
        },
        "outputId": "bec680cb-bb12-433f-c710-a11fbf93a56c"
      },
      "source": [
        "import pandas as pd\n",
        "import numpy as np\n",
        "import seaborn as sns\n",
        "import matplotlib.pyplot as plt\n",
        "\n"
      ],
      "execution_count": 1,
      "outputs": [
        {
          "output_type": "stream",
          "text": [
            "/usr/local/lib/python3.6/dist-packages/statsmodels/tools/_testing.py:19: FutureWarning: pandas.util.testing is deprecated. Use the functions in the public API at pandas.testing instead.\n",
            "  import pandas.util.testing as tm\n"
          ],
          "name": "stderr"
        }
      ]
    },
    {
      "cell_type": "markdown",
      "metadata": {
        "id": "1uHeBu0jP7e2",
        "colab_type": "text"
      },
      "source": [
        "# Loading and viewing data"
      ]
    },
    {
      "cell_type": "code",
      "metadata": {
        "id": "0Y_p5_ud_927",
        "colab_type": "code",
        "colab": {}
      },
      "source": [
        "df_churn= pd.read_csv('/content/drive/My Drive/Todos os arquivos do pc antigo/datasets Kaggle/churn.csv')"
      ],
      "execution_count": 2,
      "outputs": []
    },
    {
      "cell_type": "code",
      "metadata": {
        "id": "pc7mM-vpAElz",
        "colab_type": "code",
        "colab": {
          "base_uri": "https://localhost:8080/",
          "height": 224
        },
        "outputId": "ca580e76-0ea2-486e-f6f4-5cf945aa6819"
      },
      "source": [
        "df_churn.head()"
      ],
      "execution_count": 3,
      "outputs": [
        {
          "output_type": "execute_result",
          "data": {
            "text/html": [
              "<div>\n",
              "<style scoped>\n",
              "    .dataframe tbody tr th:only-of-type {\n",
              "        vertical-align: middle;\n",
              "    }\n",
              "\n",
              "    .dataframe tbody tr th {\n",
              "        vertical-align: top;\n",
              "    }\n",
              "\n",
              "    .dataframe thead th {\n",
              "        text-align: right;\n",
              "    }\n",
              "</style>\n",
              "<table border=\"1\" class=\"dataframe\">\n",
              "  <thead>\n",
              "    <tr style=\"text-align: right;\">\n",
              "      <th></th>\n",
              "      <th>RowNumber</th>\n",
              "      <th>CustomerId</th>\n",
              "      <th>Surname</th>\n",
              "      <th>CreditScore</th>\n",
              "      <th>Geography</th>\n",
              "      <th>Gender</th>\n",
              "      <th>Age</th>\n",
              "      <th>Tenure</th>\n",
              "      <th>Balance</th>\n",
              "      <th>NumOfProducts</th>\n",
              "      <th>HasCrCard</th>\n",
              "      <th>IsActiveMember</th>\n",
              "      <th>EstimatedSalary</th>\n",
              "      <th>Exited</th>\n",
              "    </tr>\n",
              "  </thead>\n",
              "  <tbody>\n",
              "    <tr>\n",
              "      <th>0</th>\n",
              "      <td>1</td>\n",
              "      <td>15634602</td>\n",
              "      <td>Hargrave</td>\n",
              "      <td>619</td>\n",
              "      <td>France</td>\n",
              "      <td>Female</td>\n",
              "      <td>42</td>\n",
              "      <td>2</td>\n",
              "      <td>0.00</td>\n",
              "      <td>1</td>\n",
              "      <td>1</td>\n",
              "      <td>1</td>\n",
              "      <td>101348.88</td>\n",
              "      <td>1</td>\n",
              "    </tr>\n",
              "    <tr>\n",
              "      <th>1</th>\n",
              "      <td>2</td>\n",
              "      <td>15647311</td>\n",
              "      <td>Hill</td>\n",
              "      <td>608</td>\n",
              "      <td>Spain</td>\n",
              "      <td>Female</td>\n",
              "      <td>41</td>\n",
              "      <td>1</td>\n",
              "      <td>83807.86</td>\n",
              "      <td>1</td>\n",
              "      <td>0</td>\n",
              "      <td>1</td>\n",
              "      <td>112542.58</td>\n",
              "      <td>0</td>\n",
              "    </tr>\n",
              "    <tr>\n",
              "      <th>2</th>\n",
              "      <td>3</td>\n",
              "      <td>15619304</td>\n",
              "      <td>Onio</td>\n",
              "      <td>502</td>\n",
              "      <td>France</td>\n",
              "      <td>Female</td>\n",
              "      <td>42</td>\n",
              "      <td>8</td>\n",
              "      <td>159660.80</td>\n",
              "      <td>3</td>\n",
              "      <td>1</td>\n",
              "      <td>0</td>\n",
              "      <td>113931.57</td>\n",
              "      <td>1</td>\n",
              "    </tr>\n",
              "    <tr>\n",
              "      <th>3</th>\n",
              "      <td>4</td>\n",
              "      <td>15701354</td>\n",
              "      <td>Boni</td>\n",
              "      <td>699</td>\n",
              "      <td>France</td>\n",
              "      <td>Female</td>\n",
              "      <td>39</td>\n",
              "      <td>1</td>\n",
              "      <td>0.00</td>\n",
              "      <td>2</td>\n",
              "      <td>0</td>\n",
              "      <td>0</td>\n",
              "      <td>93826.63</td>\n",
              "      <td>0</td>\n",
              "    </tr>\n",
              "    <tr>\n",
              "      <th>4</th>\n",
              "      <td>5</td>\n",
              "      <td>15737888</td>\n",
              "      <td>Mitchell</td>\n",
              "      <td>850</td>\n",
              "      <td>Spain</td>\n",
              "      <td>Female</td>\n",
              "      <td>43</td>\n",
              "      <td>2</td>\n",
              "      <td>125510.82</td>\n",
              "      <td>1</td>\n",
              "      <td>1</td>\n",
              "      <td>1</td>\n",
              "      <td>79084.10</td>\n",
              "      <td>0</td>\n",
              "    </tr>\n",
              "  </tbody>\n",
              "</table>\n",
              "</div>"
            ],
            "text/plain": [
              "   RowNumber  CustomerId   Surname  ...  IsActiveMember EstimatedSalary Exited\n",
              "0          1    15634602  Hargrave  ...               1       101348.88      1\n",
              "1          2    15647311      Hill  ...               1       112542.58      0\n",
              "2          3    15619304      Onio  ...               0       113931.57      1\n",
              "3          4    15701354      Boni  ...               0        93826.63      0\n",
              "4          5    15737888  Mitchell  ...               1        79084.10      0\n",
              "\n",
              "[5 rows x 14 columns]"
            ]
          },
          "metadata": {
            "tags": []
          },
          "execution_count": 3
        }
      ]
    },
    {
      "cell_type": "markdown",
      "metadata": {
        "id": "UAip7YUZQUl-",
        "colab_type": "text"
      },
      "source": [
        "\n",
        "We do not have missing values"
      ]
    },
    {
      "cell_type": "code",
      "metadata": {
        "id": "494urThjAGZO",
        "colab_type": "code",
        "colab": {
          "base_uri": "https://localhost:8080/",
          "height": 374
        },
        "outputId": "83d8db7d-7740-4609-a12f-3a497efceaad"
      },
      "source": [
        "df_churn.info()"
      ],
      "execution_count": 4,
      "outputs": [
        {
          "output_type": "stream",
          "text": [
            "<class 'pandas.core.frame.DataFrame'>\n",
            "RangeIndex: 10000 entries, 0 to 9999\n",
            "Data columns (total 14 columns):\n",
            " #   Column           Non-Null Count  Dtype  \n",
            "---  ------           --------------  -----  \n",
            " 0   RowNumber        10000 non-null  int64  \n",
            " 1   CustomerId       10000 non-null  int64  \n",
            " 2   Surname          10000 non-null  object \n",
            " 3   CreditScore      10000 non-null  int64  \n",
            " 4   Geography        10000 non-null  object \n",
            " 5   Gender           10000 non-null  object \n",
            " 6   Age              10000 non-null  int64  \n",
            " 7   Tenure           10000 non-null  int64  \n",
            " 8   Balance          10000 non-null  float64\n",
            " 9   NumOfProducts    10000 non-null  int64  \n",
            " 10  HasCrCard        10000 non-null  int64  \n",
            " 11  IsActiveMember   10000 non-null  int64  \n",
            " 12  EstimatedSalary  10000 non-null  float64\n",
            " 13  Exited           10000 non-null  int64  \n",
            "dtypes: float64(2), int64(9), object(3)\n",
            "memory usage: 1.1+ MB\n"
          ],
          "name": "stdout"
        }
      ]
    },
    {
      "cell_type": "code",
      "metadata": {
        "id": "7naU3FMBAYZP",
        "colab_type": "code",
        "colab": {}
      },
      "source": [
        ""
      ],
      "execution_count": 4,
      "outputs": []
    },
    {
      "cell_type": "markdown",
      "metadata": {
        "id": "rFilV9s9RRUt",
        "colab_type": "text"
      },
      "source": [
        "# Data Cleaning"
      ]
    },
    {
      "cell_type": "markdown",
      "metadata": {
        "id": "9rO7VP7DSkjX",
        "colab_type": "text"
      },
      "source": [
        "### Row Number"
      ]
    },
    {
      "cell_type": "code",
      "metadata": {
        "id": "XAs7VvMvSoHk",
        "colab_type": "code",
        "colab": {
          "base_uri": "https://localhost:8080/",
          "height": 34
        },
        "outputId": "0bdc0768-f087-471a-c902-8d9d9acae0a0"
      },
      "source": [
        "df_churn['RowNumber'].unique()"
      ],
      "execution_count": 5,
      "outputs": [
        {
          "output_type": "execute_result",
          "data": {
            "text/plain": [
              "array([    1,     2,     3, ...,  9998,  9999, 10000])"
            ]
          },
          "metadata": {
            "tags": []
          },
          "execution_count": 5
        }
      ]
    },
    {
      "cell_type": "markdown",
      "metadata": {
        "id": "Nu5XGziWTRor",
        "colab_type": "text"
      },
      "source": [
        "As we can see RowNumber is just a line identifier so it has no predictive power and we will delete it"
      ]
    },
    {
      "cell_type": "code",
      "metadata": {
        "id": "DwnylkzmS4j9",
        "colab_type": "code",
        "colab": {}
      },
      "source": [
        "df_churn2 = df_churn.drop('RowNumber',axis= 1)"
      ],
      "execution_count": 6,
      "outputs": []
    },
    {
      "cell_type": "markdown",
      "metadata": {
        "id": "p2_ZgSVeTpob",
        "colab_type": "text"
      },
      "source": [
        "## CustomerId"
      ]
    },
    {
      "cell_type": "code",
      "metadata": {
        "id": "ptU52FGsTtGS",
        "colab_type": "code",
        "colab": {
          "base_uri": "https://localhost:8080/",
          "height": 34
        },
        "outputId": "258c0d96-7e96-4863-ed33-dd1bea974f84"
      },
      "source": [
        "df_churn['CustomerId'].unique()"
      ],
      "execution_count": 7,
      "outputs": [
        {
          "output_type": "execute_result",
          "data": {
            "text/plain": [
              "array([15634602, 15647311, 15619304, ..., 15584532, 15682355, 15628319])"
            ]
          },
          "metadata": {
            "tags": []
          },
          "execution_count": 7
        }
      ]
    },
    {
      "cell_type": "markdown",
      "metadata": {
        "id": "hyeT_lKmzVik",
        "colab_type": "text"
      },
      "source": [
        "The same goes to CustomerID"
      ]
    },
    {
      "cell_type": "code",
      "metadata": {
        "id": "PpMckvApTrYA",
        "colab_type": "code",
        "colab": {}
      },
      "source": [
        "df_churn2 = df_churn.drop('CustomerId',axis= 1)"
      ],
      "execution_count": 8,
      "outputs": []
    },
    {
      "cell_type": "markdown",
      "metadata": {
        "id": "OWYo-ZCtzeby",
        "colab_type": "text"
      },
      "source": [
        "## Surname   "
      ]
    },
    {
      "cell_type": "code",
      "metadata": {
        "id": "5TuIpZI0zkWp",
        "colab_type": "code",
        "colab": {
          "base_uri": "https://localhost:8080/",
          "height": 51
        },
        "outputId": "a103e494-9cd1-493a-c0b2-f052afca099c"
      },
      "source": [
        "df_churn['Surname'].unique()"
      ],
      "execution_count": 9,
      "outputs": [
        {
          "output_type": "execute_result",
          "data": {
            "text/plain": [
              "array(['Hargrave', 'Hill', 'Onio', ..., 'Kashiwagi', 'Aldridge',\n",
              "       'Burbidge'], dtype=object)"
            ]
          },
          "metadata": {
            "tags": []
          },
          "execution_count": 9
        }
      ]
    },
    {
      "cell_type": "markdown",
      "metadata": {
        "id": "pl21Omv-0L-Q",
        "colab_type": "text"
      },
      "source": [
        "There is no relation between churn and Surname, we are drop it.\n"
      ]
    },
    {
      "cell_type": "code",
      "metadata": {
        "id": "ToqfGgNdztv4",
        "colab_type": "code",
        "colab": {}
      },
      "source": [
        "df_churn2 = df_churn.drop('Surname',axis= 1)"
      ],
      "execution_count": 10,
      "outputs": []
    },
    {
      "cell_type": "markdown",
      "metadata": {
        "id": "fF7rwRM82uds",
        "colab_type": "text"
      },
      "source": [
        "## CreditScore  "
      ]
    },
    {
      "cell_type": "markdown",
      "metadata": {
        "id": "pqvnR6E_7p36",
        "colab_type": "text"
      },
      "source": [
        "We have a good distribution of the data. A standard deviation of 96 and 75 percent of the data is between 584 and 718"
      ]
    },
    {
      "cell_type": "code",
      "metadata": {
        "id": "11uYogXW0Ili",
        "colab_type": "code",
        "colab": {
          "base_uri": "https://localhost:8080/",
          "height": 170
        },
        "outputId": "53ce1496-3781-40d6-f6e8-279946ed3727"
      },
      "source": [
        "df_churn2['CreditScore'].describe()"
      ],
      "execution_count": 11,
      "outputs": [
        {
          "output_type": "execute_result",
          "data": {
            "text/plain": [
              "count    10000.000000\n",
              "mean       650.528800\n",
              "std         96.653299\n",
              "min        350.000000\n",
              "25%        584.000000\n",
              "50%        652.000000\n",
              "75%        718.000000\n",
              "max        850.000000\n",
              "Name: CreditScore, dtype: float64"
            ]
          },
          "metadata": {
            "tags": []
          },
          "execution_count": 11
        }
      ]
    },
    {
      "cell_type": "markdown",
      "metadata": {
        "id": "3g1KoslC89NO",
        "colab_type": "text"
      },
      "source": [
        "Here we can better visualize our distribution and our quartiles"
      ]
    },
    {
      "cell_type": "code",
      "metadata": {
        "id": "6FtfzG2g3EHB",
        "colab_type": "code",
        "colab": {
          "base_uri": "https://localhost:8080/",
          "height": 296
        },
        "outputId": "32a476e0-8277-4c66-f931-26804ca3477d"
      },
      "source": [
        "sns.boxplot(df_churn2['CreditScore'])"
      ],
      "execution_count": 12,
      "outputs": [
        {
          "output_type": "execute_result",
          "data": {
            "text/plain": [
              "<matplotlib.axes._subplots.AxesSubplot at 0x7efdaee5ab70>"
            ]
          },
          "metadata": {
            "tags": []
          },
          "execution_count": 12
        },
        {
          "output_type": "display_data",
          "data": {
            "image/png": "[encoded data removed]",
            "text/plain": [
              "<Figure size 432x288 with 1 Axes>"
            ]
          },
          "metadata": {
            "tags": [],
            "needs_background": "light"
          }
        }
      ]
    },
    {
      "cell_type": "markdown",
      "metadata": {
        "id": "6F8N0wH_9IVh",
        "colab_type": "text"
      },
      "source": [
        "We have a distribution very close to a normal curve."
      ]
    },
    {
      "cell_type": "code",
      "metadata": {
        "id": "oJawz98B3vO_",
        "colab_type": "code",
        "colab": {
          "base_uri": "https://localhost:8080/",
          "height": 296
        },
        "outputId": "dd31f33d-f657-45ef-c36a-c23e54ce4d4a"
      },
      "source": [
        "sns.distplot(df_churn2['CreditScore'], bins= 15)"
      ],
      "execution_count": 13,
      "outputs": [
        {
          "output_type": "execute_result",
          "data": {
            "text/plain": [
              "<matplotlib.axes._subplots.AxesSubplot at 0x7efdaeda4438>"
            ]
          },
          "metadata": {
            "tags": []
          },
          "execution_count": 13
        },
        {
          "output_type": "display_data",
          "data": {
            "image/png": "[encoded data removed]",
            "text/plain": [
              "<Figure size 432x288 with 1 Axes>"
            ]
          },
          "metadata": {
            "tags": [],
            "needs_background": "light"
          }
        }
      ]
    },
    {
      "cell_type": "markdown",
      "metadata": {
        "id": "wlFwq1aC93sD",
        "colab_type": "text"
      },
      "source": [
        "## Geography   "
      ]
    },
    {
      "cell_type": "markdown",
      "metadata": {
        "id": "SocTxrdK_ZxB",
        "colab_type": "text"
      },
      "source": [
        "We do not have misspelled words"
      ]
    },
    {
      "cell_type": "code",
      "metadata": {
        "id": "lj46KkbL7nnb",
        "colab_type": "code",
        "colab": {
          "base_uri": "https://localhost:8080/",
          "height": 34
        },
        "outputId": "86454607-6dea-4dba-d8c9-da174b950969"
      },
      "source": [
        "df_churn2['Geography'].unique()"
      ],
      "execution_count": 14,
      "outputs": [
        {
          "output_type": "execute_result",
          "data": {
            "text/plain": [
              "array(['France', 'Spain', 'Germany'], dtype=object)"
            ]
          },
          "metadata": {
            "tags": []
          },
          "execution_count": 14
        }
      ]
    },
    {
      "cell_type": "markdown",
      "metadata": {
        "id": "BjkwNhOlAzme",
        "colab_type": "text"
      },
      "source": [
        "## Gender "
      ]
    },
    {
      "cell_type": "markdown",
      "metadata": {
        "id": "KCI8j7MMC6lo",
        "colab_type": "text"
      },
      "source": [
        "We do not have misspelled words"
      ]
    },
    {
      "cell_type": "code",
      "metadata": {
        "id": "t8o5K-7CA02P",
        "colab_type": "code",
        "colab": {
          "base_uri": "https://localhost:8080/",
          "height": 34
        },
        "outputId": "cc2f98c6-445d-44e7-ec40-659656ef518a"
      },
      "source": [
        "df_churn2['Gender'].unique()"
      ],
      "execution_count": 15,
      "outputs": [
        {
          "output_type": "execute_result",
          "data": {
            "text/plain": [
              "array(['Female', 'Male'], dtype=object)"
            ]
          },
          "metadata": {
            "tags": []
          },
          "execution_count": 15
        }
      ]
    },
    {
      "cell_type": "code",
      "metadata": {
        "id": "t_6cMz8pC3Sl",
        "colab_type": "code",
        "colab": {}
      },
      "source": [
        ""
      ],
      "execution_count": 15,
      "outputs": []
    },
    {
      "cell_type": "markdown",
      "metadata": {
        "id": "xgosH8ZiXzyl",
        "colab_type": "text"
      },
      "source": [
        "## Age "
      ]
    },
    {
      "cell_type": "code",
      "metadata": {
        "id": "TLHCKjOgX2SW",
        "colab_type": "code",
        "colab": {
          "base_uri": "https://localhost:8080/",
          "height": 102
        },
        "outputId": "3f745ce9-dc11-4f63-a3f2-d361a3ad9640"
      },
      "source": [
        "df_churn2['Age'].unique()"
      ],
      "execution_count": 16,
      "outputs": [
        {
          "output_type": "execute_result",
          "data": {
            "text/plain": [
              "array([42, 41, 39, 43, 44, 50, 29, 27, 31, 24, 34, 25, 35, 45, 58, 32, 38,\n",
              "       46, 36, 33, 40, 51, 61, 49, 37, 19, 66, 56, 26, 21, 55, 75, 22, 30,\n",
              "       28, 65, 48, 52, 57, 73, 47, 54, 72, 20, 67, 79, 62, 53, 80, 59, 68,\n",
              "       23, 60, 70, 63, 64, 18, 82, 69, 74, 71, 76, 77, 88, 85, 84, 78, 81,\n",
              "       92, 83])"
            ]
          },
          "metadata": {
            "tags": []
          },
          "execution_count": 16
        }
      ]
    },
    {
      "cell_type": "markdown",
      "metadata": {
        "id": "4t7iHuCYbZBH",
        "colab_type": "text"
      },
      "source": [
        "We have a good distribution of the data. A standard deviation of 10 and 75 percent of the data is between 32 and 44 \n",
        "\n"
      ]
    },
    {
      "cell_type": "code",
      "metadata": {
        "id": "_hrtcfAPX6Ko",
        "colab_type": "code",
        "colab": {
          "base_uri": "https://localhost:8080/",
          "height": 170
        },
        "outputId": "b946a376-1a7c-4a57-e3b8-5038e1cc50f5"
      },
      "source": [
        "df_churn2['Age'].describe()"
      ],
      "execution_count": 17,
      "outputs": [
        {
          "output_type": "execute_result",
          "data": {
            "text/plain": [
              "count    10000.000000\n",
              "mean        38.921800\n",
              "std         10.487806\n",
              "min         18.000000\n",
              "25%         32.000000\n",
              "50%         37.000000\n",
              "75%         44.000000\n",
              "max         92.000000\n",
              "Name: Age, dtype: float64"
            ]
          },
          "metadata": {
            "tags": []
          },
          "execution_count": 17
        }
      ]
    },
    {
      "cell_type": "markdown",
      "metadata": {
        "id": "vNglWOO7c7Zt",
        "colab_type": "text"
      },
      "source": [
        "We can see that we have data from 60 years old, which can be outliers in our distribution."
      ]
    },
    {
      "cell_type": "code",
      "metadata": {
        "id": "NAPysSeOYTLt",
        "colab_type": "code",
        "colab": {
          "base_uri": "https://localhost:8080/",
          "height": 296
        },
        "outputId": "9cfb4571-c63a-4dc1-e5cb-c1af758a9bee"
      },
      "source": [
        "sns.boxplot(df_churn2['Age'])"
      ],
      "execution_count": 18,
      "outputs": [
        {
          "output_type": "execute_result",
          "data": {
            "text/plain": [
              "<matplotlib.axes._subplots.AxesSubplot at 0x7efdae8db630>"
            ]
          },
          "metadata": {
            "tags": []
          },
          "execution_count": 18
        },
        {
          "output_type": "display_data",
          "data": {
            "image/png": "[encoded data removed]",
            "text/plain": [
              "<Figure size 432x288 with 1 Axes>"
            ]
          },
          "metadata": {
            "tags": [],
            "needs_background": "light"
          }
        }
      ]
    },
    {
      "cell_type": "markdown",
      "metadata": {
        "id": "1yTkWUXldp_P",
        "colab_type": "text"
      },
      "source": [
        "We can see that our distribution is approaching a normal distribution and that data from 60 is pulling the tail to the right"
      ]
    },
    {
      "cell_type": "code",
      "metadata": {
        "id": "-A8Da-qAczNA",
        "colab_type": "code",
        "colab": {
          "base_uri": "https://localhost:8080/",
          "height": 296
        },
        "outputId": "be39c02d-ec8f-43d7-8d01-cb37db52361d"
      },
      "source": [
        "sns.distplot(df_churn2['Age'], bins= 15)"
      ],
      "execution_count": 19,
      "outputs": [
        {
          "output_type": "execute_result",
          "data": {
            "text/plain": [
              "<matplotlib.axes._subplots.AxesSubplot at 0x7efdae856e10>"
            ]
          },
          "metadata": {
            "tags": []
          },
          "execution_count": 19
        },
        {
          "output_type": "display_data",
          "data": {
            "image/png": "[encoded data removed]",
            "text/plain": [
              "<Figure size 432x288 with 1 Axes>"
            ]
          },
          "metadata": {
            "tags": [],
            "needs_background": "light"
          }
        }
      ]
    },
    {
      "cell_type": "code",
      "metadata": {
        "id": "tNB3nLcsdaqw",
        "colab_type": "code",
        "colab": {}
      },
      "source": [
        ""
      ],
      "execution_count": 19,
      "outputs": []
    }
  ]
}